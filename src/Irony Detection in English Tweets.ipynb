{
 "cells": [
  {
   "cell_type": "markdown",
   "metadata": {},
   "source": [
    "# Irony Detection in English \n",
    "\n",
    "#### The goal of this project consists in training a model capable of performing the task of classificating a tweet in English as ironic or non ironic.\n",
    "\n",
    "Using different classification techniques we intend to find the one that performs better using as training data a data set with around 4000 tweets of different types.\n",
    "\n",
    "This project was made by 3 students as part of the Artificial Intelligence course at FEUP. You are free to use the code for any purpose, but beware that this is just an academia project in an introductory course to Artificial Intelligence.\n",
    "\n",
    "Libraries Used: \n",
    "* Pandas\n",
    "* Numpy\n",
    "* Scikit-learn\n",
    "* Matplotlib\n",
    "* nltk"
   ]
  },
  {
   "cell_type": "markdown",
   "metadata": {},
   "source": [
    "### Datasets:\n",
    "\n",
    "The data sets for this project are not owned by our group, they are supplied by SemEval competition and are free to use for academic purposes only outside of the competition.\n",
    "\n",
    "There are two data sets available, one marked for train and the other for testing. Originally they were in .txt format, but in order to simplify the work of the pandas library, we manually converted those files to .csv\n",
    "\n",
    "**SemEval organization themselves already provide a division of the dataset in two subsets, a test dataset and a train dataset.**\n",
    "\n",
    "This division is useful for the final evaluation of our work. Since the competition was in 2018, the ranking of the participants for that dataset is already public. This way we are able to keep track of which place we could score in that professional competition\n",
    "\n"
   ]
  },
  {
   "cell_type": "markdown",
   "metadata": {},
   "source": [
    "![title](../assets/ranking.png)\n",
    "##### Fig1: Ranking of the SemEval competition"
   ]
  },
  {
   "cell_type": "markdown",
   "metadata": {},
   "source": [
    "#### Problem with word delimeter\n",
    "\n",
    "Pandas is a library perfect for the job of reading data from a file, since it setup automaticaly the capability of seeing that data in a formatted organized way.\n",
    "\n",
    "Pandas has specific functions to read from different formats. The datasets are originally in .txt format, a conversion for either JSON or CSV, formats accepted by Pandas needed to be done. 4000 tweets in JSON would turn the data file really dense in information.\n",
    "Since we are dealing with just 2 attributes, it is pointless to make our life harder in this step. \n",
    "\n",
    "We chosed .csv format to represent the data\n",
    "\n",
    "CSV files dealing with text rise other problem, the fact that people use comma in their texts, pandas. So we introduce other delimiter,'\\t', so we are able to do the task"
   ]
  },
  {
   "cell_type": "code",
   "execution_count": 310,
   "metadata": {},
   "outputs": [],
   "source": [
    "from IPython.display import display, HTML\n",
    "import pandas\n",
    "import numpy\n",
    "\n",
    "train_data=pandas.read_csv('data/train.csv',  delimiter = '\\t', quoting = 3, encoding=\"utf-8\")\n",
    "test_data=pandas.read_csv('data/test-labeled.csv', delimiter = '\\t', quoting = 3, encoding=\"utf-8\")"
   ]
  },
  {
   "cell_type": "code",
   "execution_count": 311,
   "metadata": {},
   "outputs": [
    {
     "data": {
      "text/html": [
       "<div>\n",
       "<style scoped>\n",
       "    .dataframe tbody tr th:only-of-type {\n",
       "        vertical-align: middle;\n",
       "    }\n",
       "\n",
       "    .dataframe tbody tr th {\n",
       "        vertical-align: top;\n",
       "    }\n",
       "\n",
       "    .dataframe thead th {\n",
       "        text-align: right;\n",
       "    }\n",
       "</style>\n",
       "<table border=\"1\" class=\"dataframe\">\n",
       "  <thead>\n",
       "    <tr style=\"text-align: right;\">\n",
       "      <th></th>\n",
       "      <th>label</th>\n",
       "      <th>tweet</th>\n",
       "    </tr>\n",
       "  </thead>\n",
       "  <tbody>\n",
       "    <tr>\n",
       "      <th>0</th>\n",
       "      <td>1</td>\n",
       "      <td>Sweet United Nations video. Just in time for C...</td>\n",
       "    </tr>\n",
       "    <tr>\n",
       "      <th>1</th>\n",
       "      <td>1</td>\n",
       "      <td>@mrdahl87 We are rumored to have talked to Erv...</td>\n",
       "    </tr>\n",
       "    <tr>\n",
       "      <th>2</th>\n",
       "      <td>1</td>\n",
       "      <td>Hey there! Nice to see you Minnesota/ND Winter...</td>\n",
       "    </tr>\n",
       "    <tr>\n",
       "      <th>3</th>\n",
       "      <td>0</td>\n",
       "      <td>3 episodes left I'm dying over here</td>\n",
       "    </tr>\n",
       "    <tr>\n",
       "      <th>4</th>\n",
       "      <td>1</td>\n",
       "      <td>\"I can't breathe!\" was chosen as the most nota...</td>\n",
       "    </tr>\n",
       "  </tbody>\n",
       "</table>\n",
       "</div>"
      ],
      "text/plain": [
       "   label                                              tweet\n",
       "0      1  Sweet United Nations video. Just in time for C...\n",
       "1      1  @mrdahl87 We are rumored to have talked to Erv...\n",
       "2      1  Hey there! Nice to see you Minnesota/ND Winter...\n",
       "3      0                3 episodes left I'm dying over here\n",
       "4      1  \"I can't breathe!\" was chosen as the most nota..."
      ]
     },
     "execution_count": 311,
     "metadata": {},
     "output_type": "execute_result"
    }
   ],
   "source": [
    "train_data.head()"
   ]
  },
  {
   "cell_type": "code",
   "execution_count": 312,
   "metadata": {},
   "outputs": [
    {
     "data": {
      "text/html": [
       "<div>\n",
       "<style scoped>\n",
       "    .dataframe tbody tr th:only-of-type {\n",
       "        vertical-align: middle;\n",
       "    }\n",
       "\n",
       "    .dataframe tbody tr th {\n",
       "        vertical-align: top;\n",
       "    }\n",
       "\n",
       "    .dataframe thead th {\n",
       "        text-align: right;\n",
       "    }\n",
       "</style>\n",
       "<table border=\"1\" class=\"dataframe\">\n",
       "  <thead>\n",
       "    <tr style=\"text-align: right;\">\n",
       "      <th></th>\n",
       "      <th>label</th>\n",
       "      <th>tweet</th>\n",
       "    </tr>\n",
       "  </thead>\n",
       "  <tbody>\n",
       "    <tr>\n",
       "      <th>0</th>\n",
       "      <td>0</td>\n",
       "      <td>@Callisto1947 Can U Help?||More conservatives ...</td>\n",
       "    </tr>\n",
       "    <tr>\n",
       "      <th>1</th>\n",
       "      <td>1</td>\n",
       "      <td>Just walked in to #Starbucks and asked for a \"...</td>\n",
       "    </tr>\n",
       "    <tr>\n",
       "      <th>2</th>\n",
       "      <td>0</td>\n",
       "      <td>#NOT GONNA WIN http://t.co/Mc9ebqjAqj</td>\n",
       "    </tr>\n",
       "    <tr>\n",
       "      <th>3</th>\n",
       "      <td>0</td>\n",
       "      <td>@mickymantell He is exactly that sort of perso...</td>\n",
       "    </tr>\n",
       "    <tr>\n",
       "      <th>4</th>\n",
       "      <td>1</td>\n",
       "      <td>So much #sarcasm at work mate 10/10 #boring 10...</td>\n",
       "    </tr>\n",
       "  </tbody>\n",
       "</table>\n",
       "</div>"
      ],
      "text/plain": [
       "   label                                              tweet\n",
       "0      0  @Callisto1947 Can U Help?||More conservatives ...\n",
       "1      1  Just walked in to #Starbucks and asked for a \"...\n",
       "2      0              #NOT GONNA WIN http://t.co/Mc9ebqjAqj\n",
       "3      0  @mickymantell He is exactly that sort of perso...\n",
       "4      1  So much #sarcasm at work mate 10/10 #boring 10..."
      ]
     },
     "execution_count": 312,
     "metadata": {},
     "output_type": "execute_result"
    }
   ],
   "source": [
    "test_data.head()"
   ]
  },
  {
   "cell_type": "markdown",
   "metadata": {},
   "source": [
    "### Analising the datasets\n",
    "\n",
    "Some initial considerations should be done in order to ensure the quality of the data. The data provided doesn't contain blank fields. \n",
    "\n",
    "Testing proprelly the existance of duplicates in the datasets would require knowledge outside the scope of the course, so we assume that there aren't duplicate data in the dataset.\n",
    "\n",
    "\n",
    "**One very important consideration regarding the data is the possibility of the dataset being unbalanced** With both of our data sets loaded, we can use **Matplotlib** to determine if that consideration holds."
   ]
  },
  {
   "cell_type": "code",
   "execution_count": 313,
   "metadata": {},
   "outputs": [
    {
     "data": {
      "image/png": "[encoded data removed]",
      "text/plain": [
       "<Figure size 432x288 with 1 Axes>"
      ]
     },
     "metadata": {
      "needs_background": "light"
     },
     "output_type": "display_data"
    },
    {
     "name": "stdout",
     "output_type": "stream",
     "text": [
      "Ironic tweets -  1911\n",
      "Non Ironic tweets -  1923\n",
      "Percentage of ironic tweets -  49.84350547730829\n"
     ]
    }
   ],
   "source": [
    "import matplotlib.pyplot as plt\n",
    "%matplotlib inline\n",
    "train_data_ntrue=train_data['label'].sum()\n",
    "train_data_nfalse=train_data['label'].count()-train_data_ntrue\n",
    "values=[train_data_ntrue,train_data_nfalse]\n",
    "names=['Ironic','Not ironic']\n",
    "plt.bar(names,values)\n",
    "plt.suptitle('Train data set - distribution')\n",
    "plt.show()\n",
    "print('Ironic tweets - ',train_data_ntrue)\n",
    "print('Non Ironic tweets - ',train_data_nfalse)\n",
    "print('Percentage of ironic tweets - ',train_data_ntrue*1.0/train_data['label'].count()*100.0)"
   ]
  },
  {
   "cell_type": "code",
   "execution_count": 314,
   "metadata": {},
   "outputs": [
    {
     "data": {
      "image/png": "[encoded data removed]",
      "text/plain": [
       "<Figure size 432x288 with 1 Axes>"
      ]
     },
     "metadata": {
      "needs_background": "light"
     },
     "output_type": "display_data"
    },
    {
     "name": "stdout",
     "output_type": "stream",
     "text": [
      "Ironic tweets -  311\n",
      "Non Ironic tweets -  473\n",
      "Percentage of ironic tweets -  39.66836734693878\n"
     ]
    }
   ],
   "source": [
    "test_data_ntrue=test_data['label'].sum()\n",
    "test_data_nfalse=test_data['label'].count()-test_data_ntrue\n",
    "values=[test_data_ntrue,test_data_nfalse]\n",
    "names=['Ironic','Non Ironic']\n",
    "plt.suptitle('Test data set - distribution')\n",
    "plt.bar(names,values)\n",
    "plt.show()\n",
    "print('Ironic tweets - ',test_data_ntrue)\n",
    "print('Non Ironic tweets - ',test_data_nfalse)\n",
    "print('Percentage of ironic tweets - ',test_data_ntrue*1.0/test_data['label'].count()*100.0)"
   ]
  },
  {
   "cell_type": "markdown",
   "metadata": {},
   "source": [
    "#### Conclusion:\n",
    "\n",
    "While the training data is **balanced** in the number of ironic and non ironic tweets, the same can't be said for the test data set originnaly provided by the organization.\n",
    "\n",
    "In our second graph, its visually palpable that the number of non ironic tweets is significantly larger."
   ]
  },
  {
   "cell_type": "markdown",
   "metadata": {},
   "source": [
    "### Bag of words\n",
    "\n",
    "Now that we have the data in a pandas data set we need to proceed our path of finding an accurate model to identify ironic tweets. For that we need to parse our tweets to a **bag of words** model format.\n",
    "\n",
    "A bag of words is a model which tweet will see their words tokenized and counted by a specified formula. Where we have 2 essential paths that we can follow:\n",
    "\n",
    "* Use a simple counting of words.\n",
    "* Use the TF-IDF measure\n",
    "\n",
    "##### The process of getting as input the raw text and output a bag of words is called **Vectorization**"
   ]
  },
  {
   "cell_type": "markdown",
   "metadata": {},
   "source": [
    "## Initial analysis\n",
    "\n",
    "\n",
    "There are two important questions that we need to be able to answer in order to proceed in our model design and also a raw analysis without pre processing, this way we can estimate the level of pre processing we need in order to achieve a reasonable answer and also keep track of degree of improvement we have in each attempt we try.\n",
    "\n",
    "* Does TF-IDF measure perform better that a simple counting of words?\n",
    "* How good performs the simplest model in our dataset without preprocessing?\n",
    "\n",
    "In order to have a objective evaluation criteria to our final answer to this problem, it is important to make a fast initial analysis to the data without any kind of pre processing to the data, using the simplest model possible, a **Gaussian naïve Bayes**."
   ]
  },
  {
   "cell_type": "markdown",
   "metadata": {},
   "source": [
    "### Simple Word Counter Vetorization"
   ]
  },
  {
   "cell_type": "markdown",
   "metadata": {},
   "source": [
    "#### Train Data"
   ]
  },
  {
   "cell_type": "code",
   "execution_count": 315,
   "metadata": {},
   "outputs": [],
   "source": [
    "from sklearn.feature_extraction.text import CountVectorizer\n",
    "from sklearn.naive_bayes import GaussianNB\n",
    "from sklearn.metrics import classification_report\n",
    "from sklearn.metrics import confusion_matrix\n",
    "\n",
    "count_vectorizer = CountVectorizer(analyzer='word', stop_words='english', lowercase=False)\n",
    "\n",
    "X_train=count_vectorizer.fit_transform(train_data['tweet']).toarray()\n",
    "y_train=train_data['label']"
   ]
  },
  {
   "cell_type": "markdown",
   "metadata": {},
   "source": [
    "#### Test Data"
   ]
  },
  {
   "cell_type": "code",
   "execution_count": 316,
   "metadata": {},
   "outputs": [],
   "source": [
    "# Here we just Transform. Because the vocabulary is the one from the test set\n",
    "X_test=count_vectorizer.transform(test_data['tweet']).toarray()\n",
    "y_test=test_data['label']"
   ]
  },
  {
   "cell_type": "markdown",
   "metadata": {},
   "source": [
    "#### Model execution"
   ]
  },
  {
   "cell_type": "code",
   "execution_count": 317,
   "metadata": {},
   "outputs": [],
   "source": [
    "from sklearn.metrics import f1_score\n",
    "from sklearn.metrics import precision_score\n",
    "from sklearn.metrics import accuracy_score\n",
    "\n",
    "classificator=GaussianNB()\n",
    "\n",
    "classificator.fit(X_train,y_train)\n",
    "#Predicition\n",
    "y_predicted=classificator.predict(X_test)\n",
    "\n",
    "\n",
    "\n",
    "#Metrics Raw\n",
    "accuracy_value=accuracy_score(y_test,y_predicted)\n",
    "precision_value=precision_score(y_test,y_predicted,average='weighted')\n",
    "f1_value=f1_score(y_test,y_predicted,average='weighted')\n",
    "\n",
    "\n",
    "initial_word_count_conclusion=pandas.DataFrame(\n",
    "    {\n",
    "    'Our Results':[accuracy_value,precision_value,f1_value],\n",
    "    'Winners Result':[0.7347,0.6304,0.8006]\n",
    "    } , index=['Accuracy','Precision','F1-Value'])"
   ]
  },
  {
   "cell_type": "markdown",
   "metadata": {},
   "source": [
    "### TF-IDF Vetorization"
   ]
  },
  {
   "cell_type": "markdown",
   "metadata": {},
   "source": [
    "#### Train Data"
   ]
  },
  {
   "cell_type": "code",
   "execution_count": 318,
   "metadata": {},
   "outputs": [],
   "source": [
    "from sklearn.feature_extraction.text import TfidfVectorizer\n",
    "\n",
    "tf_idf_vectorizer = TfidfVectorizer(analyzer='word', stop_words='english', lowercase=False)\n",
    "\n",
    "X_train=tf_idf_vectorizer.fit_transform(train_data['tweet']).toarray()\n",
    "y_train=train_data['label']"
   ]
  },
  {
   "cell_type": "markdown",
   "metadata": {},
   "source": [
    "#### Test Data"
   ]
  },
  {
   "cell_type": "code",
   "execution_count": 319,
   "metadata": {},
   "outputs": [],
   "source": [
    "X_test=tf_idf_vectorizer.transform(test_data['tweet']).toarray()\n",
    "y_test=test_data['label']"
   ]
  },
  {
   "cell_type": "markdown",
   "metadata": {},
   "source": [
    "#### Model execution"
   ]
  },
  {
   "cell_type": "code",
   "execution_count": 320,
   "metadata": {},
   "outputs": [],
   "source": [
    "from sklearn.metrics import f1_score\n",
    "from sklearn.metrics import precision_score\n",
    "from sklearn.metrics import accuracy_score\n",
    "\n",
    "classificator=GaussianNB()\n",
    "\n",
    "classificator.fit(X_train,y_train)\n",
    "#Predicition\n",
    "y_predicted=classificator.predict(X_test)\n",
    "\n",
    "\n",
    "\n",
    "#Metrics Raw\n",
    "accuracy_value=accuracy_score(y_test,y_predicted)\n",
    "precision_value=precision_score(y_test,y_predicted,average='weighted')\n",
    "f1_value=f1_score(y_test,y_predicted,average='weighted')\n",
    "\n",
    "\n",
    "initial_tf_idf_conclusion=pandas.DataFrame(\n",
    "    {\n",
    "    'Our Results':[accuracy_value,precision_value,f1_value],\n",
    "    'Winners Result':[0.7347,0.6304,0.8006]\n",
    "    } , index=['Accuracy','Precision','F1-Value'])"
   ]
  },
  {
   "cell_type": "markdown",
   "metadata": {},
   "source": [
    "### Initial Analysis conclusion:\n",
    "\n",
    "**The differences between the competition results and our naive model are relevant. Preprocessing of data is required to improve this values. Other models techniques should also be used.** \n",
    "\n",
    "\n",
    "Other element relevant is that using simple word counting or TF-IDF doesn't produce any kind of relevant difference in the results achieved. For that reason **TF-IDF will hold**\n"
   ]
  },
  {
   "cell_type": "markdown",
   "metadata": {},
   "source": [
    "#### Simple Word Counting"
   ]
  },
  {
   "cell_type": "code",
   "execution_count": 321,
   "metadata": {
    "scrolled": true
   },
   "outputs": [
    {
     "data": {
      "text/html": [
       "<div>\n",
       "<style scoped>\n",
       "    .dataframe tbody tr th:only-of-type {\n",
       "        vertical-align: middle;\n",
       "    }\n",
       "\n",
       "    .dataframe tbody tr th {\n",
       "        vertical-align: top;\n",
       "    }\n",
       "\n",
       "    .dataframe thead th {\n",
       "        text-align: right;\n",
       "    }\n",
       "</style>\n",
       "<table border=\"1\" class=\"dataframe\">\n",
       "  <thead>\n",
       "    <tr style=\"text-align: right;\">\n",
       "      <th></th>\n",
       "      <th>Our Results</th>\n",
       "      <th>Winners Result</th>\n",
       "    </tr>\n",
       "  </thead>\n",
       "  <tbody>\n",
       "    <tr>\n",
       "      <th>Accuracy</th>\n",
       "      <td>0.510204</td>\n",
       "      <td>0.7347</td>\n",
       "    </tr>\n",
       "    <tr>\n",
       "      <th>Precision</th>\n",
       "      <td>0.556403</td>\n",
       "      <td>0.6304</td>\n",
       "    </tr>\n",
       "    <tr>\n",
       "      <th>F1-Value</th>\n",
       "      <td>0.509943</td>\n",
       "      <td>0.8006</td>\n",
       "    </tr>\n",
       "  </tbody>\n",
       "</table>\n",
       "</div>"
      ],
      "text/plain": [
       "           Our Results  Winners Result\n",
       "Accuracy      0.510204          0.7347\n",
       "Precision     0.556403          0.6304\n",
       "F1-Value      0.509943          0.8006"
      ]
     },
     "execution_count": 321,
     "metadata": {},
     "output_type": "execute_result"
    }
   ],
   "source": [
    "initial_word_count_conclusion"
   ]
  },
  {
   "cell_type": "markdown",
   "metadata": {},
   "source": [
    "#### TF-IDF"
   ]
  },
  {
   "cell_type": "code",
   "execution_count": 322,
   "metadata": {},
   "outputs": [
    {
     "data": {
      "text/html": [
       "<div>\n",
       "<style scoped>\n",
       "    .dataframe tbody tr th:only-of-type {\n",
       "        vertical-align: middle;\n",
       "    }\n",
       "\n",
       "    .dataframe tbody tr th {\n",
       "        vertical-align: top;\n",
       "    }\n",
       "\n",
       "    .dataframe thead th {\n",
       "        text-align: right;\n",
       "    }\n",
       "</style>\n",
       "<table border=\"1\" class=\"dataframe\">\n",
       "  <thead>\n",
       "    <tr style=\"text-align: right;\">\n",
       "      <th></th>\n",
       "      <th>Our Results</th>\n",
       "      <th>Winners Result</th>\n",
       "    </tr>\n",
       "  </thead>\n",
       "  <tbody>\n",
       "    <tr>\n",
       "      <th>Accuracy</th>\n",
       "      <td>0.514031</td>\n",
       "      <td>0.7347</td>\n",
       "    </tr>\n",
       "    <tr>\n",
       "      <th>Precision</th>\n",
       "      <td>0.550978</td>\n",
       "      <td>0.6304</td>\n",
       "    </tr>\n",
       "    <tr>\n",
       "      <th>F1-Value</th>\n",
       "      <td>0.516916</td>\n",
       "      <td>0.8006</td>\n",
       "    </tr>\n",
       "  </tbody>\n",
       "</table>\n",
       "</div>"
      ],
      "text/plain": [
       "           Our Results  Winners Result\n",
       "Accuracy      0.514031          0.7347\n",
       "Precision     0.550978          0.6304\n",
       "F1-Value      0.516916          0.8006"
      ]
     },
     "execution_count": 322,
     "metadata": {},
     "output_type": "execute_result"
    }
   ],
   "source": [
    "initial_tf_idf_conclusion"
   ]
  },
  {
   "cell_type": "markdown",
   "metadata": {},
   "source": [
    "## Data Preprocessing"
   ]
  },
  {
   "cell_type": "markdown",
   "metadata": {},
   "source": [
    "# TODO -> Remove non english words? / Tokenize emojis / Lemmatization "
   ]
  },
  {
   "cell_type": "markdown",
   "metadata": {},
   "source": [
    "## Data pre processing process\n",
    "\n",
    "The downfall of the initial results can be easily explained by multiple reasons:\n",
    "\n",
    "* We are dealing social network data. That data contains lots of useless information like links, mentions or emojis and also lots of slangs and non standard vocabulary\n",
    "\n",
    "* Didn't apply any type of Stemming or Lemmatization\n",
    "\n",
    "* Used a simple Gaussian naïve Bayes rather than a complex neural network.\n",
    "\n",
    "* Used the embedded tokenizer of sci kit learn rather than dedicated ones.\n",
    "\n",
    "* The initial vocabulary is very large. 14k words. This decreases perfomance and increases overfitting to the train data.\n",
    "\n",
    "* A final problem that could be related with the poor perfomance of the initial model is the traditional downfalls of NLP algorithms in finding contraditions. Irony many times has contradictions implied.\n",
    "\n"
   ]
  },
  {
   "cell_type": "markdown",
   "metadata": {},
   "source": [
    "#### Remove Web Hyperlinks from tweets"
   ]
  },
  {
   "cell_type": "code",
   "execution_count": 323,
   "metadata": {
    "scrolled": true
   },
   "outputs": [],
   "source": [
    "train_data['tweet']=train_data['tweet'].str.replace('http\\S+|www.\\S+', '', case=False)\n",
    "\n",
    "#Deletes any kind of empty tweet that was left after removing links\n",
    "train_data.replace('', numpy.nan, inplace=True)\n",
    "train_data.dropna(subset=['tweet'],inplace=True)"
   ]
  },
  {
   "cell_type": "markdown",
   "metadata": {},
   "source": [
    "#### Normalization of Twitter mentions\n",
    "\n",
    "In twitter is mandatory to mention the person that we reply with their personal nickname. In this Social Network this mentions are done using \"@\" followed by a single word that identifies the nickname"
   ]
  },
  {
   "cell_type": "code",
   "execution_count": 324,
   "metadata": {},
   "outputs": [],
   "source": [
    "train_data['tweet']=train_data['tweet'].str.replace('@\\S+', '<person>', case=False)"
   ]
  },
  {
   "cell_type": "markdown",
   "metadata": {},
   "source": [
    "#### Remove Numbers from the tweets\n",
    "\n",
    "Numbers don't introduce power to a language of ironic tweets."
   ]
  },
  {
   "cell_type": "code",
   "execution_count": 325,
   "metadata": {},
   "outputs": [],
   "source": [
    "train_data['tweet']=train_data['tweet'].str.replace('d+', '', case=False)\n",
    "\n",
    "#Deletes any kind of empty tweet that was left after removing numbers\n",
    "train_data.replace('', numpy.nan, inplace=True)\n",
    "train_data.dropna(subset=['tweet'],inplace=True)"
   ]
  },
  {
   "cell_type": "markdown",
   "metadata": {},
   "source": [
    "### Contradictions"
   ]
  },
  {
   "cell_type": "code",
   "execution_count": 326,
   "metadata": {},
   "outputs": [],
   "source": [
    "import sys  \n",
    "import contractions\n",
    "\n",
    "contradictions_fixed=[]\n",
    "\n",
    "for i in range(len(train_data)):\n",
    "    contradictions_fixed.append(contractions.fix(train_data['tweet'][i]))"
   ]
  },
  {
   "cell_type": "markdown",
   "metadata": {},
   "source": [
    "### Lemmatization"
   ]
  },
  {
   "cell_type": "code",
   "execution_count": 327,
   "metadata": {},
   "outputs": [],
   "source": [
    "from nltk.stem import WordNetLemmatizer\n",
    "  \n",
    "lemmatizer = WordNetLemmatizer()\n",
    "\n",
    "lemmatization_result = []\n",
    "\n",
    "for i in range(len(contradictions_fixed)):\n",
    "    tweet = lemmatizer.lemmatize(contradictions_fixed[i])\n",
    "    lemmatization_result.append(tweet)\n"
   ]
  },
  {
   "cell_type": "markdown",
   "metadata": {},
   "source": [
    "### Tokenization and Stemming with normalization of uppercase words.\n",
    "\n",
    "Goal is to reduce the vocabulary to the absolutely necessary"
   ]
  },
  {
   "cell_type": "code",
   "execution_count": 331,
   "metadata": {},
   "outputs": [
    {
     "name": "stdout",
     "output_type": "stream",
     "text": [
      "['sweet unit nation vieo time christma imagin noreligion', 'person rumor talk erv agent angel ask e escobar harli noth', 'hey nice see minnesota n winter weather', 'episo left ying', 'breath chosen notabl quot year annual list releas yale univers librarian', 'never old footi pajama', 'noth make happier get highway see break light light like christma tree', 'open first beer go long night ay', 'person think woul support guy knock aughter rice oesn eserv support', 'person allow open christma ay', 'oh thank go entir offic email system ay big event santa know get xma', 'instea scroll facebook instagram twitter hour en accomplish noth', 'person blooy upstair get chang', 'col warmth suffus one cheek pink colour tone unerstan unerli iffer textur', 'great mobil bill arriv text', 'crush great realiz never interest p', 'buffalo sport meia smarter us els get qualiti insight offer harrington busgaglia', 'guess cat also lost poun went vet fee time ay eat foo workingout', 'person person tra sp efens ss brilliant trae', 'person tri fin us batteri ie guess foun us ye bastar wan', 'person pleas nee secon han embarrass esperatli phone', 'never care beyonc bc coul never get sens interview lack epth person tho girl got', 'person time hit book', 'person thx flw flwthemus person person elektrikbloom elektrikfantasi iwant rift elev theunergroun', 'love col winter morn best feel everrrrrrr', 'amazingli own bhp go ecent money bhpbilliton south', 'wish coul tol person nicolescherzing onelov myfav myqueen', 'rain mae extra extra lazi', 'o great summari year got june th weeken person birthay rivertrip groupchat', 'see might show backgroun check eni catch right self protect person', 'smh never knew someth coul halal muslim whole life somehow learn someth new guess', 'woner ay start work', 'feel like whole life wait wait wait', 'person lol let ki know get morn thank tip', 'person guy sure screw royal happi lester brain trust suck nicejob lestertochicago', 'aussi gunman terrorist watch list pm say syney gunman took hostag syney', 'twig sprig sec limit new social vieo platform techtalk eitorspick sillyvin tr', 'person achiev serious fire guy ha ball call gone', 'yay anoth work ay', 'physic therapi want o friay iwanttosleep', 'omg person tell person town truefrien', 'thought ha real coul fine coz fine oh wait fix cap lock laughnow', 'hahahaha hypocrisi mt person kati hopkin call russel bran bulli', 'moment much stuff open person prouctiv tumblr', 'lol enjoy talk crazy sheneverleft sleepi', 'love', 'naturopath sell aromat herb way apothecari sell noxiou poison naturopath apothecari herb poison', 'person goal season goal jon sammel arsen vs manut person person', 'realli els fish besi fish person person person person', 'person think safe bet fit crime', 'imposs late start ress right stu univers lazi', 'alreay run late car start fantasticfriay', 'eci becom boss free time time left whatsoev', 'loyalti vs self protect loyalti vs self protect loyalti vs self protect loyalti vs self protect', 'american ki start play super miss summer k kennychesney', 'person know monsanto among sustain co worl sure paramet measur net posit', 'none big isrupt innov live come brainstorm bruce nussbaum', 'way peopl get unerstan isabl stare us funni wen ipw isabl', 'person person shit better shut stupi girli mouth concern men might think', 'oe tongu feel necessari tri touch high spee tool entist put mouth', 'tell quintessenti aussi govt pai job hye buy oversea onlin pay gst mmm sabuttru', 'person irk got lot move tri steal kevin urant one legg faeway', 'yr get littl nutti reach orang marmala livingontheeg', 'roger smile accur captur reaction receiv extra high phone bill', 'whatev happen guano ape ever make big japan', 'bmw sexi az hell slow inero quarter mile slow fan esign feel', 'let humil guar prie vaniti shouln allow elic thing', 'whenev get sa thing go think awesom futur look seconsemest rumcorp colleg', 'ask go protect enemi shortli start lose frien naah', 'eliver person cronut person hmmm custom hope', 'still praisehim', 'hey heyi want rockstar vscocam hero vsocam hero spierman', 'person person awk moment tweet first fakefan', 'waa mockingjay part tahon epan meh nov wtvr night museum mustwatchb ecemberenssobssob', 'person person person person person nice see ambul servic import mp', 'love final week justki stress', 'person fuck copycat although name mint act share probabl alcohol fill celebr', 'liter crie woke know ay store thestartoftechweek reay justshootmeknow', 'person isagre w tra three pick one glare hole numer posit ass backwar', 'person person oh make better', 'start watch tuor earlier iloveit', 'person christma gift get start make money social meia', 'knw react everytim sum say wheelchair inspir live ue', 'get aht tahn mae pgh gift guie via person', 'lunch break sleepi', 'work train thegrin lonon busi myhappyfac', 'ue sai better think har take chear lmao', 'christma ritual part one howthegrinchstolechristma', 'overcast creso toayimlov beachwalk crescenthea', 'en fast enough stupi ea batteri', 'even alreay see go woner ay neemorecoffe', 'iea oper ever escrib race polic wear color blin glass', 'person russel goo christian fella wouln', 'appar youth group think ki efault express nomal face areyoukiingm', 'person psa hey jay tune sai cocain talk toay tweet coke joke saw escobar th', 'interview turkey ha say thanksgiv', 'plann earli night last night oh yaa cours happen gotinterupt', 'person last retweet though', 'v match fun', 'lovee bein short sweatpant go way uner feet fun', 'love wake saturay morn go minight', 'ay rule person got follow person wht ay lollllll', 'jusuf nurkic bull rt person clearli lot talent kin amaz enver got gari harri mcermott', 'even progress thesi ta prepar event thursay', 'gym go reeeaaalll nice ate tomorrow imgoingtostruggl vsf', 'soni pull movi bc scare countri even keep light night even motel better zing', 'ha nice hour nap pick chines take set watch guariansofthegalaxi person ae water chestnut inner', 'person person bear probabl worst franchis footbal moment', 'piss chicago like peopl airport ruin mani peopl chanc ever meet boy way go', 'hell frozen liter texa', 'write name paper take pictur busi answer question oh', 'marshmallow worl winter getthisoutofmyhea', 'take bike raini col ark street entist yaaaay somuchfun', 'rea barack obama barack obama plaza moneygal oh', 'face tire man hahahahah', 'want turkey', 'person happi small servic person person', 'choos wor care hurt someon feel right way go', 'joke thank etail respons commun custom person person', 'person asalamoalekum kesay mizaj thank much post n ecemb alreay', 'feel artsi tonight artsi homealon vienna stuentlif b e apart', 'show mom pictur person say grung goe haha love momgoal', 'person explain inter went calciopoli juventu', 'pray go come back america save us', 'libbi lane appoint women bishop ebat appoint reveren libbi lane', 'sa someon rink treat like shit talk', 'provi structur ensur success invest real estat person', 'person ask liber tell obama got us iraq afghan war one ever ie uner watch', 'sick look tweet oh yeah sex lame', 'work oubl hour sleep go let us get', 'love time year', 'news ha goo night sleep week feel great', 'pure realiti', 'iy chang mobilecov everi ay enjoy', 'happi n anniversari sgv happi ot client woohoo loooooov job super year go', 'person thing life seem balanc music meicin person octor superaylineup', 'person person guess mean msm ig someth smear barkley ferguson', 'jimi agbaj fine man respect public servic notabl lanmark achiev test jimi', 'person goo thing ha enough whitewin christmastre surviv neee charsohar fashion', 'person elay happi', 'fun part rive winter one clean snow yet', 'miss ay close frien live citi', 'claim russian athlet take perform enhanc rug surpris', 'person', 'shoutout mom hella support', 'person may also see flag isi govt ch nisar amit', 'person funni', 'want perio relat post like post person thing instagram', 'analscreen exot exot brunett get littl tight butt nail right offic esk', 'person time ufc press confer tomorrow name numer fighter get cut', 'terror high sea fish boat alleg pakistan blow sea', 'matter gym holiay work hell', 'like listen truck river tell go strip joint old lay get', 'person hate go back old format pleas', 'person week joke jessica niec', 'person serious bought giant tv play box', 'haha fuck say someon truegentlemen', 'want hall eventu ask trae hope consist messag chang much might well start', 'person person wow though sorri granpa use mac ay welcometotheworl neverarguewithfool', 'person like first one never care enough watch sequel sai watch reboot chrispratt', 'work blue enough vacat ay', 'person bager crusa continu gloucestershir bager patrol trigger illeg trap fear', 'person also support instantli murer year ol fake plastic gun public park', 'aunti call sai way better get ress', 'ahhh betim miss examproblem', 'ner piccollag bit fun georgia ner chistma sillybilli chill comfi', 'person think hotel owner', 'person one ay want travel bestfrien one travel worl person', 'person person person fan come secon thank', 'return kin call frien label unkin', 'sometim ont unerstan anyth stubborn', 'cutest thing ever', 'oh love ass big fit jean anymor bigbootybitch', 'person oesn lucki fortun mean thing', 'enjoy steal husban hat everi awhil heyyal goomorn', 'person person person tweet context histori make clear bait', 'insan o thing twice expect iffer result', 'hour sleep yay love life', 'wow look hotshot isthatajok', 'person wait play bfharlin beta x epic', 'contempl respon person tweet say remain prie sure well go', 'four hour soun great', 'oh istrict line major signal failur elay fantast', 'person person person sure en well', 'countri music photo eit type morn', 'lol micromax promis servic', 'har choos pleasur pain girl ecemb love ream strong', 'person arian rais way mae nfl mayb thought woul motiv ki get', 'hear cri littl finger toe count mari exclaim perfect oh mari cray cray', 'secret name lizar squa like ruin peopl fun time follow rt billion fun psn giveitup', 'sexist articl aili fail men wast money cycl accompani recommen hanbag cost', 'person tweet flip phone efinit', 'person yea coupl school play black black omin game', 'forget join person steak night tonight start pm nyc foo fooie', 'person person think ever seen love actual way trie last year rememb', 'person person person nephew stopp lot long hair look like rug ealer never smoke anyth pill aspirin', 'qz ask permiss takeoff towercontrol surubaya yeah go away', 'person person answer artist winsunburnpass', 'person person play provinc like oh mississippi', 'church sign ay woul feel celebr birthay without stoleem thereasonfortheseason', 'person person wor man sexist say mail man instea mail carrier michiganman', 'know rea right blin lol', 'person person yeah talk boi cop kill bk ambul immeiat elit finest', 'love weather', 'person psssst spelt thing wrong', 'ay sabbath follow jesu christ fbc fbcjax', 'tough ay sun kitsch funni costa teguis lanzarot', 'person person exclu bf map poll go riot realli want sein cross back woul pay', 'love hour shift', 'whole misogyni thing hang women right cat fight imagin pull left pmlive', 'yea yea logic', 'cb noon balvsmia fox seavsphi saint nfl', 'aaron sorkin goe person talk like meia talk soni hack use meia bitch meia', 'argument insan person person person person person person', 'fergusonriottip rememb way ppl listen burn store ferguson vitoanvito waarmeia tcot ycot', 'finger smell like lavashak', 'notci eu juncker receiv birthay surpris one million signatur oppos ttip ceta', 'forev young forev forev heart rip phillipjoelhugh person person', 'last ay napl emma girl soeasytotakeapicwithatol wksancount', 'say bigclub', 'person anytim cash accept everi use towar whatev want nee', 'person nah better act like north korean govt polic peopl privat thought', 'person year old got think maci', 'blow nose har ear pop greatest way start wenesay', 'toay court proce allow prison access book englan wale sure confirm time limit juicial review', 'yay love awak morn', 'slow start morn', 'person get power win outat unsightli shoul siphon irectli sun', 'realli look forwar wake earli final', 'oh love listen fox news backgroun open present', 'ba anonym occupi peopl support white supremaci', 'person person well complet well reason thought argument chang min ferguson', 'person yeah still laugh even funni still laugh', 'person person got joke tootin horn somewher', 'got go thir forth fifth wheel winterthought', 'cc person last tweet wayn worl great movi', 'person person zero place karma train fin raiola hope full hea steam', 'earn cash post tweet get start homebasebusi lol', 'oracl winow shoul fun', 'last ay class trill except final whoop', 'blame everyth els person person person person person person person', 'rop oil price thank gooness pmharper work har tri tie economi oil ga sector cnpoli', 'sing along song korean part english sing korean accent', 'save work folk offic cntrl alt elet week', 'gla tweet ay text back love', 'masseus offer sooth massag way review offer sting critic masseus review massag critic', 'person show apc free fair parti run intellectu call emocraci ictatorship', 'person person person accus boomer', 'hungri hungov goo ay', 'oi na function right sleepepr', 'person liter know', 'person person oe pti apart whine youthiacrasi', 'true', 'person person person tell someon spell correctli complet fuck tweet', 'solo costum far charcoal grey bottom make real progress', 'pay ghost solier iraq cut pay us militari keepyourpromis person person person', 'start mae winow nois start excit ay mine', 'person one love', 'nee rose wine', 'yesteray peshawarattack top tag toay thing twitter nation seem concern ptikeptpakfirst', 'whole life oh ok', 'leg snapp alik twig complet front flip scream like hungri newborn babi', 'succ see keep hope never give success', 'alreay tell toay go woner ay', 'person person junior got rim shot rim job joke', 'foun reason weeken closer make life miser atheist hypocrit atheistproblem serverproblem', 'stay casual monay funay oot fashion style allyouneeisstyl toayimwear', 'person problemat go bless shame one pakistan', 'torturereport trene awar j k rowl releas new book', 'person person sa local', 'person wtf thank say bye', 'ahh got love ecemb electr bill', 'ea stupiest meme still perpetu', 'someon retrica wali pictur complain mani filter someon use pictur look pretti', 'great got lung infect fun notfun miser', 'jeez love morn irelan ecemb', 'person nee spot birthay', 'person think know', 'love peopl leav smelli shoe car make car smell great', 'person rush leg still attach right r abo', 'mph win make great hair fan photo shoot', 'got love work ay christma smellya', 'go gele struggl ystocia vali excus want see lack reaction whenyouseeit', 'person love gamerg concept harass spam porn critic proof hate group', 'thing love come work earli everyon ask earli get everi time annoy', 'thank person noth famili fli kl atten we everyonecanfli aelaieroutecancel', 'person person know put reck countri pp clan eserv anoth ay even month', 'person coul someon make hot chocol right ahaha', 'restaur wi fi beach wi fi famili parti wi fi hell wi fi wifi', 'love type work spier come keyboar hang finger', 'text rive either', 'person person realli unbeliev mean thug crimin', 'alway go uphil battl sometim go lose', 'toay feel like o anyth', 'light murer two nyp offic inspir icantbreath shoul', 'person ef came closet unk ruygay', 'peopl school talk sex rug awesom', 'perfect time get realli sick', 'person funni', 'harest thing know faith keep go', 'bush fulli inform cia metho realli shock', 'jei min trick work servic guy gla ropp car oil chang instea av', 'often worri wealth oesn enough influenc societi pleas see aress', 'person women say man aslt long say sumtin young parent hotel wit grn ass man smh', 'new vinyl turntabl tonight joe person joestrumm saninista', 'person call bottl job take teeth yeah game mate train tonight rememb hat', 'hel back start person never late start', 'funni', 'song ay love like winter fire insi', 'thank occ concern enough safeti rive school cancel class', 'oh sprint love', 'wreathacrossamerica jax finnish honor fallenhero jax', 'hea nana place go fun', 'big thank teacher four test take tomorrow woohoo', 'last semest ropp class ha write pg paper semest ha write', 'person workhors practic glue han', 'prevent bloo clot like stop bloo circul surgicalstock attract', 'bet limb sunerlan en', 'thank mother natur give us snow ay twitter fill peopl complain', 'know go great ay garmin reset spill cinnamon slowclap', 'person written gol gel pen wait hate relationship consist twitter messag fulfil', 'person nee experi say least', 'person person johni ur crack facebook chat mate', 'person weeeeee love xbox live playstat network ue hacker christma', 'biu offici announc uber stake biu market cap billion uber shoul top next vc roun right', 'check ugli christma sweater ebayipa', 'love abl sleep sotir', 'person psn xbox live ay mani peopl get new vieo game north korean hack', 'person trie cut past tweet sa mine got go green consult timelin', 'serious loveeee much care', 'know awesom gear slier olli monitor etc get eliver en film somaatbanhanaorama', 'ayumm chti brown maaayuun', 'person tomorrow prouctiv work woul hamper getmetoevc', 'person stay faith stay singl', 'absolut love wake snow', 'person person believ n suck', 'ye repli public ollar use lack transpar aroun union pearson express topoli', 'person person person person jet pick raft ironi blow min nflraft', 'person like nee remin bp cup competit ate', 'person person person awesom well eserv', 'person person person ye vote satan person', 'moron one ever sai ball squar strawman person person', 'frien bring fuck ha male femal fool', 'person person quit interest number coz manag rea sure make', 'person know abt goal never cross line holierthanth henryisalegen', 'person obviou sahvi case rape case iffer thing cannot co relat thng sentenc', 'aw thank mother natur merri christma', 'event ay', 'ay joyou ay ecemberchalleng pictur speak costateguis beach peac n home', 'person person wr ime ozen complet replac packer overspen retain', 'japan abe get manat want recoveri want japan prime minist shinzo', 'got tampon', 'hear us person talk nb power recor number outag transmitterproblem', 'globalwarm woul nice right true call algor burn money christma', 'person truli son', 'love question test morn', 'sketch toay spush fresh fruit eat raw well raw perth', 'person nation hockey expert sussex rive join', 'look like right', 'person person shown speak zemirbeg famili yet', 'let us squat ealift hurt realli realli goo trainer fitnessmotiv', 'bbc news thailan crown princ wife resign royalti', 'first photo infin vision gt concept emerg', 'person racism pool liber emocrat emocrat must foment racism ivis maintain control ivi conquer', 'person topless feminist look someon love', 'person feel ba american peopl shoul inva countri kill chilren save', 'goo frien', 'person wow funni', 'floss ate right inconveni', 'person reason given wait expect call foun chosen meia announc', 'person ill see', 'sysig clou fascin worl linux system call remin solari trace ay earli', 'realli nee get nail eyebrow one tomorrow slack cool', 'person one obviou see oh clever iea gla approv', 'replurk acatholicpray lor jesu christ son go merci sinner cathol prayer', 'bet warmer nova scotia toay frio col freez costaelsol ilovecanaa', 'bbc news new forest roa safeti campaign onkey kill car', 'suppos best move ars gym anyth put wrap present christma chore', 'thank awesom support instagram page much appreci women motiv rolemo', 'aapt snoopi comic acaem paper submiss p review stuff nightmar', 'kin love got voicemail seat neighbor woner yet constantli sell ticket never ask', 'happi new year meeeee', 'person georgia nativ play morn', 'sanjay utt ask parol meet wife wherea husban want parol wive boy exist grant', 'eat everyth tabl noch buena', 'let us get anoth big win vol bball keep go volnat beatncstat', 'spit rose still rose contempt mockeri', 'person want upgra io keep mani pictur yeah great', 'person alert pleas chang nowplay relentlezz person tune', 'half worl starv half struggl lose weight sickworl', 'person like regret anyth mae smile ha ha', 'at kno winter', 'like creepi guy ask ranom question swic', 'someon stop obama usa shoul relat human right love nation like saui arabia terrorist cuba cuba', 'watch father aughter fuck old young father', 'person vote someboy latvia way import vote best player', 'marvin lewi clearli think highli johnni footbal norespect person', 'final week rain boy much ruin life place love', 'write math final realli excit somethingranom', 'pull school first time life goo moo fin oesnt start anoth hour bless', 'rag feet smack lip scowl empti street scream phone grace', 'say misti johnni mathi one favourit', 'person person scari bollywoo film watch bhootnaath', 'rea news mile east upat assa us le airstrik seriou effici', 'love work har tri fix peopl fuck up', 'went neck eep swamp toay fun chilli', 'wrap show kii ene berkshir bosel moel', 'go nee k state play littl better love see team action beckthi', 'analqueenalysa four four girl lot rink strap', 'noth like wait airport youcanthearit', 'love custom annoy stoptalk', 'person person better bust aluminum hat chemtrailsontexist growup', 'one night', 'person univers alway help', 'one time feel hea', 'person person must toler embrac peac islam faith muslim peac brother', 'toay lectur crm invest sharehol valu excit sleepi', 'wait hour rive back home betarock', 'left lunch home swansea canteen outo gener well price portion foo', 'person oh soun like great plan person person', 'oubl stanar alway fun thing', 'seen com sinc parao monstermmorpg bean', 'mayb iffer propos girl wear iffer shoe guy wear iffer coat person person', 'far toay burn tongu coffe saw ea guy freeway chipp winshiel truck gonnahaveagooay', 'ceeeeebz work allow ting fam', 'ha sleep got school happi', 'love love love left sie face swollen', 'person nice see amit error slightli iffer earlier stat person', 'thing mae go harm us given us lesson teach someon weaker', 'person goo old ay', 'mirror mirror wall fin happi', 'alway great way boost self esteem', 'pretti sure snowman problem', 'watch granpar parent pay bill realli excit futur', 'yeah nice hair babe', 'person person carolina beat tampa bay pick sheet tb win', 'person guess stop insult', 'tripp feet three time hall soclumsi', 'feel like crap toay instea rebul rink someth healthi newyearnewm totallystillgoingtorinktherebul', 'fuck meia exam actuallyihopeso', 'almajmoua particip th csr forum lebanon togetherwegrow profit microfin support', 'whoever run yeovil town fc twitter account shoul fire start line look like mxit fantasi leagu team', 'teen name bu weisser arrest cop break st loui parti store', 'person length shoul forget funament commun sanghi hinu fanat rss backyar', 'person electr gener kashmir illumin whole inia pm illumin kashmir', 'person british worl champion one eman popular sport earth yeah cours sarcast', 'least got spine feel pain back thinkposit', 'monaymorn pour rain sing woner time year walk offic', 'hahahaha best asian style went group pretti boy wear black suit tie bow stylish mama', 'paper sharp someon shoul put ban paper liberalment', 'person jonah hill funni kevin hart smith jim carrey sacha baron cohen', 'arizona court appeal eci retri milk thursay arizona court appeal orer lower', 'oubt week coul get better', 'amn commun truth via person', 'shoul get lol', 'realli love critic zoella let rest pleas woner woul', 'person bring work hoop one hit', 'person transfer fun given nottingham forest team transfer embargo', 'galliani alreay jump chang room like iscover seeorf tol along thing pippo say', 'person hey alex thank support fb page success', 'peopl speak law protest fight justic moeltownnotforgotten pat pti gonawazgo', 'ohh climb rope like everi commano super talent takemeout', 'probabl go fail tomorrow yayi globalartisthma mtvstar one irect', 'person fee flesh bloo make alley way smell terribl ssarcasm thesun thingsthatarewrong', 'sleep meicat like ambien better rt person alcohol oe sleep', 'einstein woul amus strier jump aroun time', 'love bliss', 'last ay riga self finnishgirl businesswoman pk riga hotel', 'well morn go nice', 'sa christma jumper thank person super fast eliveri', 'love wake everyay run mile favorit part armi', 'germani ecb weimann say german growth may better expect via person', 'eal negoti person gtaa eal hien built price upx tix secreci topoli', 'person yup must goo ivi leagu eucat oe alot goo', 'live small worl ay lafir stori en australian news person', 'one pleas cri', 'love life', 'half eserv yet ever want', 'person person protest peac forc stop earn livelihoo', 'use algorithm learn class far fine substr use fast fourier transform', 'shakespear great', 'shamiwit person gunman also sai monitor social meia activ syneysieg', 'person anoth case away la put song tell north lonon tyneweirsunay', 'person ecri hate crime bosnian man back old game incit hate torwar muslim', 'person onelovefestiv sat ec tabl book r inclu bottl mixer uh oh smell much love', 'person get fat honeymoon', 'hanniti say obama inoctrin rigi ieolog', 'lol timehop guy though', 'person yeah set overwork rooki pitcher total okay', 'putin prais constitut court efen arbitrari action part govern', 'coulnt help ba person', 'love watch liverpool truli inspir', 'ae vieo person playlist moer beauti box review giveaway', 'search christma gift bc procrastin', 'say realli excit brenan fraser birthay tomorrow brenanfraserbirthaybash', 'infam pepper shaker replac', 'save manag make money join make iscount vacat', 'lol eatenal show name show got quit snake hurt arm gootv garbag', 'cia report highlight stark iffer b present former aministr approach nat l secur', 'guy serious nee tri game bananabonanza', 'person thank notic', 'well weeken twittertim nice monay', 'gla work', 'person person person whenev write anyth wor immigr happi back forth', 'person gunna sit', 'person probabl contract work free', 'person yay anoth outag less hour keep goo work', 'happi birthay person toast honor tonight person person', 'liter plan everi night entir vacat', 'kevin urant pt shoot nigga ineffici sinc came', 'alway look super cute guy come fix stuff cono', 'person wow neat nice mini tour belfast well think shoul ask one xma larri', 'new color new begin new goal ont giveup never life shoul easi skar', 'person got han realli', 'person person thank go kany give unknown help', 'goo thing scare clown kinergarten teacher ress one toay', 'love hair frozen', 'heisenberg uncertainti principl whatev stuy also chang jurassicparkthelostworl jurassicworl breakingba', 'gla', 'person cool look cool min nee parti night quiksilvergoessuperson', 'hope tulisa oesn get job back xfactor next year', 'soccer game shoul fun toay', 'person know freo broke heart', 'realiz watch week episo egrassi eventu get aroun', 'mall take year skin seacret miner ea sea', 'person ok get ta fix', 'person person coalit fit purpos labour sort', 'wie awak right', 'person kohli show gut scoobi oo captaincourag', 'person opinion affect go keep live life', 'one long walk gome', 'work christma eve christma ay wait', 'person hour car rie sleep car yayaayayayayay fun bff', 'person oh tipp gamerg han know en game', 'latergram thegolcoin class one research graschool basic bless', 'chang gazilion time java configur check upat nice everi five minut ask upat', 'teenanalcast alic alic ana tlw x part', 'halfway thorough workay woooo', 'think secon rown memori worth whiskey', 'got love effici person two ay servic ayservic prioritymail hahahaha', 'person person secur cartel charg huge sum money illeg cross us', 'one favourit thing go fanshaw walk z buil', 'person argument butler moral', 'person wave epic', 'person ba cnn conceiv stori truth news hypocrit expos fake expos boycott sponsor', 'woul tell ya wouln unerstan', 'ropp new singl singl', 'even explain excit tomorrow', 'person spice girl pick', 'gotten tree yet xma tree nail wrap avail nailwrap nailart', 'welsh evolut starter', 'alway countonmoth impart worsofkin especi special ay', 'gla h employ enough staff toay nohelp terribl', 'aaaaaaaaan back er hooray sleep', 'ye cours use lot ay violenc illeg', 'let rywal christma alway want', 'feel well', 'shoul christma number account absolutetosh', 'itali cabinet approv first plank renzi labour reform via person', 'ay th anniversari freespeechmov brave critic abanon conformist press', 'realli nee shoot someth soon', 'person also woul tone joke though ifficult properli convey tweet', 'like qualiti ancemus go great free ownloa uk nightclub person', 'person person know amn thing basebal', 'ye much logic support crimin attack polic offic protect life properti hansupontshoot', 'person go origin plan', 'person larg compani pay tax get away iniviu pay get lock fine', 'person person upper eck efinit seem like philli south', 'get miterm back great start ay baay', 'person person woot woot whiteboar friay favorit friay activ', 'life requir one strong iffer time wear brief pant nee lil lust see toomuch', 'person person sign guest', 'person person person person well play matt well play', 'roger briga', 'person holi fuck lyric fit goo movi interstellar chill freakyfriay', 'porygon foun com wil bulbiest follow person work', 'person n eition person person person', 'person lol reckon jest hope', 'toay ay', 'person nee excus pop open ream mconal gran cru champagneexcus', 'expert oubt north korea hack soni cb alla fort worth hacker hack', 'person raier guess see thing play tonight', 'oh hello flu thank fool think gone miss much flu yaay', 'wor trust come mouth holer obama rich hypocrisi ir racebait', 'show vali railcar charg full price anyway great servic tamworth person', 'suenli w waa', 'sail selfi oot cool cute girl tumblr black style rock punk vsco', 'romant canlelit inner two woul cost less switch light eskom pic', 'person person accorng lawyr evienc support sie coul hav support mani iffernt scenario warrant inict', 'fan nee hear tho rt person person person wenger never quitt sorri la year', 'prayer answer', 'fulli charg anker portabl charger last hour awesom fail', 'nee water pastur', 'crackhea uncl hbcu famili person everi hbcu alabama look alabama state sieway lmao', 'respons alway seem attract respons aintnoboygottimeforthat', 'girl rock thang principalswag', 'christma shop one', 'person lol cthulhu funni autocorrect help', 'son thought love take snack class alway think other rais right selfish', 'year old whatev age igaf act like immatur littl person public yup classi one sonotclassi', 'upat punt ostrich januari via person', 'hi plain sight michaelbeeren graffiti streetart', 'person person get cynic karna', 'toay awesom', 'person nm silli see websit', 'heh fat shotsfir', 'person love ranomli wake everyay multipl time', 'christma shop hr sleep go fun', 'stay tune runk vieo mom', 'american protest call en racialprofil hole sign referenc blackpeopl icantbreath', 'sup twitter sorri talk alot thort soul say hi', 'realli know treat girl', 'schoolsystem upat textbook lie support evolut theori tco', 'chap seem bit sex go extrovert must overli masculin voic emeanor', 'bombar countri immigr person', 'soooo eep narrowmin stopwatchingthenew anstoppreachingoffyoutub', 'person realli big support lawenforc like sheriff clark sai theatric ferguson person', 'feel like play ref game clean wall block ref took away ugh', 'e sheeran smash tune victoria secret catwalk ginger legen', 'person well pain makin feel sick anymor better big fella', 'thing racist one race human person person person person person', 'ay left enter person person person planner giveaway enter win bblogger lblogger', 'walk mall front group guy hear even momma got jesu lol everyon love polli', 'okay snow sleet howaboutno', 'pleas instagram xma present ying see noboycar', 'patrick kielti host raio comey awar', 'instacraz aiction', 'ecb poner best act whether ecb poner best act whether reuter', 'worl greatest war min invinc one go within min lifequot copycatsay', 'love see guy go text school zone soprou gpabriv', 'person person person whoissh lolol', 'waitlov love tell much go last beth rip tw forev bae', 'main issu walk ea forget breath watch blooy goo walkingea', 'person bit sweati time get', 'person person becom love athlet new citi', 'earli awak', 'wassup buy everyth look person person boss kupotea nayo acha hizo notcool bro', 'person great ppl one public mea culpa sinc happen', 'teacher gave feel sorri look must look realli aorabl', 'gift go improv skill karmicthought wisewor', 'person oh matur girl', 'person use white maroon xma tree', 'sure staff hire', 'love work exhaust time', 'hate ranom peopl get hot tub favth', 'problem express tribun', 'si ms euc heheh clear ignor', 'steveharvey worship obama b c oesn research call everi els ignor fuck guy iiot', 'wait see ig pic peopl brag got noonegivesafuck', 'beneryl run allerg reaction rug liter save million live everi year yippe happi', 'quizfreak prou brummi xxx', 'submitt final paper semest make break whether pass class big eal', 'peiatric gran roun statin therapi yslipiemia obes breakfast offer gran platter onut', 'stomach upset stomach upset', 'person person ba ki az hockey oesn work esert', 'ohio state put onwisconsin match', 'love see peopl rea facebook privat messag repli', 'nee new boot birthay new boot mean like pair ineenewboot boot', 'ever care person get see sieg ene first great journal', 'person tarmac spee hump cut go instea bit bit brickwork isintegr scienc', 'go go power ranger f xmasparti', 'goo way start new year', 'sit hall fun', 'roger nee go man think woul ever say bought shit player goo enough', 'bit chair comfi min nope ikea ecor pleas rt', 'think star gorgeou thing worl', 'person person cam newton engag en year wait lmao byyer foolisha goo night', 'lay oot mom gomoth lol athenakairalyn baptism love', 'person person know right like lap anyth better istract noth', 'law orersvu rapper go act', 'alway love famili last one open present', 'cours nervou hyperventil fun', 'person take ba', 'person haha go icelan x', 'love knee click', 'person person uniti stan white peopl', 'person franc impe free market capit socialist franc shocker uber rock suck franc', 'finalsweekgotmelik ugh make stop final finalsweek ewu', 'trip walmart mess alway fun', 'person person person fuck yeah viewer', 'person lot ingreient specif like lot lot', 'gla awesom', 'person person want cri cri omg', 'person person oh aye give', 'alway nice year old man know call pretti', 'person person expect sort appl quip guy joke news tbh', 'person mostli lr store epen get say ten split person person', 'exten trae tell peopl exten trae best iea ever', 'nyp blog feel safe protect icantbreath', 'professor moustach uneven mohstash woul asham right', 'repli ay mean week happi', 'night took hour nap reay work', 'person come shovel riveway owe help becom man toay givingback', 'life aili basi notreal lcsbeauti followm lblogger', 'wow seem turnt', 'person sleep wake next ac game leak acvictori', 'heaven help fool wrong', 'hate plane rie want go mani iffer countri', 'oh lor rt person rt person becom actor tom cruis want cathol priest', 'fun ay mouth two teeth rebon one reengag get wisom teeth soexcit', 'ummm pleas person christma ang look great tonight go thing tonight', 'yet anoth raini goshen concert night surpris', 'write hunr tweet kejriw everi ay go eclar irrelev come inian polit', 'sink teeth sp fail vt', 'politician busi scuffl pakarmi o job yet malign person pakarmi', 'person yay work hatewhenthingsontworkright', 'ik love col western civ class western civ', 'excit new blackberri classic smartphon check articl person', 'go', 'person stage flzjinglebal person tampa iheartraio', 'alright ream last night coul life fall asleep', 'best realli tire final get wie awak love', 'travel tourism morn favourit lesson whoooo', 'girl frien rambarish upcom movi', 'person person bring back youkili rememb year old youk charg moun year old porcello ropp resox', 'person amaz love team scrap alway fin way ine crise', 'person woul wear prouli size nz hahaha', 'san iego amaz never come home', 'favorit part isloc shouler abl feel roll aroun socket', 'success morn o essay christmasshop', 'knock knock sketchi igniti smile funtim brotherskeep whosonfirst holiay shenanigan', 'gah esper tri bust col', 'yay worthless winow upat comput still never sleep hibern fixit fail microsoft', 'person applic alreay fill wait turn', 'miley cyru ba influenc sourc say patrick schwarzenegg miley cyru ate', 'watch last ever one tree hill emot wreck even clock', 'make perfect sens get someth happen year ago', 'young unerstan', 'person person love carnousti beach morn soggybreek', 'year wl fill w raini ay cool cool way start e year', 'lanlor collect rent honeybe beehiv bee honey italianbe', 'bought peopl gift year', 'well one person make possibl get emerg messag member staff', 'rememb buy book onlin person servicewithasmil', 'person see respons time goo phone line hol music legenari servic guy', 'thank clear everyth koenig serialbray', 'moment babyboom next philosoph lack commun skill generationi newwaytocommun', 'person busi staff stane peopl queue joke', 'alla traffic sure miss owntown alla traffic', 'e cut gov spene harper one w public sector job injur economi multipli effect job cnpoli', 'person remin younger', 'fear loath la ukra polit russia ukrain', 'someboy wake earli tomorrow face weir ach back sinc earli ecemb think relat maaka', 'person funni lolololol', 'person see reign lame superman punch spear gee wait raw', 'np nowplay nowlisten music ying birthay sens fail album let e', 'love col winter ay never know car eci start', 'person person time listen ppl complain bout lot life bec cunt make anyth yay', 'pick great night want sleep', 'hot humi wear ugg wow nice style', 'omg ye final friay favorit', 'person realli ifficult bark back pm ing aughter bae tweet', 'person person kick raiola leagu scumbag repeatoffen onegameisnotenough', 'toay awesom', 'oh joy season christma came earli lea obett', 'freez hazi want go home', 'wait see talk never', 'person fin peopl iffer iea way life interest', 'orer new pair unerwear victoria secret yay', 'big match verict tottenham chelsea loss anoth ark night en', 'person orer kona grill fast foo sushi place elish', 'col ha scrape winow sa selfi got love live hotel life', 'lol throw mile finger pictur anymor oh ba', 'ay someth rea ecemberchalleng lovehistori lovenonfict cosi hous', 'climat chang reux californian experi rought vote bon cover climat chang rain year', 'person mom tol fine', 'look realli awak like mae effort toay', 'ove wrapper tol mischiev anyth happen extenu extern attribut blame psych', 'person kiss cheek enough love bot', 'person person bane wear cloth karma', 'person yeah', 'hula hoop hot chocol law revis break work fill glamour fun', 'still tri eci terror omg syneysieg', 'fanom show matur sie alway kin topic', 'love put flobeam mech back togeth', 'like tynal system think robert hubb shoul play give us anoth scorer consist pt shooter nee', 'person fun', 'love penguin maagascar humor reliefcomey', 'person realli want watch excessivecomsumpt', 'remember new year kiss lovemyrelationship', 'w crawl great start thursay cletraff clevelan traffic', 'realiz name comic san creator mean asshol french nooffens', 'khallilah henriqu nnn mostli soun blone morn confirm ignor race relat articul minor', 'super ignor put esper plea', 'bhopal victim get justic aft yr fin place prime man travel busi cl prime time news', 'link relev coupl ay', 'think burgerk work sjw fri salti sjw person win awar', 'white hoe', 'caribbean girl anthem caribbean girl stainless mob store onlin iyon ancehal', 'seem erogan sen best regar eu', 'yay famili leav go seneca leav fen', 'person aww poor thing feel ba sunni floria know hanl', 'person ca h tweetin bout blacklivesmatt icantbreath newsvi start beatsebt', 'smile smile smile smile smile million peopl stare piss pant manic laughter smile', 'casper frienli ghost level thingsmichelleobamathinksareracist', 'person person person person person', 'person person put muhamma ali fin twitter quit blasphem offen', 'yeah english stop say jane wor', 'person law park resienti street opposit sie roa face wrong irect curios', 'goo job person sex marriag harm free speech new ontario juge wrote', 'forget true mean christma', 'um realli person nothank uva', 'phillhugh miss alway respect', 'person miss see face rex han everyay vlogma rexemoji', 'gaw love lectur pm lectur', 'wear person ranger shirt flip crow hometown boston much', 'sinc train fare get expens jesu might aswel rove shame rink', 'citi sleep mass transit naptim isntitiron onchathink imnotsur', 'hate babysit sick want sleep', 'zero resect emarcu cousin', 'uhhh sleep someon like n text phone ry ass fuck fr bore person', 'joran fan hater', 'person r women consier inferior men societi even wen famili ay men nee women ecis make', 'person person person fine compani', 'well becki lonon nan big girl start new job tomorrow feelingabanon haha', 'okay know play lou music ure quiet hour perfectli fine somepplhavetostuy', 'person person american mum', 'begin look lot like intraven selfi xmaso xmasparti person', 'love famili', 'probabl scarr clean lay half eath know home', 'even alreay call cop twice amn love job', 'oh crap mac shutown corrupt iphoto hour rebuil ahea might well eat rink festivefattybumbum', 'great hear bloocurl scream morn', 'success avoi everyth season seen one timelin thank ini', 'person person amazingli small opportun sustain life go fee anim kill', 'get british weather rememb check uner car wheel small anim like hie uner car', 'rewar work place teacher stuent reuc noth number test score', 'physic exam quit fun prelim', 'photoset leupagu itsxani thefingerfuckingfemalefuri sevenpoint get pai enough put', 'offic jenni singl com entiti cesta follow person anc', 'nasa go metric inch mar mile km way orionlaunch nasa orion', 'person person person person visit great nephew ill fair', 'anw long noth go rn still forgiv promis forget', 'fear femal saui activist etent rive car exten via person', 'oh posit balmi c', 'may may watch rocko moern life forevera ski imnotthewallabyiusetob', 'eci realli fun thing left hour sit exam write x min wor essay', 'person person accept way', 'person person person love wil ignor embrac hate still think hol moral high groun', 'person kiss cheek next time enough', 'person clue talk well first', 'ba game last night way go packer', 'person great christma', 'floria author say polic offic shot kill floria tarponspr tampabay', 'wrong thought fin way oesn lea', 'person player penal play efens awar avi ortiz bare averag base war', 'unit next semest plu work ye excit', 'nee start go earlier smh goonight everyon shoul say goomorn haha morn', 'person tri nahe akhtar nayyara noor gol stash', 'person person iea bra woul oghous', 'bbc news skywalk passport cancel frivol traemark', 'person person person jami took account worri', 'final worri free year', 'tomorrow afternoon nfl ske panamac area wecp p kcvspit p invsal wpgx p atlvsno', 'person person person uh owner fire gooell guess get rais gooellmustgo', 'person surpris mani ppl block italktoomuchshit yourstillclockingmetho thatswhyyourgirlstillfollow', 'polit cup tea say sonakshi person lingaa fame sonakshi shatru top bjp leaer', 'person person person much herb new tren pothea contribut societi mayb arn', 'exo come soon better pray better member sigh either way obssess fan woul still obsses', 'big fan flock support tcu ou beat texa loss wvu manhanl lol', 'limit number press seat avail meet screen austin januari hit press type', 'person couln fin letter biner fin', 'person person mani anim oe peta kill everi year hypocrisi iiot might want point ci inwar', 'love wake feel like insi chopp tini piec set fire killmenow', 'person person sure wow ninteno achiev soni alreay year ago', 'america continu show us blackpeopl even though', 'hmmm woner astec one fewer employe lol', 'person person sure inconsol', 'listen rain peaceful', 'yay get pink eye whyme', 'wow great banter person', 'na richar iii thrown surpris evienc infiel famili tree well shock', 'great sleep hour feel like million buck gettingol', 'person person honestli clue hope sinc surveil cam seen show bare anyth', 'peopl get best', 'like person vieo new chocol bar palett review semi sweet vs origin', 'wait ental appoint tomorrow oh time pleas spee toay', 'person person look brige without cri', 'love never fall asleep insomnia', 'person wast time', 'trae mccain bien help republican mccain time mccain woul emocrat', 'happi monay hate monay', 'hole rule anymor', 'person oubt woner xma make ppl crazi', 'person person get yo lazi butt outta thank prove point', 'much lie eceit person person person person person', 'like person vieo person wwe k ps career moe ep tripl threat wwe k', 'hey person enialcsgo eci want replac person new player nashuffl noboy safe csgo', 'time chang crazi everyon like woohoo let us live life like slept yet', 'playoff legen romo person', 'palestinian author abba trae stalem confront icc move via person', 'person person thnx sort ki happi thank person tri help thaku repli', 'know realli love tmi imsorri chickfila', 'amit fatima bhutto instagram account pic ranom shit ppl follow keep post pic', 'love toay go', 'tribut brave eleph simpli efen famili', 'person gave hea orz', 'nice final sun even', 'person still wait son happi enjo christma gift unerstan prevent', 'count pushkin en fvckin night smh', 'home final way start christma break', 'person person person argument obvious impact fact famili tsi appear', 'person got tonsil lovinglif goo luck', 'counter argument rt person osu lost last night baylor woul talk benefit big champ', 'oh get see queen garen itv aress nation alway want', 'oh love faint ranomli', 'person jambo buy see scottish ientiti emerg hmfc john wilson type travel govan', 'joy wake sick abl use one arm everyth', 'photo say lou say prou nope never quitter never alway win even', 'love far import money problem know money life human', 'person contrari wie awak caffein inject conscious', 'mani best iea come finger fat keyboar nimbl agil', 'time babi take meicin get better', 'yet anoth million octor visit tomorrow stoke', 'teenanalcast f xlt mulberri fl', 'problem actual rt person person tough roa trip win coach strong', 'roll royc envision woner peopl mansori rollsroyc purpl customcar', 'efinit friay reason tuesay yesteray monay shoul friay', 'person never seen', 'last ay school much fun much peopl came shocker', 'besi overpric holiay canl seen one cybermonay eal worthwhil toay brutal', 'weather love walk work worst weatherbomb', 'avancewarfar campaign hour ps still better bf campaign tho finish p', 'noth like wake financi formula yay corpor financ comprehens final finalsweek', 'pick great week start new show netflix hellonwheel', 'bay lili paint person', 'person yup exactli', 'person ba pictur seem inic still horribl person', 'like', 'believ person even consier renam acaem buil perri b c much great stuff public euc', 'nice', 'check youtub channel', 'great week ictat congrat north korea cuba', 'boy anoth col spent night cough sneez sexi', 'person hear back yet', 'went check way late sleep bam never fin import tell', 'whole worl never get level', 'person o great job keep peopl safe', 'ont think woul matter metric english oesnt unerstan math person person', 'wing wing cours boy', 'uofl stuent ticket polici well thought plan goo job sga ihatey', 'fistbump posit focu starv istract werk motiv createpath uplift success', 'rant pregnant juge buy bottl wine pose weekli belli pic front wine rack fail', 'person get aroun', 'person oh right know john parker pisshea person', 'femaleconom herp curabl manag', 'event weeken', 'person person awesom estin site high popul k super easi get lot great site well', 'kyle let yeah grown ass men fast car give af lol bring room hooah see ya bit', 'person wrong watch film follow twitter', 'person person rememb last time saw newish gti ever seen golf r chang', 'realli realli want appl pie boilo', 'person person soun high safe short term use ramat increas antimicrobi pepti bloo', 'ostentati showi isplay esign impress wor immeiat think see woman fee chil iiot', 'person person queen countri yet go estroy english citi attack english polic lol', 'congrat still sasmvt goo run ulitin nalang ulit ang peat next year', 'malawi stuck joburg fair', 'someon coul come give massag woul gr', 'oth play back groun work ohhh naughti p fun', 'favorit thing tuesay write psycholog paper killm', 'yay earli morn protestor heavyamountsofsarcasm', 'person arizona coyot forg eal bmw reloc', 'person hello give guess xbox core servic fix', 'person joel olstein man harli ever mention jesu sermon go talk mean christma', 'reay o busi toay tireashel coffeecoffeecoffe morecoffe', 'ont unerstan tlist ont rea inamorata rea inamorato lmao sorri prob lol', 'two marijuana look happen legalizeit merica', 'person slay igloo australia home countri lol rt person nicki slay new zealan', 'see shouln use version control notjustworpress', 'less hour sleep fantast', 'person wesay yar ate goo guess first meet want b seen girl smth hinsight foun mashkook', 'person sorri miss tag en tweet', 'love ault act like chilren eyerol', 'feel faint chase whippet lili libbi gabbi milli cat play chase garen aintitfun notfun', 'person aorabl littl white tiger', 'ask go protect enemi long time ago short start lose frien naah', 'person human one play sport', 'person person person person person person person guy final', 'k shoul give us famou bf fan nee entertain appar', 'person work hellbefireinelevenmonth', 'int time wake bake mornin winnin', 'awak earli ay christma feel ill bang hea bung shiver nee', 'begin look lot like christma timetoecor tistheseason', 'soni stuio boss employe worri fine know feel better', 'person person bet fairway green rival work person', 'person haha quit right mate coonti worker got aff easi al tell ye oot workin like hamilton acci', 'life like bir pretti cute crap hea gharwapsi hoursofcrazi poweroff lol anticonversionlaw', 'person person person shallow af stop iscrimin eye eye beauti', 'person mk shaow shift much fun person', 'person pierc ha wrong', 'stop accept crumb name love equal appreci silenc solitu festiv love', 'go bless whoever came iea make colour bruh cape colour thou', 'new hiphop music person crack music jerseyc nj ny birthofawinn', 'saturay selfi miss guy person person jessica xxx mark kiss one', 'person love game got essert might enjoy turnov orevsfsu even arbi talk smack fsu', 'exactli year ago toay via person', 'greaaaat night', 'person woner auio book', 'queen stone age rock rio cia queensofthestoneag rockinrio', 'person want get hit bu get bestroomieawar', 'hol bub cartoon comic funni jesu', 'unless chang person person person person person person person person', 'person pleas follow technic question thank', 'morelik app necklac sweet run inlov iphoneonli iger russia sm', 'person mate yea goo pretti much shu b g nxt week bit sore kneel still twing sumtim ok', 'archer fight suppl bow way hoplit fight stiff spear archer hoplit bow spear', 'lol rt person wouln surpris solao bang hatrick win chelsea tonight legen back', 'tonight famili bone present ark quit hous play marco polo sie nerf gun lovemyfam', 'person beauti best win import take part fun matter', 'hear colleg ropout offer grauat best colleg jawrop packag', 'person bugger countri', 'person amazebal superman', 'person infer besmirch coffe right', 'person nee new job rea book miss rea english teacher realli get way rea', 'person yep say', 'israel rap palestinian n raft gimmick via person', 'see ppl walk w crutch make realli excit next week life', 'ay novel train comfortzon christmastre nextlevel buzzkillington familyguy via person', 'run less hour sleep longnight longay sleepi', 'person love fulham look like playoff team notreal', 'count scar soul', 'big shocker call', 'oe wor counter prouctiv ever mean anyth peopl sit aroun ream iea oubl wage', 'check thing realli love recent ure holiay season', 'hour foo rink go strong givemeabrew', 'anoth great ay ttc', 'person amn woul mae excel thing recount autobiographi p', 'couln agre rt person noth make feel special receiv autom', 'photoset babaybubblez aquabreez isgustinghotel men let us forget real stori', 'thank love peopl come work sick come eat sick appreci germ', 'person person e reaer woul efinit help save life someon broke hous goo call', 'late thrown ps winow last night cu couln play', 'thought gone vega nigga gone respect know o shit', 'person lost licens long mwahaha person', 'stuck traffic monay athensbyrain traffic ontheroa ontim sister coolurstyl', 'person iagnos w bipolar isor yet assum nee beat har feel emot submiss', 'person hope know much realli love philli greatest shortstop philli histori thank', 'watch news like oh total restor faith human', 'person hous committe inform thu far uniteblu', 'favorit ream one wake cover tear', 'ha insomnia cooki sleep', 'person like loss son', 'know go goo ay roommat come say took aerol anxieti attack', 'go finnish homework get caught everyth break', 'lebron jame violenc answer lebron jame sai thursay violenc answer', 'puli avail guarante stay', 'sorri sorri alway help asshol like', 'cat cute wish allerg', 'person kabhi messier usual messi wesay nee chai rest last ay may reason', 'claybo awson person squagoal', 'person email nee frien alway chat mani mani time right xx', 'person entir boy sen sympathi iagnos rheumatoi arthriti yr ago yay flare up', 'love scoop fee bunk fee calv', 'tri yoa tri tri repeat get right jarroavi', 'person bruhh saw licens plate ha letter fb', 'case anyon woner veni vii vici spanish vine vi venc stuybreak umfinalsweek', 'honk whilst rive past romant make want trace number plate forev', 'actual friay toay prouli present sunay go enjoy sunay', 'thing amazingli woner get earli monay morn start work week neemoresleep', 'peopl start rink mean fun', 'patriot report car grae half ba tom bray throw uner pressur n quarter ure sunay', 'new year eve gener overr parti year suppos huge shinig usual isappoint', 'love unappreci', 'look poulan chainsaw new shop chain saw start start', 'person sarcast', 'reay', 'ouch hurt', 'australia eight chilren kill australia report mass stab via person', 'penguin cancel morn skate toay ue ici conit butseriouslytheroasareba', 'ba iea climb mountain', 'love math amp final like hour harli stuie ibeenoingintegralssinceth thgrae', 'afrai', 'person absolut shock lamestream meia pick meiabia person person', 'speak like comey spoken jokingli assassin funni guy gal', 'even listen ur orer talk great custom servic', 'person person person person person black guy know money', 'person ay one minion carri sign say mother fat one mine', 'start think uk pretti goo basketbal team bbn', 'love tol wouln gotten hire boss knew pregnant ha', 'awar nye celebr usual laien fals expect happi close oor kick ars thru', 'person person ooh look like much fun', 'love wake migrain', 'hotog', 'person person person person forget person person smart kin love', 'taylor wrote nasti note car toay frien', 'person keep big channel big littl channel irrelev sinc goojob', 'inian societi teach get rape rather rape sahvi mufflerman inia rohtak', 'saw anoth person wear heavi winter coat hoo encourag', 'hi orgabeh meet think soulmat zzzzzzz patienc', 'person nah ue buy puke steak shake', 'person ye offici tri gamerg', 'two thing nee better raft player work ethic', 'someon confer call talk housekeep item grrr', 'great person', 'saturay class wee', 'person recal alai lama talk busti girl celeb apart', 'went roa morn english professor thank fsu concern commut', 'person mani championship tri say make worth saban', 'person shoul relat water first amen', 'person mock spiritu preciou holiay million courag shameony', 'got play w og last night', 'appar hang ashley ay', 'person ye except farag back slow genoci palestinian isra use nazi metho', 'ok watch hurt parent ki eci elop efinit make chang min small cozi we', 'person truli peac', 'learn play string note guitar pro iiot', 'morgan ask want play game xbox usual even look', 'person person liber citi class intellig exu', 'come jhb play volleybal fake beach work', 'think last time hobbit onelasttim cinema ov hfr', 'wow realli best luck known man', 'love run hour sleep ijustwannasleep', 'reason tell parent anyth alway get posit respons', 'coul kill best frien true frien', 'woul shotgun reay woul offer beer woul ask join clan person person', 'imma kill sob jk lol reey', 'internet bit slow toay blame thick wet cabl', 'omg berlin fashion vscocam', 'roa safeti campaign onkey kill car', 'love game ure week get go sleep like', 'everi stori en life everi ene ia new begin quoteoftheay lifequot', 'love say hi someon hallway complet ignor yeah love', 'abraham actual moern ay iraq ur chalea person person', 'rain sleet hun yeah total want get ress go work soun like fun iwannagobacktob', 'person help', 'stuy narciss rea afrai isor centeroftheunivers', 'love taken joke make feel goo', 'play golf ay eri ay perksofbeingol', 'compar person person atla', 'person brilliant news potenti young buyer', 'guess sleep tonight want leav anyway', 'swear stan littl fuck girl want punch fuck face bitch nee go home real', 'flooe basement alway fun thing eal', 'two constabl veer pal singh yaav avnish yaav crimin recor ntv', 'hour sleep suffici tackl ay timezoneproblem', 'person person yeah avoi wake time pm exhaust sucksimissey', 'person heh person averag work sentenc', 'isi acronym wor english', 'earli nee rive owntown take test bright earli morn yay torontotrafficisfun', 'matter size style we pleas rt', 'go go central last minut present shop soorganis', 'game', 'person make enough bl ullr go hunt ski assum hockey', 'wish januari alreay school major withraw arrow fair wtfwasthat', 'sorri femal mean interrupt perfect littl man worl', 'isabel sen nicest text', 'swag person', 'free chocol free eliveri flower orer bunch', 'person person fair look like lost lot weight sinc amazingli success halcyon lee ay', 'correct wor racism towar white peopl none racism goo anyon', 'kiss bc lose wisom toay mouth clever lol love text abl', 'torturereport showtim homelan', 'jesu mari joseph sa go life suffer efici', 'goo thing got work toay', 'foxi lay waynesworl excel', 'person wow realli touch tweet', 'leav school still fucktherain wherearemyhunt imgonnalooksocutetoay', 'uh oh better hea hill storm clou seekshelt', 'plan use last batteri listen person person get ay big', 'walk froo path lotr lotro geek quota week alreay met p start', 'one essay submitt start next one thiryearlif loveit', 'person yara restless soul well awar like skin perspect comfort expect', 'local theater physic marque letter rearrang uti chang interview', 'night night row job fun nightauitaventur resortjobprob fb', 'girl learn person everyay chezza sometim work annotgetcaughtbymr', 'forwar confus sure', 'entist oh joy', 'return flight love famili familyvac', 'love put christma tree fam christmastre', 'snap chat sister time shelovesitwhenisenthatmani', 'lagopo like rabbit foot easi rop convers never know', 'stanar christma newsfe iamon everywher everyon engag congratul origin christma engag', 'fit person person person person', 'countri special eicat syrian frien alon instalisten heart voic', 'peopl instagram put pointless hashtag', 'current bu wanker hate peopl stink gobonastick ickhea', 'ya listen talk hot girl favorit past time', 'gee faculti nichol help', 'stinker ay noth gone right got wors ay went ahhhhhhhhh epress cantwaitfortomorrow', 'bitch bitchi baass lol laugh joke funtim funni fun ecar', 'person twitter game perfect tonight amazing', 'iiiiiiii best boyfrien everrrrrrrrr', 'person chelsea fan natur sentiment arsen fan natur stupi spell', 'person pass jugment mani bin actual love creativ voka versatil liquor', 'yet provi sourc show person person person person person person', 'love eu server', 'answer one critic femin uglygirlsclub fourthwav', 'person islam religion peac christian hurt anyboy get right', 'am love', 'close white folk forc wit firsthan will ignor impact race racism bell hook ferguson', 'person person full noseble sit fun crow react joepa fav memori', 'reboot server seem ok yey facepalm evop', 'ppl keep snap snap back look goo rn', 'least woke feel lot better toay', 'mayb miss worl succe preecessor fail obtain worl peac missworl', 'person person irt countri', 'teenanalcast virgin virgin cute teenag virgin play hotel room tight blue gstring unerwear', 'person person person acl tear happen', 'vcac look like even bigger bag hurt vc', 'person funni joke bae', 'moral polic vigilant quiet everi rape suppos inian cultur uber elhirap', 'person ben go pick pizza toay', 'person nope o everyth wrong col hot hot col gear seem ok toay ipp prob spoke soon ore', 'person person cut promo person state face person oh yay', 'rule parti power central state misus power pm speak foreign parliment pm visit sie inia ure session', 'person wow impress forc go o later gymfanat', 'come love weather sleigh rie togeth ewe', 'person total obscur', 'person final win champ leagu team goo year got soli raw banter stillgoingout', 'person person basic storylin carolin forb season call stefan great', 'yay ay coffe harrypott christmasbreak morn', 'person person whilst slabour blairmcoug eputyug recon meltown safe bettertogeth cours', 'person think mari parent believ bubbemeinseh still virgin', 'see peopl use term gamerg believ go say use incorrectli', 'person relax wait fact come listen blain hammer player o similar', 'person person keep see noon pm eastern noon eastern nee plan morn accoringli pleas avis', 'appreci person spare suspen account block us', 'elus peopl kill cuz obama black myth person person person person person', 'person thei reight protest en right begin cannot take right earn livelihoo free movement', 'bake brea hang glass wine leg sweatshirt footbal heaven snow han turn rain', 'person person imagin never woul guess', 'crime figur true pictur may wors fear say think tank report via person surpris', 'hamilton monay night thank person even game give us saturay footbal overr', 'got love soun rain beat winow christma ay whereswint', 'lebanon etaine isi leaer wife iraqi offici bagha iraqi offici eni wenesay', 'victoria secret moel secret even victoria know', 'half test group help toay', 'one work har', 'amen love plan problem truth emerg pearl', 'whoop know ha live peopl expect instea mine let fix sorrynotsorri soz', 'wait next year cyber month sale', 'person', 'person person let us face mo elay ay ene valueformoneynot', 'best christma gift person new album', 'love femal express emphat manner alway attribut menstrual cycl mag pm', 'person persuas lol', 'kmyb hr stuy', 'hospit new allergi test love', 'person even link servic alert', 'hey look', 'skip tbh like much eras life someth awesom', 'person oh joy get even live room putyourtoysaway baboyfrien', 'human brain isappear everi ay never even appear humanbrain', 'happi new year twitter peopl hope happi success lot love season suck', 'turn sausag butti burger king burger realli enjoy eat half morn feelshit', 'thing', 'girl beauti short nose tall toshort selfieee', 'person person person miss hashtag', 'first nigga grab behin homo', 'loooooool rt person monay one friay aroun corner', 'new homeschool year new market busi clickbank univers wealthi affili write book final holyscheul neeanapp', 'scratch night eye', 'work box ay fun', 'eabeata ur worth hair ki hea tough singlemom least beauti aughter love', 'ba happen theinterview look like realli goo movi', 'person gun law fix everyth', 'bengal suck yesteray total mae worth stay hour yesteray come work', 'person person mostli follow list ip full fee ranomli', 'matter messag boar threa authorit sourc person person', 'popcorn bring movi tuesay night', 'mom bring physic trainer unckin onut ye bring onut fit fanat woul make perfect sens', 'person far funniest prick worl moment pleas come geelong normal mayor', 'thank hare scienc epart give us minut final', 'person person person guess lost coupl million lambia luicrousstori', 'person move north jersey big ranger fan coyot came town', 'stl never win rt person new manag new striker new transfer committe cont', 'person person person mayb go jump lan someth technic groun', 'also sick name', 'babysit night hope car oesn get tow bc ik park', 'person mean oesn mean much hate oh orz', 'person person secon prize two sign copi bori book onlyki', 'corpsman wisom ha hea col took avic motrin hyrat chang sock col elimin navi', 'follow person great tweet start onlin shop startonlineher', 'person person ok kev gurney bowl next', 'take blaze hot shower get use burn pit hell ifitsr', 'festiv ff person person person person person person person person person', 'love procrastin hate cram', 'entertain journalist collect fact annoy entist entertain annoy factaboutentist', 'biggest task get look shall one look none cleverclog shl know nakhr', 'zuckerberg say wear grey shirt everyay oesn want wast time thing matter run facebook', 'stomach wonerlan ga inuc bacteria bless', 'come univers tmltalk leaf', 'thank go knick sign carmelo thebullscanhavehim', 'heaven know miser thesmith girl old ohwow instas goomoo weirpos', 'shoul balanc view person person', 'person alon tonight person song help imagin beyon anoth worl gosupersonicquikr person', 'person person thx thri real ont frien', 'boon pratt evolut televis irect evin gibson via person', 'brave tesco humung shop list hail outsi ohbliss', 'person weir person', 'break girl buy present lowbuget smartmov goo iea butschem oe', 'comptrol citibik station bike properli maintain citibik gear expan', 'ooh someon know click unfollow button impress beforecoffe', 'reay get runk tonight', 'think new sweater bought matern sweater oh well super cozi', 'oubl anc boy make monay worthwhil', 'obama want closer relat marxist nation shock tell shock cuba', 'person oh haha even seen', 'abl think self angri nice gift itsacurs', 'person person paper support blackshirt', 'one lie person person person person person', 'cool know peopl talk shit night', 'person osu oppon recor much better baylor outright conf champ win tm win recor baylor', 'person happi new year thank repli', 'ress gown turkey buffalo sauc sanwich han big fat quiz year move ever', 'person per ay efinit costco sock must say funki sock movement kina cool', 'tire selfie yet look freshh p aftr long work love unii', 'noth anyth hate wor fleek soun like someth name neopet', 'oomf shoul chow mom car', 'stop live like king one use real life exousmovi', 'think might artist flower pretti love beauti paint art natur lch', 'realli stoke go abroa fall well next week complet iffer reason imissmyboyfrien', 'look behin tara ella starbuck mytopgirl omni santri', 'person like yellow thing yellow hi kapitana nagaar kmi ni person asfghjkl huhuhu', 'love ya jerri heck', 'usual fan anyth pumpkin pumpkinspic omg best cooki', 'imag via heart boy funni girl k ok', 'take time want right', 'person annnn opinion irrelev', 'finish ene begin go thing', 'person know big spot time watch choke haha must mean suck right', 'person oh finger stick togeth', 'wait work ream team toay elilyf', 'love chaotic school run', 'person new fave thing facebook sexpest', 'person person person pleas repli gentleman behalf us person jokl gotrealworktoo', 'luck keep get better better', 'person eutsch misogynist toa shock bigot hansupontshoot', 'person googl rive review', 'person say anyth retweet person person person', 'person ok hope rain soon', 'nope fit efinit person person person person person', 'secon ay row late work thank person servic efinit worth fare hike', 'yeah iet', 'notci eu ebola leav hunr thousan face hunger three worst hit countri', 'offen hear happyholiay peopl refer christma wor holiay eriv holi ay fb', 'person person lol', 'wow outzen look amaz babi', 'alway nice take cig break like hous hear weir creepi nois realli ark', 'j cole song virgin virgin musicalgeniu innov', 'person thank upat spot goo w post stuff blog', 'ugli christma sweater women sz', 'great way start morn', 'see play review even close', 'catch rhoa love rama', 'never australia epen govt money sa social unrealist peopl spen earn', 'person one isturb tickl elf bite philisinnoc', 'person person hit big issu champ', 'rt person rumourisimaa accent', 'person person least coul barg convo', 'vieo jesu bullog eep meaning cough og og bullog religion vlog', 'person person live worl even neighbor look alien', 'person plu memori short elet pic share boom', 'nice weeken back work tonight fuck moon', 'brial jewel excit rang han mae high qualiti jewelleri high street bespok custom', 'person shoul click link privat messag see nasti rumor go aroun boohack', 'current christma song obsess play non stop weeken via person', 'flight ivert boil water incient', 'gran year efinit get inform nee practic class', 'person happen rt', 'sneak roun mini golf hollywooriveingolf univers citiwalk kio', 'twitter account worth accor social account worth calcul see much worth', 'take break rea socialmeia check social meia', 'vieo person person wifeyseri rop toay covermoel person', 'person person hope peopl miss connect flight take joy woner experi sorrynotsorri', 'person caught atten gasp latin mass', 'love person stay tweet stay hang truebro', 'lol websit suspen person person', 'worst consier thing like conserv tribun creibl sourc inform total bia', 'resox rt person meanwhil cagua rusney castillo goe mammoth hr man alex cora love guy', 'want thank e l e n tumblr spoil bofa honestli fuck martinfreeman', 'love wake five minut school', 'alreay wait julia come back', 'go loooong ay yolo let us fun', 'person slip back hate figur territori', 'use great feel', 'meanwhil zimbabw south african impos govern promis stamp corrupt', 'peopl love funk let us keep tweet go', 'boy town', 'footi sock tracki tee fluffi ress gown wrapp quilt sweat bean shiver nu', 'finger uck attract without banag tbh', 'accient break comput tech support haha talk employe month techsupport', 'gla vote put goo use', 'ppl make blanket statement whole race efens sick hear race', 'love wie awak', 'wor taliban come root wor talib mean stuent peshawarattack eathtotaliban eathtoisi', 'yay fuck monay life perfect magic love everyth', 'event technolog session internet problem hsc', 'marleyanm rt person sourc tell person oger show seriou interest jon lester', 'anyon tell iv uploa item onto epop toay lol lotsofepopuploa', 'person boot happi', 'scare think thing like year', 'last twolv game jack right lockout vs okc rubio st game woner', 'everyboy travel worl sit stuy map last exam jealousi almoston', 'clean spew efinit highlight job', 'person right clearli po po play much call uti', 'person person actual israel eman rener antisemit acc mate favourit non efinit antisem', 'thank strang vet husban bar remin ebt ie stuentloan', 'love count peopl', 'person person smash samsung galaxi run back car tri avoi park ticket', 'yea love alreay throw tantrum upon wake total awesom person', 'winner goe stock bribe', 'worl villain climat crimin australia attempt heavi nation lima auspol', 'rather know upset hie question thing later', 'almost person argu guy cute realli live come ault', 'person alway foun k home', 'thank person take love', 'person yeah see great success lai total excit sex', 'senat confirm new cabinet member n amen support furiou senat confirm', 'noth stuie test fckn greaaat', 'marti post fact proof make shit person person person person', 'fall asleep soun rain relax', 'ok two absolutefav asham amit actual crie', 'person person ine two peopl opposit polit ivi sling insult twitter come', 'biggest taliban gunn school ki countri malala receiv nobel prize eucat ouch', 'person think ever even mae wee browni life ik get bizarr iea lol', 'b e uti ay scotlan rain gale lol', 'person nice make pot butter himalayan salt sometim infus salt chang', 'look forwar o page essay tonight seem like fun', 'grin ill grin two way rea name', 'see person saturay whaup legen', 'new year start mani peopl came mani went alway wat gone better', 'yoga pant sweatshirt nike person yet', 'bitch fuck think go better sit rest bitch waittng move neva', 'great burst christma iy craft pleas rt', 'take final go straight work peachi', 'may col tomorrow ecemb low ress warm', 'person buuuut fast iter prototyp prouction reay coe', 'person peopl antagon list via person', 'let us go cav clevelan cav cavali nba quicken loan arena', 'person toronto man fin woman ex girlfrien name free trip aroun worl shoul chang name', 'chenua acheb thing fall apart', 'person thank think fill correctli', 'girl ip', 'think goo name person person person', 'tsu websit worth million get pai post', 'monay morn fave', 'thank mum fart twice ure inner bf niceon', 'socialmeia alreay pretti goo also master ironi tell', 'let us set recor straight mccoist player legen fact man hel us togeth one els woul ever b forgotten', 'histori check anyon know', 'town get bay prezzi rue birthay xma week busybe', 'worst film becom must see film', 'person freer bethlehem woul anywher rest arab worl much', 'person person know cover point kept us win two week almost win r', 'person think know x', 'ki right make happi nephew', 'love want love pollut room filthi tongu getscar', 'person person yeah thank', 'stop tri make post locat twitter want post locat stop', 'seen result actual saintsfc', 'get upat basant rai stori via person person person', 'person person person person person person person ya welcom hunni', 'goo thing ay ruin', 'person person ye want honor someon ie go steal tv xbox whatev els feel entitl', 'long gol layer pipe necklac set leav email invoic', 'ang selfi game point rink actuallysorri', 'lot laugh person person person person person', 'three geek bring whole microsoft soni network annual firewal subscript worth everi penni', 'goo news thank aca husban insur premium jump one year hooray thanksobama', 'person', 'person text go sleep ignor', 'noth better class', 'net neutral cisco intel ibm warn fcc crack isp technolog', 'cluck rt person transpar aministr ever sen passwor protect ocument oversight gruber', 'person sometim forget feel rememb eserv', 'work super earli friay weakest pure treat tire stormageon arrowmiseasonfinal', 'like peopl freak hear still get pai week join militari uh', 'person fave tweet reaction parent thought went crazi asham', 'person miss leav th nee see go', 'person went fae orang mess ark brown streak cours forgot take pictur', 'husban concern stoptxtnhim notok youknowwhoyouar', 'hope film like woul lose relev coupl eca nope', 'noth like wake sweet soun cat tri chew shoelac husban new boot', 'snooz button tempt last', 'fuck moo', 'coin watcheronawal anyon els fin sa remin conserv republican tortur wrong torturereport', 'tamir rice memori toay famili ha plan see grow gunn polic polic', 'eat sweet pe', 'nee act like fav chil know alreay', 'funni broken one one neee save', 'babi cap teeth neg', 'come riicul scenario hea', 'love still ki still wake earli christma justkiingilovethem', 'person okay trae better get arn goo packag better ivis', 'com professor keep talk twitter lel', 'oh love', 'person friski noth new', 'love buse everi half hour', 'person person person reason competit bree innov consum win', 'ugli size small christma sweater cari basic eition holiay vintag', 'love test patienc', 'welcom twitter person n person r ur servic ur twitter coach', 'person thingsbetterthantitansjag napalm hotw bigjoefavorit love show keep real', 'sometim make funni comment boyfrien text justgothomefrominn smile funni lovehim', 'ayum realli got hous brother still school week', 'ba iea', 'know sen present frien live far away never get hanma stuff yay', 'use joke aroun cat abl open oor never expect happen', 'buy liber iniviu see iniviu fate black peopl way link collect fate bell hook ferguson', 'person raw person raw person go lose pell bench fantasi fuck shit night', 'half worl suffer obes half ying famin', 'got meet real csi tonight cool littl jerk broke offic cool', 'twitter account sign book look must rea rather rea twilight', 'uk pm make sure chil abus brought justic assum peopl brought justic lie', 'balak balaam come curs peopl know bless bless curs curs', 'guru newbi everyon get nee see right', 'o mental calcul realiz chanc pass moul slim none fantast', 'person season unwant gift', 'futur still enjoy play footbal much play passion totti oh team oom asroma', 'awh love repli get feel type way norepli storyofmylif', 'alway one frien motiv make feel better el amellah la wjooch fe ayati yaa ctortna el jameela person', 'person ok thank one question oe comput scientist take salari comput commun engin', 'person stoke', 'person huge congrat sign couln happier fam view everest originalpatneshekfanclubmemb', 'pleas ont fuck first wake morn person', 'allow touch kneecap like question noa onuchapel', 'prouc kin creativ esign hypebeast', 'see catfish search fishsitt golfish lovelif', 'page foun', 'know woul make break x time better practic', 'person person person person sec bia right', 'care literaci becom histor blip summer', 'person person person everyth awesom', 'person haha cannot wait monay best cheer', 'peopl billcosbi look upon one come efens race rape', 'person goo banter', 'yell someon tell someth mum mistak actual mum', 'also top lol person person person person', 'person chanc till januari goo alway make smile', 'oesn convey want though twitterproblemsform', 'har take peopl serious spell think grammar type cracker', 'ironi polic ivi us terrorist unit us terror policebrut', 'person tamir know mike brown rais han shot ea want cop see ha bb gun still shot ea', 'person person give chanc win gosuperson goa pass follow etail superaylineup', 'person let put bet whoever woul take action thing think oliva howsam shoul easi', 'pa n ga n fit fit gym give', 'bbc news enmark challeng russia canaa north pole', 'person person person first visit comment section', 'shun workplac chit chat look happen twitter ranomtweet', 'shoe make one reay', 'love watch latenightfilm enjoy mockingjaypart person isburi ta person grate goofrien', 'person steve steve steve ata never win heart min appeal poor polar bear', 'person person gla bought iesel car year ago', 'ont mess ninja ko', 'person like group unsuccess iiot even manag scroung quarter pretti cool guess chri', 'wait jump tonight sleep sotir', 'next person want eucat point pleas blooy eucat speak get bore', 'sat yet anoth stationari person train minut explan river servic top rawer', 'person simpli win person twitter fight p', 'person ohhhh yeaah girl favorit coupl want come hang lol bruh wtf lol', 'proof lack rea comprehens skill person person person person', 'mmmm rt person person fave person southampton win post nue', 'person know wrong pleas help us euvat', 'person agre cool place love rock', 'thank retweet person topform', 'person anymor', 'grown women act like chilren favorit ramat', 'come conclus appl skynet termin apocalypseiscom warofthemachin', 'work har right', 'interest stat po goo ba appl ruin tcot ferguson ericgarn', 'person much nicer iea actual', 'person show', 'like person vieo person challeng style ani', 'husban come home earli mongkok kowloon hongkong ongiotravel thfloor', 'person illriewithy', 'team covington ky pretti much suck gosteel', 'song ay light buzz jack mannequin', 'reay conquer ay person leavemealonemom fave bahhumbug', 'ml transact ml make wave b fair take player fix', 'bush govt prosecut uner geneva convent tortur cia metho vp amiss expos', 'got email law school say peopl infring copyright referenc properli essay copyright', 'mom tonight refresh real tbt', 'mean squar person person person person person', 'bol bakeri sarah brockett bakeri', 'maliv water yet experienc water shortag', 'get night heli shot person person person person nh ski', 'person ex husban autopsi report coron took age seem slow machin process', 'sometim woner mous experiment', 'rush take christma cooki person test', 'fun night girl may look like eat essert show', 'break news rt person mario balotelli team player accor ael taarabt', 'point learn craft realiti miss shoul iffer wat', 'person stuff press write liter riicul woul harsh point lack literaci ghostwrit', 'yr sinc west ha inustri revolut st cent ghana inustri e revolut happen', 'origin content har come anonym writingtip quoteoftheay', 'person person law way lawmak whoul av gone gain entranc break law kin', 'person congrat cute', 'guess eat leftov breakfast other get black bear cuziintwantgoofoo truth hungri', 'peopl beauti look peopl beauti look walk talk person love care share', 'launrymatfun lol yesisainot spincycl youspinmeroun recorplay thatsmyki smusic teachingth', 'connacht camogi champion year row hon hrc mountbellewisahurlingstronghol holyrosari life seniorb', 'go rec tonight beingprouct', 'someon sell pack cigarett get eath penalti ericgarn', 'person person person rememb pre spoke great america strong peopl work togeth', 'wait feel hangov', 'america releas cuban spi get cuba releas american spi caught cuban spi', 'hear chicken fulham go sake', 'person ay two', 'aesh taliban nee becom part religion piec heart goe victim peshawarattack', 'teensanalyz expiri cock hungri', 'got stuy like care perksofbeingasenior', 'stephenfri person oooh bust superior unerstan crestfallen shame', 'eff miss mom yell stair chanel wake lmao stfu jk love cuz prob see', 'person person seri real', 'year ago cat hit car toay great quot', 'time continu clean closet happi happi joy joy', 'person see followm followngain teamtofollow teamfollowback retweet gain follow', 'fav part abt xma ay get merri xma tweet ppl never talk ky iontcar', 'whole ay ns w client yay', 'person person nice see person take time visit poorli fan hospit phil jone alwaysinjur mufc', 'notcia eu europ conselho europeu ezembro click ate inform euro', 'comfort thought everi tax payer b remin ocar ramm law answer question tax form', 'oh noe night train berlin malm run ure summer plan long comfort train trip', 'lrt gee goo thing waronwomen', 'let get straight go sign ufc matter wifey sai happymarriag', 'person oe impli get facebook use crack cocain', 'respons abil respon control charg life', 'person hahahah onna inspir shit great', 'morn monay peopl long know keep work har makesussexsaf', 'lost shame realli root lfc', 'person aaaaaan rea big sleep get sleep', 'stuck behin someon spee limit lateforwork fuck happymonay', 'last pictur took phone pic syresatt vatten ikea bottl', 'got love frien hahahah nosuchth', 'flatteri get everywher person', 'person wow affor holiay alway want', 'time trip home perfectli rench syney storm wet', 'ha snow cancel vball tournament toay ball life', 'respon movi heterosexu realli wish woul stop shove lifestyl throat', 'true efinit iran host confer extremist', 'hmm scott mitchel v toni shea phil taylor v raymon van barnevel ifficult ecis artsworlchampionship pc', 'person go workout jiggl go jiggl away thingsyousaytoyourbestfrien us person', 'person sai retar nonsens', 'person hope great year estini pc p person', 'person assur recommen', 'hunger vanish affluent even overweight societi', 'person great christma present unreal alcohol inustri lure young peopl sa nosocialconsci', 'great amn ay', 'person person even bring rea rip', 'know love author figur book en long oe wait see author actual en', 'father sent buy ingreient co want fri nool remember everyth els nool somuchwin', 'still love newsroom regarless everyon els think', 'moon pictur like moon mae light bulb moon', 'person thank person think back playoff playoff matchup tacocorp v gronkey punch', 'oh yeah offici crazi', 'oh well look like back squar bati brige go go well bolanbeauti', 'person person fuck ho saturnalia nigga', 'person a traition make statement legit justbecaus', 'person offic efens scari look phone blacklivesmatt', 'person call name often go fight want fight', 'jlpt tomorrow feel vagu confient vagu', 'rt person person spoiler alert call expert preict winner', 'case hear happen wingewarrior', 'believ shit past ay final', 'session scari canari syney australia lavin', 'person person pass legisl forc peopl catch buse rout shoul life jail', 'christma shop take weeken attempt wast time let us tri cantwait', 'sai nope get gift car one bought use creit car point', 'happi birthay boo person love great ay', 'person person nice smile', 'gla sick toay bullcrap', 'walk fun', 'hol ki back rut', 'person person respons anymor expect anyon think', 'except hot water natur one woul offic take call fuck hate', 'hate min keep rift someon longer matter life islik', 'soli leg ay felt great hit max wait squat', 'love charg comp music', 'babi constantli sick everywher like keep foo eat ur belli floor', 'hangov work rt person favorit thing monay', 'someon tri play alreay know game stepoff', 'lol imagin gay work fuge pack factori', 'listen guy ecim team explain anoth buil team hahahahaha aaaah tragey', 'person miss lot lot like jelli tot', 'lawyer train lawyer talk ceil woul even rea one go notic thing', 'shawn still follow okay', 'want blast music get reay trip secon roommat sleep suffer consier', 'notci eu santa juncker bring gift healthier eu', 'carbon everywher carbon hoo sticker strip automot ope car', 'put corpor racism sexism back belong face face person exec think twice', 'answer often lay right infront problem seek istanc realiti answer simpl', 'uniform uniti lmfair', 'person person oh look aui river break law strang', 'ptiukgonawazgocampaign show peac protest infront lancast hous greet pm respect', 'person true sissi well sai fit live man', 'even math cell work ahhh hahaha mathisfun', 'kitti aaaaint happi cat happi toay', 'woke cri nightmar ha go great ay', 'love work christma spene alon hour away famili', 'first ay ski killeit iwasshit tign seasonlif', 'oh materi miss', 'girl put recor tell favorit song inasong myfav', 'thank teamipswich e make news crew welcom morn alway blackfriay film itwasquiet', 'love get woken boy say know comfort sleep someth want anyway', 'american love gun ever chicago etroit exampl strict gunlaw yet crime', 'person guie coffe lol espresso time went mapl leaf fan fest person', 'new shoe kina love inanim object', 'person probabl nigerian', 'orionlaunch go go go go get izzi imagin crew stress woul', 'anrew luck kin qb wowzer invscl', 'lol game napoli win better juve', 'person person hahaha talk abt polici check elhi ialogu page anoth gola lol', 'oh go happen love realli love slow internet slowinternet', 'twitter ea thanksfin', 'make hour soun fun', 'alright back bing watch legen korra like muthafukn gangster', 'avanc peopl actual think stupi', 'oesn kill make stronger perfect myboy', 'person yeah shoul get activ social life get away internet', 'oh go wait till new year start work thatscool', 'person person protect namesak palinspawn', 'anoth ay livin ream neemoremoney', 'person prepar get muck imisseu', 'person affor stock teacher make much money crazi', 'two hour rive morn instructor oh ye scareshitless yike', 'believ sort thing shoul canon selfprais', 'wait ga crush email tol great class total love', 'woke fin vehicl insur went month merri christma', 'person hahaha town', 'shouln lose full ay work system upat happen yesteray fuckingwinow', 'peopl ay love accept nonjugment great', 'simpl way fashion n contribut empow thousan women weaver khaigaatha gogreen', 'person oesn get iniefilm miboxzombi', 'love work tell nee come', 'look girl broken smile ask want stay love', 'feel nap near futur naptim', 'vapour emitt cleans solvent emitt contamin chemic cleans contamin vapour', 'time babygirl get beauti sleep', 'ugli truth abus enough wor', 'person oh crap mean mean see last rt', 'person excit go goo year music ur go smash e', 'name game', 'person sc star caral jone thir string qb big champion mvp', 'hybricl nee hybri monitor monitor azur plu app bs scom', 'person think make go enough', 'ay next two week new yr love work xma neethemoney', 'goo time start vote bestnewartist fifth harmoni', 'comcast greatest custom servic planet comcastistheworst', 'person bt ipmagazin photoshoot wifeyseri traviiiii forget', 'busi know imp sayno anyth come b w n ur ream even money entrepreneur tip', 'ear spain gov catalan polic congrat manag accomplish imposs go even lower greec operaci npanora', 'person person miss bant work toay ha ha ha shitbant', 'lost person person person', 'get reay ship surplu ink cartrig nunavut commun yup great use time resourc sofulfil', 'buy couch envelopp homeecor pleas rt', 'selfish narcissist woman matter chil oesn matter father oesn matter one els matter', 'kin occ health book tb skin test ay uni thrill', 'wick ignor bout black american see racism everyth figment imagin cannot trump j hypocrisi nnn', 'bibotour champwithin founer person person w ancer ricki gracey chicago women', 'moment everi secon everi scent everi flower girl', 'fin one local p report rop person person person person person person', 'shoul fun next spring', 'chillax bitch face squish firebal', 'person person obamanom fs unemploy insur econom stimulu ft pt work free us follow ream', 'person realli well one anoth short format get stan r ay row kel ll thank', 'win sweet hamper christma fete ay jellybean amag tooth', 'get shit togeth like isthenewturnup myboo funtim makingmemori', 'ahhh final week throw kegger hous survivor motiv rip', 'fun ay lib stuy econ hour wait tomorrow thisismiser', 'person black listen person show love racewar', 'ear r iaz graviti oe exist einstein got wrong wrote book explain theori let know want rea', 'person person person outta boarroom partay luvvit', 'lot love mirana', 'earn photogen brew level bage person', 'pt famili follow talk home talk new owner estabilis pf club coul mot lufc', 'workahol sick let stop bring germ offic appreci commit', 'jame burk connect episo special place via person rill', 'person person love jojo kept classi', 'quel omag rt person canaa bill seri coloss flop cancel cfl nfl', 'person strut boot', 'person hol han sing kumbaya hate us', 'thing much ammo', 'amarillo hop make right golilock rink tour e fall memphi pint ram photo', 'person spinless gutless accept', 'goo see toma rosicki play tae arsvqpr', 'realli love person five minut late col ay feel like metro', 'person person ba happi pre anc first thought onni', 'person true replac one mam', 'photo cheer voka mother energi rink tipsi one rink caburi alcohol friay', 'person bear nee sens urgenc qb posit use top pick qb posit', 'take church', 'wow thank goo vibe right exam parent', 'person person mass love', 'person never stuy lolz work present ue tomorrow start', 'person ont know love prouct christma heaven love skincar beauti', 'person wow brought xbox live arnt amaz someth prouctiv like grow', 'goo note ay scanal', 'wow love essay ue next week', 'person sig ni fi witter', 'fuse blown meia room much hallway vacuum chao break loos cancup', 'person person porn move nake woman see porn game', 'oe zayn look like spanish flamingo ancer', 'person comput internet person comput smart phone invent pon scum person', 'person person kin stranger', 'wow love school', 'person everyon want sooooo cool', 'final taken gir love heartbroken', 'watch elf prime ecis tonight', 'bali nee burrito soun naughti burrito', 'love wake late sick ure ea week thebest', 'way prove women breast ass', 'wake congest abl breath great feel', 'life complet meet person', 'got messag nee start work anoth locat brilliant rush towar secon locat oh go hate monay', 'thank kany mccartney final get big break wait umpster ive care', 'person clever jack chang wor big go feel like mae iffer societi youareageniu', 'gasp girl rehears stuio toay say hmmm woner earth mtvstar littl mix', 'person yeah ba asleep back play strong painkil knock', 'noth better feel love lol noth', 'person person plege anytim soon grown women compet aka vs elta crab barrel sa', 'meme monay mememonay obama obamacar acireflux stanupshot jokeoftheay comey', 'igit rumstick thank granma granpa', 'congratul hashemit kingom joran uner wise leaership majesti king abullah ii new year', 'got go back work tonight', 'math present ap histori test ap scienc test whatev hell o asgil toay shoul fun', 'man best much bigger problem us saintsfc still th noproblem', 'even soweto tv bother show fvcken awar useless bone go figur', 'pain inevit suffer option anonym', 'someboy exercis freeom protest freeom speech', 'learn toay choos live fearless life iam fearfre fearful', 'person learn want make ba enough matter ba make gale sayer wise', 'sec crew o qualiti offici penn state game miss terribl block back', 'legen say stan front mirror say even time girl yogap appear give pumpkin spice latt', 'photo invoic sent', 'rea news meia struggl save obama countri', 'lol well one swan', 'foun pictur lisazamorano tri kill bff seniorbrunch moutain meaow', 'person unfortun hey ay think aughter game fifa youraverageaysgirl', 'ream celebr christma', 'person yup week nz muck time fiji oge shark', 'og like nice toasti relax home aorabl puppi socut icant', 'hashtag great ik everyon stopp use jk bye', 'person person come graham thoma', 'toay stat follow unfollow follow peopl via', 'ha best new year spent peopl love fuck love happi camper right', 'person haha also ha cheer bro', 'person person even better let us see wai camacho man fight person', 'lol peopl say turn year start follow ki sorri', 'tl see somerhol unfollow tweet retweet somerhol see mani also allow', 'person ha three boy breastf year never ha necessari', 'woul love touch anacona jump thang rie like hors eatenal', 'photo whynot pop art artist person whirleyshot whirleystuio sharpi acryl', 'man must f get life fortitu focu financ person', 'aaan hit keep come baay', 'person michael bloomberg wear speeo globalwarm boyguar person', 'kaley cuoco sweet apologis say feminist kaley cuoco sweet pictur', 'obama taxpay fune cost atten polit funrais lo angel san francisco', 'say someth stupi oh beat', 'notci eu en fish iscar elay en fish iscar elay copyright ep eu report vie', 'realli sure still aliv write paper right nap instea sleep weeken cut final', 'person person rest well stuart man grace courag may famili fin peac', 'person apricot pear boozi belgian gooness winter warmer', 'couln ask better night', 'person person patio tumbler gooness mac ay', 'look ecent bowler realli th bowler balanc sie potenti th bowler styri hsohail pakvnz', 'hit follow instagram offici mae life', 'look white christma minnesotaproblem', 'person person color prefer negro', 'possibl enough time', 'librari comput frozen shocker', 'bjp congress nt isclos etail cr onat receiv still meia bhakt question aap mufflerman', 'last final toay straight surgeon whatagooweek', 'ariana grane makeup alway sooo flawless', 'rememb ran mile min sleep summer got hour ay two hour sleep fun', 'go post opinion obama cuba save till speech peacemak', 'light setup malawi aquarium water tomorrow cichli nofilt marinewhit', 'goo thing ace like clay bucholz proven urabl consist haha', 'ok ok geez know alreay person person person total repetet', 'person e strength number focus movement appeal countri use pen paper chang way live rastic', 'person thing complain christma ay pimpl ear person thanksobama legitreasontocomplain', 'person someon efens shoe fit', 'left home still tri get work want cri happymonay', 'pretti amaz lan free peopl ebat shoul feel safe aroun polic', 'person person person true patriot packer bronco coul suenli nee new coach itshappen', 'sop wet squish mu toe well swim mu pule', 'know fun cx coul probabl think fin yeah x', 'person former chairwoman us commiss civil right', 'tomorrow ay come back floria goo unless someth chang next hr oubt reay', 'person person efinit place money outcom anyth gambl choos eni self elus', 'long ay wreck', 'ownsi work fisheri conserv rare affor cool thing promot job', 'aanisjet lol person ironi committ suici jump aani jet lovejiha gharwapsi orphan', 'gave imperfecto rate person', 'person unerstan someth oe make expert fiel', 'one mani reason islik alabama fan auburn rollti myass jakellmitchel', 'gla work oubl new year eve new year ay piss', 'person yeah ignor point', 'person lol cours best', 'person person woul sai gop african brought want pick cotton', 'person oh come give chanc trust worthi sn warrior follow uber right wing portal', 'went well', 'person wow fluent finnish', 'socialmeia perfectli normal talk peopl pictur', 'person hey oe wor ban home page like two three time though acknowlegementisfirststep', 'person xma christma abbrevi christ mass person', 'person mean sorrynotsorri', 'en talk oh wait talk whooop cutestcoupl', 'year ago woul write shirt anymor thank person person merryxma', 'gooie bag n grae one whatsnext', 'nooooo religi freeom one ever get control oppress omin religion', 'goo luck toay j urkin great floria gator fuckuf', 'none gooby bear sort mensfashion', 'hors hornless unicorn enlighten mystic wow rug', 'last ay work week let us see ba get posit', 'wish mf woul ay', 'cute awak right', 'angri face leo ki fun face angri', 'person chilren home statu woohoo fun', 'woner weather might nee sunscreen toay', 'groceri store pharmaci sensibl person offic apart owner monro avenu factori poner option', 'least tan look goo nee learn appreci pale skin', 'well toay go great ay', 'complex wor unerstan person person person', 'beauti manitibaprob', 'cramp front husban knee back yeah sleep seem possibl tonight suckitmothernatur', 'shame thir time pregnant uchess wear esign ress thir time new york via person', 'person nah think say f ck enough album angryman olschool', 'got recor favorit show tamar vinc season final', 'photo abstract tribal bubbl jumpsuit size xl cost', 'sum week realli nursinglif workingaysannight', 'person pace kcroyal activ winter meet give vertigo', 'say women black iffer speci person person person person person', 'liter get pamper ay tomorrow get cray julia raven bay whatmorecoulaguyaskfor', 'excit spen next hour school', 'er suck tonight urgent care tomorrow yay fml ugh', 'bless stress hype next year hailstat', 'are play game lol shot sex fine tipsi runk ea neeagoolaugh', 'still time enter person sampl giveaway person channel check moer bblogger beauti', 'love wake grumpi peopl', 'person mobil ceo think appl watch go huge', 'incept episo tangerin spin top subtl', 'alway count freshmen make librari lou thank', 'person play minut fiel steal foul one', 'person break realjournalist bulli major problem nation high school', 'look forwar nice long km cycl tomorrow minu egre weather fool festiv', 'might go back easier make effort person wrong', 'person person ya histori tol us anyth bet sport great way make money', 'person person person stun toay', 'person person ya countri calm peac everyon arm', 'person person priori contract wear huge popular priori ultra oe count xxx', 'white peopl irrelev point black commun nee rise control truth', 'great start ay', 'fricken peachi toay', 'person even think religi freeom restor act michigan riicul', 'person term time son', 'worth rea christian persecut face equal respect sectarianviol countyourbless', 'may may obsess grinch', 'person person money church app pay see go', 'person overpay talent get stuck w talent perpetu lose cycl cub', 'person say joe woul imagin govern program fraught frau ever happen', 'person think gay wrong like peopl chose gay piss magic old man live sky', 'ure person critic person promo special featur billcosbi rape victim air hypocrit', 'pmharper get reelect r possibl cpc cheat canaa collect stockholmsynrom oom', 'trivia crack take life', 'person person person person awesom', 'amaz start weeken ohgoitsfriayagain', 'person oesn', 'canni wait get new phone sneak cloth thursay payay woul rue', 'rock christma sock work littl thing like make happi essentialservic', 'felt sinc ko eugh great en great week beenshit killm', 'granma gulp hot coco louli mom goe gulp granma queef haha', 'gla foun way make gospel social relev klingon', 'ummm like rt person famili safe happythanksgiv', 'eath like wrong time', 'person person everyboy keep say gronk larg conting patriot els rob', 'step mom bitch christma ugh', 'internet got like stillal', 'joy overnight stakeout', 'person person person person person person', 'gutt oyl gone back wwfc think saw capabl cpfc', 'person call person', 'sunset januari pm temperatur partli clouy', 'wait boyfrien come home kick butt shape person', 'hmmm inner', 'challah french toast christma', 'person far room', 'person woul person superman chilagain', 'woohoo amit someon liter nee noth refil', 'person easi part give man money go grab mine tomorrow morn eal town stressful', 'famili time nice reay back work fine morn', 'loos lip sink ship loos tweet sink fleet nasni theatr coronao ca', 'serious tho nee anytim winter break shoot text probabl respon cuz like eat hey', 'person scream messag want secur footag antoniomartin ferguson enrac socialjustic blacklivesmatt', 'oh person person woul nee take twitter pele piffl', 'love first ay frien famili swim sort cleans curri less time social meia time other startasyoumeantogoon', 'person left blue bin per calenar lift check websit inic green bin happi', 'person well face peyton toay one leagu hope pass thoma lol', 'goo game ba game goo game ba game', 'half hour walk prou', 'person noolescen anyon zen oh wait eahenri bouncebackanni silli make sens', 'year ene perfectli', 'fair eblasio ask blacklivesmatt folk stop protest post funer polic protest cool', 'person actual go contact rather apologis via twitter', 'go get broke ass bitch fault', 'thing see bath boy work worstoutfit cute wtf', 'seem person want enors linkein thought omcchat crow', 'christma part two began parent hous toay mani gift mountain wrap paper excit nephew miss batteri veggi chilli', 'great keep convers', 'person men shave hea perceiv inch taller stronger men hair person', 'person tempt want one tat mine', 'awesom raini ay track', 'love work sunay', 'burger king hack weirest funniest efinet', 'har peopl cover mouth cough special old peopl wtf common curtesi coveryomouf nasti', 'know love also freak hate someon much', 'love peopl act like ault', 'spici cali roll cali roll ab sauc w f', 'person person time capsul current time', 'azealia bank call iggi igloo australian wooow increibl rapper iss anoth one', 'call chines millionair', 'custom ure christma time nice', 'first ay christma shop tomorrow wait', 'visit pakistan mani time sez person', 'person fut ofc corner faaaantast', 'small amount la bir nest hair cut ha allov', 'keep cop civilian account boy camera rip eric garner camera keep peopl account peopl', 'one mani servic offer peopl ask stupi question', 'awesom perform choral stuent person tonight evelop young star futur right yeg', 'everi parent want chil get ahea help chil sponsorship grant person chariti', 'one ear break heaphon frustrat toay', 'person person soun like flat woner morn hah wotwot', 'person trie pizza tonight got person pensacola yummi great job', 'person happen acorn voter frau peopl', 'wow gla cycl weather', 'person yeah honour pictur lyric sketch', 'great time learn male reprouct system biggest brightest power point sli ever biolog', 'mvp goe concoria wifi', 'goo lie', 'wait go post offic get bent ship fee mail folk christma gift montana', 'wait weeken xma parti hateschmooz', 'silenc timessquar ericgarn last night broken nyp siren watch ifussss app', 'tow compani commut car tow', 'person must realli ba game superb comeian like philli phil squeez humor', 'love happen', 'lol rss agena moi bribe un offic make yoga ay intern secularinia anticonversionlaw hypocrit', 'o life', 'foun th grae eucat must slept entir year', 'notci eu keep eficit success eu buget surveil mechan', 'girl wake peopl ea worth watch', 'person one final thursay woul nice lol leav friay time', 'person sex', 'simpli woner christma time', 'person aguero long time citi coul buy boni januari', 'happi two hour sleep got last night', 'secret chang focu energi fight old buil new sourc unknown quot qvaw', 'rey bran esign accessori easi carri comfort', 'person check', 'last ay sew selfi fashionmajor rough sew weresogoo person', 'bjpee hv ball lift ristrict mro ahea moi kashmir visit kashmiri wl show much thi love moi', 'got someth trust someth mysteri', 'person blue ribbon panel goo', 'inonesia four larg part crash airasia jet foun sea floor via person', 'person person paul believ rubbi webster kelli etc ba player base project believ upsi', 'person cropp chil pictur motheroftheyear', 'rt person place get stuck traffic jam', 'oh yess ean smith ref plu sie thompson improv', 'ark grass oe rustl com brakiest monstermmorpg mt', 'foo spanish parti', 'person street light ure ay clayvil olifantsfontein shoul happen loash problem', 'person fight enlessli chang system atleast go anywher irrespect result ak elhi', 'next ay makeup look hawt', 'goo thing colleg ask even os even back page worksheet', 'great ay one pour rain walk apart without car apart key', 'person yep famili ericgarn feel realli joy right blacklivesmatt shutitown', 'sing live sure hella goo look smh', 'noseble morn favorit', 'late night shop bullringbirmingham sunglass realli lol sayy say xxx', 'person real life believ', 'person harli think person give shite fan tbh', 'watch wog hea christma last hair cut christma', 'toay shoul fun', 'person get sourc ispr', 'person thank check anoth store calgari', 'much right brother one still car one prais allah still', 'one ay ay lemm consol blunt', 'person thought peopl holiay stream holiay cube ay', 'legenari anfiel european cup atmospher great hey', 'lyntoncrosbi invent cameronmustgo pueril attack person rw press provok weback le cameronmustgo', 'person person affor treatment po goe way', 'page hogfath terri pratchett', 'person public hammer steeler week juici', 'occupi rent free space cranial caviti lol person', 'person fight overtim firefight c view rule control boar perman appeal court say fb', 'great hour sleep', 'anamorphosi place object view certain angl creat imag french artist bernar pra', 'person person person long victim white knight tri save amsel istress', 'soror upset sister make organ look ba worl see act sororitysist', 'mi speech christma lacross ball flatter gran cafe', 'coin lecoincanar coin lecoincanar coin lecoincanar coin eanbcfc wasalrahman question ask everyay', 'ecent christma parti chang ae bonu miss last train chang', 'love fact sick birthay', 'knit scarf ye knit scarf manual exter like knit problem', 'well look wrestl sportsentertain wwe raw smackown co', 'person person black elit enough ie hospit rememb reserv polic casualti', 'person year class pictur awesom realli awesom hahahahaha', 'surpris cowork go show toay flurri', 'fork noe get reay futur interview', 'person ambit amaz saintsfc enjoy exit championsleagu', 'mayb shoul elet facebook tab probabl get stuff one less istract', 'realli want get ahea see light en tunnel ranger', 'also verb forgot forget', 'person bjp join pp cm pp way hinu cm take support abullah famili', 'person tweet got back run', 'ay hour narec ko rin yung messag haha thank globe', 'person person person person price like', 'moment want tell person fuckin someon els might go fuck els lol truth', 'sooooooo bear look offens coorin well boe well next season whatamess', 'hinu tri efen religion commun gharwapsi', 'meh think suit person neil caffrey tvquot whitecollar', 'cram psych page brain even though learnt cram effect', 'love ate show favourit strictli come anc goo work', 'person break pm netanyahu slam eu countri european hypocrit learn noth holocaust', 'cooper busi toay', 'merri christma love instagram gift spam', 'love write tweet wrong', 'thechicago firehous restaur goe flame chicago fire cf workingpress cb wbbm', 'nail yesimreaingthisbook catsofinstagram catstagram ilovemycat pawproject', 'prefer lose erbi vs suc fight ligna trophi', 'person got manual retweet zach harper internetcelebr', 'thank person live tweet morn', 'person person look ie har fan', 'happi stfx ay lost xring foun mo later glisten th green lost creek golf club xringmiracl', 'person piss k rn', 'person love song', 'person person music music epart quit unimport umitsamus', 'love come school know test ay', 'long time see long along time time see say hi hello want want meet person', 'person caffein free coffe yeah next time slice sugar free cheesecak p', 'esper nee train partner knowleg insight infam person caniat appli within', 'look blackboar call life alert help grae fallen get', 'tweet anger glasgow glaswegian parti venu follow win', 'learn final fuck amaz', 'person peopl rink rive pleas', 'person rare rink got stomach bug', 'guy chattin shit bu say look like snoop ogg kmt', 'person final ha chanc watch oyl final thank great season ye crie en', 'peopl lie realli help trust issu twittereantaboutlif', 'h n hospit har baincent flu healthcar financ sp', 'care secon got istract', 'explos nice one appar joker lot common isconcert batman startrek', 'session local stphoto rektek bmx lookmamnohan fli fallingwithstyl', 'jesu watch much thenewsroom look get sonyhack sermonis', 'nose stuff awesom', 'person grabe affor na affor', 'person negat sometim peac achiev way accept content constant sear', 'perti sunris fs timelaps mountain', 'well alway goo time lose bay person person person', 'promot woul jazz ppl anyth b popular soobviou wtf attentionwhor keepitr', 'person wow rickman realli look lot iffer blon hair', 'granma tell mae ravioli eat know yell back fuck want ravioli nigga', 'person person reason someon bio moron shoul everyon els soemocrat', 'excit whole new episo rhoa love show', 'take eep breath ba ay ba life', 'munro facial express facial express right give', 'person followup ferguson stereotyp talk auio ki want hoo rat stuff', 'ass ohh yeaa', 'go ask follow ecis', 'person think joke', 'coul jihaist hello jihaist raical islamist terrorist syneysieg aesh', 'person person bill make much money make speech honest', 'well toay start great', 'frienli remin motto avic efin past', 'love snow stockport', 'go subscrib person youtub goo music', 'bish efollow isney bell morefollowerspleas', 'person horribl ay cambuslang christmasi', 'person ooooo touch ob greatest giant player ever play game screw best player ever', 'shame jacksonvil jag shakhan think polic phobic stoog l', 'sun final eci play beastsi tahiti', 'person person sure hope ev vaccin ate gobolt person person person', 'beauti get follow', 'book back massag person person hope stop groan crimbo', 'matter min stan talk', 'alway forget goo f e r ian brown singingoutl tune', 'person complet sensation infer cub seriou win wenesay joke', 'excit christma parti snobbi sie fammm', 'person person ikr true battlefiel game', 'person propos etermin sie black white famili member racewar lovenotwar', 'okay back stuy math final', 'person yesss make wors look gorgeou say got face beat wtf contraict', 'jack oesn unerstan twitter thought', 'alaska hiphop flowtron worl come rizzl p boon pratt token r via person', 'person oh man get everyon sing reay', 'happi holiay boy carl lr holiay parti', 'thank person amaz canl new seri person atmospher', 'issect rat first perio great start ay', 'buzz school monay', 'person person person person point along tc prove ecig best avertis teen', 'person obvi everi jesuit heret', 'much fun rive front wheel rive car snow', 'person aah ye rajneesh saab lol controversi figur', 'nowaay everyth someboy ever want still get play mxm men', 'rink imperi ipa person photo', 'lunch toay fakelobst lifestyleoftherichanfam worlofswe', 'person politician get import patient igniti right ie', 'ff ieiasebolosoceseelicia iffer twist regular frozen cake love one', 'person shoul monitor', 'person woman put man iron support iron', 'filmmak writer nicol franklin twitter person pl follow econvo film irector', 'person perfect fit beachi melen', 'person substitut chicken nugget uhm thank', 'person wait', 'work one gym one steak tea friay tomorrow woohoo', 'person ok thank tell pass iea syney frien', 'eeeek cinema ate boo weeken', 'highway clean section highway peopl express freeom speech person person person', 'ukrain presient meet russian french german leaer rule offens via person', 'efinit caught sister flu feel chesti cough brew best start week tgim', 'air passeng uti uner abolish last someth help homeless impoverish autumnstat', 'alway forget mani activist raical earnest look back fonli classwar', 'person ooh probabl watch replay orion launch point oh woner sooo excit nothank', 'love fact school smell like sewer', 'person isplay given time ryerson', 'ay sun sunni toay ecemberphotochalleng franc sun toay ay', 'jeremynortham insult piano song shut fuck man bet thought epic gosforpark', 'exactli want start ay shitti', 'person thank much gener isplay kin sie', 'callin tappin lol sorri', 'know fact sam go school toay realli cherri top perfect monay', 'christma miracl', 'work shoul fun toay', 'euphem coercivecontrol coin man lovingli appropri raical feminist agena', 'time stori awesom theyllgiveyounightmar ohwel youaskeforit', 'thank stat teacher rop lowest quiz person lifesav', 'soun like loa fun snow freez rizzl rain km h win', 'person person person well one twitter follow succee life', 'still work go prime', 'person rt person babi name ataviz sourc', 'let us preten', 'import thing shoul toay breath', 'seen bike bike', 'person happi christma may bring goo health happi everi success wish', 'love hol especi music great', 'peshawar school massacr pak must know greater enemi terror inia peshawarattack', 'cours one lectur happen bar restaur birthay meal', 'person person hate anti american anti constitut polici action fix', 'guess brett mom year got love famili', 'person wor mockeri bae like abey', 'person think shoul go get check', 'person becauseee miss youu coffe later', 'person person iniawithpakistan never way roun', 'teenanalcast suck ry', 'freez yay', 'back kill toay tramaol', 'nee misaventur form broke han practis rewrit english essay time', 'christma ay heat pizza breastick theboysarebackintown', 'beauti ay', 'nyp comment provi intern statist w involv info given fbi sinc', 'mini nap ha night sneez cough blow nose super rest fluay', 'kimk ress style person balenciaga kimkarashianwest kimkarashian vestito moa go', 'person person legisl list legisl accomplis past year short', 'person person number play awesom', 'raw littl girl still believ raw goo raw aughter', 'ownplay social meia use hashtag givepres', 'person person journal best', 'loash eissh woner eskom cell c partner get pai servic suck ialingintheark', 'person went europ', 'us look sexi mehrockingmyblumonsoont shirt', 'check', 'person person probabl get write show o', 'rush rush rush one pow footbal winow glasseverywher boyswillbeboy', 'great', 'welcom metro rt person thank seattl prep final remov starter left', 'haha love accient spray perfum eye', 'person prize', 'preiction putin itch rubl aopt bitcoin', 'sarcasm thing like sarcasticbitch', 'long commut work keyboarcowboy anyonecanco person', 'keep see nee buil global societi person rather american societi back tcot ericgarn ferguson', 'must pay car insur get ripp trust goskippi', 'person malay mo real name haha still nice joke na richar two bagong bago hahahhaah jk', 'tell ceaccp book make crack bonfir frca freeom', 'shhhhhh noboy move play non electron game togeth nice', 'song aw', 'shock uke johnson hurt import game cane', 'five ay christma share infosec hirefriay humor', 'person person omg want one easypay express woul mean woul use rie path', 'iffer back home blame work crew rowi banter toomuchlov famili', 'ear next person seek eucat anyth pleas eucat mean know multipl point view', 'think appl shoul make iclou servic option littl confus realli get goo', 'gapelan super sweet super sweet lilli simpli aorabl leg', 'person person spoil ranci foo gun aisl rat person great groceriesnotgun', 'person never ene pointless cunt win tit tat zero account hunner finger point', 'anoth fantast ay', 'cloth black nosham', 'hey know one wit support arren wilson stori lie racist min blown', 'person person ye time easi thing common knowleg', 'lol ue respect kobebry mj amn near close legen', 'person soun like jack kerouac', 'person person person person person person utch northern combo speak yr min', 'person bring look forwar easter one funnili enough crave sala fruit roun xma', 'person inonesia oe blasphemi law ministri religi affair also happen corrupt ministri', 'person woww thank help alot hahaha sa', 'person work enjoy eh', 'els fail relationship nee via person', 'go shittest christma ever without mum go get runk', 'person sorri choe phone broke', 'anoth person moment bother fix broaban problem woul like buy iphon us hell', 'person person person hope ambit john one els seem', 'seem affor goo thing materi thing life simpl thing nee realli want life', 'younger sibl okay irrit thing wake open present awesom', 'alway fun buse turn favorit wait outsi freez col like half hour', 'person person hahaha goo might staium rather local council', 'person talk rubbish system twitter chang anyth action speak louer wor', 'accept challeng next en soon ten execut foun member', 'go sleep soli minut earlier last night success justwhatiwant', 'person o great job pay extortion council tax isgrac ongoingproblem', 'thank go oesn get anymor ellielippitt barber hairress bloni', 'person tri luck tom one free passer makatanggap ng free item avi okay na yun ta uwi haha', 'love feel like lie ontwanttobeher', 'person look much alik omg lashwkaywiuwb', 'boooooom goal minut thatsarsen', 'aye love lip tri soun creepi', 'person say', 'person person worl greatest fan', 'upstair neighbor eci loa launri freight train fall asleep work great', 'committ privaci open web pleas turn javascript isplay page correctli firefox homepag', 'ay want everyon leav alon goo moo nohunt', 'person trauma ki suffer fact remain apologis tell truth stuism', 'excit walk amaz strength harwork love', 'excit work', 'quest gosuperson ticket continu', 'love spene five hour night o homework pleas assign teacher', 'watch christma movi alon like much fun', 'stomach flu surpris', 'person person person watchoutforthi hol line', 'say lucki', 'actual kina surpris peopl still say iron statement', 'love wake face lick puppi', 'youanibacktoyoutub christma forbien terribil thing give back us person', 'person let fuckboy get way happi never never lmao ontbelievemejustwatch', 'person hi receiv photo ear parcel china amaz travel aroun worl', 'person serious cloth section f f', 'person fin pair woul fit', 'person whale morn', 'get raw', 'person haha noo nee new boob old one fabul', 'well week great start fml', 'person gg give us amaz collect yr fact plan prospict', 'cute ue girlygirl pleas rt', 'keep tell frien busi nee stop blow stop', 'person fa public oesn appli gambl exact opposit person goo shape', 'secret santa one er hotter work colleagu', 'excit evc follow person answer simpl question win pass gig getenchant', 'person person sox follow vouch gome clubhous leaer fun teammat', 'enrol member leg l r help person enrol member get execut w iamon pkg', 'yay longer vehicl', 'get reay yesteray christmasev lastnight', 'notci eu eu back top earli career research million', 'person person amn socialist', 'love see guy got', 'think cartwheel', 'like clown go one', 'someon pleas tell vieo', 'rink mercuri wing messeng planet seri person photo', 'foun make babi final thursay goo thing much time stuy', 'goo morn hank saturay starv', 'long wait till releas co turn temperatur', 'wait facup r raw', 'person peopl commit crime resist cop attack cop enang live respect law peopl', 'fleuri shut out far season still goo though', 'person type lisp hahah', 'santa look name sassi naughti nice instagoo instaaili christma', 'want hate religi peopl co one religi music ahaa', 'million autobot troll account twitter post umb sh rt peopl call stupi naiv', 'keep run problem alway work', 'woul like thank nephew give horribl col sore throat etc much appreci', 'enabl winow firewal perfectli reason thing packag softwar instal sccmamininhealthcar', 'microphon fail convers year ago person webrtc webrtcpari', 'welp goe buck rain thank ku stuent hous get', 'pressur unreal keep', 'sounclou l follow person atl consciousmus', 'absolut love move hous', 'power pictur taken protest night christma real', 'listen give shelter rive rain', 'take mansion mexican person', 'person person go shark hair look like council cut', 'notci eu liverpool worker miscarriag justic victim', 'person ha hater misgui soul thought mention bulletin boar issu', 'person person yip like next time get sucker make anotheron', 'love hear peopl explan ate worl america librari stuy', 'eskom loa she hammer ran current spot rate us r vivaancviva', 'great person', 'person person wait see ya', 'wow feel great', 'twitter slam austin strang fruit pr firm spur rop name share song lynch', 'person look forwar time traips stair posti babi attach nippl', 'person person r less bcci arnab keep bash news hour', 'yep true patriot', 'person person person person hea mather bat power intimi', 'person person prefer slew ferguson protestor across us stop traffic shut wn brige', 'person think may use', 'person person person bcoz nasti love gosupersonicquikr', 'person believ', 'noth like hr swing back ay walker make feel like million buck shiftworkerlif', 'respect belief respect right atheist atheism', 'person person person person person person mmmm', 'speakeasi', 'wow shocker rt person ick cheney cia tortur minut', 'one season togo onetreehil', 'late howi carr w amus see granni warren put woo bow tie bum kisser', 'michael sexi face cough', 'love mae fun', 'feel goo get go straight school though', 'hey everyon want christma gift sen one person gtx', 'pretti sure satan babi apart next oor stay howl cri howl ay night ugh killmenow', 'gapingangel georgeou georgeou busti blone rill arous hole', 'person wear pin sent rest vieo yesteray mae ay ayma aict', 'person ugh pain sure win spose shouln ever look like', 'think salt n pepa geico commerci think pretti terribl', 'offici twitter sure poun sign', 'moment realiz one whole year', 'yeah prom import event life', 'wish relationship real', 'exclus inonesia airasia crash probe focus time request climb weather via person', 'person marvel soun noth like jingl bell song ever hear see mismatch sock tight cricket gear', 'inian uru aili avoc murer apost extremist hinu group convert muslim first', 'compani profil twin ventur llc twin ventur llc', 'photo pc lace corset size small xl price leav size email invoic', 'much easier write feel actual speak get nervou stumbl wor heart', 'bacon tweet', 'yup amaz person person person', 'photo anc icon sport bra short bikini lingeri one size leav email invoic', 'better shoul score better one', 'person put soap shampoo healthi', 'person score someon', 'calam lie everyth fake accept true truth come eni', 'take christma light swamp blast', 'person freshman semest first year ohanya finalsamiright', 'know wors fact mconal open christma ay peopl actual eat right', 'love boy hanl school stress make physic sick', 'final go efinit look forwar wake hour', 'person aww bless ya enjoy break babe yeah great thank final recov ya tash go', 'platoon strategi ba mean line armi met', 'ay go r sure strep awesom', 'person huh graphic represent happen noth take photo', 'time face truth never', 'guy start jack hammer morn right outsi winow stop anytim sleepingbeauti', 'person way start new year', 'girl reason put makeup satisfi face unlik bitch winter', 'oh look wrap present easi vieo prove', 'write cover page thesi laptop commit suici thankgoforbackup', 'talk ay cool guess', 'interview cancel north korea immens comey woul blow mortal min', 'sky look beauti toay', 'person hey russia make money tweet yet foxnew clip explain', 'aww seen pictur person toay recoveri go getwellsoon', 'team playoff pick peopl solv school still piss shock cfbplayoff', 'person ye man properti privileg person ironagethink', 'ay ski school instructor patrick soon reay black slope', 'everyon full ruy xma cheer', 'person know hous hermet seal environ person person person', 'one thing sure make folk rememb', 'sene best wish cowork morn', 'ientifi uk shoul allow syrian refuge entri among islamist potenti terrorist', 'person continuationist eman prooftext cessation person beauti observ', 'yep exactli think someon call ambul former aui r aui r carporn', 'person use smartphon app pay see go', 'fuck come commerci injuri break w elay game reskin', 'notcia eu europ santa juncker bring gift healthier eu', 'fun', 'ironi ie time ure climax sholay polic urg thakur take law han bollywoo', 'one much', 'person best report frm fiel ba stuio fiel true stori teller', 'yay knee machin', 'person conon murer rue peopl file uner nincompoop upat', 'minivan mom eboni wilkerson guilti reason insan juge floria juge rule friay', 'person long yeah irector cut longer nee see penguin maagascar btw', 'well toay go fuck', 'love work hour get pai', 'love wake grumpi effroomm yourtool personalalarmclock notnecessari bequiet ugh', 'person person lfc worst start year still efc funni wishwehaa milstrik', 'ki unaccept', 'well nmu comput took poop hope start back later whatoiexpect nmucomputersarethebest', 'one year eye twitch sofun', 'case someboy break apart', 'person still respons person greatcustomerrel', 'person among uleepsingh chilren none ha one', 'ea support famili got', 'person saturay amn goe secret news paraphernalia tell', 'person person yeah happen everi time want like vieo', 'person coul happen anyon time come critic oop apolog typic love brit', 'babysit like saturay', 'hafeez slier much mess bowl back palm kph requir extens', 'mtvstar justin bieber net fast', 'person squirt squat', 'make money busi loral langemeir best seller millionair maker get copi', 'person nt hav bt sme ppl evn whn shit p', 'blackpool toay interview weather beach', 'person person familiar matt bubsi', 'irgahayu corp person corp w tari eni other pic', 'room pleas want', 'person pleas give follow back', 'person narrow knife might fin target answer sarcast', 'tri type parksi turn parais coincienc think', 'woman wear shirt person say act like lay', 'granma come yay money lol ki', 'one point almost believ law attract effect', 'person yup got keep frantic parti lifestyl', 'person fun christian suppos bore zero fun horribl christian lol misfit', 'watch bir fli ure photo', 'person feel like relev worri wor limit man least o', 'person eskom yup servic eliveri impecc iesel suppli cash flow problem ineptitu', 'sarcasm incom weeken go great time groun noth homework gunna blast', 'person wait enjoy christma', 'gla know frien support', 'person soun like la en ay', 'erasur perciv everett pym mat johnson black literatur black art movement changethecanon', 'chick realli pimp male ay look yallknowthatsnotcoolright', 'power statement rob hustl grow crisi icantbreath', 'person guess pictur answer still answer beyon quiksilvergoessuperson', 'person worri percey person got pair', 'person person person person person person person person person best', 'look nurtur statuesqu beauti nurtur skinniest supermoel statuesqu skinni look', 'person person earth oe mean clou vs mobil clou mobil basic client server', 'woul never hire trestman rt person woul fire trestman tonight', 'someon extrem selfish ramat woner peopl selfish', 'person thank stay tom', 'person person etect lol ortypecast', 'person person rive ferrari right beauti clever woman', 'wheel bu broken broken broken fml omwtothemet', 'cyber monay sale got exten fuck way stfu', 'person get notif though know play ba', 'back chill keep contact hit get shit', 'person usti usual rebucket', 'person person sorri forgot lmao', 'mt arth vaer poll higher potenti us presienti caniat surpris', 'person person person person person probabl folk like fullmcintosh buy game gamerg', 'person person person hahahahahahahhahaha one happen ya', 'woner avantag ppl pleas aft noth worri chang perspect ajust', 'alot still suss yo keep touch peop e via twittertwitterversari', 'sure let us go back work ay leav four hour ago fb', 'person python tweeter sen', 'person absolut life shouln har thing haha', 'great start ay', 'person thank help loa', 'russia say rubl crisi reserv inflat climb via person', 'person accus twitter shouln count though hear tale talk replac gra juri sy', 'think shoul lock phone away night ifyouonthaveanythingnicetosayontsayanythingatal', 'matt natasha sex whatasupris whatelseisnew', 'person person person know remov overpower', 'person guy trie unplug server wait secon plug back psnown', 'person warwick avi twice man toni blair', 'scotlan littl countri attach north englan', 'girl put area coe instagram clever stupisauc mymomcoulobett', 'person person progress social liber must push victim hoo iea orer continu', 'cheer anoth goo ay', 'nuffsai stupiiti haenough lol', 'oh en well rt person militari style tech fin way school istrict safeti measur', 'oh miss mile school rama', 'person sky news say ie like ropp ea hospit lol real honest report', 'togepi com falli monstermmorpg bagon', 'week get better better', 'ate much meal even one essert', 'person person goo old jk lane peopl troubl ff william thought savvi', 'person halt heroin overos instantli music film inustri block one woner', 'last quit work enjoy life lol', 'lol boy want fuck relationship tri soun like hoe', 'sotru ihavenolif misshim lovehim haveabetteron justin justinbeib grantheftauto five troller', 'like go williamsvil east ur parent han money ur much better everyon els hahaha', 'amaz mani american slag capit comfort armchair sip ecaf skinni pumpkin spice latt', 'know super excit get clean car shovel eal fool roa oh yeah', 'person warmli ment', 'person person link say request page coul foun intent', 'person person realli absolut belt especi towar tom boon eeprespect', 'person person well brightest bulb chaneli', 'person know', 'rememb one episo santana want ancer forgot altogeth goo time goo time glee', 'person person soun like cub room lester batteri mate avi ross', 'bruh realiz wear shirt chick ump lmfao', 'person person person oh wow talk skype cool', 'person tri internet month know ethiopian feel', 'histor imag normal breastfe via person toler', 'person two year ago got binocular parent neee look futur like cool tweet year', 'watch pretzel mae interesinglif whatamioingwithmylif longesthashtagnotneeebutyolo', 'person lineup full goal offens intent lfc', 'love trust get peopl', 'person fact liber school system ye conserv oe make racist accus', 'terror organ hama man kill injur suspici explos gaza israel', 'reefin network mean lone moron talk youtub person person person person', 'voic reason cri wiler hysteria via person', 'love nh', 'worl biggest onlin job click get start', 'carphon warehous call centr employe classi peopl person', 'publicli call heartless arsehol go ay usual', 'person oh brother bar journal high ay person follow retar', 'person babi rea vs ya know case lol', 'teenanalcast katarro katarro anal girl nirvana cover', 'person yeah stress wor coul easili punch someon face right', 'super uper fun wake immeiat shovel car riveway minut fuckinsnow', 'person technic muzlam believ guy lost cellar saviour truestoryfam', 'one reason shop walmart make feel america shop islam tcot', 'person person ef unerstan ok tri fin anyth imposs', 'person go th centuri fox copi st centuri fox hasten unlitigi', 'plan feel sick surpris turn event', 'pepe hair rt person palacio hair person ronalo hair person messi hair', 'foreign power hit japan embassi nyc missil realli attack us sens agre person', 'buzz go home tonight back month', 'yeah import man realli prize prat', 'noth intimi serv chavvi lanki year old acn bum fluff cring', 'j nee mailman come late wait mail come p', 'fnc like either repeat stuff person person person person person person person', 'join person promoteam offici fan list receiv news event', 'oh back avancewarfar x justcoth', 'gla person excit see', 'wow realli homework weeken talkingabout theteach', 'stuy histori rea gameofthron asongofic fire', 'israel freez fun palestinian icc approach via person', 'person person ha never hear quit like', 'venezuela control moscow junta genoci peac protest chechen miner grozni', 'great start morn smh', 'got noth muslim fuck islam cunt isgust syneysieg', 'lol runk mom christma fun thisisaisast', 'thank gooness holiay help work love think know annoy reliev gone', 'pre work shenanigan lmbo alissamari b letswork kiingnotki funtim sheseriouslyrock', 'goo luck person person afternoon month inact ring rusti', 'agre person person peopl sigh other hear husban sigh time aroun curiou', 'person bet go outsi toay soooo warm shirt short weather funni', 'prouc mobil app blueream', 'sip chicken cuppa soup watch jezza excit', 'person haha go fun next year', 'men footbal clearli know goo time archiesay anychanceofasoci', 'cake like mm mae make foo pleas rt', 'person tori stoo thank servic citi want barf', 'person appl j sure', 'ip rip fat sumo hippo happi like turtl googlemapciba love bij', 'believ inoctrin religi inoctrin either inoctrin futur group lefti', 'gon juge peopl rink blaze foh go choke foreskin', 'champion leagu overr anyway', 'anniella westbrook went foo bank shoul gone icelan oh yeah fuck freeomofspeech', 'ay shoul snuggl sofa o noth ala erron tri rag happen', 'ugh woul give first born pepto bismol right upsettummi', 'person tht look yr acc specif wl nee speak phone call charg', 'ukplu consist free lebara lebara min sm unlimit unlimit sm network consist sm', 'person beauti', 'person realli show fastest lte aroun speetest', 'right ya', 'obamacar slow health care spene via person', 'person person fantast ate news also', 'corey brewer look like reay minnesota anymor see boy languag traebait', 'want know bag cthulhu christma lovecraft santaclau funni', 'sorkin ientifi attack free speech soni hacker attack meia publish leak sonyhack', 'hinu epen western research explain written hinu scriptur person facepalm', 'manag fall flat face librari stair mae top list prouest stuent moment', 'thank person connect alway look forwar exchang thought n iea entrepreneur work green n sustain', 'btw ummi limit person person person person person person', 'nee pillow fall asleep mymalsh', 'think get embarrass trashi realli cute', 'wow feel ba ha actual job teacher stopcompla', 'person half pace season henerson woul bigger loss', 'grip new ebook faintheart polit correct pleas visit site', 'saw roel e vri nissan market boss say market shoul focu emot quantifi everyth', 'person year sinc tweet oinitright maybenextyear newyearsresolut', 'three test two anc perform tomorrow easyay', 'tl show lester eal hit boston wish announc mae parti involv least coher notsarcasm', 'prou artwork prou', 'fin farrrrr funni wow', 'hope everyon love marxist christma', 'person blame bro marri person woul support milan', 'let us hope nene hurt ay ay instea week week pleas pray basketballgo', 'peak', 'want see', 'person person nice origin', 'miss close', 'loveee final soooo much get sleep best part', 'race human ont look thing myth race person person', 'still woner pop save passwor still pop even tick keep logg sarcast', 'person thank share mike opinion mean lot us orisit', 'funni sit minut notic mtvstar taylor swift', 'offici look singl ha', 'els woul friay tgif crap', 'historian collect correct fact wrong abus correct wrong factaboutabus', 'person see', 'see eye kingofpop mjackson michaeljackson invic breakofawn king ea', 'hahaha person enjoy selfiestick got christma', 'qualiti custom servic toay person xbox one thisiscrap nothelpfulatal', 'tiger woo hero group global bran ambassaor bran buzzfe rea stori', 'person box set complet stepto son shoul cheer', 'love complet wie awak', 'far toay go awesom fuckoff', 'inonesian czech mix girl boy elvi singl mcroyn', 'notic cross follow past month guy hope enjoy sarcasm b c know valu ae nil', 'person person person person person person person person follow relev', 'american justic system', 'littl girl woul ream shout instruct repeat complet ignor motherhoo', 'nice frienli river person never get bu note mate way make feel welcom', 'thank mom love wor love let know prou worshurt', 'michigan rt person rich roriguez avail photo op fiesta bowl', 'use brain stopp rink tea feel sober goo bring tomorrow', 'person inkriv ok know cleen go win let us en excit amen', 'merri christma person person person person person person person x thank make bfharlin', 'still got alot moonlight left', 'person love trier mate serious game seem pass poor ball oesn pick runner', 'mous first incept memori soun braaaaaa', 'ba gift wall give gooen k cash via', 'porygon foun com wil firemen follow person paint', 'opec chief efen polici say group tri rie price fall via person', 'person think go check music later thank', 'person care cayc almost racist statement person person person', 'gone got stay high colpant offtomysteriousplac bye', 'person person ya rememb win one regular season game like super bowl', 'oversleep bestttt', 'tomorrow anger way live', 'person person googrief may alreay gone littl far eyebrow', 'cheap expens', 'christma gift bless santa follow theinterview bharatratna callmeeva', 'hire manag will wait ay guy join immeiat cannot take guy ay notic perio', 'still believ teammat engag holymoli ringbyspr turnupppp person', 'person gee har believ', 'person thank help gile', 'everyth must b turn isast aveng anoth isast gratifi forget tht human pakistani', 'keep smile face get bullcrap instea break like usual', 'wrong want rea horribl thing worl one ay', 'sooner fin sooner go love convers hr yet tell work lookingforwartothat', 'coin erraji zeeginganinja seem peopl nee clarif syneysieg', 'repost hernanpuent repostapp comingsoon loveit loveu perfect filter', 'person person wish mayb next year one sock cloth sock', 'rememb last time saw bit integ mainstream meia softwar gangnamstyl geek person', 'christma music stair master sunayfunay', 'person love way white male buffoon black woman smart alway win culturalmarx', 'almost smell turkey hungri', 'person funni thing secur guar fe ex la pick time', 'noth beat surpris tetanu shot octor offic bless', 'person shouln school', 'photo tea art abstract color color fun artist spainish exhibit spain', 'absolut appal servic person wait rise fare next month excus joke', 'wait citi ata becom fox news site soon person person person person', 'everyon unerstan life goonight gatecrash', 'person resembl uncanni firefli person', 'cann foo lot space interiorecor pleas rt', 'christma gift sweetest frien bless', 'well posit note stay awak anoth hour go get bloo work one positivenot fun stuff', 'love wake earli morn hockeytourna reflif zebra', 'person cell phone accessori accessori kit auio aapter batteri bluetooth speaker', 'person complet suck sub haha go', 'weather bomb weather bomb applau meia innov help sensationalis usual autumn climat', 'clinic psycholog exam gunna main whatev mental isor evelop', 'happi escrib toay', 'person look back saturay night like person thursay', 'ha chose live winnipeg never see leaf win cup cup tmltalk leaf', 'wrap crotch mountain commerci tonight pack everyth hea loon mountain resort', 'still shit person cheater pong', 'person oh lori eat harest go someon place esp eat meat eye roll fee', 'fun person basic babi ay person sunay ask travi lulay get face paint like toni tiger worthashot', 'person ha feel woul hurt', 'excit see snapchat everyboy christma inner wow', 'yaaaayyy valentin ay stuff alreay', 'bae ha energi rink want stay sleeeeeepi love sleep', 'alli mccoist han notic get pay rise realli ranger best interest heart', 'imagin imaginari menageri manag manag imaginari menageri', 'swallow giant lozeng throat actual hurt gla twitter share espair sick', 'wow crazyki fix outofcontrolki rphi', 'tblightn action along boar person tampa fuji x boltssoci bethethun', 'cut omin tweet finger milo tin see survivor', 'well come anoth page paper ilovecolleg', 'got bap hoe thou', 'current write plan stop procrastin leav paper untouch ay', 'secur engin secur guar hacker secur', 'everyon compet privat goo way better work togeth whole avanc human', 'person person cours', 'celeb take rastic measur look goo whoop celebrityleakephoto', 'take long ass rive music blast', 'absolut love harass group twatti aolesc late night shop', 'stuent athlet realli pick wrong class cheat via person', 'person person chortl woul like palmer', 'goo thing obama open cuba first term wait elect cuba', 'progress aneyeforaney peshawarattack taliban sure bring peac justic', 'xma blog feat person person rea stori share love click link', 'person pick one time homi back stickin right us thank answer realmvp', 'person hostel fine actual prob caught like germ walk aroun lonon thank wish better', 'spier web lace chemis line unerwir cup strappi open back ajust strap', 'person tell truth may smartest thing ever tweet ireallythinkyouareafuckingiiot', 'person realiz tweet avic ay spill coffe right sloppi', 'aorabl keep happen', 'person avertis onlin special expiri countown yet orer anyth check postco valiiti', 'last time get miss', 'easi focu han million thought run min time', 'wallahi speak unbeliev bi let alon wish happi celebr', 'person person person start p getenchant', 'feel bless get ocular migrain', 'yup sarcasm wine winelov', 'one nighter semest one', 'person great oe mean also give hunt kill willif europ', 'person still w back sprain', 'person person person woul will purchas vene machin', 'tweet nearli time sure tweet realli neee internet inclu one', 'corner cute ay expens iy craft pleas rt', 'look forwar mine boyfrien n christma togeth', 'love folk call bray system qb biggest peyton man fan', 'look person practition anyon recommen', 'floo noah hovintheori iceag bibl church christian jew tcot', 'person sure mae ay lol', 'shit keep get better better shoulofstayeinb', 'fever fun', 'roun ligament pain return yay pregnancyproblem', 'person great job report mental unstabl man call rug craze', 'person russel bran iscuss toay much lonon mansion worth marx marri baro scum weak', 'person hey profil say heart jesu ba person person', 'person logic invent kuffar everyth make perfect sens like monkey stone monkey', 'hunch think steven gerrar leav possibl go ml hesnoe', 'person well sinc basic employe oil ga sector woul make sens oper way', 'hangin awg eyesup', 'sit aroun listen sa music realli help epress', 'still awak sooo nice', 'watch move begin verisimilitu overpow like back music busi', 'love mom', 'peopl listen ah well guess learn har way', 'imagin high school toay elusion make fool internet person', 'person final open x use youtub vieo help thank much', 'funki tast chocol chunki monkey cup georg jungl cup lick', 'person person ye fountain jump soun like great januari activ', 'person person surpris coanchor alreay nomin worst list', 'lol real cute', 'cours ay monsoon outsi class pm ilovelif', 'late night snuggl boy', 'want eat pizza frien rest life', 'love cocoa', 'sagittariu know want alway keep think bigger', 'person person person person person come la fuck better shite keep show', 'know see see know feel see time', 'person o project univers ay life sooooo interest', 'person person real tough whoop ungey ass', 'person person gear releas next issu wifey seri covermoel', 'power went elano blackout part still happynewyear everyon besaf goonight', 'oe sue give bonni anxieti stress pill', 'written everyth nee know seem lot manag', 'person ont say anyth rt person', 'love minut wait person reach wait knock back minut fantast', 'funni annoy men tee great famili reunion funni tee', 'person person consier run person thing shock', 'person jacki ha best joke hear awhil', 'e except c right w e r tshirt rulesweremaetobebroken', 'person clarifi legion follow notfortheintellectu rhansomeenni', 'oh look make peopl happi magic man happi lan live gumrop hous lolli pop lane', 'person place want sit seat earn anc quiksilvergoessuperson', 'great last minut substitut person', 'famili might fin giant lump ice sit sit right transform nigher fellow', 'ultim book', 'women get hit marri manag person crack hypocrit practicewhatyoupreach', 'love came work charli sai busi peopl minut yeah got place pack charli', 'person white white crime like ribbon sky non exist', 'aap sai eclar ak caniat last list eclar issu affect inia gp term turn bjp ak elhi', 'happi tha lea multiplay esign harlin follow x', 'aaaaaaan left work comput home go get bestayev', 'person longer polit person set stage race war way succe', 'salt n peppa geico commerci liter best ever one beat hump ay', 'toay blast', 'oe bigata analyt look compar cynefin effect ecis framework', 'smh yesteray lose voic toay woke mean ass cough heaach christma coul better', 'hot rachel style fashion pleas rt', 'well live till yr old sarci wit low constant', 'chattyman never fail make laugh person talk show tv loveit', 'women crazi ass shit guy least break heart', 'person latest album free univers supersonicwithgione mumbai', 'time post christma car wash yay friesenfamilychristma', 'ebola gree aka bamin kill easili quickquick', 'tramp shit youowem follow', 'person thank person cover femin issu favourit magazin cover ever lorraineel x', 'sagittariu alway chase want get keepgo', 'pretti wini summit memphi love floppiti ear watch raptor soar getoutsi yyj', 'nee get sasha way cute', 'fuck realli bali avancewarfar', 'nyp cute nypmutini sure citizen feel real safe show us', 'person pull spin toay interest oop', 'harri liter goo person hurt heart bye internationalharrystylesay', 'person person ever woner shit woul think person', 'normal peopl see vs see person', 'person long tast purpos work meat like', 'guy amaz gottalisten person allman brother ban stormi monay fil', 'bra fit guie iy craft pleas rt', 'park meter obvious forgot get park ticket', 'hey stuy guie chemistri go', 'grace barf bag barf bag grace sometim see peopl feel like vomit', 'person oh funni saw crow inner', 'review', 'person soun like soooo much fun', 'person list lot great choic help coyot win cup next year', 'nba player ny support protest polic kill sure money onat colleg wb come', 'person hope ha nice xma babe x', 'love hang', 'person friay lit', 'look forwar new year', 'sweet', 'person person wish son like sai twitter wit twitter magic photo smoke mirror effect', 'person shock', 'check latest blog post myfairaili pin realli work lblogger lifestyl pinterest trieantru', 'go surviv toay w break tear least twice possibl pass nighter person librari ba iea', 'much', 'person person know well uner erickson', 'give peopl break say without support cast none work woul mae tosh noboy get extra', 'lor merci us worl power nation rule two famili bush clinton wasp elxn', 'person watch blue chelsea cours', 'gone fire jan th getlift', 'happi monay pblogger mblogger', 'notci eu foreign affair committe mep iscuss lebanon prime minist', 'love sometim skipp greet repli towar oin', 'tri ring person plumb issu phone goe upstair super mario theme tune retrogam', 'person alert meia guy twitter un cite proof evolut wrong let us get nobel prize reay', 'chase og though hous fun', 'smartphon app pay see verizon folloback tcot go', 'ba cube oesn oor person bestcoworkersev person', 'person person person talk bias behavior go rea pai articl paycoin', 'execut comman begin job use en person life', 'person hmmm interest juri ege towar right sie favour hopethathelp', 'love morn elhi govern ban uber look like rape stop elhi aretheyseri', 'well person watch make clip rive rescor see easili compos', 'stare boob hun look heart relax', 'fun fact color guar rifl name stitch got stitch plu stitch fav', 'person ye tast slight aroma tea', 'person amen bless hua mean lot', 'person person hey mayb reach scoreboar fix latest issu', 'ha bruce springsteen flashback shuer person person person person person', 'twitter push peopl rea facebook push peopl bree truefact', 'thirst make settl grena bruh', 'throw christma morn ieal way spene', 'person person great se mate thank cheap shot safe trip back ry train lost', 'love freez rain', 'person chang frien still nee time', 'go sleep hope syneysieg sort morn', 'pick linez use boy smile like sun girl awe boy ur teeth yellow', 'see toleo mae goo name last night', 'lakesi like million scaveng place hafun neverboxingayshoppingagain', 'religion unfoun els allah woul save ki person person peshawarattack pakschoolsieg', 'yescrack person come server busi fail spam', 'nice know everyon back yet one mine', 'thank bu thank tell help', 'come orionlaunch australia us uner geek nee sleep', 'nice see wight york normal imparti self usual villalovein astlei lcfc', 'go great ay', 'alway wait see work ifyouknowwhatimean', 'also go enjoy two beer sit car illeg one usc meical penn mar', 'person snap tell funnyguy', 'jihai killer ottawa siney peshawar rogu act fratboy uva rapist symbol eeper societ flaw tcot', 'august birthay februari least serial killer born novemb ont mess nov', 'realli fuckin pay toay tequila one', 'still feel sorri ill go last night memori', 'coffe fiber one worth get', 'anoth new politician state social scienc egre liber art iploma nee greensfail', 'person person person choke hol offic tri keep ericgarn fall forwar', 'person person irish fan wait imposs get ticket boo hoo', 'person ga per litr ottawa happi holiay ye crisi avert', 'person fact white prone univers think actual racial', 'person funni rn', 'nee someth legenari winter break', 'prune toffe effervesc gooness rink elirium nocturnum memphi pint ram photo', 'happen cultur compet class couln continu argu ignor face class', 'watch fitbit commerci follow ihop commerci avertis belgian chocol mouss crepe', 'want christma complimentari coaster offer titl insur compani gener quick quot', 'person lohan anymor etox week new week tomorrow', 'hate', 'coul stop lose plane woul great', 'oh yeah funni hell person person person person person person person', 'everyon got selfi stick year ha one age say mainsteam trensett', 'person pass person worl valuabl startup growth nyc', 'person person hell ever', 'person person captur spirit evolut well', 'sorri oesn make sens make even tough go prouc player', 'realli excit tomorrow mean assign respons toay', 'person person person person better', 'kina miss summer person summer besti alena bestfrien iek cool chip foo followm ifol', 'someon ha great sens humor theygavemetcucolorsforchristma', 'person wenger slam refere sky saintsfc ha ha ha ha blatantli bia towar', 'goo morn person person person person person person person', 'torbay ementia action allianc live ementia ying peter js ashley', 'person make prou american', 'woul imagin jakeplumm smoke wee regularli outsiethelin', 'well one person o great job person e wait time worst sinc recor began', 'retweet tweet import issu nee resolv', 'nice soak bubbl bath', 'thank person requir facebook particip twitch chat realli goo way push away interest player', 'person score goal sit bench min max har pal fill sorri', 'blame ba luck gene cancer type hereiti environment factor', 'stop fan person blow min', 'huge person rt person congrat toay aysofchristmassweaterscontest winner person', 'person see call teammat soft practic week overpai', 'sunayfunay mylov mermailov newyear rockefel center', 'peopl support polic violenc seem asshol scream govern reach cognitiveisson', 'glass bline', 'face health crise inia slash healthcar googovern namo gogo burein', 'morn cri session roomi toay go great ay', 'cuba see long struggl ahea lift embargo via person', 'person alway worthi choic person person person person', 'hi person singl vote poll poll station kulgam kashmir tune person p thnx kashmirboycott', 'ah week next meschool interview', 'humanrightsay manchest take first step towar inepen person person notonwwel', 'christma best west monkseaton', 'write articl moo enhanc foo tell peopl eat happi', 'person person person tsu websit worth million peopl get pai post', 'moment someon accient elet everyth phone bestchristmasev', 'love meaning messag automak', 'fuck get flat tire car ying come home work thank go frien great way en start ay', 'spill milk onto boob oh', 'person anoth bush whitehous', 'person pretti better play free skinnerbox game sure ask money level', 'fin hip hop mixtap promot packag', 'well throw alway fun', 'hour nap ct scan hospit perfect time', 'nice see continu gener struggl', 'sa hear person pass famili frien prayer toay rip person', 'o hw time watch seri still finish work', 'routin text irk nerv guess thought count neeanewroutin', 'person know sever charg rea internet pray wife', 'woner gf', 'ever thought move mile ecemb woul peac', 'retweet person book sign screen area', 'oh ff boy clock f iwanttosleep', 'sooo right great way start ay', 'guy brook avi onetreehil stori sa thrill confus love', 'person thank wake wrap coffe morn cheapbastar', 'heheheh person person person shame', 'rt person shoul great watch miami tri block sweat featherston ege next two year real fun stuff', 'person woul also push rate fun game', 'gareth polar opposit chicken love vegetarian bone person', 'everi woner turkey take thanksgiv', 'extrem excit know reza aslan cj werleman think happen pakistan peshawarattack', 'get excit mexico', 'person look wrong profil pictur', 'home alon aka turn light scareycat', 'person actual cropp aughter pic selfi topmum', 'person might b bigest fan srk fin better actor sayng fr sayng reali mean express king', 'friay morn lectur bloo', 'person yeah tone obviou thing tweet', 'teenanalcast highway highway isturb eicat girl rape', 'person shoul sue parent', 'great start morn flattir', 'final project ugh keep prouctiv butnotr', 'person person aaaaaam time betim better tweet night hous want get troubl', 'wait till birthay', 'clovi cartoon tuesay ecemb jamaicaobserveranroiapp via person real mccoy', 'layin go colleg great guy oesn stress keep night make cri', 'pretti sure sat behin person mconal rive peek see movi play', 'person chrischristi well among republican voter jebbush think coul well emocrat like', 'night like tonight reason abl carri weeken suchagooweek', 'wow love frizzi hair get', 'person goomorn person person person person', 'hate roulett heavi', 'person joke year congrat kuivaa', 'person use know line yet', 'girl put much effort ress nice school overs sweat van maybetomorrow', 'person christma ault broken famili awesom noth like stepsist ki', 'increibl hear justic ginsburg speak toay truli inspir', 'nee emocraci copocraci polic morningjo blacklivesmatt emocracymatt ferguson ericgarn', 'polic offic pursu are villain way abus pursu frighten prey polic offic abus villain prey', 'cool', 'putin say russia intimi crimea via person', 'receiv email heir nigerian petroleum corpor shoul immeiat sen bank info', 'race sanown og tonight sponsor anenong bugi club hope joke love seat tabl ner getalif', 'loov guy frien give thorough escript bowel movement stopthi', 'pink eye sooo excit', 'person person person warn person bassem heck might alreay know ferguson nyc', 'puli turn nufc co want spen loa money year old journeymen parish wouln let neither woul cpfc', 'mari shit whatsoev one sheson', 'person person great ay uner wilko', 'friay hilar cso soni pick person awar secur sonyhack', 'person whoa hope ion taylor got stane ovat perform increibl voic', 'seem foun altern use bibl hotel newyear religi', 'og inner anyon cultivo letchworth bring ki', 'person n promot r human n religion strictli speak religion believ right', 'rugeri personifi commuterprob northernlin tfl', 'amn lost lot follow prob cuz tweet much relat person anymor', 'person sorri butt', 'go enjoy ay babi', 'refus weak workout motiv fitfam', 'person fan app pay fan see go', 'person ghostwrit shock', 'sooo much fun math math class raw music eye snowflak flo', 'confuciu motiv quot free anroi app', 'person oubt first block preten goo person person person person person', 'group messag bbc start morn thank hannah', 'person trie spell beeyotch iphon mae spell beyonc fire', 'person fin one costum', 'person use', 'westbrook point shot ok ok see work', 'hello inoor lung nice see back', 'think anim ki tell mani time seen frozen anim ki frozen', 'notci eu moscovici quizz extra time three eu countri hit eurozon target', 'fuck excit th wheel anoth new year eve blame anyboy super picki men', 'go game tonight soun fun', 'person well peopl ask woul without mccormack', 'import toay famili health rather nba action', 'person best pickup line', 'person oe iphon purchas full price still nee mobil evic unlock coe work intern uncarri', 'hope better hope tokyo nic kill', 'get amen', 'final reay', 'wow write review concert atten exactli want o right instea sleep', 'reay tax final', 'person person love pleas publicis', 'cours lucki mylov sunayfunay lastsunay', 'person person hmmm next year say team move la', 'lmao may runk level matur time high lmfaoo', 'null much know perio via person', 'person realli', 'person penguin cancel morn skate option ue ici roa conit', 'person lol hope goo kina crazi', 'christma ay box ay new year ay enough much other month enough hour ay', 'swarm teenag girl walk mall help least leav right', 'use hate come uni work lol', 'person hope anyway finger cross x', 'person someon escrib pass like laxett bugi rememb', 'person tx saw must great shot efen oneself fierc attack giraff hungergam', 'person nice know give much import person n', 'rink ipa person groun control photo', 'person weir', 'work front laptop hour ay suffer terribl ry eye blooshot eyeroni', 'bummer ene fun game season gopher', 'alla washington new orlean tampa bay green bay etroit carolina atlanta', 'person person person person person person person fuck mite warch easten', 'know stori noah ha transform man moern biblic tale killsssss whatarethelivingrockpeoplefor', 'person coul probabl call text inform allcelebritiesarefrien', 'aw love boss scheul work ay storm come bay area', 'person though one programm oper ha money power ea themoreyouknow', 'person saturay night entertain', 'person th like real worl', 'han conol person person raw', 'person tri imagin confus', 'person haha chainsaw murer corrupt fortun ceo rapist w e make happi hebetrip', 'noth like almost rear ene someon slam brake reason get alert reay exam', 'go class fuckyou import', 'amn earli south carolina shitti state prou', 'believ boegart rt person sox must realli believ xaner boegart ss go gb theme', 'cab appar guy oe citi airport swear rive even taxi rank googuy', 'person person yo boy guy know keep parti moo go ezonegoaiari', 'supaaa sweet final ya sleep', 'person wow babe', 'person realli nee put hashtag oh ear', 'fck hoe sorri', 'person got love honest ki saywhattheythink', 'person person sure larg ignor practic ny govt work convict', 'person person liber use sentenc unhear turn keyboar sir', 'watch amaz race contest talk juici', 'kebab orer snug sofa watch shit tele', 'coul kinap frien new puppi navi woul heartbeat', 'let go afrai frozen', 'person fake star', 'love stuy anatomi', 'person person person box yeah', 'knowleg oesn mean person qualifi repres religion human saniti absent', 'ay start civilis appoint roa trip bestayev neverlaugh much tk', 'person mae think person nee voka mix w bit holi water right', 'follow money homebiz mlm note get pai post', 'chunk hair got stuck blow ryer ha cut alway fun', 'person claim man peac violat hr orient make free speech argument hr issu', 'ask hv gej n pp trene yesteray night', 'love wake abl sleep anymor', 'hang niec ay joke', 'person hear liber efen bomb civilian along terrorist w trial still claim enh interrog gitmo evil', 'person offer mae sure boar refus oubl octob ranger interest', 'toay shitti ay', 'person person neither go ambul pre book gorj', 'fell asleep pm woke get back sleep ha almost forgotten insomnia welcom back', 'thank behh lovey person bestfrien behh beh sweet love istanc far', 'light went school tri learn one emerg light classroom great', 'new j gym bein right next sayer sausag roll sala pleas', 'barter bottl rum best one got happi fuck new year', 'glitter insi lamp pleas rt', 'person ye mother wish', 'assum rex grossman start', 'iron person song come ipo person song selenagomez justinbeib', 'oh let us forget person person person person person', 'walk school awesom', 'love take subway alon', 'person person person person ha ha christma cat look well impress', 'person cup tea total ass switch coffe', 'fear eccentr opinion everi opinion accept eccentr bertran russel', 'person step ig', 'moment want break someon finger', 'cool', 'goo govern orer celebr ec th googovernanceay christma', 'lose key car rive airport catch flight awesom', 'onlin shop creit car umm justbrows', 'russia say new sanction may hamper ialogu iran syria via person', 'person person gop love immigr like illeg borer crosser illeg presienti action ignor constitut', 'fuck twitter tell follow follow someon', 'listen paranar mix polosweet np sounclou', 'pretti flip col outsi toay tell ya', 'fuck pure cloth though spoil bless', 'time look golen girl nite love show', 'person person even keep great music', 'blackbrunchnyc hashtag got racist goin sunay', 'person tri rive suh price', 'welp back raw boar mua sike eyelin fail notform makeup naturalgirl', 'illinoi mae illeg film cop guess step right irect wtf', 'call otak letak kat lutut melayu', 'foun etch sketch app olschool notolschool', 'believ life go creat race person person person person', 'person person never realli check mayb thing wrong everi week', 'ieolog nutshel mean life sentenc everi perspect', 'person fine atm glaze appl shower gel perfum smell amaz', 'person ew realli', 'want see remak favorit movi olboy perfect film', 'toay fabul ay work ugggh', 'person song angel eath goo one lyric bash vatican', 'rememb black friay bust', 'person thought funni p', 'shaowi investigatori power tribun say tap major internet cabl ok alright', 'person jamei winston get pai photo coincienc', 'person know iubb tom crean coach geniu', 'person person goo point republican parti fractur togeth make isenchant elector', 'greek sala lover', 'follow person get free emo inustri buzz app seen', 'page harri potter chamber secret j k rowl', 'silenc tast like wet flower wet ea ying flower flower without life fallen piec silenc', 'went twitter sleepi', 'love guy tri give number keywor trie backupoff', 'pilat get go home get reay work amaz', 'begin look lot like christma offic tinsel christmassi happi long', 'bbc news china shanghai crush xi jinp orer new year investig', 'esign firm holiay car skewer corpor jargon han bite mouth jargon esign', 'person put first gear move liber ever give life estroy', 'person man much tweet', 'person person see burnsvil pm', 'person happi birthay young one gooen la x', 'person person greatest unsolv mysteri go', 'yellow page nee phone book futur truth reallynotr', 'person fox news critic poor journal regar uva incient hilari', 'buhism chant ki music eucat', 'person skill support compyut system iea robotway', 'spen chilhoo hurri grow grow want retain chillik natur justsay lifego ki', 'got reay got school park less minut miracl', 'person person goo step bjp goon', 'person person vote republican civil right recor abil empath amaz', 'woner professor iaukea say new isney princess', 'merrychristma everi one love lot peaceonearth x', 'person person person person tweet yesteray', 'person polic turn violent love truth healin', 'person make love beer ten talk basebal goo ue', 'sure cereal box ecor accur represent well know book', 'hear traine watch train v break soun fun p', 'yet anoth angri bluehan moron block one tweet p', 'person riicul hashtag massiv twat', 'storm come toayimlov', 'person oh keep finger cross sometim wors quicker go hanymeicalfact', 'gla jonathan stewart ha best game yr fantasi fb playoff imout', 'reason feel classiest wear fake pearl necklac lol', 'ha take patiop snow fall still total clear went sleep wcco', 'person cours care care', 'wor selfi egyptian legen bestselfi', 'ohhh joy get pull', 'got love shake someon han shiver offici eath han winter colhanswarmheart', 'person help conserv neee tsu get pai post stuff like go', 'thank go wait appoint februari', 'person person app outragi', 'worl start ay kaitlyn get tire frozen iontwanttobuilasnowman mommyproblem mommylif', 'person robert hansom ugli rj love ga btw tomtom love', 'fact offic woul threaten throw mother squa car lament ying chil wick absur', 'person work irti bir', 'person person person union represent eca teacher pay still suck short ue', 'gooooo lol calleit banwagon houseisafeel eucat ki', 'still', 'woner weather rink tonight', 'go watch movi murer merri christma', 'hour final get freak sleep happyholiay alwayswork', 'obvious ay go go fantast well', 'person way coul mean track recor whatsoev', 'casual stroll lauralobaugh rochest funinthesun key west islan floria', 'coffe priorit mess tri grown clearli', 'lol actual use email person person person person person', 'christma less week away wtaf', 'make pair lung tobacco box collect sculptur project', 'person person big guy like sephora jcpenni killer', 'q slower pakistan bat ptcl evo pakvnz', 'complet ay ay ab challeng workout join ownloa app', 'soon stop wtf omg eff fav thing hear', 'person merri christma topspin monkey hope great holiay reay train new year x', 'much stupi peopl get', 'ifficult happi life shoul enjoy life come went back ez', 'iffer year make bestfrien chang one bit person', 'let bb know get xx', 'person efinit consult tax profession one', 'free ate relationship book freebiebookownloa greenliv', 'fact startrek ault onesi meet cloth requir walmart employe put yr vest smile', 'person epen mean everyon iffer', 'toay start fabul', 'want hit slope', 'bless frien merri christma', 'colleagu tol uncl upe aci saam hussein thug usual offic banter', 'kiwi heineken rink steinlag pure new zealan breweri limit raglan golf club photo', 'funni think liter book whatev want life', 'great time feel well', 'person much import unilater remov restrict oil ga sector', 'much tomorrow think mayb take nap', 'person prouct aaron roger eric ecker pretti goo last year situat jori cash non factor', 'miss taken', 'pleasant way minneapoli prestigi public escrib femal auienc', 'wow wait newyearnewm post', 'moment rop phone right ki give case xma actual open put use', 'person repres black fact reject person person person person', 'fell asleep post last post', 'guess ream els abl visit site guess let prison phone right', 'person give feeback foo happi', 'person amnit ue see get back though', 'person lol appar leav big impress', 'fin sxi lov mobil twink engin golenkrust greensmoothiegirl', 'muslimapolog tweet explain muslim shoul sorri', 'person yeah show convo stuff go text', 'person go favourit owl', 'playoff suppos make process easier ncaa', 'whoopi sai rape yo roman polanski rape rape b c rugg via person', 'person fail evelop hair bal hear talk abr evelop', 'gla work morn', 'prepar sampl answer rehears exam qs igit meia googl rive technolog avanc', 'casual meal mate turn expect isappoint', 'lucki finish coursework revis super har feel super healthi two wor love life', 'hahahhaha realli mae jelous', 'person person person tri eci cover say lone wiower', 'anoth ay love comcast subscrib neverwork person person person', 'person iv even start think go get parent babi someth fam multipli quickli', 'happi young chap asham go savior sprea wor go n life christ success entrepreneur minofgo', 'monay fine life suck first ay class see ugh face ursulaonamonay wow', 'gla fin ha quiz ue yesteray even know thank notif blackboar', 'new englan new york jet pittsburgh kansa citi carolina clevelan', 'gurumantra success entrepreneur startup', 'wow serious ying', 'prettiest face worl stretch mark ruin', 'person follow saw post thot might sorri', 'person love life', 'twitter keep insist follow someon rather', 'current fair outsi', 'person person efinit latter', 'person clever', 'person person person obama like ifi torturereport use scorch earth metho tcot', 'person person alon privaci anyth fantasi getmetoevc', 'person person close', 'ah person soul show make sunay morn work bearabl col yet happi', 'person ill see final', 'go hawaii bye bye frien back hawaii trip myfamiri girlfrien', 'blackonblackcrim comitt blacklivesmatt protest ferguson rt person', 'sometim best thing think worri obsess faith everyth work best', 'well clearli wrote last tweet', 'person okay went court case got ajourn till januari back play pain wbu x', 'person must b bloo lol x', 'strong show pittsburgh sport weeken thank person person great season stillafan', 'hello sunay way ecemb pm ranom inform', 'person watch watch anoth time', 'cannot wait home go miss alot peopl ah roll new year sligowillbehitharagain', 'person isi flag merri christma much blackhumor prayer hostag', 'go call toay commut qualiti time w mini hour minut qualiti time thank c rush hour optim', 'person yeh still unclear know', 'feel ironi use fin peopl iron use work ironi wrong metahipst', 'person naughti og go tga', 'oh classi person also belittl al icebucketchalleng isgust littl vieo notinmywallet', 'person co aw server offlin', 'wow tim horton cobourg realli game toay', 'sleep feel awesom', 'person person thank plan c two week row get ri exot engram also amaz move', 'funni fake ass bitch youratruefrientoh', 'cfbplayoff year woul realli argument alavsor nationalchampionship shouln', 'shoot old neighborhoo famili live pray everyon okay stay safe', 'alway nice teacher oesn leav lesson plan sub', 'ont love captcha', 'yeah hast rose bir beer much better richarson zampa laughlin tait', 'amaz one o ignor think set free person person person', 'quick feet slow motion never stop love knee high arm move still lot one', 'wish still person icoulsleepforeverrightnow', 'work cart toay go make money golfer ay', 'person yeah hate', 'favorit person love romanc novel love rama romanc', 'person absolut love song cantstopsing', 'person person ye rememb littl entir new lineup came happen', 'yeah cool fuck woke', 'person nice lazi search googl scholar couln fin free copi openaccess win', 'person fe o stui gay iffer speci wor lesbian stuy oubl grant', 'well one thing anoth hey like new exhaust piss grrrr', 'elf move', 'math tutori exactli nee right lol struggl uni', 'strang ay far everyon seem goo moomayb actual nap still runk still time grumpi return', 'small jacket big coat later back train stn go back town work xma joy', 'swear biggest tool wear belt even though wear suspen pick one', 'person person go stan goo stea chancellor', 'monay', 'hope get ice palac invis car spectr', 'yay time clean tire', 'person reay jeb first femal potu', 'week keep get better better', 'person person clean cleaner never cleaner', 'stop laugh fact special viral market especi amus', 'one week back suburi go lake nepahwin', 'person gerryman neither parti give har inform voter ferguson', 'person person person person person person nice cook', 'say first way say ye', 'realli talk night one talk', 'person person person first line correct say latter one', 'phone bill love email wake', 'stop subtweet', 'hmm train encourag motiv chang tonight know bother go burnout', 'wish coul make peopl like person', 'got go home cook big breakfast', 'rea victoria secret fashion show recap plate french fri front', 'peopl never chang', 'person ye ara know hahaha', 'person lol aye funni fecker anytim ironsi fanci wee race let know', 'congressmen amit rea naa vote via person', 'person room loveyoubro', 'ask mystic mona question psychic view weekay pt blogtalkraio', 'person person lol ba buwies ba like rink water tap', 'peopl school seem amaz', 'person continu woner custom servic', 'acun sale steam go buy amaz game v steamsal steamwintersal', 'prouc kin creativ esign like', 'forc call keep price bh silenc googl fiber ilovebrighthous', 'person moerat queue flush everi one planet miller hour', 'ignor still top ten thing love sarcasmtweet', 'listen tron legaci album clean make feel like clean worl', 'night misha still nee twitter chines movi night unilif nightin', 'person weir without christma music yay happi christma sammi', 'toay alreay shape fabul', 'goo crow inepen bowl', 'whooo go love team crise wizrocket', 'bet first use one', 'person ooooh econom estruct countri make worl iffer', 'everyth tol copywrit bs', 'person person aw ben know exactli reaful hug x', 'worst part crosswalk memori ki kill nigga like stop', 'oh great person pop want tri quickli access account info', 'migrain throw alway fun', 'person go explain', 'person surpris', 'person person khan o brook mayweath o khan make poor excus avoi big fight', 'sport rock har sometim', 'surpris sjw trie get call uti bann make male femal guy men kill women misogyni', 'miss person watch got rain castamer rob stark entourag ie', 'christma slow enough time left', 'person uli note p p p', 'great way start ay', 'stomach hurt sick sinu infect', 'first nsfw look jessica cameron mania via person person person', 'everon support fawa alam fawa cricket v supportfawa usman', 'seen com sinc gist monstermmorpg arumaka', 'pretti much real eal thanksmom', 'person gla see someon final realis funni mark lawrenson given work hoot googrief', 'person mayb rip eath lol', 'tf want christma elf tattoo umbest shit ever hear sorryimston inkmasterfinal inkmasterriv', 'lol see block best thing instal iffer browser person person', 'someth rememb hea person tonight gooboy', 'person look great toay ian fair enough ian', 'person one old fart anoth ever tire get go allthetim', 'person hate person awesom', 'person person white iow guilti racism fact skin color ferguson taught', 'person guess bronut work best combin mentissu want see sneez', 'tht impox koz late kajwang brother stil aliv kan occupi seat raila', 'person person person person ask back moel next month', 'person person go hotel vega theme parti', 'rte yeah total make sens', 'sport carrick replac fletcher man unit vice captain via person', 'accept hour rive mile cheshir manchest yesteray northern powerhous', 'core troll look troll secon come soon itm noagena', 'wait see mani pair beat heaphon show gym christma', 'oh look anoth storm syney unusu', 'googl greatest travel hack make flight much easier tech busi', 'person person let western bastar bank account freez ark seewhatii reapeopl', 'person happi got offer triniti laban take greenwich lee ay lee', 'amaz follow last week tomorrow grow', 'jim cooki nikki kill everyon nee go person enjoy person amaz pastri', 'vision look like let enjoy first winter outsi peep hole growingwint', 'person surpris epic', 'speak want save someon speak like save', 'person voka lime lemona one', 'sneez pee jusygirlyth', 'person person encourag eucat', 'test first ay rea book o home work', 'celtic rt person jameer nelson start return orlano tonight marcu smart come bench', 'teenanalcast creampi crusa', 'love hypocrisi holiay', 'anoth ay parais haha', 'person raft pick compens tie name six month younger', 'ue tol money everyth argu son money public', 'someon quit vocal liber time support person', 'person vote unerr actor jimmi oter got ter fame', 'honest tie high beach lago got higher night crept', 'person person haha cool ha feel nee consier actual racist comment keep goo fight', 'favorit new app chicago comey scene cc raio shoul check chicago comey', 'person person person person elrufai repres mass victori', 'person autoincorrect strike worth', 'person excel respect interview johnschneier tomwopat last week love lack', 'attitu think hot shit buffet restuar lifego sieworknazi', 'turn paper come back home stuy perfectay', 'constip eat noth shit three week', 'friay heavi sigh nooo total wenesay mess wait ay', 'affili market blog post way meantim tip expert howitwork marketingnewbi', 'husban think crazi tape tape ispens hehe hani like', 'person took hour en morosi right nightengal sourc wrong', 'mama korean awar show hel hong kong healin american artist', 'person iktat brussel ruin life britain', 'goo sight sing', 'ear manila traffic twin bangkok yahooo sirat express way', 'atheist celebr christma', 'hope coul recov fever toay nee start strama', 'feel comfort misinform vocal pleaseontspeak', 'person fair get lie earli colleg blooy freez fair lucki uck', 'person reveal rink', 'hungov en stay', 'person ha yeah opinion like mine mean noth', 'minist criticis train eal', 'well nice text wake', 'love avert woman black say sleep week way sell sheneverleft', 'spiki popular name spike rt person babi name ataviz sourc', 'jfk baggag iiot accus steal shit right outa luggag shock ummmm hire moron put armi', 'person wait new wii', 'perfect way start morn', 'get hit tsa agent think first name bowi wifemeup', 'person hurt still love', 'small iet', 'person stuy har procrastin', 'feel ba confus ny cop controversi one camera person brown person clear love neighbor', 'person worst mobil inia everi look everi moel hang th ay onwar samsung recommen', 'hour sleep put hyper moe', 'twirra place rt person twitter place virgin tweet sexual hoe form saint', 'grinch stole saniti via person lol fun funni', 'espit fact till stuy ha wake think ay go great', 'realli happi hear nbc hockey talk hea point ovechkin strong corsi statu season', 'usa senat summari report cia etent programm must en stori', 'person yup efinit fosho merrycut', 'histori essay liter shit', 'love wake ea sleep two firetruck blare past winow', 'love wie awak insomnia nosleepecemb', 'thank appreci look care', 'ahhh winner epik high mama', 'love abl comfort room', 'person stan watch ukvslou game louisvil fan ba steeler fan bbn person', 'photo person pool via person realli brighten morn', 'person person yea keep bargin stuff ont even care get hobbi sjw also babymet nice', 'believ ash mae funni tolo never', 'like en well vaccin exactli nee health human servic', 'love sleep best', 'even watch anim japan', 'final went octor feel much better', 'person person grine gear worthless thank', 'thank beauti ppl talk extra lou tri watch tv love guy much srslyofallroom', 'person result excus', 'got earli get earlier bu miss wait well ay start woner', 'well toay great start might well monay', 'person wow thing go chang never hear opposit pleas vote work well', 'person person protect n amen noth see smfh', 'person abt say sure whether oxfor brook uni part oxfor uni yet cv impress still', 'loooov argu insur compani', 'usa hippa law prohibit psychiatrist releas info person person', 'person finnish sniper work fascist kyiv nice guy', 'orm actual realli creepi one', 'beauti ay climb mountain newzealan earnaview', 'place wor job mean steal', 'think tori actual favorit human earth tbh', 'ye brother sister speak way father heaven chil either', 'person person repli surpris', 'person big gulp health care', 'amen ue respect', 'person oh yeah n holtheapplaus hahaha lol', 'final stress free wait', 'never expect woul lie much back first encounter person person person', 'person fan freakin tastic wait', 'point effort come one irect left chang irect', 'absolut great lesson half half toay zzzz', 'grana watch absolut shit telli serious channel never even hear funchristma', 'noboy eni career gita profoun wor', 'min class n alreay wana kio mornin person', 'person person person person actual believ henri unef turf person person', 'eat watch movi kick shit relationshipgoalsaccomplish', 'case thought ha blanketi blank job check guy happynewyear', 'person person person person person ye also show ignor hate', 'person person wow catch news fals intellig foun fals see wikileak sourc', 'person call show train wreck way respect guest guy', 'everyon broken goo hie goo want punch face', 'final episo minecraft harcor surviv ie tri get sustain foo sourc', 'person guess one suppos say', 'person think make aaaawww person person', 'shameless account firm make vast sum avis rich rip taxpay account chief', 'person person accur v sa ine', 'person person person person true keep give return chariti', 'get marri joli biggest moment year hollywoo actor filmmak', 'cc enough patient get flu shot year healthay news fewer half american', 'person get reay anoth one saturay', 'tnt replay cav knick game mayb knick win time', 'epress abus sali part mani peopl testimoni monster secret amonleroi', 'person mean matter game', 'work job pm w minut job alreay plann sleep immeiat work tomorrow', 'give want want inspir motivationalquot startup', 'person smarter peopl lie fun pick hole stori', 'fart like worl ene', 'lol oc know o fuckthat', 'stuck traffic yuppi happytuesay', 'averag get averag result', 'iowa anti union governor bransta inaugur ball communitychoic creit union center slap afscm homan', 'guess get time spen time', 'newjob urgent contract assur manag privat bank singapor specifi singapor specifi', 'shout out guy took shower million hea whole bu thank', 'person person christma one ay get ure year even sign xbox one typic', 'two peopl got sock clutch af', 'person think mae confus aze', 'person goo yeah goo feel tire self soon x', 'happen everi ay', 'ugli christma sweater uglychristmassweat happyholiay merrychristma kissesanhug', 'twitter annoy', 'awak sinc alway much fun', 'person person person ki right poortast', 'person procrastin get work one b c rea new book', 'eci chang king trunk gol logo green tight blue creativ', 'watch takemeout like rest countri hope aorabl girl itsi hahahaha zzzz', 'person presum evienc back claim simpli feel base interact', 'fals slaveri base econom person person person person person person', 'follow friay everyay help new one feel goo twitter', 'use instagram well get free follow', 'easiest final life gla stuie hour', 'lamar entertain put money make tbt right team', 'last movi seen alan arkin argo grugematch ha absolut roll', 'work birthay yay suck', 'person want mine pussi', 'oil plung percent new five year low bearish iea outlook via person', 'person love much taylor', 'first final ay one three go greatscheul incaseyoucanttel', 'ban play two ticket parais park lot reskin game reskin', 'confer call love', 'watch bone crale leg saw person episo chicken tasteslikechicken termit thewalkingea person', 'toay stane front tesco wear elf hat say hello custom get ignor reamjob', 'big person ur post cunt run photo struggl problem check n', 'love call work morn even hour sleep thank splitshift', 'secon major noseble ay halt train effort nare mean war', 'person person well wors better stark rave', 'preiction erv santana isinterest play twin aka offer enough', 'person person woul get floor one poke', 'get frienzon someon tri frienzon sigh', 'music alway offic current listen ki bop hanukkah spotifi recommen onlyatnycr', 'yo got ten squa member khajo chri sai tear gang member kevin respon thuglif', 'person part articl uexpect', 'know han ont shoot thing proven fals right person person', 'ear usp aress come matter name mistak fix thanksfortheannoyingnot', 'check twitter snapchat tell ay someon pleas help', 'hell break loos ahhhh everyboy freak', 'gavaskar freakin geniu', 'possess half balanc legola', 'person hilari', 'granpa gave creit car christma iea lol', 'roman mytholog get soooo pump', 'total kill assign late socolleg', 'couln stay sleep', 'ebola racism racepimp jessejackson octor tcot pjnet ccot pjtv tea', 'kin frustrat christma break first real oblig free break year en sick', 'person lool guy multipl twitter hanl', 'person yeah x', 'realli sure want place toay somuchbaneg smileyoufucktar stop rag ay', 'thank aiyn ael get sick', 'person li suck offici use goo', 'thx catch urock', 'cocktail tonight yep ha one year', 'person nxt gone sky', 'person person person alreay ivi one anoth goo', 'archiv pick make laugh sick mehblog littlemeh octor', 'person much less controversi bc replac', 'believ nearli month sinc mum pass away miss much everyay', 'foreplay cule jei crave thing yoa quot', 'saic esign irector tren avic stuent', 'person oh brafor aw', 'maaaaan stupi instagram went follow cat mom tom myspac smh butstil', 'person person love button pusher', 'normal relat cuba huh get reay crap thanksobama ba', 'person instea play pompou know car actual make eucat rebutt', 'consier issu n care take posit back give amn wht think', 'got love emc latest featur vnx sie', 'person person person bf sp shit mp broken month', 'juugin everyth nigga got warrant pay', 'basura immonizia name', 'person person take physic challeng', 'get sick time final great', 'look trash clearli see hanl stole name pictur', 'fine quit funni gillett soccer saturay sky complain enough game pm saturay', 'teacher say come tomorrow morn help never classroom wow thanksforthehelp', 'chicago firehous restaur caught fire morn', 'person wtf go', 'cram minut exam get tag qualifi person', 'watch creepi shit alon ba iea spell turn french bullog big ass bullog bewareofog', 'xma blog feat intimissimioffici person rea stori share love', 'tomorrow great ay', 'cannot wait go entist later', 'life never easi seem till come bring r love insi', 'wait wait wait font shirt comic san person icantbreath', 'revel african american commun faith law enforc skyrocket', 'ont love peopl messag nowher act like guy close cu want someth', 'miss skateboar even winter yet skateeveryamnay hoof life', 'moment go bathroom clean lay stillholingit', 'nit pick everi littl thing guy keep o show team behin', 'beauti way start morn', 'person person wrote clearli bit tit', 'noth love listen black eye pea way home saturay night loss petrolia killerban', 'upgra seat kina scare sunayfunay sunayateay mylov', 'feel love ok', 'person walk civic offic get bu mutter wouln think pay water', 'stane boar ental hygien two hour want spen birthay', 'like person visit articl also win free puppi puppi per visit puppi maximum atl', 'ont fish mammal noth common person person person person', 'bore check person newest articl wor link riicul websit tri', 'nichola spark manipul women believ guy realiti sensit male charact book', 'reay person first healin tour north america ticket info lunat', 'person cross bear lol', 'may nee rerea book ever fin raco boggart person harrypott racomalfoy', 'far woul go safeti onlin relationship via person', 'increibl rt person sox agreement justin masterson', 'person person verbal submiss', 'final week plu hear granma icu amaz letmegohom', 'well sai person one fe women breastfe ostentati', 'person person like maliv seaanwhitesan', 'goo choic stay late ly stuy finalsweek eathofm', 'person person person agre see vieo photo taken two hour shoot', 'person boyfrien hair flip walk away', 'love half group realli committ half oesn give crap perfect', 'person person person link somewher quit put finger', 'boy languag confienc easiest thing make iffer via person', 'person loughton basilon', 'person ohhh know soun sooooo interest', 'oh skrillex big eal see aili skrillex rave', 'packer fan twitter full meltown moe r e l x', 'person time week lol', 'big ki christma morn wake everyon blooy earli', 'tryna learn skate tonight pennyboar skate', 'person wtf gangstawankstayar', 'person favourit ay year', 'happi gone yet', 'earn lan free level bage person', 'person hahahaha love mate goo xx', 'person thei right protest en funament right begin cannot take right earn livelihoo free movement', 'hous ajourn pace ont expect ach come parl n cnt blame moi govt fr rajyasabha', 'person person person person yeah look like plastic', 'pretti sure ba boy worth least stoke per roun reamon mirana place', 'enough anc practic whatsapp group yet ecemb winter weingseason', 'nee two hour long hug insecur', 'anoth freelesson english esl tesl person', 'fischer orer fish chip', 'post tweet oesn mean use twitter', 'mess toay guy thought work fail itsabovemypaygraetocar stillcar lesigh', 'million trillion thing rather rather profoun lyric big sean profoun worstsongev', 'congratul person well eserv hope enjoy notif twitter', 'soni got hack oh man big surpris', 'person go miss person person person other least got howi kenrick notstok wtf', 'person gay bang', 'new curtain christian like person travel russia torment lgbt seek asylum', 'nevermin get work nee hump back game bc gooen play terribl', 'give cr water subsiy public crime wast cr avertis evelop waah ji waah', 'person oh someon got troubl make fun peopl behea innoc peopl nice', 'happiest person ever person wake morn', 'carri way half men get call crank amongst thing ask ha pmt', 'virtu islik none vice amir winston churchil', 'olfrien old anymor', 'hit angl uck face hie wrinkl thatsabossbitchrightther', 'person opposit cheat ay call one per week sai', 'bang great insight rt person interest rea emocraci ab manag ieolog ableg', 'vacat imagin engineer born person soon signup gain access beta', 'know get number account absolutetosh', 'facebook owner mark zuckerberg say islik creat islik button', 'short hair realli', 'stuent busi protest gran juri ecis stuy eserv fail action consequ', 'hero happi c comic mean even great flagship romanc fauxmanc bring estruct', 'last train person person wemarchon saintsfc', 'sane peopl woul talk twitter fin sane human talk retweet ifagre', 'person haha never nice guess cool enough safac', 'heae huntsvil tx afternoon tri contain jealousi', 'rea une unit chairmanship statement tonight say lot tosh care young player ine', 'person thank leav ish us babusi', 'noth say welcom home better wemisseyoutoo', 'far toay ruin mug crie twice gotten thing list one furiou goostarttotheay', 'love abl sleep right', 'velvet rhineston babyol size meium larg come softli pae uner wire shelf cup', 'person well say', 'woner time fiscal year', 'person pleas book one appoint tell happen', 'love morn start like', 'toay surpris aystretch', 'ual seek protect hear propos secur bill trampl basic right pple freeom', 'person shit call', 'oe mostella get much play time hubb ik might wrong unerstan', 'person person realli respect feminist women movement roof', 'person fun', 'time free tyranni usa lean towar toler societi like russia china', 'unerstan anyon watch bowl game matter great team outsi top omin ontcar', 'person think caramel frapp salti enough mcyuck lostsal', 'oh ga haul semi flammabl sign river smoke truestori texa', 'person ur boyfrien interrupt selfi yeah happen time', 'person snow canaa hill minut hope white christma', 'take call phone thing work person person person person person person', 'person person person person gamerg weapon ninja train assasin cree', 'brrrrrrr kina feel woul go kitchen make coffe', 'person proof never lose bet uner intellig elector anyon believ wor say', 'nee get back colleg feel', 'person still q still one best', 'person person uncov hien arsen wm iraq result tortur enhanc interrog', 'person home page show ow make home page stat real time pl', 'mark rea becassin penant la grane guerr caumeri', 'person win frien', 'year person becam lor watchthelorman', 'noth better get snapchat person weight play backgroun samepar sametun', 'britishroyalti shoul presum titl publicuti', 'person far back search googl calenar via sunris googl oesn work search engin calenar', 'honestli never even watch christma stori seen ranom part', 'china call us hypocrit humanright chines peac prize goe castro putin via person', 'person person empti threat even thebear support unit', 'person monay ticket gener sale box ay thank help', 'favorit color everi color', 'person one coul hope', 'love stress boy eci react caus massiv pain', 'girl british accent point', 'think almost ie burn face hategasbbq', 'notcia eu europ eua statement european commiss eu invest plan', 'nowplay earicpatten present j earic patten elektrik metro hous vibe mix session club', 'person unless rogu theatr start show get sol onlin', 'whoever hunger game whistl quiet floor applau origin cultur relev oljok', 'feel like crap treat horribl great ay iwanttogohom', 'person person person person progress list mn year', 'person get pai post stuff like tsu go followback', 'person person want learn group evelop turn green bass thornton asset', 'one cinema put phone silent person', 'person person year ago rochal ha left shoe sale reuction full price bargain', 'montana best versac remix ue goe', 'shoul mae canva coffe stain one art', 'worl smiley place', 'two broke reneck father aughter rif team make fun old eucat film n', 'wtf happen ki ki insult knowyourhistori whoispaulmccartney', 'woul mae much convinc bella swan', 'retweet chri graham block', 'fri alabamastatemajor', 'person person nee ev environmnet great pick regular web stuff like', 'gla c council prioriti intact c', 'ri istract train choo choo', 'chill repost ea omino haha', 'someon work w oesn let ki believ santa mythic os w church ogma realli want explain', 'check new post myfairaili thing love late lblogger holiay myfairaili favorit', 'obama whisk away hospit iagnos aci reflux wow real news', 'person person true n r jae everi year', 'anoth one support vehicl moifi icelan servic bigfoot lanrov', 'thank shut citi', 'person ikr see go cri utter joy crybabi beauti coupl', 'gla typhoon go holiay week fml', 'person regar psu presient oe', 'person still bother see follow report', 'well listen woo go listen fob nosurprisether', 'hummingbir expert hover backgroun motion hover abil', 'thing miss session gym want everi boy part though cv possibl']\n"
     ]
    }
   ],
   "source": [
    "import nltk\n",
    "from nltk.stem.porter import PorterStemmer\n",
    "from nltk.corpus import stopwords\n",
    "\n",
    "ps = PorterStemmer()\n",
    "corpus = []\n",
    "\n",
    "for i in range(len(lemmatization_result)):\n",
    "    # get review and remove non alpha chars\n",
    "    tweet = re.sub('[^a-zA-Z]', ' ', lemmatization_result[i])\n",
    "    # to lower-case and tokenize\n",
    "    tweet = tweet.lower().split()\n",
    "    # stemming and stop word removal\n",
    "    tweet = ' '.join([ps.stem(w) for w in tweet if not w in set(stopwords.words('english'))])\n",
    "    corpus.append(tweet)\n",
    "\n",
    "vectorizer = TfidfVectorizer(max_features = 500)\n",
    "\n",
    "X_train=vectorizer.fit_transform(corpus).toarray()\n",
    "y_train=train_data['label'].copy()\n",
    "\n",
    "print(corpus)"
   ]
  },
  {
   "cell_type": "code",
   "execution_count": 332,
   "metadata": {},
   "outputs": [
    {
     "name": "stdout",
     "output_type": "stream",
     "text": [
      "500\n"
     ]
    }
   ],
   "source": [
    "print(len(vectorizer.vocabulary_))"
   ]
  },
  {
   "cell_type": "code",
   "execution_count": 265,
   "metadata": {},
   "outputs": [
    {
     "data": {
      "text/plain": [
       "14042"
      ]
     },
     "execution_count": 265,
     "metadata": {},
     "output_type": "execute_result"
    }
   ],
   "source": [
    "14042"
   ]
  },
  {
   "cell_type": "markdown",
   "metadata": {},
   "source": [
    "* Fazer aquela cena dos vetores de similitude vai curtir -> Encontrar duplicados\n",
    "* Remover Numeros"
   ]
  },
  {
   "cell_type": "code",
   "execution_count": 333,
   "metadata": {},
   "outputs": [
    {
     "name": "stdout",
     "output_type": "stream",
     "text": [
      "              precision    recall  f1-score   support\n",
      "\n",
      "           0       0.68      0.72      0.70       473\n",
      "           1       0.53      0.48      0.50       311\n",
      "\n",
      "    accuracy                           0.62       784\n",
      "   macro avg       0.60      0.60      0.60       784\n",
      "weighted avg       0.62      0.62      0.62       784\n",
      "\n",
      "Confusion Matrix\n",
      "[[340 133]\n",
      " [162 149]]\n"
     ]
    }
   ],
   "source": [
    "X_test=vectorizer.transform(test_data['tweet']).toarray()\n",
    "y_test=test_data['label']\n",
    "\n",
    "classificator.fit(X_train,y_train)\n",
    "#Predicition\n",
    "y_predicted=classificator.predict(X_test)\n",
    "\n",
    "print(classification_report(y_test,y_predicted))\n",
    "print(\"Confusion Matrix\")\n",
    "print(confusion_matrix(y_test, y_predicted))\n",
    "\n",
    "accuracy_value=accuracy_score(y_test,y_predicted)\n",
    "precision_value=precision_score(y_test,y_predicted,average='weighted')\n",
    "f1_value=f1_score(y_test,y_predicted,average='weighted')\n",
    "\n",
    "actual_conclusion=pandas.DataFrame(\n",
    "    {\n",
    "    'Our Results':[accuracy_value,precision_value,f1_value],\n",
    "    'Winners Result':[0.7347,0.6304,0.8006]\n",
    "    } , index=['Accuracy','Precision','F1-Value'])"
   ]
  },
  {
   "cell_type": "code",
   "execution_count": 334,
   "metadata": {},
   "outputs": [
    {
     "data": {
      "text/html": [
       "<div>\n",
       "<style scoped>\n",
       "    .dataframe tbody tr th:only-of-type {\n",
       "        vertical-align: middle;\n",
       "    }\n",
       "\n",
       "    .dataframe tbody tr th {\n",
       "        vertical-align: top;\n",
       "    }\n",
       "\n",
       "    .dataframe thead th {\n",
       "        text-align: right;\n",
       "    }\n",
       "</style>\n",
       "<table border=\"1\" class=\"dataframe\">\n",
       "  <thead>\n",
       "    <tr style=\"text-align: right;\">\n",
       "      <th></th>\n",
       "      <th>Our Results</th>\n",
       "      <th>Winners Result</th>\n",
       "    </tr>\n",
       "  </thead>\n",
       "  <tbody>\n",
       "    <tr>\n",
       "      <th>Accuracy</th>\n",
       "      <td>0.623724</td>\n",
       "      <td>0.7347</td>\n",
       "    </tr>\n",
       "    <tr>\n",
       "      <th>Precision</th>\n",
       "      <td>0.618216</td>\n",
       "      <td>0.6304</td>\n",
       "    </tr>\n",
       "    <tr>\n",
       "      <th>F1-Value</th>\n",
       "      <td>0.620120</td>\n",
       "      <td>0.8006</td>\n",
       "    </tr>\n",
       "  </tbody>\n",
       "</table>\n",
       "</div>"
      ],
      "text/plain": [
       "           Our Results  Winners Result\n",
       "Accuracy      0.623724          0.7347\n",
       "Precision     0.618216          0.6304\n",
       "F1-Value      0.620120          0.8006"
      ]
     },
     "execution_count": 334,
     "metadata": {},
     "output_type": "execute_result"
    }
   ],
   "source": [
    "actual_conclusion"
   ]
  },
  {
   "cell_type": "markdown",
   "metadata": {},
   "source": [
    "### TF-IDF Word Counter Vetorization"
   ]
  },
  {
   "cell_type": "code",
   "execution_count": 230,
   "metadata": {},
   "outputs": [
    {
     "name": "stdout",
     "output_type": "stream",
     "text": [
      "              precision    recall  f1-score   support\n",
      "\n",
      "           0       0.61      0.37      0.47       473\n",
      "           1       0.40      0.64      0.50       311\n",
      "\n",
      "    accuracy                           0.48       784\n",
      "   macro avg       0.51      0.51      0.48       784\n",
      "weighted avg       0.53      0.48      0.48       784\n",
      "\n",
      "[[177 296]\n",
      " [111 200]]\n"
     ]
    }
   ],
   "source": [
    "classifier=GaussianNB()\n",
    "\n",
    "classifier.fit(X_train,y_train)\n",
    "\n",
    "y_predicted=classifier.predict(X_test)\n",
    "\n",
    "print(classification_report(y_test,y_predicted))\n",
    "print(confusion_matrix(y_test, y_predicted))"
   ]
  },
  {
   "cell_type": "code",
   "execution_count": 220,
   "metadata": {},
   "outputs": [
    {
     "name": "stdout",
     "output_type": "stream",
     "text": [
      "              precision    recall  f1-score   support\n",
      "\n",
      "           0       0.64      0.67      0.65       473\n",
      "           1       0.46      0.43      0.44       311\n",
      "\n",
      "    accuracy                           0.57       784\n",
      "   macro avg       0.55      0.55      0.55       784\n",
      "weighted avg       0.57      0.57      0.57       784\n",
      "\n",
      "[[317 156]\n",
      " [178 133]]\n"
     ]
    }
   ],
   "source": [
    "# Decision Tree\n",
    "\n",
    "from sklearn.tree import DecisionTreeClassifier\n",
    "\n",
    "classifier = DecisionTreeClassifier()\n",
    "classifier.fit(X_train, y_train)\n",
    "y_predicted = classifier.predict(X_test)\n",
    "\n",
    "print(classification_report(y_test,y_predicted))\n",
    "print(confusion_matrix(y_test, y_predicted))"
   ]
  },
  {
   "cell_type": "code",
   "execution_count": 335,
   "metadata": {},
   "outputs": [
    {
     "name": "stdout",
     "output_type": "stream",
     "text": [
      "              precision    recall  f1-score   support\n",
      "\n",
      "           0       0.67      0.68      0.68       473\n",
      "           1       0.50      0.50      0.50       311\n",
      "\n",
      "    accuracy                           0.61       784\n",
      "   macro avg       0.59      0.59      0.59       784\n",
      "weighted avg       0.61      0.61      0.61       784\n",
      "\n",
      "[[321 152]\n",
      " [156 155]]\n",
      "           Our Results  Winners Result\n",
      "Accuracy      0.607143          0.7347\n",
      "Precision     0.606285          0.6304\n",
      "F1-Value      0.606699          0.8006\n"
     ]
    }
   ],
   "source": [
    "# Neural Network\n",
    "from sklearn.preprocessing import StandardScaler\n",
    "from sklearn.neural_network import MLPClassifier\n",
    "\n",
    "scaler = StandardScaler()\n",
    "classificator = MLPClassifier()\n",
    "\n",
    "scaler.fit(X_train)\n",
    "\n",
    "X_test=vectorizer.transform(test_data['tweet']).toarray()\n",
    "\n",
    "\n",
    "X_train = scaler.transform(X_train)\n",
    "X_test = scaler.transform(X_test)\n",
    "\n",
    "y_test=test_data['label']\n",
    "\n",
    "\n",
    "classificator.fit(X_train, y_train)\n",
    "y_predicted = classificator.predict(X_test)\n",
    "\n",
    "print(classification_report(y_test,y_predicted))\n",
    "print(confusion_matrix(y_test, y_predicted))\n",
    "\n",
    "\n",
    "accuracy_value=accuracy_score(y_test,y_predicted)\n",
    "precision_value=precision_score(y_test,y_predicted,average='weighted')\n",
    "f1_value=f1_score(y_test,y_predicted,average='weighted')\n",
    "\n",
    "actual_conclusion=pandas.DataFrame(\n",
    "    {\n",
    "    'Our Results':[accuracy_value,precision_value,f1_value],\n",
    "    'Winners Result':[0.7347,0.6304,0.8006]\n",
    "    } , index=['Accuracy','Precision','F1-Value'])\n",
    "\n",
    "print(actual_conclusion)"
   ]
  },
  {
   "cell_type": "code",
   "execution_count": null,
   "metadata": {},
   "outputs": [],
   "source": [
    "# KNN\n",
    "\n",
    "from sklearn.neighbors import KNeighborsClassifier\n",
    "\n",
    "classifier = KNeighborsClassifier()\n",
    "classifier.fit(X_train, y_train)\n",
    "y_predicted = classifier.predict(X_test)\n",
    "\n",
    "print(classification_report(y_test,y_predicted))\n",
    "print(confusion_matrix(y_test, y_predicted))"
   ]
  },
  {
   "cell_type": "code",
   "execution_count": null,
   "metadata": {},
   "outputs": [],
   "source": [
    "# SVM\n",
    "\n",
    "from sklearn.svm import SVC\n",
    "\n",
    "classifier = SVC()\n",
    "classifier.fit(X_train, y_train)\n",
    "y_predicted=classifier.predict(X_test)\n",
    "\n",
    "print(classification_report(y_test,y_predicted))\n",
    "print(confusion_matrix(y_test, y_predicted))"
   ]
  },
  {
   "cell_type": "code",
   "execution_count": null,
   "metadata": {},
   "outputs": [],
   "source": []
  }
 ],
 "metadata": {
  "kernelspec": {
   "display_name": "Python 3",
   "language": "python",
   "name": "python3"
  },
  "language_info": {
   "codemirror_mode": {
    "name": "ipython",
    "version": 3
   },
   "file_extension": ".py",
   "mimetype": "text/x-python",
   "name": "python",
   "nbconvert_exporter": "python",
   "pygments_lexer": "ipython3",
   "version": "3.8.5"
  }
 },
 "nbformat": 4,
 "nbformat_minor": 4
}
