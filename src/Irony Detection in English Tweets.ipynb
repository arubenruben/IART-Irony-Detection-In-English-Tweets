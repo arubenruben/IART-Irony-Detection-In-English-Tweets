{
 "cells": [
  {
   "cell_type": "markdown",
   "metadata": {},
   "source": [
    "# Irony Detection in English \n",
    "\n",
    "#### The goal of this project consists in training a model capable of performing the task of classificating a tweet in English as ironic or non ironic.\n",
    "\n",
    "Using different classification techniques we intend to find the one that performs better using as training data a data set with around 4000 tweets of different types.\n",
    "\n",
    "This project was made by 3 students as part of the Artificial Intelligence course at FEUP. You are free to use the code for any purpose, but beware that this is just an academia project in an introductory course to Artificial Intelligence.\n",
    "\n",
    "Libraries Used: \n",
    "* Pandas\n",
    "* Numpy\n",
    "* Scikit-learn\n",
    "* Matplotlib\n",
    "* nltk"
   ]
  },
  {
   "cell_type": "markdown",
   "metadata": {},
   "source": [
    "### Datasets:\n",
    "\n",
    "The data sets for this project are not owned by our group, they are supplied by SemEval competition and are free to use for academic purposes only outside of the competition.\n",
    "\n",
    "There are two data sets available, one marked for train and the other for testing. Originally they were in .txt format, but in order to simplify the work of the pandas library, we manually converted those files to .csv\n",
    "\n",
    "**SemEval organization themselves already provide a division of the dataset in two subsets, a test dataset and a train dataset.**\n",
    "\n",
    "This division is useful for the final evaluation of our work. Since the competition was in 2018, the ranking of the participants for that dataset is already public. This way we are able to keep track of which place we could score in that professional competition\n",
    "\n"
   ]
  },
  {
   "cell_type": "markdown",
   "metadata": {},
   "source": [
    "![title](../assets/ranking.png)\n",
    "##### Fig1: Ranking of the SemEval competition"
   ]
  },
  {
   "cell_type": "markdown",
   "metadata": {},
   "source": [
    "#### Problem with word delimeter\n",
    "\n",
    "Pandas is a library perfect for the job of reading data from a file, since it setup automaticaly the capability of seeing that data in a formatted organized way.\n",
    "\n",
    "Pandas has specific functions to read from different formats. The datasets are originally in .txt format, a conversion for either JSON or CSV, formats accepted by Pandas needed to be done. 4000 tweets in JSON would turn the data file really dense in information.\n",
    "Since we are dealing with just 2 attributes, it is pointless to make our life harder in this step. \n",
    "\n",
    "We chosed .csv format to represent the data\n",
    "\n",
    "CSV files dealing with text rise other problem, the fact that people use comma in their texts, pandas. So we introduce other delimiter,'\\t', so we are able to do the task"
   ]
  },
  {
   "cell_type": "code",
   "execution_count": 65,
   "metadata": {},
   "outputs": [],
   "source": [
    "from IPython.display import display, HTML\n",
    "import pandas\n",
    "import numpy\n",
    "\n",
    "train_data=pandas.read_csv('data/train.csv',  delimiter = '\\t', quoting = 3, encoding=\"utf-8\")\n",
    "test_data=pandas.read_csv('data/test-labeled.csv', delimiter = '\\t', quoting = 3, encoding=\"utf-8\")"
   ]
  },
  {
   "cell_type": "code",
   "execution_count": 66,
   "metadata": {},
   "outputs": [
    {
     "data": {
      "text/html": [
       "<div>\n",
       "<style scoped>\n",
       "    .dataframe tbody tr th:only-of-type {\n",
       "        vertical-align: middle;\n",
       "    }\n",
       "\n",
       "    .dataframe tbody tr th {\n",
       "        vertical-align: top;\n",
       "    }\n",
       "\n",
       "    .dataframe thead th {\n",
       "        text-align: right;\n",
       "    }\n",
       "</style>\n",
       "<table border=\"1\" class=\"dataframe\">\n",
       "  <thead>\n",
       "    <tr style=\"text-align: right;\">\n",
       "      <th></th>\n",
       "      <th>label</th>\n",
       "      <th>tweet</th>\n",
       "    </tr>\n",
       "  </thead>\n",
       "  <tbody>\n",
       "    <tr>\n",
       "      <th>0</th>\n",
       "      <td>1</td>\n",
       "      <td>Sweet United Nations video. Just in time for C...</td>\n",
       "    </tr>\n",
       "    <tr>\n",
       "      <th>1</th>\n",
       "      <td>1</td>\n",
       "      <td>@mrdahl87 We are rumored to have talked to Erv...</td>\n",
       "    </tr>\n",
       "    <tr>\n",
       "      <th>2</th>\n",
       "      <td>1</td>\n",
       "      <td>Hey there! Nice to see you Minnesota/ND Winter...</td>\n",
       "    </tr>\n",
       "    <tr>\n",
       "      <th>3</th>\n",
       "      <td>0</td>\n",
       "      <td>3 episodes left I'm dying over here</td>\n",
       "    </tr>\n",
       "    <tr>\n",
       "      <th>4</th>\n",
       "      <td>1</td>\n",
       "      <td>\"I can't breathe!\" was chosen as the most nota...</td>\n",
       "    </tr>\n",
       "  </tbody>\n",
       "</table>\n",
       "</div>"
      ],
      "text/plain": [
       "   label                                              tweet\n",
       "0      1  Sweet United Nations video. Just in time for C...\n",
       "1      1  @mrdahl87 We are rumored to have talked to Erv...\n",
       "2      1  Hey there! Nice to see you Minnesota/ND Winter...\n",
       "3      0                3 episodes left I'm dying over here\n",
       "4      1  \"I can't breathe!\" was chosen as the most nota..."
      ]
     },
     "execution_count": 66,
     "metadata": {},
     "output_type": "execute_result"
    }
   ],
   "source": [
    "train_data.head()"
   ]
  },
  {
   "cell_type": "code",
   "execution_count": 67,
   "metadata": {},
   "outputs": [
    {
     "data": {
      "text/html": [
       "<div>\n",
       "<style scoped>\n",
       "    .dataframe tbody tr th:only-of-type {\n",
       "        vertical-align: middle;\n",
       "    }\n",
       "\n",
       "    .dataframe tbody tr th {\n",
       "        vertical-align: top;\n",
       "    }\n",
       "\n",
       "    .dataframe thead th {\n",
       "        text-align: right;\n",
       "    }\n",
       "</style>\n",
       "<table border=\"1\" class=\"dataframe\">\n",
       "  <thead>\n",
       "    <tr style=\"text-align: right;\">\n",
       "      <th></th>\n",
       "      <th>label</th>\n",
       "      <th>tweet</th>\n",
       "    </tr>\n",
       "  </thead>\n",
       "  <tbody>\n",
       "    <tr>\n",
       "      <th>0</th>\n",
       "      <td>0</td>\n",
       "      <td>@Callisto1947 Can U Help?||More conservatives ...</td>\n",
       "    </tr>\n",
       "    <tr>\n",
       "      <th>1</th>\n",
       "      <td>1</td>\n",
       "      <td>Just walked in to #Starbucks and asked for a \"...</td>\n",
       "    </tr>\n",
       "    <tr>\n",
       "      <th>2</th>\n",
       "      <td>0</td>\n",
       "      <td>#NOT GONNA WIN http://t.co/Mc9ebqjAqj</td>\n",
       "    </tr>\n",
       "    <tr>\n",
       "      <th>3</th>\n",
       "      <td>0</td>\n",
       "      <td>@mickymantell He is exactly that sort of perso...</td>\n",
       "    </tr>\n",
       "    <tr>\n",
       "      <th>4</th>\n",
       "      <td>1</td>\n",
       "      <td>So much #sarcasm at work mate 10/10 #boring 10...</td>\n",
       "    </tr>\n",
       "  </tbody>\n",
       "</table>\n",
       "</div>"
      ],
      "text/plain": [
       "   label                                              tweet\n",
       "0      0  @Callisto1947 Can U Help?||More conservatives ...\n",
       "1      1  Just walked in to #Starbucks and asked for a \"...\n",
       "2      0              #NOT GONNA WIN http://t.co/Mc9ebqjAqj\n",
       "3      0  @mickymantell He is exactly that sort of perso...\n",
       "4      1  So much #sarcasm at work mate 10/10 #boring 10..."
      ]
     },
     "execution_count": 67,
     "metadata": {},
     "output_type": "execute_result"
    }
   ],
   "source": [
    "test_data.head()"
   ]
  },
  {
   "cell_type": "markdown",
   "metadata": {},
   "source": [
    "### Analising the datasets\n",
    "\n",
    "Some initial considerations should be done in order to ensure the quality of the data. The data provided doesn't contain blank fields. \n",
    "\n",
    "Testing proprelly the existance of duplicates in the datasets would require knowledge outside the scope of the course, so we assume that there aren't duplicate data in the dataset.\n",
    "\n",
    "\n",
    "**One very important consideration regarding the data is the possibility of the dataset being unbalanced** With both of our data sets loaded, we can use **Matplotlib** to determine if that consideration holds."
   ]
  },
  {
   "cell_type": "code",
   "execution_count": 68,
   "metadata": {},
   "outputs": [
    {
     "data": {
      "image/png": "[encoded data removed]",
      "text/plain": [
       "<Figure size 432x288 with 1 Axes>"
      ]
     },
     "metadata": {
      "needs_background": "light"
     },
     "output_type": "display_data"
    },
    {
     "name": "stdout",
     "output_type": "stream",
     "text": [
      "Ironic tweets -  1911\n",
      "Non Ironic tweets -  1923\n",
      "Percentage of ironic tweets -  49.84350547730829\n"
     ]
    }
   ],
   "source": [
    "import matplotlib.pyplot as plt\n",
    "%matplotlib inline\n",
    "train_data_ntrue=train_data['label'].sum()\n",
    "train_data_nfalse=train_data['label'].count()-train_data_ntrue\n",
    "values=[train_data_ntrue,train_data_nfalse]\n",
    "names=['Ironic','Not ironic']\n",
    "plt.bar(names,values)\n",
    "plt.suptitle('Train data set - distribution')\n",
    "plt.show()\n",
    "print('Ironic tweets - ',train_data_ntrue)\n",
    "print('Non Ironic tweets - ',train_data_nfalse)\n",
    "print('Percentage of ironic tweets - ',train_data_ntrue*1.0/train_data['label'].count()*100.0)"
   ]
  },
  {
   "cell_type": "code",
   "execution_count": 69,
   "metadata": {},
   "outputs": [
    {
     "data": {
      "image/png": "[encoded data removed]",
      "text/plain": [
       "<Figure size 432x288 with 1 Axes>"
      ]
     },
     "metadata": {
      "needs_background": "light"
     },
     "output_type": "display_data"
    },
    {
     "name": "stdout",
     "output_type": "stream",
     "text": [
      "Ironic tweets -  311\n",
      "Non Ironic tweets -  473\n",
      "Percentage of ironic tweets -  39.66836734693878\n"
     ]
    }
   ],
   "source": [
    "test_data_ntrue=test_data['label'].sum()\n",
    "test_data_nfalse=test_data['label'].count()-test_data_ntrue\n",
    "values=[test_data_ntrue,test_data_nfalse]\n",
    "names=['Ironic','Non Ironic']\n",
    "plt.suptitle('Test data set - distribution')\n",
    "plt.bar(names,values)\n",
    "plt.show()\n",
    "print('Ironic tweets - ',test_data_ntrue)\n",
    "print('Non Ironic tweets - ',test_data_nfalse)\n",
    "print('Percentage of ironic tweets - ',test_data_ntrue*1.0/test_data['label'].count()*100.0)"
   ]
  },
  {
   "cell_type": "markdown",
   "metadata": {},
   "source": [
    "#### Conclusion:\n",
    "\n",
    "While the training data is **balanced** in the number of ironic and non ironic tweets, the same can't be said for the test data set originnaly provided by the organization.\n",
    "\n",
    "In our second graph, its visually palpable that the number of non ironic tweets is significantly larger."
   ]
  },
  {
   "cell_type": "markdown",
   "metadata": {},
   "source": [
    "### Bag of words\n",
    "\n",
    "Now that we have the data in a pandas data set we need to proceed our path of finding an accurate model to identify ironic tweets. For that we need to parse our tweets to a **bag of words** model format.\n",
    "\n",
    "A bag of words is a model which tweet will see their words tokenized and counted by a specified formula. Where we have 2 essential paths that we can follow:\n",
    "\n",
    "* Use a simple counting of words.\n",
    "* Use the TF-IDF measure\n",
    "\n",
    "##### The process of getting as input the raw text and output a bag of words is called **Vectorization**"
   ]
  },
  {
   "cell_type": "markdown",
   "metadata": {},
   "source": [
    "## Initial analysis\n",
    "\n",
    "\n",
    "There are two important questions that we need to be able to answer in order to proceed in our model design and also a raw analysis without pre processing, this way we can estimate the level of pre processing we need in order to achieve a reasonable answer and also keep track of degree of improvement we have in each attempt we try.\n",
    "\n",
    "* Does TF-IDF measure perform better that a simple counting of words?\n",
    "* How good performs the simplest model in our dataset without preprocessing?\n",
    "\n",
    "In order to have a objective evaluation criteria to our final answer to this problem, it is important to make a fast initial analysis to the data without any kind of pre processing to the data, using the simplest model possible, a **Gaussian naïve Bayes**."
   ]
  },
  {
   "cell_type": "markdown",
   "metadata": {},
   "source": [
    "### Simple Word Counter Vetorization"
   ]
  },
  {
   "cell_type": "markdown",
   "metadata": {},
   "source": [
    "#### Train Data"
   ]
  },
  {
   "cell_type": "code",
   "execution_count": 70,
   "metadata": {},
   "outputs": [],
   "source": [
    "from sklearn.feature_extraction.text import CountVectorizer\n",
    "from sklearn.naive_bayes import GaussianNB\n",
    "from sklearn.metrics import classification_report\n",
    "from sklearn.metrics import confusion_matrix\n",
    "\n",
    "count_vectorizer = CountVectorizer(analyzer='word', stop_words='english', lowercase=False)\n",
    "\n",
    "X_train=count_vectorizer.fit_transform(train_data['tweet']).toarray()\n",
    "y_train=train_data['label']"
   ]
  },
  {
   "cell_type": "markdown",
   "metadata": {},
   "source": [
    "#### Test Data"
   ]
  },
  {
   "cell_type": "code",
   "execution_count": 71,
   "metadata": {},
   "outputs": [],
   "source": [
    "# Here we just Transform. Because the vocabulary is the one from the test set\n",
    "X_test=count_vectorizer.transform(test_data['tweet']).toarray()\n",
    "y_test=test_data['label']"
   ]
  },
  {
   "cell_type": "markdown",
   "metadata": {},
   "source": [
    "#### Model execution"
   ]
  },
  {
   "cell_type": "code",
   "execution_count": 72,
   "metadata": {},
   "outputs": [],
   "source": [
    "from sklearn.metrics import f1_score\n",
    "from sklearn.metrics import precision_score\n",
    "from sklearn.metrics import accuracy_score\n",
    "\n",
    "classificator=GaussianNB()\n",
    "\n",
    "classificator.fit(X_train,y_train)\n",
    "#Predicition\n",
    "y_predicted=classificator.predict(X_test)\n",
    "\n",
    "\n",
    "\n",
    "#Metrics Raw\n",
    "accuracy_value=accuracy_score(y_test,y_predicted)\n",
    "precision_value=precision_score(y_test,y_predicted,average='weighted')\n",
    "f1_value=f1_score(y_test,y_predicted,average='weighted')\n",
    "\n",
    "\n",
    "initial_word_count_conclusion=pandas.DataFrame(\n",
    "    {\n",
    "    'Our Results':[accuracy_value,precision_value,f1_value],\n",
    "    'Winners Result':[0.7347,0.6304,0.8006]\n",
    "    } , index=['Accuracy','Precision','F1-Value'])"
   ]
  },
  {
   "cell_type": "markdown",
   "metadata": {},
   "source": [
    "### TF-IDF Vetorization"
   ]
  },
  {
   "cell_type": "markdown",
   "metadata": {},
   "source": [
    "#### Train Data"
   ]
  },
  {
   "cell_type": "code",
   "execution_count": 73,
   "metadata": {},
   "outputs": [],
   "source": [
    "from sklearn.feature_extraction.text import TfidfVectorizer\n",
    "\n",
    "tf_idf_vectorizer = TfidfVectorizer(analyzer='word', stop_words='english', lowercase=False)\n",
    "\n",
    "X_train=tf_idf_vectorizer.fit_transform(train_data['tweet']).toarray()\n",
    "y_train=train_data['label']"
   ]
  },
  {
   "cell_type": "markdown",
   "metadata": {},
   "source": [
    "#### Test Data"
   ]
  },
  {
   "cell_type": "code",
   "execution_count": 74,
   "metadata": {},
   "outputs": [],
   "source": [
    "X_test=tf_idf_vectorizer.transform(test_data['tweet']).toarray()\n",
    "y_test=test_data['label']"
   ]
  },
  {
   "cell_type": "markdown",
   "metadata": {},
   "source": [
    "#### Model execution"
   ]
  },
  {
   "cell_type": "code",
   "execution_count": 75,
   "metadata": {},
   "outputs": [],
   "source": [
    "from sklearn.metrics import f1_score\n",
    "from sklearn.metrics import precision_score\n",
    "from sklearn.metrics import accuracy_score\n",
    "\n",
    "classificator=GaussianNB()\n",
    "\n",
    "classificator.fit(X_train,y_train)\n",
    "#Predicition\n",
    "y_predicted=classificator.predict(X_test)\n",
    "\n",
    "\n",
    "\n",
    "#Metrics Raw\n",
    "accuracy_value=accuracy_score(y_test,y_predicted)\n",
    "precision_value=precision_score(y_test,y_predicted,average='weighted')\n",
    "f1_value=f1_score(y_test,y_predicted,average='weighted')\n",
    "\n",
    "\n",
    "initial_tf_idf_conclusion=pandas.DataFrame(\n",
    "    {\n",
    "    'Our Results':[accuracy_value,precision_value,f1_value],\n",
    "    'Winners Result':[0.7347,0.6304,0.8006]\n",
    "    } , index=['Accuracy','Precision','F1-Value'])"
   ]
  },
  {
   "cell_type": "markdown",
   "metadata": {},
   "source": [
    "### Initial Analysis conclusion:\n",
    "\n",
    "**The differences between the competition results and our naive model are relevant. Preprocessing of data is required to improve this values. Other models techniques should also be used.** \n",
    "\n",
    "\n",
    "Other element relevant is that using simple word counting or TF-IDF doesn't produce any kind of relevant difference in the results achieved. For that reason **TF-IDF will hold**\n"
   ]
  },
  {
   "cell_type": "markdown",
   "metadata": {},
   "source": [
    "#### Simple Word Counting"
   ]
  },
  {
   "cell_type": "code",
   "execution_count": 76,
   "metadata": {
    "scrolled": true
   },
   "outputs": [
    {
     "data": {
      "text/html": [
       "<div>\n",
       "<style scoped>\n",
       "    .dataframe tbody tr th:only-of-type {\n",
       "        vertical-align: middle;\n",
       "    }\n",
       "\n",
       "    .dataframe tbody tr th {\n",
       "        vertical-align: top;\n",
       "    }\n",
       "\n",
       "    .dataframe thead th {\n",
       "        text-align: right;\n",
       "    }\n",
       "</style>\n",
       "<table border=\"1\" class=\"dataframe\">\n",
       "  <thead>\n",
       "    <tr style=\"text-align: right;\">\n",
       "      <th></th>\n",
       "      <th>Our Results</th>\n",
       "      <th>Winners Result</th>\n",
       "    </tr>\n",
       "  </thead>\n",
       "  <tbody>\n",
       "    <tr>\n",
       "      <th>Accuracy</th>\n",
       "      <td>0.510204</td>\n",
       "      <td>0.7347</td>\n",
       "    </tr>\n",
       "    <tr>\n",
       "      <th>Precision</th>\n",
       "      <td>0.556403</td>\n",
       "      <td>0.6304</td>\n",
       "    </tr>\n",
       "    <tr>\n",
       "      <th>F1-Value</th>\n",
       "      <td>0.509943</td>\n",
       "      <td>0.8006</td>\n",
       "    </tr>\n",
       "  </tbody>\n",
       "</table>\n",
       "</div>"
      ],
      "text/plain": [
       "           Our Results  Winners Result\n",
       "Accuracy      0.510204          0.7347\n",
       "Precision     0.556403          0.6304\n",
       "F1-Value      0.509943          0.8006"
      ]
     },
     "execution_count": 76,
     "metadata": {},
     "output_type": "execute_result"
    }
   ],
   "source": [
    "initial_word_count_conclusion"
   ]
  },
  {
   "cell_type": "markdown",
   "metadata": {},
   "source": [
    "#### TF-IDF"
   ]
  },
  {
   "cell_type": "code",
   "execution_count": 77,
   "metadata": {},
   "outputs": [
    {
     "data": {
      "text/html": [
       "<div>\n",
       "<style scoped>\n",
       "    .dataframe tbody tr th:only-of-type {\n",
       "        vertical-align: middle;\n",
       "    }\n",
       "\n",
       "    .dataframe tbody tr th {\n",
       "        vertical-align: top;\n",
       "    }\n",
       "\n",
       "    .dataframe thead th {\n",
       "        text-align: right;\n",
       "    }\n",
       "</style>\n",
       "<table border=\"1\" class=\"dataframe\">\n",
       "  <thead>\n",
       "    <tr style=\"text-align: right;\">\n",
       "      <th></th>\n",
       "      <th>Our Results</th>\n",
       "      <th>Winners Result</th>\n",
       "    </tr>\n",
       "  </thead>\n",
       "  <tbody>\n",
       "    <tr>\n",
       "      <th>Accuracy</th>\n",
       "      <td>0.514031</td>\n",
       "      <td>0.7347</td>\n",
       "    </tr>\n",
       "    <tr>\n",
       "      <th>Precision</th>\n",
       "      <td>0.550978</td>\n",
       "      <td>0.6304</td>\n",
       "    </tr>\n",
       "    <tr>\n",
       "      <th>F1-Value</th>\n",
       "      <td>0.516916</td>\n",
       "      <td>0.8006</td>\n",
       "    </tr>\n",
       "  </tbody>\n",
       "</table>\n",
       "</div>"
      ],
      "text/plain": [
       "           Our Results  Winners Result\n",
       "Accuracy      0.514031          0.7347\n",
       "Precision     0.550978          0.6304\n",
       "F1-Value      0.516916          0.8006"
      ]
     },
     "execution_count": 77,
     "metadata": {},
     "output_type": "execute_result"
    }
   ],
   "source": [
    "initial_tf_idf_conclusion"
   ]
  },
  {
   "cell_type": "markdown",
   "metadata": {},
   "source": [
    "## Data Preprocessing"
   ]
  },
  {
   "cell_type": "markdown",
   "metadata": {},
   "source": [
    "# TODO -> Remove non english words? / Tokenize emojis / Lemmatization "
   ]
  },
  {
   "cell_type": "markdown",
   "metadata": {},
   "source": [
    "## Data pre processing process\n",
    "\n",
    "The downfall of the initial results can be easily explained by multiple reasons:\n",
    "\n",
    "* We are dealing social network data. That data contains lots of useless information like links, mentions or emojis and also lots of slangs and non standard vocabulary\n",
    "\n",
    "* Didn't apply any type of Stemming or Lemmatization\n",
    "\n",
    "* Used a simple Gaussian naïve Bayes rather than a complex neural network.\n",
    "\n",
    "* Used the embedded tokenizer of sci kit learn rather than dedicated ones.\n",
    "\n",
    "* The initial vocabulary is very large. 14k words. This decreases perfomance and increases overfitting to the train data.\n",
    "\n",
    "* A final problem that could be related with the poor perfomance of the initial model is the traditional downfalls of NLP algorithms in finding contraditions. Irony many times has contradictions implied.\n",
    "\n"
   ]
  },
  {
   "cell_type": "markdown",
   "metadata": {},
   "source": [
    "#### Remove Web Hyperlinks from tweets"
   ]
  },
  {
   "cell_type": "code",
   "execution_count": 170,
   "metadata": {
    "scrolled": true
   },
   "outputs": [],
   "source": [
    "train_data['tweet']=train_data['tweet'].str.replace('http\\S+|www.\\S+', '', case=False)"
   ]
  },
  {
   "cell_type": "markdown",
   "metadata": {},
   "source": [
    "#### Normalization of Twitter mentions\n",
    "\n",
    "In twitter is mandatory to mention the person that we reply with their personal nickname. In this Social Network this mentions are done using \"@\" followed by a single word that identifies the nickname"
   ]
  },
  {
   "cell_type": "code",
   "execution_count": 171,
   "metadata": {},
   "outputs": [],
   "source": [
    "train_data['tweet']=train_data['tweet'].str.replace('@\\S+', '', case=False)"
   ]
  },
  {
   "cell_type": "markdown",
   "metadata": {},
   "source": [
    "#### Remove Numbers from the tweets\n",
    "\n",
    "Numbers don't introduce power to a language of ironic tweets."
   ]
  },
  {
   "cell_type": "code",
   "execution_count": 172,
   "metadata": {},
   "outputs": [],
   "source": [
    "train_data['tweet']=train_data['tweet'].str.replace('d+', '', case=False)"
   ]
  },
  {
   "cell_type": "markdown",
   "metadata": {},
   "source": [
    "#### Remove Hashtags"
   ]
  },
  {
   "cell_type": "code",
   "execution_count": 173,
   "metadata": {},
   "outputs": [],
   "source": [
    "train_data['tweet']=train_data['tweet'].str.replace('#[\\w]+', '', case=False)"
   ]
  },
  {
   "cell_type": "markdown",
   "metadata": {},
   "source": [
    "### Contradictions"
   ]
  },
  {
   "cell_type": "code",
   "execution_count": 174,
   "metadata": {},
   "outputs": [],
   "source": [
    "import contractions\n",
    "\n",
    "contradictions_fixed=[]\n",
    "\n",
    "for i in range(len(train_data)):\n",
    "    contradictions_fixed.append(contractions.fix(train_data['tweet'][i]))"
   ]
  },
  {
   "cell_type": "markdown",
   "metadata": {},
   "source": [
    "### Lemmatization"
   ]
  },
  {
   "cell_type": "code",
   "execution_count": 175,
   "metadata": {},
   "outputs": [],
   "source": [
    "from nltk.stem import WordNetLemmatizer\n",
    "  \n",
    "lemmatizer = WordNetLemmatizer()\n",
    "\n",
    "lemmatization_result = []\n",
    "\n",
    "for i in range(len(contradictions_fixed)):\n",
    "    tweet = lemmatizer.lemmatize(contradictions_fixed[i])\n",
    "    lemmatization_result.append(tweet)\n"
   ]
  },
  {
   "cell_type": "markdown",
   "metadata": {},
   "source": [
    "### Tokenization and Stemming with normalization of uppercase words.\n",
    "\n",
    "Goal is to reduce the vocabulary to the absolutely necessary"
   ]
  },
  {
   "cell_type": "code",
   "execution_count": 176,
   "metadata": {},
   "outputs": [
    {
     "name": "stdout",
     "output_type": "stream",
     "text": [
      "['sweet unit nation vieo time christma', 'rumor talk erv agent angel ask e escobar harli noth', 'hey nice see minnesota n winter weather', 'episo left ying', 'breath chosen notabl quot year annual list releas yale univers librarian', 'never old footi pajama', 'noth make happier get highway see break light light like christma tree', 'open first beer go long night ay', 'think woul support guy knock aughter rice oe eserv support', 'allow open christma ay', 'oh thank go entir offic email system ay big event santa know get xma', 'instea scroll facebook instagram twitter hour en accomplish noth', 'blooy upstair get chang', 'col warmth suffus one cheek pink colour tone unerstan unerli iffer textur', 'great mobil bill arriv text', 'crush great realiz never interest p', 'buffalo sport meia smarter us els get qualiti insight offer harrington busgaglia', 'guess cat also lost poun went vet fee time ay', 'tra sp efens ss brilliant trae', 'tri fin us batteri ie guess foun us ye bastar wan', 'pleas nee secon han embarrass esperatli phone', 'never care beyonc bc coul never get sens interview lack epth tho girl got', 'time hit book', 'thx flw flwthemus', 'love col winter morn best feel everrrrrrr', 'amazingli own go ecent money', 'wish coul tol', 'rain mae extra extra lazi', 'o great summari year got june th weeken birthay', 'see might show backgroun check woul eni catch right self protect', 'smh never knew someth coul halal muslim whole life somehow learn someth new guess', 'woner ay start work', 'feel like whole life wait wait wait', 'lol let ki know get morn thank tip', 'guy sure screw royal happi lester brain trust suck', 'terrorist pm syney gunman took hostag syney', 'twig sprig sec limit new social vieo platform', 'achiev serious fire guy ha ball call gone', 'yay anoth work ay', 'physic therapi want o friay', 'omg tell town', 'thought ha real coul fine coz fine oh wait fix cap lock', 'hahahaha mt kati hopkin call russel bran bulli', 'moment much stuff open', 'lol enjoy sleepi', 'love', 'naturopath sell aromat herb way apothecari sell noxiou poison', 'goal season goal jon sammel vs', 'realli els fish besi fish', 'think safe bet fit crime', 'imposs late start ress right', 'alreay run late car start', 'eci becom boss free time time left whatsoev', 'loyalti vs self protect loyalti vs self protect loyalti vs self protect loyalti vs self protect', 'american ki start play super miss', 'know among sustain co worl sure paramet measur posit', 'none big isrupt innov live come brainstorm bruce nussbaum', 'way peopl get unerstan isabl stare us funni wen', 'shit better shut stupi girli mouth concern men might think', 'oe tongu feel necessari tri touch high spee tool entist put mouth', 'tell govt pai job hye buy oversea onlin pay gst mmm', 'irk got lot move tri steal kevin urant one legg faeway', 'yr get littl nutti reach orang marmala', 'roger smile accur captur reaction receiv extra high phone bill', 'whatev happen guano ape ever make big japan', 'bmw sexi az hell slow inero quarter mile slow esign feel', 'let humil guar prie vaniti shoul allow elic thing', 'whenev get sa thing go think awesom futur look', 'ask go protect enemi shortli start lose frien', 'eliver hmmm custom hope', 'still', 'hey heyi want rockstar hero', 'awk moment tweet first', 'waa mockingjay part tahon epan meh nov wtvr night museum', 'nice see ambul servic import mp', 'love final week', 'fuck copycat although name mint act share probabl alcohol fill celebr', 'liter crie woke know ay store reay', 'isagre w tra three pick one glare hole numer posit ass backwar', 'oh make better', 'start watch tuor earlier', 'get start make money social meia', 'knw react everytim sum say wheelchair inspir live ue', 'get aht tahn mae pgh gift guie via', 'lunch break sleepi', '', 'ue sai better think har take chear lmao', 'ritual part one', 'overcast creso', 'en fast enough stupi ea batteri', 'even alreay see go woner ay', 'iea oper ever escrib race polic wear color blin glass', 'russel goo christian fella woul', 'appar youth group think ki efault express nomal face', 'hey jay tune sai cocain talk toay tweet coke joke saw escobar th', 'interview turkey ha say', 'plann earli night last night oh yaa cours happen', 'last retweet though', 'v match fun', 'lovee bein short sweatpant go way uner feet fun', 'love wake saturay morn go minight', 'ay rule got follow wht ay lollllll', 'jusuf nurkic rt clearli lot talent kin amaz enver got gari harri mcermott', 'even progress thesi ta prepar event thursay', 'gym go reeeaaalll nice ate tomorrow', 'soni pull movi bc scare countri even keep light night even motel better', 'ha nice hour nap pick chines take set watch ae water chestnut inner', 'bear probabl worst franchis footbal moment', 'piss chicago like peopl airport ruin mani peopl chanc ever meet boy way go', 'hell frozen liter', 'write name paper take pictur busi answer question oh', 'marshmallow worl winter', 'take bike raini col ark street entist yaaaay', 'rea barack obama barack plaza oh', 'face tire man hahahahah', 'want turkey', 'happi small servic', 'choos wor care hurt someon feel right way go', 'joke thank etail respons commun custom', 'asalamoalekum kesay mizaj thank much post n ecemb alreay', 'feel artsi tonight b e apart', 'show mom pictur say grung goe haha love', 'explain inter went calciopoli juventu', 'pray go come back america save us', 'appoint reveren libbi lane', 'sa someon rink treat like shit talk', 'provi structur ensur success invest real estat', 'ask liber tell obama got us iraq afghan war one ever ie uner watch', 'sick look tweet oh yeah sex', 'work oubl hour sleep go let us get', 'love time year', 'news ha goo night sleep week feel great', 'pure', 'chang everi ay enjoy', 'happi n anniversari sgv happi ot client woohoo loooooov job super year go', 'thing life seem music meicin octor', 'guess mean msm ig someth smear barkley', 'jimi agbaj fine man respect public servic notabl lanmark achiev test jimi', 'goo thing ha enough surviv neee', 'elay happi', 'fun part rive winter one clean snow yet', 'miss ay close frien live citi', 'claim russian athlet take perform enhanc rug surpris', '', 'shoutout mom hella support', 'may also see flag isi govt ch nisar amit', 'funni', 'want perio relat post like post person thing instagram', 'exot brunett get littl tight butt nail right offic esk', 'time ufc press confer tomorrow name numer fighter get cut', 'high sea fish boat alleg blow sea', '', 'like listen truck river tell go strip joint old lay get', 'hate go back old format pleas', 'week joke jessica niec', 'serious bought giant tv play box', 'haha fuck say someon', 'want hall eventu ask trae hope consist messag chang much might well start', 'wow though sorri granpa use mac ay', 'like first one never care enough watch sequel sai watch', 'blue enough vacat ay', 'bager crusa continu gloucestershir bager patrol trigger illeg trap fear', 'also support instantli murer year ol fake plastic gun public park', 'aunti call sai way better get ress', 'ahhh betim miss', 'ner bit fun georgia chill comfi', 'think hotel owner', 'one ay want travel bestfrien one travel worl', 'fan come secon thank', 'return kin call frien label unkin', 'sometim unerstan anyth', 'cutest thing ever', 'oh love ass big fit jean anymor', 'oe lucki fortun mean thing', 'enjoy steal husban hat everi awhil', 'tweet context histori make clear bait', 'insan o thing twice expect iffer result', 'hour sleep yay love life', 'wow look hotshot', 'wait play beta x', 'contempl respon tweet say remain prie sure well go', 'four hour soun great', 'oh istrict line major signal failur elay fantast', 'sure en well', 'countri music photo eit type morn', 'lol micromax promis servic', 'har choos pleasur pain', 'arian rais way mae nfl mayb thought woul motiv ki get', 'hear cri littl finger toe count mari exclaim perfect oh mari cray cray', 'secret name lizar squa like ruin peopl fun time follow rt billion fun', 'sexist articl aili fail men wast money cycl accompani recommen hanbag cost', 'tweet flip phone efinit', 'yea coupl school play black black omin game', 'forget join night tonight start pm', 'think ever seen love actual way trie last year rememb', 'nephew stopp lot long hair look like rug ealer never smoke anyth pill aspirin', 'ask permiss yeah go away', 'answer artist', 'play provinc like oh mississippi', 'church sign ay woul feel celebr birthay without', 'wor man sexist say mail man instea mail carrier', 'know rea right blin lol', 'yeah talk boi cop kill bk ambul immeiat elit finest', 'love weather', 'psssst spelt thing wrong', 'ay sabbath', 'tough ay sun costa teguis lanzarot', 'exclu bf map poll go riot realli want sein cross back woul pay', 'love hour shift', 'whole thing hang women right cat fight imagin pull left', 'yea yea logic', 'cb noon fox', 'aaron sorkin goe talk like meia talk soni hack use meia bitch meia', 'argument insan', 'rememb way ppl listen burn store', 'finger smell like lavashak', 'juncker receiv birthay surpris one million signatur oppos ttip ceta', 'forev forev', 'last ay napl emma girl', 'say', 'anytim cash accept everi use towar whatev want nee', 'nah better act like north korean govt polic peopl privat thought', 'year old got think maci', 'blow nose har ear pop greatest way start wenesay', 'toay court proce allow prison access book englan wale sure confirm time limit juicial review', 'yay love awak morn', 'slow start morn', 'get power win outat unsightli shoul siphon irectli sun', 'realli look forwar wake earli final', 'oh love listen fox news backgroun open present', 'ba anonym occupi peopl support white supremaci', 'well complet well reason thought argument chang min', 'yeah still laugh even funni still laugh', 'got joke tootin horn somewher', 'got go thir forth fifth wheel', 'cc last tweet wayn worl great movi', 'zero place karma train fin raiola hope full hea steam', 'earn cash post tweet get start', 'oracl winow shoul fun', 'last ay class except final whoop', 'blame everyth els', 'rop oil price thank gooness work har tri tie economi oil ga sector', 'sing along song korean part english sing korean accent', 'save work folk offic cntrl alt elet week', 'gla tweet ay text back', 'masseus offer sooth massag way review offer sting critic', 'show apc free fair parti intellectu call emocraci ictatorship', 'accus boomer', 'hungri hungov', 'oi na function right', 'liter know', 'oe pti apart whine', 'true', 'tell someon spell correctli complet fuck tweet', 'solo costum far charcoal grey bottom make real progress', 'pay ghost solier iraq cut pay us', 'start mae winow nois start excit ay mine', 'one love', 'nee rose wine', 'yesteray top tag toay thing twitter nation seem concern', 'whole life oh ok', 'leg snapp alik twig complet front flip scream like hungri newborn babi', '', 'alreay tell toay go woner ay', 'junior got rim shot rim job joke', 'foun reason weeken closer make life miser atheist', 'stay', 'problemat go bless shame one pakistan', 'trene awar j k rowl releas new book', 'sa local', 'wtf thank say bye', 'ahh got love ecemb electr bill', 'ea stupiest meme still perpetu', 'someon retrica wali pictur complain mani filter someon use pictur look pretti', 'great got lung infect fun', 'jeez love morn', 'nee spot birthay', 'think know', 'love peopl leav smelli shoe car make car smell great', 'rush leg still attach right abo', 'mph win make great hair fan photo shoot', 'got love work ay christma', 'go gele struggl ystocia vali excus want see lack reaction', 'love concept harass spam porn critic proof hate group', 'thing love come work earli everyon ask earli get everi time', 'thank noth famili fli kl atten we', 'know put reck countri clan eserv anoth ay even month', 'coul someon make hot chocol right ahaha', 'restaur wi fi beach wi fi famili parti wi fi hell wi fi', 'love type work spier come keyboar hang finger', 'either', 'realli unbeliev mean thug crimin', 'alway go uphil battl sometim go lose', 'toay feel like o anyth', 'light two nyp offic inspir shoul', 'ef came closet unk', 'peopl school talk sex rug awesom', 'perfect time get realli sick', 'funni', 'thing', 'bush fulli inform cia metho realli shock', 'jei min trick work servic guy gla ropp car oil chang instea av', 'often worri wealth oe enough influenc societi pleas see aress', 'women say man aslt long say sumtin young parent hotel wit grn ass man smh', 'new vinyl turntabl tonight joe', 'call bottl job take teeth yeah game mate train tonight rememb hat', 'hel back start never late start', 'funni', 'song ay love like winter fire insi', 'thank occ concern enough safeti rive school cancel class', 'oh sprint love', 'finnish jax', 'hea nana place go fun', 'big thank teacher four test take tomorrow', 'last semest ropp class ha write pg paper semest ha write', 'workhors practic glue han', 'prevent bloo clot like stop bloo circul', 'bet sunerlan en', 'thank mother natur give us snow ay twitter fill peopl complain', 'know go great ay garmin reset spill cinnamon', 'written gol gel pen wait hate relationship consist twitter messag', 'nee experi say least', 'johni ur crack facebook chat mate', 'weeeeee love xbox live playstat network ue hacker christma', 'biu offici announc uber stake biu market cap billion uber shoul top next vc roun right', 'check', 'love abl sleep', 'psn xbox live ay mani peopl get new vieo game north korean hack', 'trie cut past tweet sa mine got go green consult timelin', 'serious loveeee much care', 'know awesom gear slier olli monitor etc get eliver en film', 'ayumm chti brown maaayuun', 'tomorrow prouctiv work woul hamper', 'stay faith stay singl', 'absolut love wake snow', 'believ n suck', 'ye repli public ollar use lack transpar aroun union pearson express', 'jet pick raft ironi blow min', 'like nee remin bp cup competit ate', 'awesom well eserv', 'ye vote satan', 'moron one ever sai ball squar', 'frien bring fuck ha male femal fool', 'quit interest number coz manag rea sure make', 'know abt goal never cross line', 'obviou case case iffer thing cannot co relat thng sentenc', 'aw thank mother natur merri christma', 'event ay', 'ay joyou ay speak home', 'wr ime ozen complet replac packer overspen retain', 'japan want japan prime minist shinzo', 'got tampon', 'hear us talk nb power recor number outag', 'woul nice right true call burn money', 'truli son', 'love question test morn', 'eat raw well', 'nation hockey expert sussex rive join', 'look like right', 'shown speak famili yet', 'let us squat ealift hurt realli realli goo trainer', '', 'first photo infin vision gt concept emerg', 'racism pool liber emocrat emocrat must foment racism ivis maintain control ivi conquer', 'topless feminist look someon love', 'feel ba american peopl shoul inva countri kill chilren save', 'goo frien', 'wow funni', 'floss ate right', 'reason given wait expect call foun chosen meia announc', 'ill see', 'sysig clou fascin worl linux system call remin solari trace ay earli', 'realli nee get nail eyebrow one tomorrow slack', 'one obviou see oh clever iea gla approv', 'replurk acatholicpray lor jesu christ son go merci sinner', 'bet warmer nova scotia toay', 'bbc news new forest roa safeti campaign onkey kill car', 'suppos best move ars anyth put wrap present', 'thank awesom support page much appreci', 'aapt snoopi comic acaem paper submiss p review stuff nightmar', 'kin love got voicemail seat neighbor woner yet constantli sell ticket never ask', 'happi new year meeeee', 'georgia nativ play morn', 'sanjay utt ask parol meet wife wherea husban want parol wive boy exist grant', 'eat everyth tabl noch buena', 'let us get anoth big win vol bball keep go', 'spit rose still rose', 'want upgra io keep mani pictur yeah great', 'alert pleas chang relentlezz tune', 'half worl starv half struggl lose weight', 'like regret anyth mae smile ha ha', 'at kno winter', 'like creepi guy ask ranom question swic', 'someon stop obama usa shoul relat human right love nation like saui arabia terrorist cuba', 'watch father aughter fuck young', 'vote someboy latvia way import vote best player', 'marvin lewi clearli think highli johnni footbal', 'final week rain boy much ruin life place love', 'write math final realli excit', 'pull school first time life goo moo fin oe start anoth hour', 'rag feet smack lip scowl empti street scream phone grace', 'say misti johnni mathi one favourit', 'scari bollywoo film watch bhootnaath', 'rea news le', 'love work har tri fix peopl fuck up', 'went neck eep swamp toay fun', 'wrap show kii ene berkshir', 'go nee k state play littl better love see team action beckthi', 'four girl lot rink strap', 'noth like wait airport', 'love custom', 'better bust aluminum hat', 'one night', 'univers alway help', 'one time feel hea', 'must toler embrac peac islam faith muslim peac brother', 'toay lectur crm invest sharehol valu excit sleepi', 'wait hour rive back home', 'left lunch home swansea canteen outo gener well price portion foo', 'oh soun like great plan', 'oubl stanar alway fun thing', 'com sinc parao', 'mayb iffer propos girl wear iffer shoe guy wear iffer coat', 'far toay burn tongu coffe saw ea guy freeway chipp winshiel truck', 'ceeeeebz work allow ting fam', 'ha sleep got school happi', 'love love love left sie face swollen', 'nice see amit error slightli iffer earlier stat', 'thing mae go harm us given us lesson teach someon weaker', 'goo old ay', 'mirror mirror wall fin happi', 'alway great way boost self esteem', 'pretti sure snowman problem', 'watch granpar parent pay bill realli excit futur', 'yeah nice hair babe', 'carolina beat tampa bay pick sheet tb win', 'guess stop insult', 'tripp feet three time hall', 'feel like crap toay instea rebul rink someth healthi', 'fuck meia exam', 'particip th forum profit', 'whoever run yeovil town fc twitter account shoul fire start line look like mxit fantasi leagu team', 'teen name bu weisser arrest cop break st loui parti store', 'length shoul forget funament commun sanghi hinu fanat rss backyar', 'electr gener kashmir illumin whole inia pm illumin', 'british worl champion one eman popular sport earth yeah cours sarcast', 'least got spine feel pain back', 'pour rain sing woner time year walk offic', 'hahahaha best asian style went group pretti boy wear black suit tie bow stylish', 'paper sharp someon shoul put ban paper', 'jonah hill funni kevin hart smith jim carrey sacha baron cohen', 'thursay arizona court appeal orer lower', 'oubt week coul get better', 'amn via', 'shoul get lol', 'realli love critic zoella let rest pleas woner woul', 'bring work hoop one hit', 'transfer fun given nottingham forest team transfer embargo', 'galliani alreay jump chang room like iscover seeorf tol along thing pippo say', 'hey alex thank support fb page success', 'peopl speak law protest fight justic', 'ohh climb rope like everi commano super talent', 'probabl go fail tomorrow yayi one irect', 'fee flesh bloo make alley way smell terribl', 'sleep meicat like ambien better rt alcohol oe sleep', 'einstein woul amus strier jump aroun time', 'love bliss', 'last ay pk riga hotel', 'well morn go nice', 'sa christma jumper thank super fast eliveri', 'love wake everyay run mile favorit part armi', 'via', 'eal negoti gtaa eal hien built price tix secreci', 'yup must goo ivi leagu eucat oe alot goo', 'live small worl ay stori en australian news', 'one pleas cri', 'love life', 'half eserv yet ever want', 'protest peac forc stop earn livelihoo', 'use algorithm learn class far fine substr use fast fourier transform', 'shakespear great', 'gunman also sai monitor social meia activ', 'anoth case away la put song tell north lonon', 'ecri hate crime bosnian man back old game incit hate torwar muslim', 'sat ecemb tabl book r inclu bottl mixer uh oh smell much love', 'get fat honeymoon', 'say obama inoctrin rigi ieolog', 'lol timehop guy though', 'yeah set overwork rooki pitcher total okay', 'putin prais constitut court efen arbitrari action part govern', 'coul help ba person', 'love watch liverpool truli inspir', 'ae vieo playlist moer beauti box review giveaway', 'search christma gift bc procrastin', 'say realli excit brenan fraser birthay tomorrow', 'infam pepper shaker replac', 'save manag make money join make', 'lol show name show got quit snake hurt arm', 'cia report highlight stark iffer b present former aministr approach nat l secur', 'guy serious nee tri game', 'thank notic', 'well weeken nice monay', 'gla work', 'whenev write anyth wor immigr happi back forth', 'gunna sit', 'probabl contract work free', 'yay anoth outag less hour keep goo work', 'happi birthay toast honor tonight', 'liter plan everi night entir vacat', 'kevin urant pt shoot nigga ineffici sinc came', 'alway look super cute guy come fix stuff cono', 'wow neat nice mini tour belfast well think shoul ask one xma larri', 'skar', 'got han realli', 'thank go kany give unknown help', 'goo thing scare clown kinergarten teacher ress one toay', 'love hair frozen', 'uncertainti principl whatev stuy also chang', 'gla', 'cool look cool min nee parti night', 'hope tulisa oe get job back next year', 'soccer game shoul fun toay', 'know freo broke heart', 'realiz watch week episo egrassi eventu get aroun', 'mall take year skin seacret miner ea sea', 'ok get ta fix', 'fit purpos sort', 'wie awak right', 'kohli show gut scoobi oo', 'opinion affect go keep live life', 'one long walk', 'work christma eve christma ay wait', 'hour car rie sleep car yayaayayayayay fun bff', 'oh tipp gamerg han know en game', 'thegolcoin class one research', 'chang gazilion time configur check upat nice everi five minut ask upat', 'alic ana tlw x part', 'halfway thorough workay woooo', 'think secon rown memori worth whiskey', 'got love effici two ay servic', 'secur cartel charg huge sum money illeg cross us', 'one favourit thing go fanshaw walk z buil', 'argument butler moral', 'wave epic', 'ba cnn conceiv stori', 'woul tell ya woul unerstan', 'ropp new singl singl', 'even explain excit tomorrow', 'spice girl woul pick', 'gotten tree yet xma tree nail wrap avail', 'welsh evolut starter', 'alway impart especi special ay', 'gla h employ enough staff toay', 'aaaaaaaaan back er hooray sleep', 'ye cours use lot ay violenc illeg', 'let rywal christma alway want', 'feel well', 'shoul christma number', 'via', 'ay th anniversari brave critic abanon conformist', 'realli nee shoot someth soon', 'also woul tone joke though ifficult properli convey tweet', 'like qualiti go great free ownloa', 'know amn thing basebal', 'ye much logic support crimin attack polic offic protect life properti', 'go origin plan', 'larg compani pay tax get away iniviu pay get lock fine', 'upper eck efinit seem like philli south', 'get miterm back great start ay', 'woot woot whiteboar friay favorit friay activ', 'life requir one strong iffer time wear brief pant nee lil lust see', 'sign guest', 'well play matt well play', 'roger briga', 'holi fuck lyric fit goo movi interstellar', 'porygon foun com bulbiest follow', '', 'lol reckon jest hope', 'toay ay', 'nee excus pop open ream mconal gran cru', 'expert oubt north korea hack soni cb alla fort worth', 'raier guess see thing play tonight', 'oh hello flu thank fool think gone miss much', 'wor come mouth rich', 'show vali railcar charg full price anyway great servic tamworth', 'suenli w waa', 'sail', 'romant canlelit inner two woul cost less switch light eskom pic', 'accorng lawyr evienc support sie coul hav support mani iffernt scenario warrant inict', 'fan nee hear tho rt wenger never quitt sorri la year', 'prayer answer', 'fulli charg portabl charger last hour awesom', 'nee water pastur', 'crackhea uncl hbcu famili everi hbcu alabama look alabama state sieway lmao', 'respons alway seem attract respons', 'girl rock thang', 'christma shop one', 'lol cthulhu funni autocorrect help', 'son thought love take snack class alway think other right selfish', 'year old whatev age igaf act like immatur littl public yup classi one', 'upat punt ostrich januari via', 'hi plain sight', 'get cynic karna', 'toay awesom', 'nm silli see websit', 'heh fat', 'love ranomli wake everyay multipl time', 'christma shop hr sleep go fun', 'stay tune runk vieo mom', 'call en hole sign referenc', '', 'realli know treat girl', 'upat lie support theori', 'chap seem bit sex go extrovert must overli masculin voic emeanor', 'bombar countri', 'soooo eep', 'realli big support like sheriff clark sai theatric', 'feel like play ref game clean wall block ref took away ugh', 'e sheeran smash tune victoria secret catwalk ginger legen', 'well pain makin feel sick anymor better big fella', 'thing racist one race human', 'ay left enter planner enter win', 'walk mall front group guy hear even momma got jesu lol everyon love polli', 'okay snow sleet', 'pleas instagram xma present ying see', 'patrick kielti host raio comey awar', '', 'ecb poner best act whether reuter', 'worl greatest war min invinc one go within min', 'love see guy go text school zone', 'lolol', 'waitlov', 'main issu walk ea forget breath watch blooy goo', 'bit sweati time get', 'becom love athlet new citi', 'earli awak', 'wassup buy everyth look boss kupotea nayo acha hizo bro', 'great ppl one public mea culpa sinc happen', 'teacher gave feel sorri look must look realli aorabl', 'gift go improv skill', 'oh matur girl', 'use white maroon xma tree', 'sure staff hire', 'love work exhaust time', 'hate ranom peopl get hot tub', 'problem express tribun', 'si ms euc heheh clear ignor', 'worship b c oe research call everi els ignor guy', 'wait see ig pic peopl brag got', 'beneryl run allerg reaction rug liter save million live everi year', 'quizfreak xxx', 'submitt final paper semest make break whether pass class big eal', 'peiatric gran roun statin therapi yslipiemia obes breakfast offer gran platter onut', 'stomach upset stomach upset', 'ba ki az hockey oe work esert', 'ohio state put match', 'love see peopl rea facebook privat messag repli', 'nee new boot birthay new boot mean like pair', 'ever care get see sieg ene first great journal', 'tarmac spee hump cut go instea bit bit brickwork isintegr scienc', 'go go power ranger', 'goo way start new year', 'sit hall fun', 'roger nee go man think woul ever say bought shit player', 'pleas rt', 'think gorgeou thing worl', 'cam newton engag en year wait lmao byyer foolisha goo night', 'lay', 'know right like lap anyth better istract noth', 'orersvu rapper go act', 'alway love famili last one open present', 'cours nervou hyperventil fun', 'take ba', 'haha go icelan x', 'love knee click', 'uniti stan white peopl', 'franc impe free market capit socialist franc rock suck franc', 'ugh make stop', 'trip walmart mess alway fun', 'fuck yeah viewer', 'lot ingreient specif like lot lot', 'gla awesom', 'want cri cri omg', 'oh aye give', 'alway nice year old man know call pretti', 'expect sort appl quip guy joke news tbh', 'mostli lr store epen get woul say ten split', 'exten trae tell peopl exten trae best iea ever', 'nyp blog feel safe protect', 'professor moustach uneven mohstash woul asham right', 'repli ay mean week', 'night took hour nap reay work', 'come shovel riveway owe help becom man toay', 'life aili basi', 'wow seem turnt', 'sleep wake next ac game leak', 'heaven help fool wrong', 'hate plane rie want go mani iffer countri', 'oh lor rt rt becom actor tom cruis want cathol priest', 'fun ay mouth two teeth rebon one reengag get wisom teeth', 'ummm pleas christma ang look great tonight go thing tonight', 'yet anoth raini goshen concert night', 'write hunr tweet kejriw everi ay go eclar irrelev come inian polit', 'sink teeth sp fail vt', 'politician busi scuffl o job yet malign pakarmi', 'yay work', 'ik love col western civ class western civ', 'excit new check articl', 'go', 'stage', 'alright ream last night coul life fall asleep', 'best realli tire final get wie awak love', 'travel tourism morn favourit lesson whoooo', 'girl frien upcom movi', 'bring back youkili rememb year old youk charg moun year old porcello ropp', 'amaz love team scrap alway fin way ine', 'woul wear size hahaha', 'san iego amaz never come home', 'favorit part isloc shouler abl feel roll aroun socket', 'success morn o essay', 'knock knock', 'gah esper tri bust col', 'yay worthless winow upat comput still never sleep hibern', 'applic alreay fill wait turn', 'sourc say patrick schwarzenegg miley cyru ate', 'watch last ever one tree hill emot wreck even clock', 'make perfect sens get someth happen year ago', 'young unerstan', 'love carnousti beach morn', 'year wl fill w raini ay cool cool way start e year', 'collect', 'bought peopl gift year', 'well one make possibl get emerg messag member staff', 'rememb buy book onlin', 'see respons time goo phone line hol music legenari servic guy', 'thank clear everyth koenig', 'moment next philosoph lack skill', 'busi staff stane peopl queue', 'sure miss owntown alla traffic', 'e cut gov spene harper one w public sector job injur economi multipli effect job', 'remin younger', 'fear loath la ukra', 'someboy wake earli tomorrow face weir ach back sinc earli ecemb think relat maaka', 'funni lolololol', 'see reign lame superman punch spear gee wait', 'ying birthay fail e', 'love col winter ay never know car eci start', 'time listen ppl complain bout lot life bec cunt make anyth yay', 'pick great night want sleep', 'hot humi wear ugg wow nice style', 'omg ye final friay favorit', 'realli ifficult bark back pm ing aughter bae tweet', 'kick raiola leagu', 'toay awesom', 'oh joy season christma came earli lea', 'freez hazi want go home', 'wait see talk never', 'fin peopl iffer iea way life interest', 'orer new pair unerwear victoria secret', 'tottenham en', 'orer kona grill fast foo sushi place elish', 'col ha scrape winow sa selfi got love live hotel life', 'lol throw mile finger pictur anymor oh ba', 'ay someth rea cosi hous', 'climat chang reux californian experi rought vote bon cover climat chang rain year', 'mom tol fine', 'look realli awak like mae effort toay', 'ove wrapper tol mischiev anyth happen extenu extern attribut blame', 'kiss cheek enough love bot', 'bane wear cloth', 'yeah', 'hula hoop hot chocol law revis break work fill glamour fun', 'still tri eci terror omg', 'fanom show matur sie alway kin topic', 'love put flobeam mech back togeth', 'like tynal system think robert hubb shoul play give us anoth scorer consist pt shooter nee', 'fun', 'love penguin maagascar', 'woul realli want watch', 'remember new year kiss', 'w crawl great start thursay', 'realiz name comic san creator mean asshol french', 'khallilah henriqu nnn mostli soun blone morn confirm race relat minor', 'super ignor put esper plea', 'bhopal victim get justic aft yr fin place prime man travel busi cl prime time news', 'link relev coupl ay', 'think burgerk work sjw fri salti sjw win awar', 'white hoe', 'caribbean girl anthem caribbean girl stainless mob store onlin', 'seem erogan sen best regar eu', 'yay famili leav go seneca leav fen', 'aww poor thing feel ba sunni floria know hanl', 'ca h tweetin bout newsvi start beatsebt', 'smile smile smile smile smile million peopl stare piss pant manic laughter smile', 'casper frienli ghost level', '', 'put muhamma ali fin twitter quit blasphem offen', 'yeah english stop say jane wor', 'law park resienti street opposit sie roa face wrong irect', 'goo job sex marriag harm free speech new ontario juge wrote', 'forget true mean christma', 'um realli', 'miss alway respect', 'miss see face rex han everyay vlogma rexemoji', 'gaw love lectur pm lectur', 'wear ranger shirt flip crow hometown boston much', 'sinc train fare get expens jesu might aswel rove shame rink', 'citi sleep mass transit', 'hate babysit sick want sleep', 'zero resect emarcu cousin', 'uhhh sleep someon like n text phone ry ass fuck fr', 'joran fan hater', 'r women consier inferior men societi even wen famili ay men nee women ecis make', 'fine compani', 'well becki lonon nan big girl start new job tomorrow haha', 'okay know play lou music ure quiet hour perfectli fine', 'american mum', 'begin look lot like intraven', 'love famili', 'probabl scarr clean lay half eath know home', 'even alreay call cop twice amn love job', 'oh crap mac shutown corrupt iphoto hour rebuil ahea might well eat rink', 'great hear bloocurl scream morn', 'success avoi everyth season seen one timelin thank ini', 'amazingli small opportun sustain life go fee anim kill', 'get british weather rememb check uner car wheel small anim like hie uner car', 'rewar work place teacher stuent reuc noth number test score', 'physic exam quit fun', 'photoset leupagu itsxani thefingerfuckingfemalefuri sevenpoint get pai enough put', 'offic singl com cesta follow', 'go metric inch mar mile km way', 'visit great nephew ill fair', 'anw long noth go rn still forgiv promis forget', 'via', 'oh posit balmi c', 'may', 'eci realli fun thing left hour sit exam write x min wor essay', 'accept way', 'love wil ignor embrac hate still think hol moral high groun', 'kiss cheek next time enough', 'clue talk well first', 'ba game last night way go packer', 'great christma', 'floria author say polic offic shot kill', 'wrong thought fin way oe lea', 'player penal play efens awar avi ortiz bare averag base war', 'unit next semest plu work ye excit', 'nee start go earlier smh goonight everyon shoul say goomorn haha', 'tri nahe akhtar nayyara noor gol stash', 'iea bra woul oghous', 'bbc news skywalk passport cancel frivol', 'jami took account worri', 'final worri free year', 'tomorrow afternoon ske area wecp p p wpgx p', 'uh owner fire gooell guess get rais', 'surpris mani ppl block', 'cup tea say fame top leaer', 'much herb new tren pothea contribut societi mayb arn', 'exo come soon better pray better member sigh either way obssess fan woul still obsses', 'big fan flock support tcu ou beat texa loss wvu manhanl lol', 'limit number press seat avail meet screen austin januari hit press type', 'coul fin letter biner fin', 'mani anim oe peta kill everi year might want point ci inwar', 'love wake feel like insi chopp tini piec set fire', 'sure wow ninteno achiev soni alreay year ago', 'show us even though', 'hmmm woner astec one fewer employe', 'sure inconsol', 'listen rain', 'yay get pink eye', 'wow great banter', 'na richar iii thrown surpris evienc infiel famili tree well shock', 'great sleep hour feel like million buck', 'honestli clue woul hope sinc surveil cam seen show bare anyth', 'peopl get best', 'like vieo new chocol bar palett review semi sweet vs origin', 'wait appoint tomorrow oh time pleas spee toay', 'look brige without cri', 'love never fall asleep', 'wast time', 'trae mccain bien help republican mccain time mccain woul emocrat', 'happi monay hate monay', 'hole rule anymor', 'oubt woner xma make ppl crazi', 'get yo lazi butt outta thank prove point', 'much lie eceit', 'like vieo wwe k ps career moe ep tripl threat wwe k', 'hey enialcsgo eci want replac new player noboy safe', 'time chang crazi everyon like woohoo let us live life like slept yet', 'playoff legen romo', 'via', 'thnx sort thank tri help thaku repli', 'know realli love', 'amit fatima bhutto instagram account pic ranom shit ppl follow keep post pic', 'love toay go', 'tribut brave eleph simpli efen famili', 'gave hea orz', 'nice final sun even', 'still wait son happi enjo christma gift unerstan prevent', 'count pushkin en fvckin night smh', 'home final way start christma break', 'argument obvious impact fact famili tsi appear', 'got tonsil goo luck', 'counter argument rt osu lost last night baylor woul woul talk benefit big champ', 'oh get see queen garen aress nation alway want', 'oh love faint ranomli', 'jambo buy see scottish ientiti emerg hmfc john wilson type travel govan', 'joy wake sick abl use one arm everyth', 'photo lou say quitter never even', 'far import problem know money', 'contrari wie awak caffein inject conscious', 'mani best iea come finger fat keyboar', 'time babi take meicin get better', 'yet anoth million octor visit tomorrow stoke', 'f xlt mulberri fl', 'problem actual rt tough roa trip win coach strong', 'roll royc envision woner peopl mansori', 'efinit friay reason tuesay yesteray monay shoul friay', 'never seen', 'last ay school much fun much peopl came shocker', 'besi overpric holiay canl seen one eal worthwhil toay brutal', 'weather love walk work', 'campaign hour ps still better bf campaign tho finish p', 'noth like wake financi formula yay corpor financ comprehens final', 'pick great week start new show netflix', 'bay lili paint', 'yup exactli', 'ba pictur seem inic still horribl person', 'like', 'believ even consier renam acaem buil perri b c much great stuff public euc', 'nice', 'check youtub channel', 'great week ictat congrat north korea cuba', 'boy anoth col spent night cough sneez', 'hear back yet', 'went check way late sleep bam never fin import tell', 'whole worl never get level', 'o great job keep peopl safe', 'think woul matter metric english oe unerstan math', 'wing wing cours boy', 'uofl stuent ticket polici well thought plan goo job sga', '', 'rant pregnant juge buy bottl wine pose weekli belli pic front wine rack', 'get aroun', 'oh right know john parker pisshea', '', 'event weeken', 'awesom estin site high popul k super easi get lot great site well', 'kyle let yeah grown ass men fast car give af lol bring room hooah see ya bit', 'wrong watch film follow twitter', 'rememb last time saw newish gti ever seen golf r chang', 'realli realli want appl pie boilo', 'soun high safe short term use ramat increas antimicrobi pepti bloo', 'ostentati showi isplay esign impress wor immeiat think see woman fee chil', 'queen countri yet go estroy english citi attack english polic lol', 'congrat still sasmvt goo run ulitin nalang ulit ang peat next year', 'malawi stuck joburg fair', 'someon coul come give massag woul gr', 'play back groun work ohhh p', 'favorit thing tuesay write psycholog paper', 'yay earli morn protestor', 'arizona coyot forg eal bmw reloc', 'hello give guess xbox core servic fix', 'joel olstein man harli ever mention jesu sermon go talk mean christma', 'o toay', 'unerstan tlist rea inamorata rea inamorato lmao prob lol', 'two marijuana look happen', 'slay igloo australia home countri lol rt nicki slay new zealan', 'see shoul use version control', 'less hour sleep fantast', 'wesay yar ate goo guess first meet want b seen girl smth hinsight foun mashkook', 'sorri miss tag en tweet', 'love ault act like chilren', 'feel faint chase whippet lili libbi gabbi milli cat play chase garen', 'aorabl littl white tiger', 'ask go protect enemi long time ago short start lose frien', 'human one play sport', 'guy final', 'k shoul give us famou bf fan nee entertain appar', 'work', 'time wake bake mornin winnin', 'awak earli ay christma feel ill bang hea bung shiver nee', 'begin look lot like christma', 'soni stuio boss employe worri fine know woul feel better', 'bet fairway green rival work', 'haha quit right mate coonti worker got aff easi al tell ye oot workin like hamilton acci', 'life like bir pretti cute crap hea', 'shallow af stop iscrimin eye eye beauti', 'mk shaow shift much fun', 'pierc ha wrong', 'stop accept crumb name love equal appreci silenc solitu festiv love', 'go bless whoever came iea make colour bruh cape colour thou', 'new music crack music', 'saturay selfi miss guy jessica xxx mark kiss one', 'love game got essert might enjoy even arbi talk smack fsu', 'exactli year ago toay via', 'greaaaat night', 'woner auio book', 'queen stone age rock rio cia', 'want get hit bu get', 'hol bub', 'unless chang', 'pleas follow technic question thank', 'morelik app', 'mate yea goo pretti much shu b g nxt week bit sore kneel still twing sumtim ok', 'archer fight suppl bow way hoplit fight stiff spear', 'lol rt woul surpris solao bang hatrick win chelsea tonight legen back', 'tonight famili bone present ark quit hous play marco polo sie nerf gun', 'beauti win import take part fun matter', 'hear colleg ropout offer grauat best colleg jawrop packag', 'bugger countri', 'amazebal', 'infer besmirch coffe right', 'nee new job rea book miss rea english teacher realli get way rea', 'yep say', 'n via', 'see ppl walk w crutch make realli excit next week life', 'ay train via', 'run less hour sleep', 'love fulham look like playoff team', 'count scar soul', 'big shocker call', 'oe wor counter prouctiv ever mean anyth peopl sit aroun ream iea oubl wage', 'check thing realli love recent ure holiay season', 'hour foo rink go strong', 'anoth great ay', 'amn woul mae excel thing recount autobiographi p', 'coul agre rt noth make feel special receiv autom', 'photoset babaybubblez aquabreez isgustinghotel men let us forget real stori', 'thank love peopl come work sick come eat sick appreci germ', 'e reaer woul efinit help save life someon broke hous goo call', 'late thrown winow last night cu coul play', 'thought gone vega nigga gone respect know o shit', 'lost licens long mwahaha', 'stuck traffic', 'iagnos w bipolar isor yet assum nee beat har feel emot submiss', 'hope know much realli love philli greatest shortstop philli histori thank', 'watch news like oh total restor faith human', 'hous committe inform thu far', 'favorit ream one wake cover tear', 'ha insomnia cooki sleep', 'like loss son', 'know go goo ay roommat come say took aerol anxieti attack', 'go finnish homework get caught everyth break', 'lebron jame sai thursay violenc answer', 'puli avail guarante stay', 'alway', 'cat cute wish allerg', 'kabhi messier usual messi wesay nee chai rest last ay may reason', 'claybo awson', 'email nee frien alway chat mani mani time right xx', 'entir boy sen sympathi iagnos rheumatoi arthriti yr ago yay flare up', 'love scoop fee bunk fee calv', 'tri tri tri repeat get right', 'bruhh saw licens plate ha letter fb', 'case anyon woner veni vii vici spanish vine vi venc', 'honk whilst rive past romant make want trace number plate forev', 'actual friay toay prouli present sunay go enjoy sunay', 'thing amazingli woner get earli monay morn start work week', 'peopl start rink mean fun', 'ba tom bray throw uner pressur n quarter ure sunay', 'new year eve gener overr parti year suppos huge shinig usual isappoint', 'love unappreci', 'look', 'sarcast', 'reay', 'ouch hurt', 'eight australia via', 'penguin cancel morn skate toay ue ici conit', 'ba iea climb mountain', 'love math amp final like hour harli stuie', 'afrai', 'absolut shock lamestream meia pick', 'speak like comey spoken jokingli assassin funni guy gal', 'even listen ur orer talk great custom servic', 'black guy know money', 'ay one minion carri sign say mother fat one mine', 'start think uk pretti goo basketbal team', 'love tol woul gotten hire boss knew pregnant', 'awar nye celebr usual laien fals expect happi close oor kick ars thru', 'ooh look like much fun', 'love wake migrain', 'hotog', 'forget smart kin love', 'taylor wrote nasti note car toay', 'keep big channel big littl channel irrelev sinc', 'inian societi teach get rape rather rape', 'saw anoth person wear heavi winter coat hoo encourag', 'hi orgabeh meet think soulmat zzzzzzz', 'nah ue buy puke steak shake', 'ye offici tri', 'two thing nee better raft player work ethic', 'someon confer call talk housekeep item grrr', 'great person', 'saturay class wee', 'recal alai lama talk busti girl celeb apart', 'went roa morn english professor thank fsu concern commut', 'mani championship tri say make worth saban', 'shoul relat water first amen', 'mock spiritu preciou holiay million courag', 'got play w og last night', 'appar hang ashley ay', 'ye except farag back slow genoci palestinian isra use nazi metho', 'ok watch hurt parent ki eci elop efinit make chang min small cozi we', 'truli peac', 'learn play string note guitar', 'morgan ask want play game xbox usual even look', 'liber citi class intellig exu', 'come jhb play volleybal fake beach', 'think last time', 'wow realli best luck known man', 'love run hour sleep', 'reason tell parent anyth alway get posit respons', 'coul kill best frien true', 'woul shotgun reay woul offer beer woul ask join clan', 'imma kill sob jk', 'internet bit slow toay blame thick wet cabl', 'omg fashion', 'roa safeti campaign onkey kill car', 'love game ure week get go sleep like', 'everi stori en life everi ene ia new begin', 'love say hi someon hallway complet ignor yeah love', 'abraham actual moern ay iraq ur chalea', 'rain sleet hun yeah total want get ress go work soun like fun', 'help', 'stuy narciss rea afrai isor', 'love taken joke make feel goo', 'play golf ay eri ay', 'compar', 'brilliant news potenti young buyer', 'guess sleep tonight want leav anyway', 'swear stan littl fuck girl want punch fuck face bitch nee go home real', 'flooe basement alway fun thing eal', 'two constabl veer pal singh yaav avnish yaav crimin recor ntv', 'hour sleep suffici tackl ay', 'yeah avoi wake time pm exhaust', 'heh averag work sentenc', 'isi acronym wor english', 'earli nee rive owntown take test bright earli morn yay', 'pleas rt', 'go go central last minut present shop', 'game', 'make enough bl ullr go hunt ski assum hockey', 'wish januari alreay school major withraw fair wtfwasthat', 'sorri femal mean interrupt perfect littl man worl', 'isabel sen nicest text', 'swag', 'free chocol free eliveri flower orer bunch', 'fair look like lost lot weight sinc amazingli success halcyon lee ay', 'correct wor racism towar white peopl none', 'kiss bc lose wisom toay mouth lol love text abl', 'showtim homelan', 'jesu mari joseph sa go life suffer efici', 'goo thing got work toay', 'foxi lay', 'wow realli touch tweet', 'leav school still', 'uh oh better hea hill', 'plan use last batteri listen get ay', 'walk path geek quota week alreay met p start', 'one essay submitt start next one', 'yara restless soul well awar like skin perspect comfort expect', 'local theater physic marque letter rearrang uti chang interview', 'night night row job fun', 'girl learn', 'forwar sure', 'entist oh joy', 'return flight love famili', 'love put christma tree fam', 'snap chat sister time', 'lagopo like rabbit foot easi rop convers never know', 'stanar christma newsfe iamon everywher everyon engag congratul', 'fit', '', 'peopl instagram put pointless hashtag', 'current bu wanker hate peopl', 'ya listen talk hot girl favorit past time', 'gee faculti nichol help', 'stinker ay noth gone right got wors ay went', '', 'twitter game perfect tonight', 'iiiiiiii best boyfrien everrrrrrrrr', 'chelsea fan natur sentiment arsen fan natur stupi spell', 'pass jugment mani bin actual love creativ voka versatil liquor', 'yet provi sourc show', 'love eu server', 'answer one critic', 'islam religion peac christian hurt anyboy get right', 'am love', 'close white folk forc wit firsthan will ignor impact race racism bell hook', 'full noseble sit fun crow react joepa fav memori', 'reboot server seem ok yey', 'ppl keep snap snap back look goo rn', 'least woke feel lot better toay', 'mayb miss worl succe preecessor fail obtain worl peac', 'countri', 'virgin cute teenag virgin play hotel room tight blue gstring unerwear', 'acl tear happen', 'vcac look like even bigger bag hurt vc', 'funni joke bae', 'moral polic vigilant quiet everi suppos inian cultur', 'ben go pick pizza toay', 'nope o everyth wrong col hot hot col gear seem ok toay ipp prob spoke soon', 'cut promo state face oh yay', 'rule parti power power speak foreign parliment visit sie inia ure session', 'wow impress forc go o later', 'come love weather sleigh rie togeth ewe', 'total obscur', 'final win champ leagu team goo year got soli raw', 'basic storylin carolin forb season call stefan great', 'yay ay', 'whilst recon safe cours', 'think mari parent believ bubbemeinseh still virgin', 'see peopl use term believ go say use incorrectli', 'relax wait fact come listen blain hammer player o similar', 'keep see noon pm eastern noon eastern nee plan morn accoringli pleas avis', 'appreci spare suspen account block us', 'elus peopl kill cuz obama black myth', 'thei reight protest en right begin cannot take right earn livelihoo free movement', 'bake brea hang glass wine leg sweatshirt footbal heaven snow ha turn rain', 'imagin never woul guess', 'crime figur true pictur may wors fear say think tank report via surpris', 'hamilton monay night thank even game give us saturay footbal overr', 'got love soun rain beat winow christma ay', 'leaer bagha iraqi offici eni wenesay', 'victoria secret moel secret even victoria know', 'half test group help toay', 'one work har', 'amen love plan problem emerg pearl', 'whoop know ha live peopl expect instea mine let fix', 'wait next year cyber month sale', '', 'let us face mo elay ay ene', 'best christma gift new album', 'love femal express emphat manner alway attribut menstrual cycl mag', 'persuas lol', 'stuy', 'hospit new allergi test love', 'even link servic alert', 'hey look', 'skip tbh like much eras life someth', 'oh joy get even live room', 'human brain isappear everi ay never even appear', 'happi new year twitter peopl hope happi success lot love', 'turn sausag butti burger king burger realli enjoy eat half morn', 'thing', 'girl', 'miss hashtag', 'first nigga grab behin homo', 'loooooool rt monay one friay aroun corner', 'new homeschool year new market busi clickbank univers wealthi affili write book final', 'scratch night eye', 'work box ay fun', 'ur worth hair hea tough least love', 'ba happen look like realli goo movi', 'gun law fix everyth', 'bengal suck yesteray total mae worth stay hour yesteray come work', 'mostli follow list ip full fee ranomli', 'matter messag boar threa authorit sourc', 'bring movi tuesay night', 'mom bring physic trainer unckin onut ye bring onut fit fanat woul make perfect sens', 'far funniest prick worl moment pleas come geelong normal mayor', 'thank hare scienc epart give us minut final', 'guess lost coupl million lambia', 'move north jersey big ranger fan coyot came town', 'stl never win rt new manag new striker new transfer committe cont', 'mayb go jump lan someth technic groun', 'also sick name', 'babysit night hope car oe get tow bc ik park', 'mean oe mean much hate oh orz', 'secon prize two sign copi bori book', 'wisom ha hea col took avic motrin hyrat chang sock col elimin', 'follow great tweet start onlin shop startonlineher', 'ok kev gurney bowl next', 'take blaze hot shower get use burn pit hell', 'festiv', 'love procrastin hate cram', 'entertain journalist collect fact annoy entist', 'biggest task get look shall one look', 'zuckerberg say wear grey shirt everyay oe want wast time thing matter run facebook', 'stomach wonerlan ga inuc bacteria', 'come univers', 'thank go sign carmelo', 'heaven know miser', 'shoul balanc view', 'alon tonight person song help imagin beyon anoth worl', 'thx thri real frien', 'boon pratt evolut televis irect evin gibson via', 'brave tesco humung shop list hail outsi', 'weir', 'break girl buy present oe', 'citibik gear expan', 'ooh someon know click unfollow button impress', 'reay get runk tonight', 'think new sweater bought matern sweater oh well super cozi', 'oubl anc boy make monay worthwhil', 'obama want closer relat marxist nation shock tell shock', 'oh haha even seen', 'abl think self angri nice gift', 'paper support blackshirt', 'one lie', 'cool know peopl talk shit night', 'osu oppon recor much better baylor outright conf champ win tm win recor baylor', 'happi new year thank repli', 'ress gown turkey buffalo sauc sanwich han big fat quiz year', 'per ay efinit costco sock must say funki sock movement kin cool', 'tire selfie yet look p aftr long work love unii', 'noth anyth hate wor fleek soun like someth woul name neopet', 'oomf shoul chow mom car', 'stop live like king one use real life', 'think might artist', 'realli stoke go abroa fall well next week complet iffer reason', 'look behin tara ella starbuck omni santri', 'like yellow thing yellow hi kapitana nagaar kmi ni asfghjkl huhuhu', 'love ya jerri heck', 'usual fan anyth omg best cooki', 'imag via heart', 'take time want right', 'annnn opinion irrelev', 'finish ene', 'know big spot time watch choke haha must mean suck right', 'oh finger stick togeth', 'wait work ream team toay', 'love chaotic school run', 'new fave thing facebook', 'pleas repli gentleman behalf us', 'luck keep get better better', 'eutsch misogynist toa shock bigot', 'googl rive review', 'say anyth retweet', 'ok hope rain soon', 'nope fit efinit', 'secon ay row late work thank servic efinit worth fare hike', 'yeah iet', 'ebola leav hunr thousan face hunger three worst hit countri', 'offen hear peopl refer wor holiay eriv holi ay', 'lol', 'wow outzen look amaz babi', 'alway nice take cig break like hous hear weir creepi nois realli ark', 'j cole song virgin virgin', 'thank upat spot goo w post stuff blog', 'ugli christma sweater women sz', 'great way start morn', 'see play review even close', 'catch rhoa love rama', 'never epen govt money peopl spen earn', 'one isturb tickl elf bite', 'hit big issu champ', 'rt rumourisimaa accent', 'least coul barg convo', 'cough', 'live worl even neighbor look alien', 'plu memori short elet pic share boom', 'nice weeken back work tonight fuck moon', 'brial rang mae qualiti jewelleri high street', 'shoul click link privat messag see nasti rumor go aroun', 'current christma song obsess play non stop weeken via', 'flight ivert boil water incient', 'gran year efinit get inform nee practic class', 'happen rt', 'sneak roun mini golf kio', 'twitter account worth accor social account worth calcul see much worth', 'take break rea check social meia', 'vieo rop toay', 'hope peopl miss connect flight take joy woner experi', 'caught atten gasp latin mass', 'love stay tweet stay hang', 'lol websit suspen', 'worst consier thing like conserv tribun creibl sourc inform total bia', 'rt meanwhil cagua rusney castillo goe mammoth hr man alex cora love guy', 'want thank e l e n tumblr spoil honestli fuck', 'love wake five minut school', 'alreay wait julia come back', 'go loooong ay yolo let us fun', 'slip back hate figur territori', 'use great feel', 'meanwhil zimbabw south african impos govern promis stamp corrupt', 'peopl love funk let us keep tweet go', 'boy town', 'footi sock tracki tee fluffi ress gown wrapp quilt sweat bean shiver nu', 'finger uck attract without banag tbh', 'accient break comput tech support haha talk employe month', 'gla vote put goo use', 'ppl make blanket statement whole race efens sick hear race', 'love wie awak', 'wor taliban come root wor talib mean stuent', 'yay fuck monay life perfect magic love everyth', 'event technolog session internet problem', 'rt sourc tell oger show seriou interest jon lester', 'anyon tell iv uploa item onto epop toay lol', 'boot happi', 'scare think thing like year', 'last twolv game jack right lockout vs okc rubio st game woner', 'everyboy travel worl sit stuy map last exam', 'clean spew efinit highlight job', 'right clearli po po play much call uti', 'actual israel eman rener antisemit acc mate favourit non efinit antisem', 'thank strang vet husban bar remin ebt ie', 'love count peopl', 'smash samsung galaxi run back car tri avoi park ticket', 'yea love alreay throw tantrum upon wake total awesom', 'winner goe stock bribe', 'worl villain climat crimin australia attempt heavi nation lima', 'woul rather know upset hie question thing later', 'almost argu guy cute realli live come ault', 'alway foun k home', 'thank take love', 'yeah see great success lai total excit sex', 'senat confirm new cabinet member n amen support furiou senat confirm', 'noth stuie test fckn greaaat', 'marti post fact proof make shit', 'fall asleep soun rain relax', 'ok two asham amit actual crie', 'ine two peopl opposit polit ivi sling insult twitter come', 'biggest gunn school ki countri receiv nobel prize', 'think ever even mae wee browni life ik get bizarr iea lol', 'b e uti ay scotlan lol', 'nice make pot butter himalayan salt sometim infus salt chang', 'look forwar o page essay tonight seem like fun', 'grin ill grin two way rea name', 'see saturay whaup', 'new year start mani peopl came mani went alway wat gone better', 'yoga pant sweatshirt nike yet', 'bitch fuck think go better sit rest bitch waittng move neva', 'pleas rt', 'take final go straight work peachi', 'may col tomorrow ecemb low ress warm', 'buuuut fast iter prototyp prouction reay coe', 'peopl antagon list via', 'let us go cav quicken loan arena', 'toronto man fin woman ex girlfrien name free trip aroun worl shoul chang name', 'chenua acheb thing fall apart', 'thank think fill correctli', 'girl ip', 'think goo name', 'websit worth million get pai post', 'monay morn fave', 'thank mum fart twice ure inner bf', 'alreay pretti goo also master ironi tell', 'let us set recor straight mccoist player legen fact man hel us togeth one els woul ever b forgotten', 'histori check anyon know', 'town get bay prezzi rue birthay xma week', 'worst film becom must see', 'freer bethlehem woul anywher rest arab worl much', 'know cover point kept us win two week almost win r', 'think know x', 'ki right make happi', 'love want love pollut room filthi tongu', 'yeah thank', 'stop tri make post locat twitter want post locat stop', 'seen result actual', 'get upat basant rai stori via', 'ya welcom hunni', 'goo thing ay ruin', 'ye want honor someon ie go steal tv xbox whatev els feel entitl', 'long gol layer pipe necklac set leav email invoic', 'ang selfi game point rink', 'lot laugh', 'three geek bring whole microsoft soni network annual firewal subscript worth everi penni', 'goo news thank husban insur premium jump one year hooray', '', 'text go sleep ignor', 'noth better class', '', 'cluck rt transpar aministr ever sen passwor protect ocument oversight', 'sometim forget feel rememb eserv', 'work super earli friay weakest pure treat', 'like peopl freak hear still get pai week join militari uh', 'fave tweet reaction parent thought went crazi asham', 'miss leav th nee see go', 'went fae orang mess ark brown streak cours forgot take pictur', 'concern', 'woul hope film like woul lose relev coupl eca nope', 'noth like wake sweet soun cat tri chew shoelac husban new boot', 'snooz button tempt last', 'fuck moo', 'coin watcheronawal anyon els fin sa remin conserv republican tortur wrong', 'tamir rice memori toay famili ha plan see grow gunn polic polic', 'eat sweet pe', 'nee act like fav chil know alreay', 'funni broken one one neee save', 'babi cap teeth', 'come riicul scenario hea', 'love still ki still wake earli christma', 'okay trae better get arn goo packag better ivis', 'com professor keep talk twitter lel', 'oh love', 'friski noth new', 'love buse everi half hour', 'reason competit bree innov consum win', 'ugli size small christma sweater cari basic eition holiay vintag', 'love test patienc', 'welcom twitter n r ur servic ur twitter coach', 'napalm hotw love show real', 'sometim make funni comment', 'ayum realli got hous brother still school week', 'ba iea', 'know sen present frien live far away never get hanma stuff yay', 'use joke aroun cat abl open oor never expect happen', 'buy liber iniviu see iniviu fate black peopl way link collect fate bell hook', 'raw raw go lose pell bench fantasi fuck shit night', 'half worl suffer obes half ying famin', 'got meet real csi tonight littl jerk broke offic cool', 'twitter account sign book look must rea rather rea twilight', 'uk pm make sure chil abus brought justic assum peopl brought justic', 'balak balaam come curs peopl know bless bless curs curs', 'guru newbi everyon get nee see right', 'o mental calcul realiz chanc pass moul slim none fantast', 'season unwant gift', 'futur still enjoy play footbal much play passion totti oh team oom', 'awh love repli get feel type way', 'alway one frien motiv make feel better el amellah la wjooch fe ayati yaa ctortna el jameela', 'ok thank one question oe comput scientist take salari comput commun engin', 'stoke', 'huge congrat sign coul happier fam view everest', 'pleas fuck first wake morn person', 'allow touch kneecap like', 'prouc kin creativ esign', 'see search', '', 'know woul make break x time better practic', 'sec bia right', 'summer', 'everyth awesom', 'haha cannot wait monay best cheer', 'peopl look upon one come efens race rape', 'goo banter', 'yell actual mum', 'also top lol', 'goo alway make', 'oe convey want though', 'har take peopl serious spell think grammar type cracker', 'ironi polic ivi us terrorist unit us', 'tamir know mike brown rais han shot ea want cop see ha bb gun still shot ea', 'give chanc win pass follow etail', 'let put bet whoever woul take action thing woul think oliva howsam shoul easi', 'pa n ga n', '', 'first visit comment section', 'shun workplac chit chat look happen twitter', 'shoe make one reay', 'love watch enjoy ta', 'steve steve steve ata never win heart min appeal poor polar bear', 'gla bought iesel car year ago', 'mess', 'like group unsuccess iiot even manag scroung quarter pretti cool guess chri', 'wait jump tonight sleep', 'next person want eucat point pleas blooy eucat speak get bore', 'sat yet anoth stationari train minut explan river servic top rawer', 'simpli win twitter fight p', 'ohhhh yeaah girl favorit coupl want come hang lol bruh wtf lol', 'proof lack rea comprehens skill', 'mmmm rt fave southampton win post nue', 'know wrong pleas help us', 'agre cool place love rock', 'thank retweet', 'anymor', 'grown women act like chilren favorit', 'come conclus appl skynet', 'work har right', 'interest stat po goo ba appl ruin', 'much nicer iea actual', 'show', 'like vieo challeng style ani', 'husban come home earli', 'illriewithy', 'team covington ky pretti much suck', 'song ay light buzz jack mannequin', 'reay conquer ay', 'ml transact make wave b fair take player fix', 'bush govt prosecut uner geneva convent tortur cia metho vp amiss expos', 'got email law school say peopl infring copyright referenc properli essay copyright', 'mom tonight refresh real tbt', 'mean squar', 'bol bakeri sarah brockett', 'maliv water yet experienc water shortag', 'get night heli shot', 'ex husban autopsi report coron took age seem slow machin process', 'sometim woner mous experiment', 'rush take christma cooki person test', 'fun night girl may look like eat essert show', 'break news rt mario balotelli team player accor ael taarabt', 'point learn craft realiti miss shoul iffer', 'stuff press write liter riicul woul harsh point lack literaci', 'yr sinc west ha inustri revolut st cent ghana inustri e revolut happen', 'origin content har come anonym', 'law way lawmak whoul av gone gain entranc break law kin', 'congrat cute', 'guess eat leftov breakfast other get black bear', 'peopl beauti look', '', 'connacht camogi champion year row hon hrc', 'go rec tonight', 'someon sell pack cigarett get eath penalti', 'rememb pre spoke great america strong peopl work togeth', 'wait feel hangov', 'america releas cuban spi get cuba releas american spi caught cuban spi', 'hear chicken fulham go sake', 'ay two', 'nee becom part religion piec heart goe victim', 'expiri cock hungri', 'got stuy like care', 'stephenfri oooh bust superior unerstan crestfallen shame', 'eff miss mom yell stair chanel wake jk love cuz prob see', 'seri real', 'year ago cat hit car toay great quot', 'time continu clean closet happi happi joy joy', 'see retweet gain follow', 'fav part abt xma ay get merri xma tweet ppl never talk', 'whole ay ns w client yay', 'nice see take time visit poorli fan hospit phil jone', 'conselho europeu ezembro click ate inform euro', 'comfort thought everi tax payer b remin ramm law answer question tax form', 'oh noe night train berlin malm run ure summer plan long comfort train trip', 'gee goo thing', 'let get straight go sign ufc matter wifey sai', 'oe impli get facebook use crack cocain', 'respons abil respon control charg life', 'hahahah onna inspir shit great', 'morn peopl long know keep work har', 'lost shame realli root', 'aaaaaan rea big sleep get sleep', 'stuck behin someon spee limit', 'last pictur took phone pic syresatt vatten ikea bottl', 'got love frien hahahah', 'flatteri get everywher', 'wow affor holiay alway want', 'time trip home perfectli', 'ha snow cancel vball tournament toay', 'respon movi heterosexu realli wish woul stop shove lifestyl throat', 'true efinit host confer extremist', 'hmm scott mitchel v toni shea phil taylor v raymon van barnevel ifficult ecis', 'us go workout jiggl go jiggl away us', 'sai retar nonsens', 'hope great year estini pc p', 'assur recommen', 'even', 'great christma present unreal alcohol inustri lure young peopl', 'great amn ay', 'even bring rea', 'know love author figur book en long oe wait see author actual en', 'father sent buy ingreient co want fri nool remember everyth els nool', 'still love newsroom regarless everyon els think', 'moon pictur like moon mae light bulb', 'thank think back playoff playoff matchup tacocorp v gronkey punch', 'oh yeah offici', 'oh well look like back squar bati brige go go well', 'fuck ho saturnalia nigga', 'a make statement', 'offic efens scari look phone', 'call name often go fight want fight', 'jlpt tomorrow feel vagu confient vagu', 'rt spoiler alert call expert preict winner', 'case hear happen', 'believ shit past ay final', 'session lavin', 'pass legisl forc peopl catch buse rout shoul life jail', 'christma shop take weeken attempt wast time let us tri', 'sai nope get gift car one bought use creit car point', 'happi birthay boo love great ay', 'nice smile', 'gla sick toay', 'walk fun', 'hol ki back', 'person respons anymor expect anyon think', 'except hot water natur one woul offic take call fuck hate', 'hate min keep rift someon longer matter life', 'soli leg ay felt great hit max wait squat', 'love charg comp music', 'babi constantli sick everywher like keep foo eat ur belli', 'hangov work rt favorit thing monay', 'someon tri play alreay know game', 'lol imagin gay work fuge pack factori', 'listen guy ecim team explain anoth buil team hahahahaha aaaah', 'miss lot lot like jelli tot', 'lawyer train lawyer talk ceil woul even rea one go notic thing', 'shawn still follow okay', 'want blast music get reay trip secon roommat sleep suffer consier', 'santa juncker bring gift healthier eu', 'carbon everywher', 'put corpor racism sexism back belong face face exec think twice', 'answer often lay right infront problem seek istanc realiti answer simpl', '', 'oh look aui river break law strang', 'show peac protest infront lancast hous greet pm respect', 'true sissi well sai fit live man', 'even math cell work ahhh hahaha', 'kitti aaaaint happi', 'woke cri nightmar ha go great ay', 'love work christma spene alon hour away famili', 'first ay ski', 'oh materi miss', 'girl put recor tell favorit song', 'thank e make news crew welcom morn alway film', 'love get woken boy say know comfort sleep someth want anyway', 'american love gun ever exampl strict yet crime', 'guie coffe lol espresso time went mapl leaf fan fest', 'new shoe kin love inanim object', 'probabl nigerian', 'go go go go get izzi imagin crew stress woul', 'anrew luck kin qb wowzer', 'lol game napoli win better juve', 'hahaha talk abt polici check elhi ialogu page anoth gola lol', 'oh go happen love realli love slow internet', 'twitter ea', 'make hour soun fun', 'alright back bing watch legen korra like muthafukn gangster', 'avanc peopl actual think', 'oe kill make', 'yeah shoul get activ social life get away internet', 'oh go wait till new year start work', 'protect namesak', 'anoth ay livin ream', 'prepar get muck', 'affor stock teacher make much money crazi', 'two hour rive morn instructor oh ye', 'believ sort thing shoul canon', 'wait ga crush email tol great class total love', 'woke fin vehicl insur went month merri christma', 'hahaha town', 'shoul lose full ay work system upat happen yesteray', 'peopl ay love accept nonjugment great', 'simpl way n contribut thousan', 'oe get', 'love work tell nee come', 'look girl broken smile ask want stay love', 'feel nap near futur', 'vapour emitt cleans solvent emitt contamin chemic', 'time babygirl get beauti sleep', 'ugli truth', 'oh crap mean mean see last rt', 'excit go goo year music ur go smash', 'name game', 'caral jone thir string qb big champion mvp', 'nee hybri monitor monitor azur plu app bs scom', 'think make go enough', 'ay next two week new yr love work xma', 'goo time start vote fifth harmoni', 'comcast greatest custom servic planet', 'ipmagazin traviiiii forget', 'know imp anyth come b w n ur even', 'ear gov catalan polic congrat manag accomplish imposs go even lower', 'miss bant work toay', 'lost', 'get reay ship surplu ink cartrig nunavut commun yup great use time resourc', 'pleas rt', 'selfish narcissist woman matter chil oe matter father oe matter one els matter', 'kin occ health book tb skin test ay uni thrill', 'wick ignor bout black american see racism everyth figment imagin trump j hypocrisi', 'founer w ancer ricki gracey', 'moment everi secon everi scent everi flower girl', 'fin one local p report rop', 'shoul fun next spring', 'chillax bitch face squish', 'obamanom fs unemploy insur econom stimulu ft pt work free us follow ream', 'realli well one anoth short format get stan r ay row kel ll thank', 'win sweet hamper christma fete ay jellybean amag tooth', 'get shit togeth like', 'ahhh final week throw kegger hous survivor', 'fun ay lib stuy econ hour wait tomorrow', 'black listen show love racewar', 'ear r iaz graviti oe exist einstein got wrong wrote book explain theori let know want rea', 'outta boarroom partay', 'lot love', 'earn photogen brew level bage', 'pt famili follow talk home talk new owner estabilis pf club coul', 'workahol sick let stop bring germ offic appreci commit', 'jame burk connect episo special place via', 'love jojo kept classi', 'quel omag rt canaa bill seri coloss flop cancel', 'strut boot', 'hol han sing kumbaya hate us', 'thing much ammo', 'amarillo hop make right rink tour e fall memphi pint ram', 'accept', 'goo see toma rosicki play tae', 'realli love five minut late col ay feel like metro', 'ba happi pre anc first thought onni', 'true replac one mam', 'photo cheer', 'bear nee sens urgenc qb posit use top pick qb posit', 'take church', 'wow thank goo vibe right exam parent', 'mass love', 'never stuy lolz work present ue tomorrow start', 'know love prouct christma heaven', 'wow brought xbox live arnt amaz someth prouctiv like grow', 'goo note ay', 'wow love essay ue next week', 'sig ni fi witter', 'fuse blown meia room much hallway vacuum chao break loos', 'porn move nake woman see porn', 'oe zayn look like spanish flamingo ancer', 'comput internet person comput smart phone invent pon scum', 'kin stranger', 'wow love school', 'everyon want sooooo cool', 'final taken gir love', 'watch elf prime ecis tonight', 'bali nee burrito soun naughti', 'love wake late sick ure ea week', 'way prove women breast ass', 'wake congest abl breath great feel', 'life complet meet', 'got messag nee start work anoth locat brilliant rush towar secon locat oh go hate monay', 'thank kany mccartney final get big break wait umpster ive', 'clever jack chang wor big go feel like mae iffer societi', 'gasp girl rehears stuio toay say hmmm woner earth littl mix', 'yeah ba asleep back play strong painkil knock', 'noth better feel love lol noth', 'plege anytim soon grown women compet aka vs elta crab barrel sa', '', 'igit rumstick thank granma granpa', 'uner wise leaership ii', 'got go back work tonight', 'math present ap histori test ap scienc test whatev hell o asgil toay shoul fun', 'man best much bigger problem us still th', 'even soweto tv bother show fvcken awar useless bone go figur', 'pain inevit suffer option', 'someboy exercis freeom protest freeom speech', 'learn toay choos live fearless life', 'learn want make ba enough matter ba make gale sayer', 'sec crew o qualiti offici penn state game miss terribl block back', 'say stan front mirror say even time girl appear give pumpkin spice latt', 'photo invoic sent', 'rea news', 'lol well one swan', 'foun pictur lisazamorano tri kill moutain meaow', 'unfortun hey ay think aughter game fifa youraverageaysgirl', 'ream celebr christma', 'yup week nz muck time fiji oge shark', 'og like nice toasti relax home', 'hashtag great ik everyon stopp use', 'come graham thoma', 'toay stat follow unfollow follow peopl via', 'ha best new year spent peopl love fuck love happi camper right', 'haha also ha cheer bro', 'even better let us see wai camacho man fight', 'lol peopl say turn year start follow ki', 'tl see somerhol unfollow tweet retweet somerhol see mani also allow', 'ha three boy breastf year never ha necessari', 'woul love touch anacona jump thang rie like hors', 'photo', 'man must f get life fortitu focu financ', 'aaan hit keep come', 'michael bloomberg wear speeo boyguar', 'cuoco sweet kaley cuoco sweet pictur', 'obama taxpay fune cost atten polit funrais lo angel san francisco', 'say someth stupi oh beat', 'en fish iscar elay en fish iscar elay copyright ep eu report vie', 'realli sure still aliv write paper right nap instea sleep weeken cut', 'rest well stuart man grace courag may famili fin peac', 'apricot pear boozi belgian gooness winter warmer', 'coul ask better night', 'patio tumbler gooness', 'look ecent bowler realli th bowler balanc sie potenti th bowler styri hsohail', 'hit follow instagram offici mae life', 'look white christma', 'color prefer negro', 'possibl enough time', 'librari comput frozen', 'bjp congress nt isclos etail cr onat receiv still meia bhakt question aap', 'last final toay straight surgeon', 'ariana grane makeup alway sooo flawless', 'rememb ran mile min sleep summer got hour ay two hour sleep fun', 'go post opinion save till', 'light setup water tomorrow', 'goo thing ace like clay bucholz proven urabl consist haha', 'ok ok geez know alreay', 'e strength number focus movement appeal countri use pen paper chang way live rastic', 'thing complain christma ay pimpl ear', 'someon efens shoe fit', 'left home still tri get work want cri', 'pretti amaz lan free peopl ebat shoul feel safe aroun polic', 'true patriot packer bronco coul suenli nee new coach', 'well', 'know fun cx coul probabl think fin yeah x', 'former chairwoman us commiss civil right', 'tomorrow ay come back floria goo unless someth chang next hr oubt', 'efinit place money outcom anyth gambl choos eni self elus', 'long ay', 'ownsi work fisheri conserv rare affor cool thing promot job', 'lol ironi committ suici jump aani jet orphan', 'gave imperfecto rate', 'unerstan someth oe make expert fiel', 'one mani reason islik fan', 'gla work oubl new year eve new year ay', 'yeah ignor point', 'lol cours best', 'woul sai gop african brought want pick cotton', 'oh come give chanc trust worthi sn warrior follow uber right wing portal', 'went well', 'wow fluent finnish', 'perfectli normal talk peopl pictur', 'hey oe wor ban home page like two three time though', 'xma christma abbrevi christ mass', 'mean', 'en talk oh wait talk whooop', 'year ago woul write shirt anymor thank', 'gooie bag n grae one', 'nooooo religi freeom one ever get control oppress omin religion', 'goo luck toay j urkin great floria gator', 'none gooby bear sort', 'hors hornless unicorn', 'last ay work week let us see ba get', 'wish mf woul ay', 'awak right', 'angri face', 'chilren home statu woohoo fun', 'woner weather might nee sunscreen toay', 'groceri store pharmaci sensibl offic apart owner monro avenu factori poner option', 'least tan look goo nee learn appreci pale skin', 'well toay go great ay', 'complex wor unerstan', 'beauti', 'cramp front husban knee back yeah sleep seem possibl tonight', 'shame thir time pregnant uchess wear esign ress thir time new york via', 'nah think say f ck enough album', 'got recor favorit show tamar vinc season final', 'photo abstract tribal bubbl jumpsuit size xl cost', 'sum week realli', 'pace kcroyal activ winter meet give vertigo', 'say women black iffer speci', 'liter get pamper ay tomorrow get cray julia raven bay', 'excit spen next hour school', 'er suck tonight urgent care tomorrow yay', 'bless stress hype next year', 'are play game lol', 'still time enter sampl channel check', 'love wake grumpi peopl', 'mobil ceo think appl watch go huge', 'incept episo tangerin spin top subtl', 'alway count freshmen make librari lou thank', 'play minut fiel steal foul one', 'break bulli major problem nation high school', 'look forwar nice long km tomorrow minu egre weather', 'might go back easier make effort', 'ya histori tol us anyth bet sport great way make money', 'stun toay', 'ya countri calm peac everyon arm', 'priori contract wear huge popular priori ultra', 'white peopl irrelev point black commun nee rise control', 'great start ay', 'fricken peachi toay', 'even think religi freeom restor act michigan riicul', 'term time son', 'worth rea persecut face', 'may may obsess grinch', 'money church app pay see go', 'overpay talent get stuck w talent perpetu lose cycl cub', 'say joe woul imagin govern program fraught frau ever happen', 'think gay wrong like peopl chose gay piss magic old man live sky', 'ure critic promo special featur victim air', 'get reelect r possibl cheat collect oom', 'trivia crack take life', 'awesom', 'amaz start weeken', 'oe', 'canni wait get new phone sneak cloth thursay', 'rock christma sock work littl thing like make happi', 'felt sinc ko eugh great en great week', 'granma gulp hot coco louli mom goe gulp granma queef', 'gla foun way make gospel social relev klingon', 'ummm like rt famili safe', 'eath like wrong time', 'everyboy keep say gronk larg conting patriot els rob', 'step mom bitch christma', 'internet got like', 'joy overnight stakeout', '', 'gutt oyl gone back think saw capabl', 'call', 'sunset januari pm temperatur partli clouy', 'wait boyfrien come home kick butt shape', 'hmmm inner', 'challah french toast christma', 'far room', 'woul', 'woohoo amit someon liter nee noth refil', 'easi part give man money go grab mine tomorrow morn eal town stressful', 'famili time nice reay back work fine morn', 'loos lip sink ship loos tweet sink fleet nasni theatr coronao ca', 'serious tho nee anytim winter break shoot text probabl respon cuz like eat hey', 'scream messag want secur footag', 'oh woul nee take twitter pele piffl', 'love first ay frien famili swim sort cleans curri less time social meia time other', 'left blue bin per calenar lift check websit inic green bin happi', 'well face peyton toay one leagu hope pass thoma lol', 'goo game ba game goo game ba game', 'half hour walk', 'anyon zen oh wait silli make sens', 'year ene perfectli', 'fair eblasio ask folk stop protest post funer polic protest cool', 'actual go contact rather apologis via twitter', 'go get broke ass bitch fault', 'thing see bath boy work cute', 'seem want enors linkein thought crow', 'christma part two began parent hous toay mani gift mountain wrap paper excit nephew miss batteri veggi chilli', 'great keep convers', 'men shave hea perceiv inch taller stronger men hair', 'tempt want one tat mine', 'awesom raini ay track', 'love work sunay', 'burger king hack weirest funniest efinet', 'har peopl cover mouth cough special old peopl wtf common curtesi', 'know love also freak hate someon much', 'love peopl act like ault', 'spici cali roll cali roll ab sauc w f', 'time capsul current time', 'azealia bank call iggi igloo australian wooow increibl rapper iss anoth one', 'call chines millionair', 'custom ure christma time nice', 'first ay christma shop tomorrow wait', 'visit mani time sez', 'fut ofc corner faaaantast', 'small amount la bir nest hair cut', 'keep cop civilian account boy camera rip eric garner camera keep peopl account peopl', 'mani servic offer ask question', 'awesom perform choral stuent tonight evelop young star futur right', 'everi parent want chil get ahea help chil sponsorship grant', 'one ear break heaphon frustrat', 'soun like flat woner morn', 'trie pizza tonight got great job', 'happen acorn voter frau peopl', 'wow gla cycl weather', 'yeah honour pictur lyric sketch', 'great time learn male reprouct system biggest brightest power point sli ever', 'mvp goe concoria wifi', 'goo lie', 'wait go post offic get bent ship fee mail folk gift montana', 'wait weeken xma parti', 'silenc last night broken siren watch ifussss app', 'tow compani commut car tow', 'must realli ba game superb comeian like philli phil squeez humor', 'love happen', 'lol rss agena moi bribe un offic make yoga ay intern', 'o life', 'foun th grae eucat must slept entir year', 'keep eficit success eu buget surveil mechan', 'girl wake peopl ea', 'one final thursay woul nice lol leav friay time', 'sex', 'simpli woner christma time', 'aguero long time citi coul buy boni januari', 'happi two hour sleep got last night', 'secret focu energi fight old buil new sourc unknown', 'rey bran esign accessori easi carri comfort', 'check', 'last ay sew selfi', 'bjpee hv ball lift ristrict mro ahea moi visit kashmiri wl show much thi love', 'got someth trust someth mysteri', 'blue ribbon panel goo', 'via', 'paul believ rubbi webster kelli etc ba player base project believ upsi', 'cropp chil pictur', 'rt place get stuck traffic jam', 'oh yess ean smith ref plu sie thompson', 'ark grass oe rustl com', 'foo spanish parti', 'street light ure ay clayvil olifantsfontein shoul happen problem', 'fight enlessli chang system atleast go anywher irrespect result', 'next ay makeup look hawt', 'goo thing colleg ask even os even back page worksheet', 'great ay one pour rain walk apart without car apart key', 'yep famili feel realli joy right', 'sing live sure hella goo look', 'noseble morn favorit', 'night realli lol say xxx', 'real life believ', 'harli think give shite fan tbh', 'watch wog hea christma', 'toay shoul fun', 'get sourc ispr', 'thank check anoth store calgari', 'much right brother one still car one prais allah still', 'one ay ay lemm consol blunt', 'thought peopl holiay stream holiay cube ay', 'legenari anfiel european cup atmospher great hey', 'invent pueril attack rw press provok le', 'affor treatment po goe way', 'page hogfath terri pratchett', 'public hammer steeler week juici', 'occupi rent free space cranial caviti lol', 'fight overtim firefight c view rule control boar perman appeal court say', 'great hour sleep', 'anamorphosi place object view certain angl creat imag french artist bernar pra', 'long victim white knight tri save amsel istress', 'soror upset sister make organ look ba worl see act', 'mi speech christma lacross ball gran cafe', 'coin lecoincanar coin lecoincanar coin lecoincanar coin eanbcfc wasalrahman question ask everyay', 'ecent christma parti chang ae bonu miss last train chang', 'love fact sick birthay', 'knit scarf ye knit scarf manual exter like knit problem', 'well look', 'black elit enough ie hospit rememb reserv polic casualti', 'year class pictur awesom realli awesom hahahahaha', 'surpris cowork go show toay', 'fork noe get reay futur interview', 'enjoy exit', 'mayb shoul elet facebook tab woul probabl get stuff one less istract', 'realli want get ahea see light en tunnel', 'also verb forgot forget', 'join pp cm pp way take support abullah famili', 'tweet got back run', 'ay hour narec ko rin yung messag haha thank globe', 'price like', 'want tell person fuckin someon els might go fuck els lol', 'sooooooo look offens coorin well boe well next season', 'hinu tri efen religion commun', 'meh think suit person neil caffrey', 'cram psych page brain even though learnt cram effect', 'love ate show favourit strictli come anc goo work', 'break pm netanyahu slam eu countri european hypocrit learn noth holocaust', 'cooper busi toay', 'merri christma love instagram', 'love write tweet wrong', 'thechicago firehous restaur goe flame', 'nail', 'prefer lose erbi vs fight ligna trophi', 'got manual retweet zach harper', 'thank live tweet morn', 'look ie har fan', 'happi stfx ay lost foun mo later glisten th green lost creek golf club', 'piss k rn', 'love song', 'music music epart quit unimport', 'love come school know test ay', 'long time see', 'caffein free coffe yeah next time slice sugar free cheesecak p', 'esper nee train partner knowleg insight infam caniat appli within', 'look blackboar call life alert help grae fallen get', 'tweet anger glasgow glaswegian parti venu follow', 'learn final fuck amaz', 'peopl rink rive pleas', 'rare rink got stomach bug', 'guy chattin shit bu say look like snoop ogg', 'final ha chanc watch oyl final thank great season ye crie en', 'peopl lie realli help trust issu', 'h n hospit har', 'care secon got istract', 'explos nice one appar joker lot common isconcert', 'session local', 'jesu watch much look get sermonis', 'nose stuff awesom', 'grabe affor na affor', 'negat sometim peac achiev way accept content constant sear', 'perti sunris timelaps mountain', 'well alway goo time lose bay', 'promot woul jazz ppl anyth b popular', 'wow rickman realli look lot iffer blon hair', 'granma tell mae ravioli eat know yell back fuck want ravioli nigga', 'reason someon bio moron shoul everyon els', 'excit whole new episo rhoa love show', '', 'munro facial express facial express right', 'followup ferguson stereotyp talk auio ki want hoo rat stuff', 'ass ohh yeaa', 'go ask follow ecis', 'think joke', 'coul jihaist hello jihaist raical islamist terrorist', 'bill make much money make speech honest', 'well toay start great', 'frienli remin', 'love snow', 'go subscrib youtub goo music', 'bish efollow', 'horribl ay cambuslang christmasi', 'ooooo touch ob greatest giant player ever play game screw best player ever', 'shame jacksonvil think phobic l', 'sun final eci play', 'sure hope ev vaccin ate', 'beauti get follow', 'book back massag hope stop groan crimbo', 'matter min stan talk', 'alway forget goo f e r ian brown', 'complet sensation infer cub seriou win wenesay joke', 'excit christma parti snobbi sie fammm', 'ikr true battlefiel game', 'propos etermin sie black white famili member', 'okay back stuy math final', 'yesss make wors look gorgeou say got face beat wtf', 'jack oe unerstan twitter thought', 'alaska flowtron worl come rizzl p boon pratt token r via', 'oh man get everyon sing reay', 'happi holiay boy carl', 'thank amaz canl new seri', 'issect rat first perio great start ay', 'buzz school monay', 'point along tc prove best avertis teen', 'obvi everi jesuit heret', 'much fun rive front wheel rive car snow', 'aah ye rajneesh saab lol controversi figur', 'nowaay everyth someboy ever want still get play mxm men', 'rink imperi ipa', 'lunch toay', 'politician get import patient igniti right ie', 'ieiasebolosoceseelicia iffer twist regular cake love one', 'shoul monitor', 'woman put man iron support iron', 'filmmak writer nicol franklin twitter pl follow', 'woul perfect fit beachi melen', 'substitut chicken nugget uhm thank', 'wait', 'work one gym one steak tea friay tomorrow', 'ok thank tell pass iea syney frien', 'eeeek cinema ate boo weeken', 'highway clean section highway peopl express freeom speech', 'via', 'efinit caught sister flu feel chesti cough brew best start week tgim', 'air passeng uti uner abolish last someth help homeless impoverish', 'alway forget mani earnest look back fonli', 'ooh probabl watch replay launch point oh woner sooo excit', 'love fact school smell like sewer', 'isplay given time ryerson', 'ay sun sunni toay', 'insult piano song shut fuck man bet thought', 'exactli want start ay', 'thank much gener isplay kin sie', 'callin tappin lol sorri', 'know fact sam go school toay realli cherri top perfect monay', 'christma miracl', 'work shoul fun toay', '', 'time stori awesom', 'thank stat teacher rop lowest quiz', 'soun like loa fun snow freez rizzl rain km h win', 'well one twitter follow succee life', 'still work go prime', 'rt babi name sourc', 'let us preten', 'import thing shoul toay breath', 'seen bike bike', 'happi christma may bring goo health happi everi success wish', 'love hol especi music great', 'peshawar school massacr pak must know greater enemi terror inia', 'cours one lectur happen bar restaur birthay meal', 'hate anti american anti constitut polici action fix', 'guess brett mom year got love famili', 'wor mockeri bae like abey', 'think shoul go get check', 'becauseee miss youu coffe later', 'never way roun', 'suck ry', 'freez yay', 'back kill toay', 'nee misaventur form broke han practis rewrit english essay time', 'christma ay heat pizza breastick', 'beauti ay', 'comment provi intern w involv info given fbi sinc', 'mini nap ha night sneez cough blow nose super rest', 'ress style', 'legisl list legisl accomplis past year short', 'number play awesom', 'raw littl girl still believ raw goo', 'ownplay social meia use hashtag', 'journal best', 'loash eissh woner eskom cell c partner get pai servic suck ialingintheark', 'went europ', 'us look sexi shirt', 'check', 'probabl get write show o', 'rush rush rush one pow footbal winow', 'great', 'welcom metro rt thank seattl prep final remov starter left', 'haha love accient spray perfum eye', 'prize', 'preiction putin itch rubl aopt bitcoin', 'sarcasm thing like', 'long commut work', 'keep see nee buil global societi person woul rather american societi back', 'must pay car insur get ripp trust goskippi', 'malay mo real name haha still nice joke na richar two bagong bago hahahhaah jk', 'tell ceaccp book make crack bonfir', 'shhhhhh noboy move play non electron game togeth nice', 'song aw', 'shock uke johnson hurt import game', 'five ay share', 'omg want one easypay express woul mean woul use rie path', 'iffer back home blame work crew', 'ear next person seek eucat anyth pleas eucat mean know multipl point view', 'think appl shoul make iclou servic option littl confus realli get goo', 'sweet super sweet lilli simpli aorabl leg', 'spoil ranci foo gun aisl rat great', 'never ene pointless cunt win tit tat zero account hunner finger point', 'anoth fantast ay', 'cloth black', 'hey know one wit support arren wilson stori lie racist min blown', 'ye time easi thing common knowleg', 'ue amn near', 'soun like jack kerouac', 'utch northern combo speak yr min', 'bring look forwar easter one funnili enough crave sala fruit roun xma', 'inonesia oe blasphemi law ministri religi affair also happen corrupt ministri', 'woww thank help alot hahaha sa', 'work enjoy', 'els fail via', 'go shittest christma ever without mum go get runk', 'sorri choe phone broke', 'anoth moment bother fix broaban problem woul like buy iphon us hell', 'hope ambit john one els seem', 'seem affor goo thing materi thing life simpl thing nee realli want life', 'younger sibl okay irrit thing wake open present awesom', 'alway fun buse turn favorit wait outsi freez col like half hour', 'hahaha goo might staium rather local council', 'talk rubbish system twitter chang anyth action speak louer wor', 'accept challeng next en soon ten execut foun member', 'go sleep soli minut earlier last night', 'o great job pay extortion council tax', 'thank go oe get anymor ellielippitt', 'tri luck tom one free passer makatanggap ng free item avi okay na yun ta uwi haha', 'love feel like lie', 'look much alik omg lashwkaywiuwb', 'boooooom goal minut', 'aye love lip tri soun creepi', 'say', 'worl greatest fan', 'upstair neighbor eci loa launri freight train fall asleep work great', 'committ privaci open web pleas turn javascript isplay page correctli firefox homepag', 'ay want everyon leav alon', 'trauma ki suffer fact remain apologis tell truth', 'excit walk', 'excit work', 'quest ticket continu', 'love spene five hour night o homework pleas assign teacher', 'watch christma movi alon like much fun', 'stomach flu surpris', 'hol line', 'say lucki', 'actual kin surpris peopl still say iron statement', 'love wake face lick puppi', 'christma forbien terribil thing give back us', 'let fuckboy get way happi never never lmao', 'hi receiv photo ear parcel china amaz travel aroun worl', 'serious cloth section f f', 'fin pair woul fit', 'whale morn', 'get raw', 'haha noo nee new boob old one fabul', 'well week great start', 'gg give us amaz collect yr fact plan prospict', 'pleas rt', 'keep tell frien busi nee stop blow stop', 'fa public oe appli gambl exact opposit goo shape', 'secret santa one er hotter work colleagu', 'excit follow answer simpl question win pass gig', 'sox follow vouch gome clubhous leaer fun teammat', 'enrol member leg l r help person enrol member get execut w iamon pkg', 'yay longer vehicl', 'get reay', 'eu back top earli career research million', 'amn socialist', 'love see guy got', 'think cartwheel', 'like clown go one', 'someon pleas tell vieo', 'rink mercuri wing messeng planet seri', 'foun make babi final thursay goo thing much time stuy', 'goo morn hank saturay starv', 'long wait till releas co turn temperatur', 'wait r raw', 'peopl commit crime resist cop attack cop enang live respect law peopl', 'fleuri shut out far season still goo though', 'type lisp hahah', 'santa look name', 'want hate religi peopl co one religi music', 'million autobot troll account twitter post umb sh rt peopl call stupi naiv', 'keep run problem alway work', 'woul like thank nephew give horribl col sore throat etc much appreci', 'enabl winow firewal perfectli reason thing packag softwar instal', 'microphon fail convers year ago', 'welp goe buck rain thank ku stuent hous get', 'pressur unreal keep', 'l follow', 'absolut love move hous', 'power pictur taken real', 'listen give shelter rive rain', 'take mansion mexican', 'go shark hair look like council cut', 'liverpool worker miscarriag justic victim', 'ha hater misgui soul thought mention bulletin boar issu', 'yip like next time get anotheron', 'love hear peopl explan ate worl america librari stuy', 'eskom loa she hammer ran current spot rate us r', 'great person', 'wait see ya', 'wow feel great', 'twitter slam austin strang fruit pr firm spur rop name share song lynch', 'look forwar time traips stair posti babi attach nippl', 'r less bcci arnab keep bash news hour', 'yep true patriot', 'hea mather bat', 'woul prefer slew protestor across us stop traffic shut wn brige', 'think may use', 'bcoz love', 'believ', 'noth like hr swing back ay walker make feel like million buck', 'respect belief respect right', 'mmmm', 'speakeasi', 'wow rt ick cheney cia tortur woul minut', 'one season togo', 'late howi carr w amus see granni warren put woo bow tie bum kisser', 'michael sexi face cough', 'love mae fun', 'feel goo get go straight school though', 'hey everyon want christma gift sen one', 'pretti sure satan babi apart next oor stay howl cri howl ay night ugh', 'georgeou busti blone rill arous hole', 'wear pin sent rest vieo yesteray mae ay', 'ugh pain sure win spose shoul ever look like', 'think salt n pepa geico commerci think pretti terribl', 'offici twitter sure poun sign', 'moment realiz one whole year', 'yeah prom import event life', 'wish relationship real', 'via', 'marvel soun noth like jingl bell song ever hear see mismatch sock tight cricket gear', 'inian uru aili avoc murer apost extremist hinu group convert muslim first', 'compani profil twin ventur llc', 'photo pc lace corset size small xl price leav size email invoic', 'much easier write feel actual speak get nervou stumbl wor heart', 'bacon tweet', 'yup amaz', 'photo anc icon sport bra short bikini lingeri one size leav email invoic', 'better shoul score better one', 'put soap shampoo healthi', 'score someon', 'calam lie everyth fake accept true truth come eni', 'take christma light swamp blast', 'freshman semest first year', 'know wors fact mconal open christma ay peopl actual eat right', 'love boy hanl school stress make physic sick', 'final go efinit look forwar wake hour', 'aww bless ya enjoy break babe yeah great thank final recov ya tash go', 'platoon strategi ba mean line armi', 'ay go r sure strep', 'huh graphic represent happen noth take photo', 'time face truth never', 'guy start jack hammer morn right outsi winow stop anytim', 'way start new year', 'girl reason put makeup satisfi face unlik bitch', 'oh look wrap present easi vieo prove', 'write cover page thesi laptop commit suici', 'talk ay cool guess', 'interview cancel north korea immens comey woul blow mortal min', 'sky look beauti toay', 'hey make money yet clip explain', 'aww seen pictur toay recoveri go', 'team playoff pick peopl solv school still piss shock', 'ye man properti privileg', 'ay ski school instructor patrick soon reay black slope', 'everyon full ruy xma cheer', 'know hous hermet seal environ', 'one thing sure make folk rememb', 'sene best wish cowork morn', 'shoul allow refuge among potenti', 'continuationist eman prooftext cessation beauti observ', 'yep exactli think someon call ambul former aui r', 'use smartphon app pay see go', 'fuck come commerci injuri break w elay game', 'santa juncker bring gift healthier eu', 'fun', 'ironi ie time ure climax sholay polic urg thakur take law han', 'one much', 'best report frm fiel ba stuio fiel true stori teller', 'yay knee machin', 'conon murer rue peopl file uner nincompoop upat', 'floria juge rule friay', 'long yeah irector cut longer nee see penguin maagascar btw', 'well toay go fuck', 'love work hour get pai', 'love wake grumpi', 'lfc worst start year still efc funni', 'ki unaccept', 'well nmu comput took poop hope start back later', 'one year eye twitch', 'case someboy break apart', 'still respons', 'among chilren none ha one', 'ea support famili got', 'saturay amn goe secret news paraphernalia tell', 'yeah happen everi time want like vieo', 'coul happen anyon time come critic oop apolog typic love', 'babysit like saturay', 'hafeez slier much mess bowl back palm kph requir extens', 'justin bieber', 'squirt squat', 'make money busi loral langemeir best seller millionair maker get copi', 'nt hav bt sme ppl evn whn shit p', 'blackpool toay interview weather beach', 'familiar matt bubsi', 'irgahayu corp corp w tari eni other pic', 'room pleas want', 'pleas give follow back', 'narrow knife might fin target answer sarcast', 'tri type parksi turn parais', 'woman wear shirt say act like lay', 'granma come yay money', 'one point almost believ law attract effect', 'yup got keep frantic parti lifestyl', 'fun christian suppos bore zero fun horribl christian lol', 'watch bir fli ure photo', 'feel like relev worri wor limit man least o', 'yup servic eliveri impecc iesel suppli cash flow problem ineptitu', 'sarcasm incom weeken go great time groun noth homework gunna blast', 'wait enjoy christma', 'gla know frien support', 'soun like la en ay', 'erasur perciv everett pym mat johnson black literatur black art movement', 'chick realli pimp male ay', 'power statement rob hustl grow crisi', 'guess pictur answer still answer beyon', 'percey got pair', 'best', 'look nurtur statuesqu beauti nurtur skinniest supermoel', 'earth oe mean clou vs mobil clou mobil basic client server', 'woul never hire trestman rt woul fire trestman tonight', 'someon extrem selfish ramat woner peopl selfish', 'thank stay tom', 'etect lol', 'rive ferrari right beauti clever woman', 'wheel bu broken broken broken', 'cyber monay sale got exten fuck way', 'get notif though know play ba', 'back chill keep contact hit get shit', 'usti usual', 'sorri forgot lmao', 'mt arth vaer poll higher potenti us presienti caniat surpris', 'probabl folk like buy game', 'hahahahahahahhahaha one happen ya', 'woner avantag ppl pleas aft noth worri chang perspect ajust', 'alot still suss yo keep touch peop e via twittertwitterversari', 'sure let us go back work ay leav four hour ago', 'python tweeter sen', 'absolut life shoul har thing haha', 'great start ay', 'thank help loa', 'russia say rubl crisi reserv inflat climb via', 'accus twitter shoul count though hear tale talk replac gra juri sy', 'think shoul lock phone away night', 'matt natasha sex', 'know remov overpower', 'guy trie unplug server wait secon plug back', 'warwick avi twice man toni blair', 'scotlan littl countri attach north englan', 'girl put area coe instagram clever', 'progress social liber must push victim hoo iea orer continu', 'cheer anoth goo ay', 'lol', 'oh en well rt militari style tech fin way school istrict safeti measur', 'oh miss mile school rama', 'sky news say ie like ropp ea hospit lol real honest report', 'togepi woul com falli', 'week get better better', 'ate much meal even one essert', 'goo old jk lane peopl troubl ff william thought savvi', 'halt heroin overos instantli music film inustri block one woner', 'last quit work enjoy life lol', 'lol boy want fuck relationship tri soun like hoe', 'grantheftauto five troller', 'like go williamsvil east ur parent han money ur much better everyon els hahaha', 'amaz mani american slag capit comfort armchair sip ecaf skinni pumpkin spice latt', 'know super excit get clean car shovel eal fool roa oh yeah', 'warmli ment', 'link say request page coul foun intent', 'realli absolut belt especi towar tom boon', 'well brightest bulb chaneli', 'know', 'rememb one episo santana want ancer forgot altogeth goo time goo time', 'soun like room lester batteri mate avi ross', 'bruh realiz wear shirt chick ump lmfao', 'oh wow talk skype cool', 'tri internet month know ethiopian feel', 'histor imag normal via toler', 'two year ago got binocular parent neee look futur like cool tweet year', 'watch pretzel mae', 'lineup full goal offens intent', 'love trust get peopl', 'fact liber school system ye conserv oe make racist accus', 'man kill injur suspici explos', 'reefin network mean lone moron talk youtub', 'voic reason cri wiler hysteria via', 'love nh', 'worl biggest onlin job click get start', 'carphon warehous call centr employe classi peopl', 'publicli call heartless arsehol go ay usual', 'oh brother bar journal high ay follow retar', 'babi rea vs ya know case lol', 'katarro anal girl nirvana cover', 'yeah stress wor coul easili punch someon face right', 'super uper fun wake immeiat shovel car riveway minut', 'technic muzlam believ guy lost cellar saviour', 'one reason shop make feel america', 'ef unerstan ok tri fin anyth imposs', 'go th centuri fox copi st centuri fox hasten unlitigi', 'plan feel sick surpris turn event', 'pepe hair rt palacio hair ronalo hair messi hair', 'foreign power hit japan embassi nyc missil realli attack us sens agre', 'buzz go home tonight back month', 'yeah import man realli prize prat', 'noth intimi serv chavvi lanki year old acn bum fluff', 'j nee mailman come late wait mail come p', 'fnc like either repeat stuff', 'join promoteam offici fan list receiv news event', 'oh back x', 'gla excit see', 'wow realli homework weeken', 'stuy histori rea fire', 'via', 'ha never hear quit like', 'control junta genoci peac protest miner', 'great start morn', 'got noth muslim fuck islam cunt isgust', 'lol runk mom christma fun', 'thank gooness holiay help work love think know', 'pre work shenanigan lmbo alissamari b', 'goo luck afternoon month inact ring rusti', 'agre peopl sigh other hear husban sigh time aroun', 'bet go outsi toay soooo warm shirt short weather', 'prouc mobil app', 'sip chicken cuppa soup watch excit', 'haha go fun next year', 'men footbal clearli know goo time', 'pleas rt', 'tori stoo thank servic citi want barf', 'appl j sure', 'ip rip', 'believ religi inoctrin either inoctrin futur group', 'gon juge peopl rink blaze foh go choke foreskin', 'champion leagu overr anyway', 'anniella westbrook went foo bank shoul gone icelan oh yeah fuck', 'ay shoul snuggl sofa o noth ala erron tri rag happen', 'ugh woul give first born pepto bismol right', 'tht look yr acc specif wl nee speak phone call charg', 'consist free lebara lebara min sm unlimit unlimit sm network consist sm', 'beauti', 'realli show fastest lte aroun', 'right ya', 'obamacar slow health care spene via', 'fantast ate news also', 'corey brewer look like reay minnesota anymor see boy languag', 'want know bag', 'sorkin ientifi attack free speech soni hacker attack meia publish leak', 'hinu epen western research explain written hinu scriptur', 'manag fall flat face librari stair mae top list prouest stuent moment', 'thank connect alway look forwar exchang thought n iea work n', 'btw ummi limit', 'nee pillow fall asleep mymalsh', 'think get embarrass trashi realli cute', 'wow feel ba ha actual job teacher', 'half pace season henerson woul bigger loss', 'grip new ebook faintheart polit correct pleas visit site', 'saw roel e vri nissan boss say market shoul focu emot quantifi everyth', 'year sinc tweet', 'three test two anc perform tomorrow', 'tl show lester eal hit boston wish announc mae parti involv least coher', 'prou artwork', 'fin farrrrr funni', 'hope everyon love marxist christma', 'blame bro marri woul support milan', 'let us hope nene hurt ay ay instea week week pleas', 'peak', 'want see', 'nice origin', 'miss close', 'loveee final soooo much get sleep best part', 'race human look thing myth race', 'still woner pop save passwor still pop even tick keep logg sarcast', 'thank share mike opinion mean lot us', 'funni sit minut notic taylor swift', 'offici look singl ha', 'els woul friay', 'historian collect correct fact wrong abus', 'see', 'see eye', 'hahaha enjoy got christma', 'qualiti custom servic toay xbox one', 'tiger woo hero group global bran ambassaor rea stori', 'box set complet stepto son shoul cheer', 'love complet wie awak', 'far toay go awesom', 'mcroyn', 'notic cross follow past month guy hope enjoy sarcasm b c know valu ae nil', 'follow relev', 'american justic system', 'littl girl woul ream shout instruct repeat complet ignor', 'nice frienli river never get bu note mate way make feel welcom', 'thank mom love wor love let know prou', 'rt rich roriguez avail photo op fiesta bowl', 'use brain stopp rink tea feel sober goo bring tomorrow', 'ok know cleen go win let us en excit amen', 'merri christma x thank make', 'still got alot moonlight left', 'love trier mate serious game seem pass poor ball oe pick runner', 'mous first incept memori soun braaaaaa', 'ba gift wall give gooen k cash via', 'porygon foun com wil follow', 'via', 'think go check music later thank', 'care cayc almost racist statement', 'gone got stay high', 'ya rememb win one regular season game like super bowl', 'oversleep bestttt', 'tomorrow anger way live', 'may alreay gone littl far eyebrow', 'cheap expens', '', 'hire manag will wait ay guy join immeiat cannot take guy ay notic perio', 'still believ teammat engag', 'gee har believ', 'thank help gile', 'everyth must b turn isast aveng anoth isast gratifi forget tht human pakistani', 'keep smile face get bullcrap instea break like usual', 'wrong want rea horribl thing worl one ay', 'sooner fin sooner go love convers hr yet tell work', 'coin erraji zeeginganinja seem peopl nee clarif', 'hernanpuent repostapp perfect filter', 'wish mayb next year one sock cloth sock', 'rememb last time saw bit integ mainstream meia', 'christma music stair master', 'love way male buffoon woman smart alway win', 'almost smell turkey', 'funni thing secur guar fe ex la pick time', 'noth beat surpris tetanu shot octor offic', 'shoul school', 'photo', 'absolut appal servic wait rise fare next month', 'wait citi ata becom fox news site soon', 'everyon unerstan life', 'resembl uncanni', 'pleas rt', 'christma gift sweetest frien', 'well posit note stay awak anoth hour go get bloo work one fun stuff', 'love wake earli morn', 'cell phone accessori accessori kit auio aapter batteri bluetooth speaker', 'complet suck sub haha go', 'weather bomb weather bomb applau meia innov help sensationalis usual autumn climat', 'clinic psycholog exam gunna main whatev mental isor evelop', 'happi escrib toay', 'look back saturay night like thursay', 'ha chose live winnipeg never see leaf win cup cup', 'wrap crotch mountain commerci tonight pack everyth hea loon mountain resort', 'still shit', 'oh lori eat harest go someon place esp eat meat eye roll fee', 'fun ay sunay ask travi lulay get face paint like toni tiger', 'ha feel woul hurt', 'excit see snapchat everyboy christma inner wow', 'yaaaayyy valentin ay stuff alreay', 'bae ha energi rink want stay sleeeeeepi', 'alli mccoist han notic get pay rise realli ranger best interest heart', 'imagin imaginari menageri manag manag imaginari menageri', 'swallow giant lozeng throat actual hurt gla twitter share espair', 'fix', 'action along boar', 'cut omin tweet finger milo tin see survivor', 'well come anoth page paper', 'got bap hoe thou', 'current write plan stop procrastin leav paper untouch ay', 'secur engin secur guar', 'everyon compet privat goo way better work togeth whole avanc human', 'cours', 'celeb take rastic measur look goo', 'take long ass rive music blast', 'absolut love harass group twatti aolesc late night shop', 'stuent athlet realli pick wrong class cheat via', 'chortl woul like palmer', 'goo thing obama open cuba first term wait elect', 'progress sure bring peac justic', 'xma blog feat rea stori share love click link', 'pick one time homi back stickin right us thank answer', 'hostel fine actual prob caught like germ walk aroun lonon thank wish better', 'spier web lace chemis line unerwir cup strappi open back ajust strap', 'tell truth may smartest thing ever tweet', 'realiz tweet avic ay spill coffe right', 'aorabl keep happen', 'avertis onlin special expiri countown yet orer anyth check postco valiiti', 'last time get miss', 'easi focu han million thought run min time', 'wallahi speak unbeliev bi let alon wish happi celebr', 'start p', 'feel bless get ocular migrain', 'yup sarcasm wine', 'one nighter semest one', 'great oe mean also give hunt kill willif europ', 'still w back sprain', 'woul will purchas vene machin', 'tweet nearli time sure tweet realli neee internet inclu one', 'pleas rt', 'look forwar mine boyfrien n christma togeth', 'love folk call bray system qb biggest peyton man fan', 'look practition anyon recommen', '', 'sure mae ay lol', 'shit keep get better better', 'fever fun', 'roun ligament pain return yay', 'great job report mental unstabl man call rug craze', 'russel bran iscuss toay much lonon mansion worth marx marri baro', 'hey profil say heart jesu ba', 'logic invent kuffar everyth make perfect sens like monkey stone monkey', 'hunch think steven gerrar leav possibl go ml', 'well sinc basic employe oil ga sector woul make sens oper way', 'hangin awg', 'sit aroun listen sa music realli help epress', 'still awak sooo nice', 'watch move begin verisimilitu overpow like back music busi', 'love mom', 'peopl listen ah well guess learn har way', 'imagin high school toay elusion make fool internet', 'final open x use youtub vieo help thank much', 'funki tast chocol chunki monkey cup georg jungl cup lick', 'ye fountain jump soun like great januari activ', 'surpris coanchor alreay nomin worst list', 'lol real cute', 'cours ay monsoon outsi class pm', 'late night snuggl boy', 'want eat pizza frien rest life', 'love cocoa', 'know want alway keep think bigger', 'come la fuck better shite keep show', 'know see see know feel see', 'o project univers ay life sooooo interest', 'real tough whoop ungey ass', 'gear releas next issu wifey seri', 'power went elano part still everyon', 'oe sue give bonni anxieti stress pill', 'written everyth nee know seem lot manag', 'say anyth rt', 'love minut wait reach wait knock back minut fantast', 'funni annoy men tee great famili reunion', 'consier run shock', 'jacki ha best joke hear awhil', 'e except c right w e r', 'clarifi legion follow', 'oh look make peopl happi magic man happi lan live gumrop hous lolli pop lane', 'place want sit seat earn', 'great last minut substitut', 'famili might fin giant lump ice sit sit right transform nigher fellow', 'ultim book', 'women get hit marri manag crack', 'love came work charli sai busi peopl minut yeah got place pack charli', 'white white crime like ribbon sky non exist', 'aap sai eclar ak caniat last list eclar issu affect inia gp term turn bjp', 'happi tha lea multiplay esign harlin follow x', 'aaaaaaan left work comput home go get', 'longer polit set stage race war way succe', 'salt n peppa geico commerci liter best ever one beat hump ay', 'toay blast', 'oe look compar effect ecis framework', 'smh yesteray lose voic toay woke mean ass cough heaach christma coul better', 'pleas rt', 'well live till yr old', 'never fail make laugh talk show tv', 'women crazi ass shit guy least break heart', 'latest album free univers', 'time post christma car wash yay', 'ebola gree aka bamin kill easili quickquick', 'tramp shit', 'thank cover femin issu favourit magazin cover ever lorraineel x', 'alway chase want get', 'pretti wini summit memphi love floppiti ear watch raptor soar', 'nee get sasha way cute', 'fuck realli bali', 'cute sure citizen feel real safe show us', 'pull spin toay interest', 'harri liter goo person hurt heart bye', 'ever woner shit woul think', 'normal peopl see vs see', 'long tast purpos work meat like', 'guy amaz allman brother ban stormi monay fil', 'pleas rt', 'park meter obvious forgot get park ticket', 'hey stuy guie chemistri go', 'grace barf bag barf bag grace sometim see peopl feel like vomit', 'oh funni saw crow inner', 'review', 'soun like soooo much fun', 'list lot great choic help win cup next year', 'player support protest kill sure onat wb come', 'hope ha nice xma babe x', 'love hang', 'friay lit', 'look forwar new year', 'sweet', 'wish son like sai twitter wit twitter magic photo smoke mirror effect', 'shock', 'check latest blog post myfairaili pin realli work', 'go surviv toay w break tear least twice possibl pass nighter librari ba iea', 'much', 'know well uner erickson', 'give peopl break say without support cast none work woul mae tosh noboy get', 'lor merci us worl power nation rule two famili', 'watch blue chelsea cours', 'gone fire jan th', 'happi monay', 'foreign affair committe mep iscuss lebanon prime minist', 'love sometim skipp greet repli towar oin', 'tri ring plumb issu phone goe upstair super mario theme tune', 'alert meia guy twitter un cite proof evolut wrong let us get nobel prize reay', 'chase og though hous fun', 'smartphon app pay see go', 'ba cube oe oor', 'talk bias behavior go rea pai articl paycoin', 'execut comman begin job use en person life', 'hmmm interest juri ege towar right sie favour', 'love morn govern ban look like rape stop elhi', 'well watch make clip rive rescor see easili compos', 'stare boob hun look heart', 'fun fact color guar rifl name stitch got stitch plu stitch fav', 'ye tast slight aroma tea', 'amen bless hua mean lot', 'hey mayb reach scoreboar fix latest issu', 'ha bruce springsteen flashback shuer', 'push peopl rea push peopl bree', 'thirst make settl grena bruh', 'throw christma morn ieal way spene', 'great se mate thank cheap shot safe trip back ry train lost', 'love freez rain', 'frien still nee', 'go sleep hope sort morn', 'use boy smile like sun girl awe boy ur teeth yellow', 'see toleo mae goo name last night', 'lakesi like million scaveng place', 'religion unfoun els allah woul save ki', 'come server busi', 'nice know everyon back yet one mine', 'thank bu thank tell help', 'come australia us uner nee sleep', 'nice see wight york normal imparti self usual', 'go great ay', 'alway wait see work', 'also go enjoy two beer sit car illeg one usc meical penn mar', 'snap tell', 'jihai killer rogu act fratboy uva rapist symbol eeper societ flaw', 'august birthay februari least serial killer born novemb mess', 'realli fuckin pay toay', 'still feel sorri ill go last night memori', 'coffe fiber one worth get', 'anoth new politician state social scienc egre liber art iploma nee', 'choke hol offic tri keep fall forwar', 'irish fan wait imposs get ticket boo hoo', 'ga per litr ottawa happi holiay ye crisi avert', 'fact white prone univers think actual racial', 'funni rn', 'nee someth legenari winter break', 'prune toffe effervesc gooness rink elirium nocturnum memphi pint ram', 'happen cultur compet class coul continu argu ignor face class', 'watch commerci follow commerci avertis belgian chocol mouss crepe', 'want christma complimentari coaster offer titl insur compani gener quick quot', 'lohan anymor etox week new week tomorrow', 'hate', 'coul stop lose plane woul great', 'oh yeah funni hell', 'everyon got selfi stick year ha one age say', 'pass worl valuabl', 'hell ever', 'captur spirit evolut well', 'sorri oe make sens make even tough go prouc player', 'realli excit tomorrow mean assign respons toay', 'better', 'kin miss summer', 'someon ha great sens humor', 'wenger slam refere sky ha ha ha ha blatantli bia towar', 'goo morn', 'torbay ementia peter js ashley', 'make prou american', 'woul imagin smoke wee regularli', 'well one o great job e wait time worst sinc recor began', 'retweet tweet import issu nee resolv', 'nice soak bubbl bath', 'thank requir facebook particip twitch chat realli goo way push away interest player', 'score goal sit bench min max har pal fill sorri', 'hereiti environment factor', 'stop fan person blow min', 'huge rt congrat toay winner', 'see call teammat soft practic week', 'rockefel center', 'peopl support polic violenc seem asshol scream govern reach', 'glass bline', 'face health crise inia slash healthcar', 'morn cri session roomi toay go great ay', 'via', 'alway worthi choic', 'hi singl vote poll poll station kulgam tune p thnx', 'ah week next meschool interview', 'take first step towar inepen', 'west monkseaton', 'write articl moo enhanc foo tell peopl eat happi', 'websit worth million peopl get pai post', 'moment someon accient elet everyth phone', 'love meaning messag automak', 'fuck get flat tire car ying come home work thank go frien great way en start ay', 'spill milk onto boob oh', 'anoth bush whitehous', 'pretti better play free game sure ask money level', 'fin hip hop mixtap promot packag', 'well throw alway fun', 'hour nap ct scan hospit perfect time', 'nice see continu gener struggl', 'sa hear pass famili frien prayer toay', 'o hw time watch seri', 'routin text irk nerv guess thought count', 'know sever charg rea internet pray wife', 'woner gf', 'ever thought move mile ecemb woul peac', 'retweet book sign screen area', 'oh ff boy clock f', 'sooo right great way start ay', 'guy brook avi stori sa thrill confus love', 'thank wake wrap coffe morn', 'heheheh shame', 'rt shoul great watch miami tri block sweat featherston ege next two year real fun stuff', 'woul also push rate fun game', 'gareth polar opposit chicken love vegetarian', 'everi woner turkey take', 'extrem excit know reza aslan cj werleman think happen pakistan', 'get excit mexico', 'look wrong profil pictur', 'home alon aka turn light', 'actual cropp aughter pic selfi', 'might b bigest fan srk fin better actor sayng fr sayng reali mean king', 'friay morn lectur bloo', 'yeah tone obviou thing tweet', 'highway isturb eicat girl rape', 'shoul sue parent', 'great start morn', 'final project ugh keep prouctiv', 'aaaaaam time betim better tweet night hous want get troubl', 'wait till birthay', 'clovi cartoon tuesay ecemb via real mccoy', 'layin go colleg great guy oe stress keep night make cri', 'pretti sure sat behin mconal rive peek see movi play', 'well among republican voter think coul well emocrat like', 'night like tonight reason abl carri weeken', 'wow love frizzi hair get', '', 'hate roulett heavi', 'joke year congrat', 'use know line yet', 'girl put much effort ress nice school overs sweat van', 'christma ault broken famili awesom noth like stepsist ki', 'increibl hear justic ginsburg speak toay truli inspir', 'nee', 'polic offic pursu are villain way abus pursu frighten prey', 'cool', 'via', 'receiv email heir nigerian petroleum corpor shoul immeiat sen bank info', 'race sanown og tonight sponsor anenong bugi club hope joke love seat tabl', 'loov guy frien give thorough escript bowel movement', 'pink eye sooo excit', 'warn bassem heck might alreay know', 'puli turn co want spen loa money year old journeymen parish woul let neither woul', 'mari shit whatsoev', 'great ay uner wilko', 'friay hilar cso pick awar', 'whoa hope ion taylor got stane ovat perform increibl voic', 'seem foun altern use bibl', 'og inner anyon bring ki', 'n promot r human n religion strictli speak religion believ right', 'rugeri personifi', 'amn lost lot follow prob cuz tweet much relat anymor', 'sorri butt', 'go enjoy ay babi', 'refus weak', 'fan app pay fan see go', 'ghostwrit shock', 'sooo much fun math', 'confuciu motiv quot free anroi app', 'oubt first block preten goo', 'group messag bbc start morn thank hannah', 'trie spell beeyotch iphon mae spell beyonc fire', 'fin one costum', 'use', 'westbrook point shot ok ok see work', 'hello inoor lung nice see back', 'think anim ki tell mani time seen frozen', 'moscovici quizz extra time three eu countri hit eurozon target', 'fuck excit th wheel anoth new year eve blame anyboy super picki men', 'go game tonight soun fun', 'well peopl ask woul without mccormack', 'import toay famili health rather nba action', 'best pickup line', 'oe iphon purchas full price still nee mobil evic unlock coe work intern', 'hope better nic kill', 'get amen', 'final reay', 'wow write review concert atten exactli want o right instea sleep', 'reay tax final', 'love pleas publicis', 'cours', 'hmmm next year say team move la', 'lmao may runk level matur time high lmfaoo', 'null much know perio via', 'realli', 'penguin cancel morn skate option ue ici roa conit', 'lol hope goo kin crazi', 'christma ay box ay new year ay enough much other month', 'swarm teenag girl walk mall help least leav right', 'use hate come uni work lol', 'hope anyway finger cross x', 'someon escrib pass like laxett bugi rememb', 'tx saw must great shot efen oneself fierc attack giraff', 'nice know give much import n', 'rink ipa groun control', 'weir', 'work front laptop hour ay suffer terribl ry eye', 'bummer ene fun game season', 'alla washington new orlean tampa bay green bay etroit carolina atlanta', 'fuck mite warch easten', 'know stori noah ha transform man moern biblic tale killsssss', 'coul probabl call text inform', 'aw love boss scheul work ay storm come bay area', 'though one programm oper ha money power ea', 'saturay night entertain', 'th like real worl', 'han conol raw', 'tri imagin confus', 'haha chainsaw murer corrupt fortun ceo rapist w e make happi', 'noth like almost rear ene someon slam brake reason get alert reay exam', 'go class import', 'amn earli south carolina shitti state prou', 'believ boegart rt sox must realli believ xaner boegart ss go gb theme', 'appar guy oe citi airport swear rive even taxi rank', 'yo boy guy know keep parti moo go', 'supaaa sweet final ya sleep', 'wow babe', 'realli nee put hashtag oh ear', 'fck hoe sorri', 'got love honest ki', 'sure larg ignor practic ny govt work convict', 'use sentenc unhear turn keyboar sir', 'watch amaz race contest talk juici', 'kebab orer snug sofa watch shit tele', 'coul kinap frien new puppi navi woul heartbeat', 'let go', 'fake star', 'love stuy anatomi', 'box yeah', 'knowleg oe mean person qualifi repres religion human saniti absent', 'ay start civilis trip much tk', 'mae think nee voka mix w bit holi water right', 'note get pai post', 'chunk hair got stuck blow ryer ha cut alway fun', 'claim man peac violat hr orient make free speech argument hr issu', 'ask hv gej n pp trene yesteray night', 'love wake abl sleep anymor', 'hang niec ay joke', 'hear liber efen bomb civilian along terrorist w trial still claim enh interrog gitmo evil', 'offer mae sure boar refus oubl octob ranger interest', 'toay shitti ay', 'neither go ambul pre book gorj', 'fell asleep pm woke get back ha almost forgotten welcom back', 'thank behh lovey', 'light went school tri learn one emerg light classroom great', 'new j gym bein right next sayer sausag roll sala pleas', 'barter bottl rum best one got happi fuck new year', 'pleas rt', 'ye mother wish', 'assum rex grossman start', 'iron song come song', 'oh let us forget', 'walk school awesom', 'love take subway alon', 'ha ha christma cat look well impress', 'cup tea total ass switch coffe', 'bertran russel', 'step ig', 'moment want break someon finger', 'cool', 'goo govern orer celebr ec th', 'lose key car rive airport catch flight awesom', 'onlin shop creit car', 'syria via', 'gop love immigr like illeg borer crosser illeg presienti action ignor constitut', 'fuck twitter tell follow follow someon', 'listen paranar mix polosweet', 'pretti flip col outsi toay tell ya', 'fuck pure cloth though spoil bless', 'time look golen girl nite show', 'even keep great music', 'hashtag got racist goin sunay', 'tri rive suh price', 'welp back raw boar', 'illinoi mae illeg film cop guess step right irect', 'call otak letak kat lutut', 'foun etch sketch app', 'believ life go creat race', 'never realli check mayb thing wrong everi week', 'ieolog nutshel mean life sentenc everi perspect', 'fine atm glaze appl shower gel perfum smell amaz', 'ew realli', 'want see remak favorit movi olboy perfect film', 'toay fabul ay', 'song angel eath goo one lyric bash vatican', 'rememb black friay bust', 'thought funni p', 'shaowi investigatori power tribun say tap major internet cabl ok alright', 'jamei winston get pai photo coincienc', 'know tom crean coach geniu', 'goo point republican parti fractur togeth make isenchant elector', 'greek sala lover', 'follow get free emo inustri buzz app seen', 'page harri potter chamber secret j k rowl', 'silenc tast like wet flower wet ea ying flower flower without life fallen piec silenc', 'went', 'love guy tri give number keywor trie', 'pilat get go home get reay work amaz', 'begin look lot like christma', '', 'esign firm holiay car skewer corpor jargon han bite mouth', 'put first gear move liber ever give life estroy', 'man much tweet', 'see burnsvil pm', 'happi birthay young one gooen la x', 'greatest unsolv mysteri go', 'yellow page nee phone book futur', 'fox news critic poor journal regar uva incient hilari', 'buhism chant ki', 'support compyut system iea robotway', 'spen chilhoo hurri grow grow want retain chillik natur', 'got reay got school park less minut', 'goo step bjp goon', 'vote republican civil right recor abil empath amaz', 'woner professor iaukea say new isney princess', 'everi one love lot x', 'tweet yesteray', 'polic turn violent love truth healin', 'make woul love beer ten talk basebal goo ue', 'sure cereal box ecor accur represent well know book', 'hear traine watch train v break soun fun p', 'yet anoth angri moron block one tweet p', 'riicul hashtag', 'storm come', 'oh keep finger cross sometim wors quicker go', 'gla jonathan stewart ha best game yr fantasi fb playoff', 'reason feel classiest wear fake pearl necklac lol', 'ha take snow fall still total clear went sleep', 'cours care care', 'wor selfi egyptian legen', 'ohhh joy get pull', 'got love shake someon han shiver offici eath han winter', 'help conserv neee get pai post stuff like go', 'thank go wait appoint februari', 'app outragi', 'worl start ay kaitlyn get tire', 'robert hansom ugli love ga tomtom love', 'fact offic woul threaten throw mother squa car lament ying chil wick absur', 'work irti bir', 'union represent eca teacher pay still suck short ue', 'gooooo lol ki', 'still', 'woner weather rink tonight', 'go watch movi murer merri christma', 'hour final get freak sleep', 'obvious ay go go fantast well', 'way coul mean track recor whatsoev', 'casual stroll lauralobaugh rochest key west islan floria', 'coffe priorit mess tri clearli', 'lol actual use email', 'christma less week away wtaf', 'make pair lung tobacco box collect sculptur project', 'big guy like sephora jcpenni killer', 'q slower pakistan bat ptcl evo', 'complet ay ay ab challeng workout join ownloa app', 'soon stop wtf omg eff fav thing hear', 'merri christma topspin monkey hope great holiay reay train new year x', 'much stupi peopl get', 'ifficult happi life shoul enjoy life come went back ez', 'iffer year make', 'let bb know get xx', 'efinit consult tax profession one', 'free ate relationship book', 'ault onesi meet cloth requir walmart employe put yr vest smile', 'epen mean everyon iffer', 'toay start fabul', 'want hit slope', 'bless frien merri christma', 'colleagu tol uncl upe aci saam hussein thug usual offic banter', 'kiwi heineken rink steinlag pure new zealan breweri limit raglan golf club', 'funni think liter book whatev want life', 'great time feel well', 'much import unilater remov restrict oil ga sector', 'much tomorrow think mayb take nap', 'prouct aaron roger eric ecker pretti goo last year situat jori cash non factor', 'miss taken', 'pleasant way minneapoli prestigi public escrib femal auienc', 'wow wait post', 'moment rop phone right ki give case xma actual open put use', 'repres black fact reject', 'fell asleep post last post', 'guess ream els abl visit site guess let prison phone right', 'give feeback foo happi', 'amnit ue see get back though', 'lol appar leav big impress', 'fin sxi lov mobil', 'tweet explain muslim shoul sorri', 'yeah show convo stuff go text', 'go favourit owl', 'playoff suppos make process easier', 'whoopi sai rape yo roman polanski rape rape b c rugg via', 'fail evelop hair bal hear talk abr evelop', 'gla work morn', 'prepar sampl answer rehears exam qs igit meia googl rive technolog avanc', 'casual meal mate turn expect', 'lucki finish coursework revis super har feel super healthi two wor love life', 'hahahhaha realli mae jelous', 'tri eci cover say lone wiower', 'anoth ay love comcast subscrib', 'iv even start think go get parent babi someth fam multipli quickli', 'young chap asham go savior wor go n life christ entrepreneur', 'monay fine life suck first ay class see ugh face', 'gla fin ha quiz ue yesteray even know thank notif blackboar', 'new englan new york jet pittsburgh kansa citi carolina clevelan', '', 'wow serious ying', 'prettiest face worl stretch mark ruin', 'follow saw post thot might sorri', 'love life', 'twitter keep insist follow someon rather', 'current fair outsi', 'efinit latter', 'clever', 'obama like ifi use scorch earth metho', 'alon privaci anyth fantasi', 'close', 'ah soul show make sunay morn work bearabl yet', 'ill see final', 'go hawaii bye bye frien back', 'comitt rt', 'best thing think worri obsess faith everyth work', 'well clearli wrote last tweet', 'okay went court case got ajourn till januari back play pain wbu x', 'must b lol x', 'strong show pittsburgh sport weeken thank great season', 'hello sunay way ecemb pm ranom inform', 'watch watch anoth time', 'cannot wait home go miss alot peopl ah roll new year', 'flag merri christma much prayer hostag', 'go call toay commut qualiti time w mini hour minut qualiti time thank c rush hour', 'yeh still unclear know', 'feel ironi use fin peopl iron use work ironi wrong', 'naughti og go', 'oh classi also belittl isgust littl vieo', 'co aw server', 'wow tim horton cobourg realli game toay', 'sleep feel awesom', 'thank plan c two week row get ri exot engram also amaz move', 'funni fake ass bitch', 'year woul realli argument shoul', 'shoot old neighborhoo famili live pray everyon okay stay safe', 'alway nice teacher oe leav lesson plan sub', 'love captcha', 'yeah hast rose bir beer much better richarson zampa laughlin tait', 'amaz one o ignor think set free', 'quick feet slow motion never stop love knee high arm move still lot one', 'wish still', 'work cart toay go make money golfer ay', 'yeah hate', 'favorit love romanc novel', 'absolut love song', 'ye rememb littl entir new lineup came happen', 'yeah cool fuck woke', 'nice lazi search googl scholar coul fin free copi openaccess win', 'fe o stui gay iffer speci wor lesbian stuy oubl grant', 'well one thing anoth hey like new exhaust', 'move', 'math tutori exactli nee right', 'strang ay far everyon seem goo moomayb actual nap still runk still time grumpi return', 'small jacket big coat later back train stn go back town work xma', 'swear biggest tool wear belt even though wear suspen pick one', 'go stan goo stea', 'monay', 'hope get ice palac invis car', 'yay time clean tire', 'reay jeb first femal', 'week keep get better better', 'clean cleaner never cleaner', 'stop laugh fact special viral market especi amus', 'one week back suburi go lake nepahwin', 'gerryman neither parti give har inform voter', 'nice cook', 'say first way say ye', 'realli talk night one talk', 'first line correct say latter one', 'phone bill love email wake', 'stop subtweet', 'hmm train encourag motiv chang tonight know bother go', 'wish coul make peopl like person', 'got go home cook big breakfast', 'rea victoria secret fashion show recap plate french fri front', 'peopl never chang', 'ye ara know hahaha', 'lol aye funni fecker anytim ironsi fanci wee race let know', 'amit rea via', 'room', 'ask mystic mona question psychic view weekay pt', 'lol ba buwies ba like rink water tap', 'peopl school seem amaz', 'continu woner custom servic', 'sale steam go buy amaz game v', 'prouc kin creativ esign', 'forc call keep price bh silenc googl fiber', 'moerat queue flush everi one planet miller hour', 'ignor still top ten thing love', 'listen tron legaci album clean make feel like clean worl', 'night misha still nee twitter chines movi night', 'weir without christma music yay happi christma sammi', 'toay alreay shape fabul', 'goo crow inepen bowl', 'whooo go love team', 'bet first use one', 'ooooh econom estruct countri make worl iffer', 'everyth tol copywrit bs', 'aw ben know exactli reaful hug x', 'worst part crosswalk memori ki kill nigga like stop', 'oh great pop want tri quickli access account info', 'migrain throw alway fun', 'go explain', 'surpris', 'khan o brook mayweath o khan make poor excus avoi big fight', 'sport rock har sometim', 'surpris sjw trie get call uti bann make male femal guy men kill women', 'miss watch rain castamer rob stark entourag ie', 'slow enough time left', 'uli note p p p', 'great way start ay', 'stomach hurt sick sinu infect', 'first nsfw look jessica cameron mania via', 'everon support fawa alam fawa cricket v', 'seen com sinc gist', 'pretti much real eal', 'gla see someon final realis funni mark lawrenson given work hoot', 'mayb rip eath lol', 'tf want christma elf tattoo umbest shit ever hear', 'lol see block best thing instal iffer browser', 'someth rememb hea tonight', 'look great toay ian fair enough ian', 'one old fart anoth ever tire get go', 'hate awesom', 'white iow guilti racism fact skin color taught', 'guess work best combin want see sneez', 'tht impox koz late kajwang brother stil aliv kan occupi seat raila', 'ask back moel next month', 'go hotel vega theme parti', 'rte yeah total make sens', 'via', 'accept hour rive mile cheshir manchest yesteray northern powerhous', 'core look secon come soon', 'wait see mani pair beat heaphon show gym christma', 'oh look anoth storm syney unusu', 'googl greatest travel hack make flight much easier', 'let western bastar bank account freez ark', 'happi got offer triniti laban woul take greenwich lee ay lee', 'amaz follow last week tomorrow grow', 'jim cooki nikki kill everyon nee go enjoy amaz pastri', 'vision look like let enjoy first winter outsi peep hole', 'surpris epic', 'speak like save', 'voka lime lemona one', 'sneez pee', 'encourag eucat', 'test first ay', 'rt jameer nelson start return orlano tonight marcu smart come bench', 'creampi crusa', 'love hypocrisi holiay', 'anoth ay parais haha', 'raft pick compens tie name six month younger', 'ue tol money everyth argu son money public', 'someon quit vocal liber time support', 'vote unerr actor jimmi got ter fame', 'honest tie high beach got higher night crept', 'haha cool ha feel woul nee consier actual racist comment keep goo fight', 'favorit new app chicago comey scene cc raio shoul check', 'elrufai repres mass victori', 'autoincorrect strike worth', 'excel respect interview last week love lack', 'attitu think hot shit buffet restuar', 'turn paper come back home stuy', 'constip eat noth shit three week', 'friay heavi sigh nooo total wenesay mess wait ay', 'affili market blog post way meantim tip expert', 'husban think crazi tape tape ispens hehe hani like', 'took hour en morosi right nightengal sourc wrong', 'mama korean awar show hel hong kong healin american artist', 'iktat brussel ruin life britain', 'goo sight sing', 'ear manila traffic twin bangkok yahooo sirat express way', 'atheist celebr christma', 'hope coul recov fever toay nee start strama', 'feel comfort misinform vocal', 'fair get lie earli colleg blooy freez', 'reveal rink', 'hungov en stay', 'ha yeah opinion like mine mean noth', '', 'well nice text wake', 'love avert woman black say sleep week way sell', 'spiki popular name spike rt babi name sourc', 'jfk baggag iiot accus steal shit right outa luggag shock ummmm hire moron put armi', 'wait new wii', 'perfect way start morn', 'get hit tsa agent think first name bowi', 'hurt still love', 'small iet', 'stuy har', 'feel ba confus ny cop controversi one camera brown clear neighbor', 'worst mobil inia everi look everi moel hang th ay onwar', 'hour sleep put hyper moe', 'twirra place rt twitter place virgin tweet sexual hoe form saint', 'grinch stole saniti via', 'espit fact till stuy ha wake think ay go great', 'realli happi hear nbc hockey talk hea point ovechkin strong corsi statu season', 'senat summari report etent programm must en stori', 'yup efinit', 'histori essay liter shit', 'love wake ea sleep two firetruck blare past winow', 'love wie awak', 'thank appreci look care', 'ahhh winner epik high', 'love abl comfort room', 'stan watch game louisvil fan ba steeler fan', 'photo pool via realli brighten morn', 'yea keep bargin stuff even care get hobbi sjw also babymet nice', 'believ ash mae funni', 'like en well vaccin exactli nee health human servic', 'love sleep best', 'even watch anim japan', 'final went octor feel much better', 'grine gear worthless thank', 'thank beauti ppl talk extra lou tri watch tv love guy much', 'result excus', 'got earli get earlier bu miss wait well ay start woner', 'well toay great start might well monay', 'wow thing go chang never hear opposit pleas vote work well', 'person protect n amen noth see', 'abt say sure whether oxfor brook uni part oxfor uni yet cv impress still', 'loooov argu insur compani', 'usa hippa law prohibit psychiatrist releas info', 'finnish work fascist kyiv nice guy', 'orm actual realli creepi one', 'beauti ay climb mountain', 'place wor job mean steal', 'think tori actual favorit human earth tbh', 'brother sister speak way father heaven chil either', 'repli surpris', 'big gulp health care', 'amen ue respect', 'oh yeah n hahaha lol', 'final stress free wait', 'never expect woul lie much back first encounter', 'fan freakin tastic wait', 'point effort come one irect left chang irect', 'absolut great lesson half half toay', 'grana watch absolut shit telli serious channel never even hear', 'noboy eni wor', 'min class n alreay wana kio mornin person', 'actual believ henri unef turf', 'eat watch movi kick shit', 'case thought ha blanketi blank job check guy', 'ye also show ignor hate', 'wow catch news fals intellig foun fals see wikileak sourc', 'call show train wreck way respect guest guy', 'everyon broken goo hie goo want punch face', 'final episo surviv ie tri get sustain foo sourc', 'guess one suppos say', 'think make aaaawww', 'shameless account firm make vast sum avis rich rip taxpay account chief', 'accur v sa ine', 'true keep give return', 'joli hollywoo actor filmmak', 'healthay news fewer half american', 'get reay anoth one saturay', 'tnt replay cav knick game mayb knick win time', 'sali part mani peopl testimoni monster secret', 'mean matter game', 'work job pm w minut job alreay plann sleep immeiat work tomorrow', 'give want want', 'smarter peopl lie fun pick hole stori', 'fart like worl ene', 'lol oc know o', 'stuck traffic yuppi', 'averag get averag result', 'anti union governor inaugur ball creit union center slap', 'guess get time spen time', 'urgent contract assur manag privat bank singapor specifi singapor specifi', 'shout out guy took shower million hea whole bu thank', 'christma one ay get ure year even sign xbox one', 'two peopl got sock clutch af', 'think mae confus aze', 'goo yeah goo feel tire self soon x', 'happen everi ay', 'ugli christma sweater', 'twitter annoy', 'awak sinc alway much fun', 'ki right', 'procrastin get work one b c rea new book', 'eci chang king trunk gol logo green tight blue creativ', 'watch like rest countri hope aorabl girl itsi hahahaha', 'presum evienc back claim simpli feel base interact', 'fals slaveri base econom', 'follow friay everyay help new one feel goo twitter', 'use instagram well get free follow', 'easiest final life gla stuie hour', 'lamar entertain put money make right team', 'last movi seen alan arkin argo grugematch ha absolut roll', 'work birthay', 'want mine pussi', 'via', 'love much taylor', 'first final ay one three go', 'ban play two ticket parais park lot reskin game', 'confer call', 'watch crale leg saw episo chicken', 'toay stane front tesco wear elf hat say hello custom get ignor', 'big ur post cunt run photo check n', 'love call work morn even hour sleep', 'secon major noseble ay halt train effort nare mean war', 'well wors better stark rave', 'preiction erv santana isinterest play twin aka offer enough', 'woul get floor one poke', 'get frienzon someon tri frienzon sigh', 'music alway offic current listen ki bop hanukkah spotifi recommen', 'yo got ten squa member khajo chri sai tear gang member kevin respon', 'part articl uexpect', 'know han shoot thing proven fals right', 'ear aress come matter name mistak fix', 'check twitter snapchat tell ay someon pleas help', 'hell break loos ahhhh everyboy freak', 'gavaskar freakin geniu', 'possess half balanc legola', 'hilari', 'granpa gave creit car christma iea lol', 'roman mytholog get soooo pump', 'total kill assign late', 'coul stay sleep', '', 'kin frustrat christma break first real oblig free break year en sick', 'lool guy multipl twitter hanl', 'yeah x', 'realli sure want place toay stop rag ay', 'thank aiyn ael get sick', 'li suck offici use goo', 'thx catch', 'cocktail tonight yep ha one year', 'nxt gone sky', 'ivi one anoth goo', 'archiv pick make laugh sick', 'much less controversi bc replac', 'believ nearli month sinc mum pass away miss much everyay', '', 'saic esign irector tren avic stuent', 'oh brafor aw', 'maaaaan stupi instagram went follow cat mom tom myspac', 'love button pusher', 'normal relat cuba huh get reay crap', 'instea play pompou know car actual make eucat rebutt', 'consier issu n care take posit back give amn wht think', 'got love latest featur vnx sie', 'bf sp shit mp broken month', 'juugin everyth nigga got warrant pay', 'name', 'take physic challeng', 'get sick time final great', 'look trash clearli see hanl stole name pictur', 'fine quit funni gillett soccer saturay sky complain enough game pm saturay', 'teacher say come tomorrow morn help never classroom', 'chicago firehous restaur caught fire morn', 'wtf go', 'cram minut exam get tag qualifi person', 'watch creepi shit alon ba iea spell turn french bullog big ass bullog', 'xma blog feat intimissimioffici rea stori share love', 'tomorrow great ay', 'cannot wait go entist later', 'life never easi seem till come bring r love insi', 'wait wait wait font shirt comic san', 'revel african american commun faith law enforc skyrocket', 'love peopl messag nowher act like guy close cu want someth', 'miss skateboar even winter yet hoof life', 'moment go bathroom clean lay', 'nit pick everi littl thing guy keep o show team behin', 'beauti way start morn', 'person wrote clearli bit tit', 'noth love listen black eye pea way home saturay night loss petrolia', 'upgra seat kin scare', 'feel love', 'walk civic offic get bu mutter woul think woul pay water', 'stane boar ental hygien two hour want spen birthay', 'like visit articl also win free puppi puppi per visit puppi maximum', 'fish mammal noth common', 'bore check newest articl wor link riicul websit tri', 'nichola spark manipul women believ guy realiti sensit male charact book', 'reay first healin tour north america ticket info', 'cross bear lol', 'may nee rerea book ever fin raco boggart', 'far woul go via', 'increibl rt sox agreement justin masterson', 'verbal submiss', 'final week plu hear granma icu amaz', 'well sai one fe women breastfe ostentati', 'like maliv', 'goo choic stay late ly', 'agre see vieo photo taken two hour shoot', 'boyfrien hair flip walk away', 'love half group realli committ half oe give crap', 'link somewher quit put finger', 'boy languag confienc easiest thing make iffer via', 'loughton basilon', 'ohhh know soun sooooo interest', 'oh skrillex big eal see aili', 'packer fan twitter full meltown moe r e l x', 'time week lol', 'big ki christma morn wake everyon blooy earli', 'tryna learn skate tonight', 'wtf', 'favourit ay year', 'happi gone yet', 'earn lan free level bage', 'hahahaha love mate goo xx', 'thei right protest en funament right begin cannot take right earn livelihoo free movement', 'hous ajourn pace expect ach come parl n cnt blame moi govt fr', 'yeah look like plastic', 'pretti sure ba boy worth least stoke per roun mirana place', 'enough anc practic whatsapp group yet', 'nee two hour long hug insecur', 'anoth', 'fischer orer fish chip', 'post tweet oe mean use twitter', 'mess toay guy thought work', 'million trillion thing woul rather rather profoun lyric big sean profoun', 'congratul well eserv hope enjoy notif twitter', 'soni got hack oh man big surpris', 'go miss other least got howi kenrick', 'gay bang', 'new curtain like travel torment seek asylum', 'nevermin get work nee hump back game bc gooen play terribl', 'give cr water subsiy public crime wast cr avertis evelop waah ji waah', 'oh someon got troubl make fun peopl behea innoc peopl nice', 'happiest person ever wake morn', 'carri way half men woul get call crank amongst thing ask ha', 'virtu islik none vice amir winston churchil', '', 'hit angl uck face hie wrinkl', 'opposit cheat ay call one per week sai', 'bang great insight rt interest rea emocraci ab manag ieolog', 'vacat imagin engineer born soon signup gain access beta', 'know get number', 'facebook owner mark zuckerberg say islik creat islik button', 'short hair', 'stuent busi protest gran juri ecis stuy eserv fail action consequ', 'hero happi c comic mean even great flagship romanc fauxmanc bring estruct', 'last train', 'sane peopl woul talk twitter fin sane human talk', 'haha never nice guess cool enough', 'heae huntsvil tx afternoon tri contain jealousi', 'rea une unit chairmanship statement tonight say lot tosh care young player ine', 'thank leav ish us', 'noth say welcom home better', 'far toay ruin mug crie twice gotten thing list one furiou', 'love abl sleep right', 'velvet rhineston babyol size meium larg come softli pae uner wire shelf cup', 'well say', 'woner time fiscal year', 'pleas book one appoint tell happen', 'love morn start like', 'toay surpris', 'ual seek protect hear propos secur bill trampl basic right pple freeom', 'shit call', 'oe mostella get much play time hubb ik might wrong unerstan', 'realli respect feminist women movement roof', 'fun', 'time free tyranni usa lean towar toler societi like russia china', 'unerstan anyon watch bowl game matter great team outsi top omin', 'think caramel frapp salti enough', 'oh ga haul semi flammabl sign river smoke', 'ur boyfrien interrupt selfi yeah happen time', 'snow canaa hill minut hope white christma', 'take call phone thing work', 'weapon ninja train assasin cree', 'brrrrrrr kin feel woul go kitchen make coffe', 'proof never lose bet uner intellig elector anyon believ wor say', 'nee get back colleg', 'still q still one best', 'uncov hien arsen wm iraq result tortur enhanc interrog', 'home page show ow make home page stat real time pl', 'mark rea becassin penant la grane guerr caumeri', 'win frien', 'year becam lor', 'noth better get snapchat weight play backgroun', 'shoul presum', 'far back search googl calenar via sunris googl oe work search engin calenar', 'honestli never even watch christma stori seen ranom part', 'china call us hypocrit chines peac prize goe castro putin via', 'empti threat even support', 'monay ticket gener sale box ay thank help', 'favorit color everi color', 'one coul hope', 'love stress boy eci react caus massiv pain', 'girl british accent point', 'think almost ie burn face', 'eua statement european commiss eu invest plan', 'earicpatten present j earic patten elektrik metro hous vibe mix session club', 'unless rogu theatr start show get sol onlin', 'whoever hunger game whistl quiet floor applau origin cultur relev', 'feel like crap treat horribl great ay', 'progress list mn year', 'get pai post stuff like tsu go', 'want learn group evelop turn green bass thornton asset', 'one cinema', 'year ago rochal ha left shoe sale reuction full price', 'montana best versac remix ue goe', 'shoul mae canva coffe stain one', 'worl smiley place', 'two broke reneck father aughter rif team make fun old eucat film n', 'happen ki ki', 'woul mae much convinc bella swan', 'retweet chri graham block', 'fri', 'nee', 'gla c council prioriti intact', 'ri istract train choo choo', 'chill', 'someon work w oe let ki believ santa mythic os w church ogma realli want explain', 'check new post myfairaili thing love late', 'obama whisk away hospit iagnos aci reflux wow real news', 'true n r jae everi year', 'anoth one support vehicl moifi icelan servic', 'thank shut citi', 'ikr see go cri utter joy crybabi beauti coupl', 'gla typhoon go holiay week', 'regar psu presient oe', 'still bother see follow report', 'well listen woo go listen fob', 'hummingbir hover abil', 'thing miss session gym want everi boy part though cv']\n"
     ]
    }
   ],
   "source": [
    "import nltk\n",
    "from nltk.stem.porter import PorterStemmer\n",
    "from nltk.corpus import stopwords\n",
    "\n",
    "ps = PorterStemmer()\n",
    "corpus = []\n",
    "\n",
    "for i in range(len(lemmatization_result)):\n",
    "    # get review and remove non alpha chars\n",
    "    tweet = re.sub('[^a-zA-Z]', ' ', lemmatization_result[i])\n",
    "    # to lower-case and tokenize\n",
    "    tweet = tweet.lower().split()\n",
    "    # stemming and stop word removal\n",
    "    tweet = ' '.join([ps.stem(w) for w in tweet if not w in set(stopwords.words('english'))])\n",
    "    corpus.append(tweet)\n",
    "\n",
    "vectorizer = TfidfVectorizer(max_features = 800)\n",
    "\n",
    "X_train=vectorizer.fit_transform(corpus).toarray()\n",
    "y_train=train_data['label'].copy()\n",
    "\n",
    "print(corpus)"
   ]
  },
  {
   "cell_type": "code",
   "execution_count": 177,
   "metadata": {},
   "outputs": [
    {
     "name": "stdout",
     "output_type": "stream",
     "text": [
      "800\n"
     ]
    }
   ],
   "source": [
    "print(len(vectorizer.vocabulary_))"
   ]
  },
  {
   "cell_type": "code",
   "execution_count": 178,
   "metadata": {},
   "outputs": [
    {
     "data": {
      "text/plain": [
       "14042"
      ]
     },
     "execution_count": 178,
     "metadata": {},
     "output_type": "execute_result"
    }
   ],
   "source": [
    "14042"
   ]
  },
  {
   "cell_type": "markdown",
   "metadata": {},
   "source": [
    "* Fazer aquela cena dos vetores de similitude vai curtir -> Encontrar duplicados\n",
    "* Remover Numeros"
   ]
  },
  {
   "cell_type": "code",
   "execution_count": 179,
   "metadata": {},
   "outputs": [
    {
     "name": "stdout",
     "output_type": "stream",
     "text": [
      "              precision    recall  f1-score   support\n",
      "\n",
      "           0       0.67      0.82      0.74       473\n",
      "           1       0.59      0.38      0.46       311\n",
      "\n",
      "    accuracy                           0.65       784\n",
      "   macro avg       0.63      0.60      0.60       784\n",
      "weighted avg       0.64      0.65      0.63       784\n",
      "\n",
      "[[390  83]\n",
      " [193 118]]\n"
     ]
    },
    {
     "data": {
      "text/html": [
       "<div>\n",
       "<style scoped>\n",
       "    .dataframe tbody tr th:only-of-type {\n",
       "        vertical-align: middle;\n",
       "    }\n",
       "\n",
       "    .dataframe tbody tr th {\n",
       "        vertical-align: top;\n",
       "    }\n",
       "\n",
       "    .dataframe thead th {\n",
       "        text-align: right;\n",
       "    }\n",
       "</style>\n",
       "<table border=\"1\" class=\"dataframe\">\n",
       "  <thead>\n",
       "    <tr style=\"text-align: right;\">\n",
       "      <th></th>\n",
       "      <th>Our Results</th>\n",
       "      <th>Winners Result</th>\n",
       "    </tr>\n",
       "  </thead>\n",
       "  <tbody>\n",
       "    <tr>\n",
       "      <th>Accuracy</th>\n",
       "      <td>0.647959</td>\n",
       "      <td>0.7347</td>\n",
       "    </tr>\n",
       "    <tr>\n",
       "      <th>Precision</th>\n",
       "      <td>0.636470</td>\n",
       "      <td>0.6304</td>\n",
       "    </tr>\n",
       "    <tr>\n",
       "      <th>F1-Value</th>\n",
       "      <td>0.628478</td>\n",
       "      <td>0.8006</td>\n",
       "    </tr>\n",
       "  </tbody>\n",
       "</table>\n",
       "</div>"
      ],
      "text/plain": [
       "           Our Results  Winners Result\n",
       "Accuracy      0.647959          0.7347\n",
       "Precision     0.636470          0.6304\n",
       "F1-Value      0.628478          0.8006"
      ]
     },
     "execution_count": 179,
     "metadata": {},
     "output_type": "execute_result"
    }
   ],
   "source": [
    "classifier=GaussianNB()\n",
    "\n",
    "classifier.fit(X_train,y_train)\n",
    "\n",
    "X_test=vectorizer.transform(test_data['tweet']).toarray()\n",
    "y_test=test_data['label']\n",
    "\n",
    "y_predicted=classifier.predict(X_test)\n",
    "\n",
    "print(classification_report(y_test,y_predicted))\n",
    "print(confusion_matrix(y_test, y_predicted))\n",
    "\n",
    "accuracy_value=accuracy_score(y_test,y_predicted)\n",
    "precision_value=precision_score(y_test,y_predicted,average='weighted')\n",
    "f1_value=f1_score(y_test,y_predicted,average='weighted')\n",
    "\n",
    "actual_conclusion=pandas.DataFrame(\n",
    "    {\n",
    "    'Our Results':[accuracy_value,precision_value,f1_value],\n",
    "    'Winners Result':[0.7347,0.6304,0.8006]\n",
    "    } , index=['Accuracy','Precision','F1-Value'])\n",
    "\n",
    "actual_conclusion.head()"
   ]
  },
  {
   "cell_type": "code",
   "execution_count": null,
   "metadata": {},
   "outputs": [],
   "source": [
    "# Decision Tree\n",
    "\n",
    "from sklearn.tree import DecisionTreeClassifier\n",
    "\n",
    "classifier = DecisionTreeClassifier()\n",
    "classifier.fit(X_train, y_train)\n",
    "y_predicted = classifier.predict(X_test)\n",
    "\n",
    "print(classification_report(y_test,y_predicted))\n",
    "print(confusion_matrix(y_test, y_predicted))"
   ]
  },
  {
   "cell_type": "code",
   "execution_count": 180,
   "metadata": {},
   "outputs": [
    {
     "name": "stdout",
     "output_type": "stream",
     "text": [
      "              precision    recall  f1-score   support\n",
      "\n",
      "           0       0.70      0.76      0.73       473\n",
      "           1       0.58      0.51      0.54       311\n",
      "\n",
      "    accuracy                           0.66       784\n",
      "   macro avg       0.64      0.63      0.64       784\n",
      "weighted avg       0.65      0.66      0.66       784\n",
      "\n",
      "[[360 113]\n",
      " [153 158]]\n"
     ]
    },
    {
     "data": {
      "text/html": [
       "<div>\n",
       "<style scoped>\n",
       "    .dataframe tbody tr th:only-of-type {\n",
       "        vertical-align: middle;\n",
       "    }\n",
       "\n",
       "    .dataframe tbody tr th {\n",
       "        vertical-align: top;\n",
       "    }\n",
       "\n",
       "    .dataframe thead th {\n",
       "        text-align: right;\n",
       "    }\n",
       "</style>\n",
       "<table border=\"1\" class=\"dataframe\">\n",
       "  <thead>\n",
       "    <tr style=\"text-align: right;\">\n",
       "      <th></th>\n",
       "      <th>Our Results</th>\n",
       "      <th>Winners Result</th>\n",
       "    </tr>\n",
       "  </thead>\n",
       "  <tbody>\n",
       "    <tr>\n",
       "      <th>Accuracy</th>\n",
       "      <td>0.660714</td>\n",
       "      <td>0.7347</td>\n",
       "    </tr>\n",
       "    <tr>\n",
       "      <th>Precision</th>\n",
       "      <td>0.654657</td>\n",
       "      <td>0.6304</td>\n",
       "    </tr>\n",
       "    <tr>\n",
       "      <th>F1-Value</th>\n",
       "      <td>0.655937</td>\n",
       "      <td>0.8006</td>\n",
       "    </tr>\n",
       "  </tbody>\n",
       "</table>\n",
       "</div>"
      ],
      "text/plain": [
       "           Our Results  Winners Result\n",
       "Accuracy      0.660714          0.7347\n",
       "Precision     0.654657          0.6304\n",
       "F1-Value      0.655937          0.8006"
      ]
     },
     "execution_count": 180,
     "metadata": {},
     "output_type": "execute_result"
    }
   ],
   "source": [
    "# Neural Network\n",
    "from sklearn.preprocessing import StandardScaler\n",
    "from sklearn.neural_network import MLPClassifier\n",
    "\n",
    "scaler = StandardScaler()\n",
    "classificator = MLPClassifier()\n",
    "\n",
    "scaler.fit(X_train)\n",
    "\n",
    "X_test=vectorizer.transform(test_data['tweet']).toarray()\n",
    "\n",
    "\n",
    "X_train = scaler.transform(X_train)\n",
    "X_test = scaler.transform(X_test)\n",
    "\n",
    "y_test=test_data['label']\n",
    "\n",
    "\n",
    "classificator.fit(X_train, y_train)\n",
    "y_predicted = classificator.predict(X_test)\n",
    "\n",
    "print(classification_report(y_test,y_predicted))\n",
    "print(confusion_matrix(y_test, y_predicted))\n",
    "\n",
    "\n",
    "accuracy_value=accuracy_score(y_test,y_predicted)\n",
    "precision_value=precision_score(y_test,y_predicted,average='weighted')\n",
    "f1_value=f1_score(y_test,y_predicted,average='weighted')\n",
    "\n",
    "actual_conclusion=pandas.DataFrame(\n",
    "    {\n",
    "    'Our Results':[accuracy_value,precision_value,f1_value],\n",
    "    'Winners Result':[0.7347,0.6304,0.8006]\n",
    "    } , index=['Accuracy','Precision','F1-Value'])\n",
    "\n",
    "actual_conclusion.head()"
   ]
  },
  {
   "cell_type": "code",
   "execution_count": null,
   "metadata": {},
   "outputs": [],
   "source": [
    "# KNN\n",
    "\n",
    "from sklearn.neighbors import KNeighborsClassifier\n",
    "\n",
    "classifier = KNeighborsClassifier()\n",
    "classifier.fit(X_train, y_train)\n",
    "y_predicted = classifier.predict(X_test)\n",
    "\n",
    "print(classification_report(y_test,y_predicted))\n",
    "print(confusion_matrix(y_test, y_predicted))"
   ]
  },
  {
   "cell_type": "code",
   "execution_count": null,
   "metadata": {},
   "outputs": [],
   "source": [
    "# SVM\n",
    "\n",
    "from sklearn.svm import SVC\n",
    "\n",
    "classifier = SVC()\n",
    "classifier.fit(X_train, y_train)\n",
    "y_predicted=classifier.predict(X_test)\n",
    "\n",
    "print(classification_report(y_test,y_predicted))\n",
    "print(confusion_matrix(y_test, y_predicted))"
   ]
  },
  {
   "cell_type": "code",
   "execution_count": null,
   "metadata": {},
   "outputs": [],
   "source": []
  },
  {
   "cell_type": "code",
   "execution_count": null,
   "metadata": {},
   "outputs": [],
   "source": [
    "X_test=vectorizer.transform(test_data['tweet']).toarray()\n",
    "y_test=test_data['label']\n",
    "\n",
    "classificator.fit(X_train,y_train)\n",
    "#Predicition\n",
    "y_predicted=classificator.predict(X_test)\n",
    "\n",
    "print(classification_report(y_test,y_predicted))\n",
    "print(\"Confusion Matrix\")\n",
    "print(confusion_matrix(y_test, y_predicted))\n",
    "\n",
    "accuracy_value=accuracy_score(y_test,y_predicted)\n",
    "precision_value=precision_score(y_test,y_predicted,average='weighted')\n",
    "f1_value=f1_score(y_test,y_predicted,average='weighted')\n",
    "\n",
    "actual_conclusion=pandas.DataFrame(\n",
    "    {\n",
    "    'Our Results':[accuracy_value,precision_value,f1_value],\n",
    "    'Winners Result':[0.7347,0.6304,0.8006]\n",
    "    } , index=['Accuracy','Precision','F1-Value'])"
   ]
  },
  {
   "cell_type": "code",
   "execution_count": null,
   "metadata": {},
   "outputs": [],
   "source": [
    "actual_conclusion"
   ]
  }
 ],
 "metadata": {
  "kernelspec": {
   "display_name": "Python 3",
   "language": "python",
   "name": "python3"
  },
  "language_info": {
   "codemirror_mode": {
    "name": "ipython",
    "version": 3
   },
   "file_extension": ".py",
   "mimetype": "text/x-python",
   "name": "python",
   "nbconvert_exporter": "python",
   "pygments_lexer": "ipython3",
   "version": "3.8.5"
  }
 },
 "nbformat": 4,
 "nbformat_minor": 4
}
