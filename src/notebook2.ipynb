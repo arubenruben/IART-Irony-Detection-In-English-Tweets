{
 "cells": [
  {
   "cell_type": "markdown",
   "metadata": {},
   "source": [
    "# Irony Detection in English - Task 2 - Which Type of Irony?\n",
    "\n",
    "#### The goal of this task is to create a classifier capable of classifing different types of irony\n",
    "\n",
    "Like the task one that in this [notebook](Irony_Detection_in_English_Tweets.ipynb) we explore with more detail."
   ]
  },
  {
   "cell_type": "markdown",
   "metadata": {},
   "source": [
    "### The Dataset\n",
    "\n",
    "* The dataset used for this task contains the same tweets from the one used in the task 1, but label in a different way\n",
    "\n",
    "Furthermore we decide to use the data in a different way from the one in the task 1. Instead of using the split in train and test made by the organization we will manipulate the data and try two scenarios in order to use the scikit learn model split function and K-Folds cross validation:\n",
    "\n",
    "1. Use the train dataset alone\n",
    "2. Join the train and test datasets making sure they remain balanced\n",
    "\n",
    "This classification task is not binary as the first one. This task is a multiclass problem. In this task the labels have the following meaning:\n",
    "\n",
    "0. Non-ironic\n",
    "1. Ironic by clash\n",
    "2. Situational irony\n",
    "3. Other irony\n",
    "**From this two scenarios, we will choose the one that performs better in a preliminary analyses**"
   ]
  },
  {
   "cell_type": "code",
   "execution_count": 1,
   "metadata": {},
   "outputs": [],
   "source": [
    "from IPython.display import display, HTML\n",
    "import pandas\n",
    "import numpy\n",
    "from sklearn.metrics import confusion_matrix, ConfusionMatrixDisplay\n",
    "\n",
    "train_data=pandas.read_csv('data/task2/train.csv',  delimiter = '\\t', quoting = 3, encoding=\"utf-8\")\n",
    "all_data=pandas.read_csv('data/task2/all.csv', delimiter = '\\t', quoting = 3, encoding=\"utf-8\")"
   ]
  },
  {
   "cell_type": "code",
   "execution_count": 2,
   "metadata": {},
   "outputs": [
    {
     "data": {
      "text/html": [
       "<div>\n",
       "<style scoped>\n",
       "    .dataframe tbody tr th:only-of-type {\n",
       "        vertical-align: middle;\n",
       "    }\n",
       "\n",
       "    .dataframe tbody tr th {\n",
       "        vertical-align: top;\n",
       "    }\n",
       "\n",
       "    .dataframe thead th {\n",
       "        text-align: right;\n",
       "    }\n",
       "</style>\n",
       "<table border=\"1\" class=\"dataframe\">\n",
       "  <thead>\n",
       "    <tr style=\"text-align: right;\">\n",
       "      <th></th>\n",
       "      <th>label</th>\n",
       "      <th>tweet</th>\n",
       "    </tr>\n",
       "  </thead>\n",
       "  <tbody>\n",
       "    <tr>\n",
       "      <th>0</th>\n",
       "      <td>1</td>\n",
       "      <td>Sweet United Nations video. Just in time for C...</td>\n",
       "    </tr>\n",
       "    <tr>\n",
       "      <th>1</th>\n",
       "      <td>1</td>\n",
       "      <td>@mrdahl87 We are rumored to have talked to Erv...</td>\n",
       "    </tr>\n",
       "    <tr>\n",
       "      <th>2</th>\n",
       "      <td>1</td>\n",
       "      <td>Hey there! Nice to see you Minnesota/ND Winter...</td>\n",
       "    </tr>\n",
       "    <tr>\n",
       "      <th>3</th>\n",
       "      <td>0</td>\n",
       "      <td>3 episodes left I'm dying over here</td>\n",
       "    </tr>\n",
       "    <tr>\n",
       "      <th>4</th>\n",
       "      <td>2</td>\n",
       "      <td>\"I can't breathe!\" was chosen as the most nota...</td>\n",
       "    </tr>\n",
       "  </tbody>\n",
       "</table>\n",
       "</div>"
      ],
      "text/plain": [
       "   label                                              tweet\n",
       "0      1  Sweet United Nations video. Just in time for C...\n",
       "1      1  @mrdahl87 We are rumored to have talked to Erv...\n",
       "2      1  Hey there! Nice to see you Minnesota/ND Winter...\n",
       "3      0                3 episodes left I'm dying over here\n",
       "4      2  \"I can't breathe!\" was chosen as the most nota..."
      ]
     },
     "execution_count": 2,
     "metadata": {},
     "output_type": "execute_result"
    }
   ],
   "source": [
    "train_data.head()"
   ]
  },
  {
   "cell_type": "code",
   "execution_count": 3,
   "metadata": {},
   "outputs": [
    {
     "data": {
      "text/html": [
       "<div>\n",
       "<style scoped>\n",
       "    .dataframe tbody tr th:only-of-type {\n",
       "        vertical-align: middle;\n",
       "    }\n",
       "\n",
       "    .dataframe tbody tr th {\n",
       "        vertical-align: top;\n",
       "    }\n",
       "\n",
       "    .dataframe thead th {\n",
       "        text-align: right;\n",
       "    }\n",
       "</style>\n",
       "<table border=\"1\" class=\"dataframe\">\n",
       "  <thead>\n",
       "    <tr style=\"text-align: right;\">\n",
       "      <th></th>\n",
       "      <th>label</th>\n",
       "      <th>tweet</th>\n",
       "    </tr>\n",
       "  </thead>\n",
       "  <tbody>\n",
       "    <tr>\n",
       "      <th>0</th>\n",
       "      <td>0</td>\n",
       "      <td>@Callisto1947 Can U Help?||More conservatives ...</td>\n",
       "    </tr>\n",
       "    <tr>\n",
       "      <th>1</th>\n",
       "      <td>2</td>\n",
       "      <td>Just walked in to #Starbucks and asked for a \"...</td>\n",
       "    </tr>\n",
       "    <tr>\n",
       "      <th>2</th>\n",
       "      <td>0</td>\n",
       "      <td>#NOT GONNA WIN http://t.co/Mc9ebqjAqj</td>\n",
       "    </tr>\n",
       "    <tr>\n",
       "      <th>3</th>\n",
       "      <td>0</td>\n",
       "      <td>@mickymantell He is exactly that sort of perso...</td>\n",
       "    </tr>\n",
       "    <tr>\n",
       "      <th>4</th>\n",
       "      <td>1</td>\n",
       "      <td>So much #sarcasm at work mate 10/10 #boring 10...</td>\n",
       "    </tr>\n",
       "  </tbody>\n",
       "</table>\n",
       "</div>"
      ],
      "text/plain": [
       "   label                                              tweet\n",
       "0      0  @Callisto1947 Can U Help?||More conservatives ...\n",
       "1      2  Just walked in to #Starbucks and asked for a \"...\n",
       "2      0              #NOT GONNA WIN http://t.co/Mc9ebqjAqj\n",
       "3      0  @mickymantell He is exactly that sort of perso...\n",
       "4      1  So much #sarcasm at work mate 10/10 #boring 10..."
      ]
     },
     "execution_count": 3,
     "metadata": {},
     "output_type": "execute_result"
    }
   ],
   "source": [
    "all_data.head()"
   ]
  },
  {
   "cell_type": "code",
   "execution_count": 4,
   "metadata": {},
   "outputs": [
    {
     "data": {
      "text/plain": [
       "<AxesSubplot:xlabel='label'>"
      ]
     },
     "execution_count": 4,
     "metadata": {},
     "output_type": "execute_result"
    },
    {
     "data": {
      "image/png": "[encoded data removed]",
      "text/plain": [
       "<Figure size 432x288 with 1 Axes>"
      ]
     },
     "metadata": {
      "needs_background": "light"
     },
     "output_type": "display_data"
    }
   ],
   "source": [
    "import matplotlib.pyplot as plt\n",
    "import pandas as pd\n",
    "\n",
    "train_data.groupby('label').size().plot.bar()"
   ]
  },
  {
   "cell_type": "code",
   "execution_count": 5,
   "metadata": {},
   "outputs": [
    {
     "data": {
      "text/plain": [
       "<AxesSubplot:xlabel='label'>"
      ]
     },
     "execution_count": 5,
     "metadata": {},
     "output_type": "execute_result"
    },
    {
     "data": {
      "image/png": "[encoded data removed]",
      "text/plain": [
       "<Figure size 432x288 with 1 Axes>"
      ]
     },
     "metadata": {
      "needs_background": "light"
     },
     "output_type": "display_data"
    }
   ],
   "source": [
    "all_data.groupby('label').size().plot.bar()"
   ]
  },
  {
   "cell_type": "markdown",
   "metadata": {},
   "source": [
    "#### Different from the task 1 the dataset is pretty much unbalanced towards the inexistance of irony in the tweets\n",
    "\n",
    "This fact could introduced bias in the classficator. This way special attention to the fenomena of overfitting must be taken into account"
   ]
  },
  {
   "cell_type": "markdown",
   "metadata": {},
   "source": [
    "##### Helper Functions"
   ]
  },
  {
   "cell_type": "code",
   "execution_count": 6,
   "metadata": {},
   "outputs": [],
   "source": [
    "from sklearn.feature_extraction.text import TfidfVectorizer\n",
    "import emoji\n",
    "import re\n",
    "import contractions\n",
    "import nltk\n",
    "from nltk.stem.porter import PorterStemmer\n",
    "from nltk.corpus import stopwords\n",
    "\n",
    "\n",
    "def pre_processing_pipeline(dataframe):\n",
    "    dataframe['tweet'].str.replace('http\\S+|www.\\S+', '', case=False)\n",
    "    dataframe['tweet'].str.replace('@\\S+', '', case=False)\n",
    "    dataframe['tweet'].str.replace('\\d+', '', case=False)\n",
    "    dataframe['tweet'].str.replace('#', '', case=False)\n",
    "    \n",
    "    emoji_result=[]\n",
    "\n",
    "    for i in range(len(dataframe)):    \n",
    "        demojize_result=emoji.demojize(dataframe.loc[i,'tweet'])\n",
    "        #Remove the \":\" from the convertion made by emoji\n",
    "        demojize_result=re.sub(\":\", \" \", demojize_result)\n",
    "        demojize_result=re.sub(\"_\", \" \", demojize_result)\n",
    "        demojize_result=re.sub(\"-\", \" \", demojize_result)\n",
    "        emoji_result.append(demojize_result)\n",
    "\n",
    "\n",
    "    dummy=[]\n",
    "    for i in range(len(emoji_result)):\n",
    "        dummy.append(contractions.fix(emoji_result[i]))\n",
    "\n",
    "    from nltk.stem import WordNetLemmatizer\n",
    "\n",
    "    lemmatizer = WordNetLemmatizer()\n",
    "\n",
    "    lemmatization_result = []\n",
    "\n",
    "    for i in range(len(dummy)):\n",
    "        tweet = lemmatizer.lemmatize(dummy[i])\n",
    "        lemmatization_result.append(tweet)\n",
    "\n",
    "    ps = PorterStemmer()\n",
    "    corpus = []\n",
    "\n",
    "    for i in range(len(lemmatization_result)):\n",
    "        # get review and remove non alpha chars\n",
    "        tweet = re.sub('[^\\w_\\w]', ' ', lemmatization_result[i])\n",
    "        # to lower-case and tokenize\n",
    "        tweet = tweet.lower().split()\n",
    "        # stemming and stop word removal\n",
    "        tweet = ' '.join([ps.stem(w) for w in tweet if not w in set(stopwords.words('english'))])\n",
    "        corpus.append(tweet)\n",
    "\n",
    "    return corpus"
   ]
  },
  {
   "cell_type": "code",
   "execution_count": 7,
   "metadata": {},
   "outputs": [],
   "source": [
    "from sklearn.model_selection import train_test_split\n",
    "\n",
    "vectorizer = TfidfVectorizer(max_features = 7500)\n",
    "\n",
    "def refresh_data(X,y):\n",
    "    \n",
    "    X=vectorizer.fit_transform(X).toarray()\n",
    "    y=y.copy()\n",
    "    \n",
    "    X_train, X_test, y_train, y_test = train_test_split(X, y, test_size = 0.20, random_state = 29)\n",
    "    \n",
    "    \n",
    "    return (X , y, X_train,y_train,X_test,y_test)"
   ]
  },
  {
   "cell_type": "code",
   "execution_count": 8,
   "metadata": {},
   "outputs": [],
   "source": [
    "from sklearn.metrics import classification_report\n",
    "from sklearn.metrics import confusion_matrix\n",
    "from sklearn.metrics import f1_score\n",
    "from sklearn.metrics import precision_score\n",
    "from sklearn.metrics import accuracy_score\n",
    "import matplotlib.pyplot as plt\n",
    "\n",
    "\n",
    "def print_stats():\n",
    "    \n",
    "    print(classification_report(y_test,y_predicted))\n",
    "    print(confusion_matrix(y_test, y_predicted))\n",
    "    accuracy_value=accuracy_score(y_test,y_predicted)\n",
    "    precision_value=precision_score(y_test,y_predicted,average='weighted')\n",
    "    f1_value=f1_score(y_test,y_predicted,average='weighted')\n",
    "\n",
    "    actual_conclusion=pandas.DataFrame(\n",
    "        {\n",
    "        'Results':[accuracy_value,precision_value,f1_value],\n",
    "        } , index=['Accuracy','Precision','F1-Value'])\n",
    "\n",
    "    print(actual_conclusion.head())\n",
    "    \n",
    "    # Confusion Matrix Plot\n",
    "    cm = ConfusionMatrixDisplay(confusion_matrix=confusion_matrix(y_test, y_predicted), display_labels=['Non-ironic', 'Ironic by clash', 'Situational irony', 'Other irony'])\n",
    "    fig, ax = plt.subplots(figsize=(10,10))\n",
    "    cm.plot(ax=ax,cmap=plt.cm.Blues)\n",
    "    plt.title('Confusion matrix of the classifier')\n",
    "    plt.xlabel('Predicted')\n",
    "    plt.ylabel('True')\n",
    "    plt.show()"
   ]
  },
  {
   "cell_type": "markdown",
   "metadata": {},
   "source": [
    "### Cross Validation to Check which solution is the best"
   ]
  },
  {
   "cell_type": "code",
   "execution_count": 9,
   "metadata": {},
   "outputs": [
    {
     "name": "stderr",
     "output_type": "stream",
     "text": [
      "<ipython-input-6-ac6ce70539f1>:11: FutureWarning: The default value of regex will change from True to False in a future version.\n",
      "  dataframe['tweet'].str.replace('http\\S+|www.\\S+', '', case=False)\n",
      "<ipython-input-6-ac6ce70539f1>:12: FutureWarning: The default value of regex will change from True to False in a future version.\n",
      "  dataframe['tweet'].str.replace('@\\S+', '', case=False)\n",
      "<ipython-input-6-ac6ce70539f1>:13: FutureWarning: The default value of regex will change from True to False in a future version.\n",
      "  dataframe['tweet'].str.replace('\\d+', '', case=False)\n"
     ]
    },
    {
     "name": "stdout",
     "output_type": "stream",
     "text": [
      "0.44861292428198424\n"
     ]
    }
   ],
   "source": [
    "from sklearn.naive_bayes import GaussianNB\n",
    "from sklearn.model_selection import cross_val_score\n",
    "\n",
    "corpus_test=pre_processing_pipeline(train_data)\n",
    "\n",
    "X , y, X_train,y_train,X_test,y_test=refresh_data(corpus_test,train_data['label'])\n",
    "\n",
    "classifier=GaussianNB()\n",
    "\n",
    "scores=cross_val_score(classifier,X,y,cv=10,scoring='accuracy')\n",
    "\n",
    "print(scores.mean())"
   ]
  },
  {
   "cell_type": "code",
   "execution_count": 10,
   "metadata": {},
   "outputs": [
    {
     "name": "stderr",
     "output_type": "stream",
     "text": [
      "<ipython-input-6-ac6ce70539f1>:11: FutureWarning: The default value of regex will change from True to False in a future version.\n",
      "  dataframe['tweet'].str.replace('http\\S+|www.\\S+', '', case=False)\n",
      "<ipython-input-6-ac6ce70539f1>:12: FutureWarning: The default value of regex will change from True to False in a future version.\n",
      "  dataframe['tweet'].str.replace('@\\S+', '', case=False)\n",
      "<ipython-input-6-ac6ce70539f1>:13: FutureWarning: The default value of regex will change from True to False in a future version.\n",
      "  dataframe['tweet'].str.replace('\\d+', '', case=False)\n"
     ]
    },
    {
     "name": "stdout",
     "output_type": "stream",
     "text": [
      "0.44434647059375915\n"
     ]
    }
   ],
   "source": [
    "corpus_all=pre_processing_pipeline(all_data)\n",
    "\n",
    "X , y, X_train,y_train,X_test,y_test=refresh_data(corpus_all,all_data['label'])\n",
    "\n",
    "classifier=GaussianNB()\n",
    "\n",
    "scores=cross_val_score(classifier,X,y,cv=10,scoring='accuracy')\n",
    "\n",
    "print(scores.mean())"
   ]
  },
  {
   "cell_type": "markdown",
   "metadata": {},
   "source": [
    "#### From this results we can infere that use only the training set will produce better results."
   ]
  },
  {
   "cell_type": "markdown",
   "metadata": {},
   "source": [
    "### Handle the Unbalanced Dataset\n",
    "\n",
    "We will try how the same Naive Bayes model would perform with after applying sampling techniques in order to balance the dataset"
   ]
  },
  {
   "cell_type": "code",
   "execution_count": 11,
   "metadata": {},
   "outputs": [],
   "source": [
    "from sklearn.utils import resample\n",
    "from IPython.display import display, HTML\n",
    "import pandas\n",
    "import numpy\n",
    "\n",
    "train_data=pandas.read_csv('data/task2/train.csv',  delimiter = '\\t', quoting = 3, encoding=\"utf-8\")\n",
    "\n",
    "df_majority=train_data[train_data.label==0]\n",
    "df_minority_1=train_data[train_data.label==1]\n",
    "df_minority_2=train_data[train_data.label==2]\n",
    "df_minority_3=train_data[train_data.label==3]\n",
    "\n",
    "df_minority_1_upsampled = resample(df_minority_1,replace=True,n_samples=1900,random_state=123)\n",
    "df_minority_2_upsampled = resample(df_minority_2,replace=True,n_samples=1900,random_state=123)\n",
    "df_minority_3_upsampled = resample(df_minority_3,replace=True,n_samples=1900,random_state=123)\n",
    "\n",
    "train_data=pandas.concat([df_majority,df_minority_1_upsampled,df_minority_2_upsampled,df_minority_3_upsampled],ignore_index=True)"
   ]
  },
  {
   "cell_type": "code",
   "execution_count": 12,
   "metadata": {
    "scrolled": false
   },
   "outputs": [
    {
     "data": {
      "text/plain": [
       "<AxesSubplot:xlabel='label'>"
      ]
     },
     "execution_count": 12,
     "metadata": {},
     "output_type": "execute_result"
    },
    {
     "data": {
      "image/png": "[encoded data removed]",
      "text/plain": [
       "<Figure size 432x288 with 1 Axes>"
      ]
     },
     "metadata": {
      "needs_background": "light"
     },
     "output_type": "display_data"
    }
   ],
   "source": [
    "train_data.groupby('label').size().plot.bar()"
   ]
  },
  {
   "cell_type": "code",
   "execution_count": 13,
   "metadata": {},
   "outputs": [
    {
     "name": "stderr",
     "output_type": "stream",
     "text": [
      "<ipython-input-6-ac6ce70539f1>:11: FutureWarning: The default value of regex will change from True to False in a future version.\n",
      "  dataframe['tweet'].str.replace('http\\S+|www.\\S+', '', case=False)\n",
      "<ipython-input-6-ac6ce70539f1>:12: FutureWarning: The default value of regex will change from True to False in a future version.\n",
      "  dataframe['tweet'].str.replace('@\\S+', '', case=False)\n",
      "<ipython-input-6-ac6ce70539f1>:13: FutureWarning: The default value of regex will change from True to False in a future version.\n",
      "  dataframe['tweet'].str.replace('\\d+', '', case=False)\n"
     ]
    },
    {
     "name": "stdout",
     "output_type": "stream",
     "text": [
      "0.8386433920530575\n"
     ]
    }
   ],
   "source": [
    "from sklearn.naive_bayes import GaussianNB\n",
    "from sklearn.model_selection import cross_val_score\n",
    "\n",
    "corpus=pre_processing_pipeline(train_data)\n",
    "\n",
    "X , y, X_train,y_train,X_test,y_test=refresh_data(corpus,train_data['label'])\n",
    "\n",
    "classifier=GaussianNB()\n",
    "\n",
    "scores=cross_val_score(classifier,X,y,cv=10,scoring='accuracy')\n",
    "\n",
    "print(scores.mean())"
   ]
  },
  {
   "cell_type": "markdown",
   "metadata": {},
   "source": [
    "### Over Sampling Strategy was a success. The oversampled dataset will hold"
   ]
  },
  {
   "cell_type": "markdown",
   "metadata": {},
   "source": [
    "#### Naive Bayes"
   ]
  },
  {
   "cell_type": "code",
   "execution_count": 14,
   "metadata": {},
   "outputs": [
    {
     "name": "stderr",
     "output_type": "stream",
     "text": [
      "<ipython-input-6-ac6ce70539f1>:11: FutureWarning: The default value of regex will change from True to False in a future version.\n",
      "  dataframe['tweet'].str.replace('http\\S+|www.\\S+', '', case=False)\n",
      "<ipython-input-6-ac6ce70539f1>:12: FutureWarning: The default value of regex will change from True to False in a future version.\n",
      "  dataframe['tweet'].str.replace('@\\S+', '', case=False)\n",
      "<ipython-input-6-ac6ce70539f1>:13: FutureWarning: The default value of regex will change from True to False in a future version.\n",
      "  dataframe['tweet'].str.replace('\\d+', '', case=False)\n"
     ]
    },
    {
     "name": "stdout",
     "output_type": "stream",
     "text": [
      "              precision    recall  f1-score   support\n",
      "\n",
      "           0       0.80      0.59      0.68       388\n",
      "           1       0.75      0.76      0.76       401\n",
      "           2       0.87      0.99      0.93       357\n",
      "           3       0.89      1.00      0.94       379\n",
      "\n",
      "    accuracy                           0.83      1525\n",
      "   macro avg       0.83      0.84      0.83      1525\n",
      "weighted avg       0.83      0.83      0.82      1525\n",
      "\n",
      "[[227 103  36  22]\n",
      " [ 55 306  18  22]\n",
      " [  0   0 355   2]\n",
      " [  0   0   0 379]]\n",
      "            Results\n",
      "Accuracy   0.830820\n",
      "Precision  0.826351\n",
      "F1-Value   0.822366\n"
     ]
    },
    {
     "data": {
      "image/png": "[encoded data removed]",
      "text/plain": [
       "<Figure size 720x720 with 2 Axes>"
      ]
     },
     "metadata": {
      "needs_background": "light"
     },
     "output_type": "display_data"
    }
   ],
   "source": [
    "corpus=pre_processing_pipeline(train_data)\n",
    "\n",
    "X, y, X_train,y_train,X_test,y_test=refresh_data(corpus,train_data['label'])\n",
    "\n",
    "classifier=GaussianNB()\n",
    "\n",
    "classifier.fit(X_train,y_train)\n",
    "\n",
    "y_predicted=classifier.predict(X_test)\n",
    "\n",
    "print_stats()"
   ]
  },
  {
   "cell_type": "markdown",
   "metadata": {},
   "source": [
    "#### Neural Network"
   ]
  },
  {
   "cell_type": "code",
   "execution_count": 15,
   "metadata": {},
   "outputs": [
    {
     "name": "stderr",
     "output_type": "stream",
     "text": [
      "<ipython-input-6-ac6ce70539f1>:11: FutureWarning: The default value of regex will change from True to False in a future version.\n",
      "  dataframe['tweet'].str.replace('http\\S+|www.\\S+', '', case=False)\n",
      "<ipython-input-6-ac6ce70539f1>:12: FutureWarning: The default value of regex will change from True to False in a future version.\n",
      "  dataframe['tweet'].str.replace('@\\S+', '', case=False)\n",
      "<ipython-input-6-ac6ce70539f1>:13: FutureWarning: The default value of regex will change from True to False in a future version.\n",
      "  dataframe['tweet'].str.replace('\\d+', '', case=False)\n"
     ]
    },
    {
     "name": "stdout",
     "output_type": "stream",
     "text": [
      "              precision    recall  f1-score   support\n",
      "\n",
      "           0       0.82      0.76      0.79       388\n",
      "           1       0.81      0.82      0.82       401\n",
      "           2       0.94      1.00      0.97       357\n",
      "           3       0.99      1.00      0.99       379\n",
      "\n",
      "    accuracy                           0.89      1525\n",
      "   macro avg       0.89      0.89      0.89      1525\n",
      "weighted avg       0.89      0.89      0.89      1525\n",
      "\n",
      "[[293  75  16   4]\n",
      " [ 65 330   6   0]\n",
      " [  0   0 357   0]\n",
      " [  0   0   0 379]]\n",
      "            Results\n",
      "Accuracy   0.891148\n",
      "Precision  0.888926\n",
      "F1-Value   0.889498\n"
     ]
    },
    {
     "data": {
      "image/png": "[encoded data removed]",
      "text/plain": [
       "<Figure size 720x720 with 2 Axes>"
      ]
     },
     "metadata": {
      "needs_background": "light"
     },
     "output_type": "display_data"
    }
   ],
   "source": [
    "from sklearn.preprocessing import StandardScaler\n",
    "from sklearn.neural_network import MLPClassifier\n",
    "\n",
    "corpus=pre_processing_pipeline(train_data)\n",
    "X, y, X_train,y_train,X_test,y_test=refresh_data(corpus,train_data['label'])\n",
    "\n",
    "scaler = StandardScaler()\n",
    "\n",
    "scaler.fit(X_train)\n",
    "\n",
    "X_train = scaler.transform(X_train)\n",
    "X_test = scaler.transform(X_test)\n",
    "\n",
    "classifier = MLPClassifier(max_iter=1500,activation='relu',solver='adam')\n",
    "\n",
    "classifier.fit(X_train,y_train)\n",
    "\n",
    "y_predicted=classifier.predict(X_test)\n",
    "\n",
    "print_stats()"
   ]
  },
  {
   "cell_type": "markdown",
   "metadata": {},
   "source": [
    "#### Decision Tree\n",
    "\n",
    "##### Grid Search"
   ]
  },
  {
   "cell_type": "code",
   "execution_count": 16,
   "metadata": {},
   "outputs": [
    {
     "name": "stderr",
     "output_type": "stream",
     "text": [
      "<ipython-input-6-ac6ce70539f1>:11: FutureWarning: The default value of regex will change from True to False in a future version.\n",
      "  dataframe['tweet'].str.replace('http\\S+|www.\\S+', '', case=False)\n",
      "<ipython-input-6-ac6ce70539f1>:12: FutureWarning: The default value of regex will change from True to False in a future version.\n",
      "  dataframe['tweet'].str.replace('@\\S+', '', case=False)\n",
      "<ipython-input-6-ac6ce70539f1>:13: FutureWarning: The default value of regex will change from True to False in a future version.\n",
      "  dataframe['tweet'].str.replace('\\d+', '', case=False)\n"
     ]
    },
    {
     "name": "stdout",
     "output_type": "stream",
     "text": [
      "{'criterion': 'entropy', 'max_depth': 14}\n"
     ]
    }
   ],
   "source": [
    "from sklearn.tree import DecisionTreeClassifier\n",
    "from sklearn.model_selection import GridSearchCV\n",
    "\n",
    "corpus=pre_processing_pipeline(train_data)\n",
    "X, y, X_train,y_train,X_test,y_test=refresh_data(corpus,train_data['label'])\n",
    "\n",
    "param_grid = { 'criterion':['gini','entropy'],'max_depth': numpy.arange(2, 15)}\n",
    "# decision tree model\n",
    "classifier=DecisionTreeClassifier()\n",
    "\n",
    "#use gridsearch to test all values\n",
    "grid_search = GridSearchCV(classifier, param_grid, cv=5, scoring='accuracy')\n",
    "grid_search.fit(X_train,y_train)\n",
    "\n",
    "print(grid_search.best_params_)"
   ]
  },
  {
   "cell_type": "code",
   "execution_count": 17,
   "metadata": {},
   "outputs": [
    {
     "name": "stderr",
     "output_type": "stream",
     "text": [
      "<ipython-input-6-ac6ce70539f1>:11: FutureWarning: The default value of regex will change from True to False in a future version.\n",
      "  dataframe['tweet'].str.replace('http\\S+|www.\\S+', '', case=False)\n",
      "<ipython-input-6-ac6ce70539f1>:12: FutureWarning: The default value of regex will change from True to False in a future version.\n",
      "  dataframe['tweet'].str.replace('@\\S+', '', case=False)\n",
      "<ipython-input-6-ac6ce70539f1>:13: FutureWarning: The default value of regex will change from True to False in a future version.\n",
      "  dataframe['tweet'].str.replace('\\d+', '', case=False)\n"
     ]
    },
    {
     "name": "stdout",
     "output_type": "stream",
     "text": [
      "              precision    recall  f1-score   support\n",
      "\n",
      "           0       0.61      0.93      0.73       388\n",
      "           1       0.93      0.28      0.43       401\n",
      "           2       0.82      0.95      0.88       357\n",
      "           3       0.73      0.76      0.75       379\n",
      "\n",
      "    accuracy                           0.72      1525\n",
      "   macro avg       0.77      0.73      0.70      1525\n",
      "weighted avg       0.77      0.72      0.69      1525\n",
      "\n",
      "[[360   4  10  14]\n",
      " [197 113  12  79]\n",
      " [  0   4 339  14]\n",
      " [ 36   1  53 289]]\n",
      "            Results\n",
      "Accuracy   0.721967\n",
      "Precision  0.771073\n",
      "F1-Value   0.691574\n"
     ]
    },
    {
     "data": {
      "image/png": "[encoded data removed]",
      "text/plain": [
       "<Figure size 720x720 with 2 Axes>"
      ]
     },
     "metadata": {
      "needs_background": "light"
     },
     "output_type": "display_data"
    }
   ],
   "source": [
    "corpus=pre_processing_pipeline(train_data)\n",
    "X, y, X_train,y_train,X_test,y_test=refresh_data(corpus,train_data['label'])\n",
    "\n",
    "# decision tree model\n",
    "classifier=DecisionTreeClassifier(criterion='entropy',max_depth=14)\n",
    "\n",
    "classifier.fit(X_train,y_train)\n",
    "\n",
    "y_predicted=classifier.predict(X_test)\n",
    "\n",
    "print_stats()"
   ]
  },
  {
   "cell_type": "markdown",
   "metadata": {},
   "source": [
    "### Test yourself our classifier"
   ]
  },
  {
   "cell_type": "code",
   "execution_count": 18,
   "metadata": {},
   "outputs": [
    {
     "name": "stderr",
     "output_type": "stream",
     "text": [
      "<ipython-input-6-ac6ce70539f1>:11: FutureWarning: The default value of regex will change from True to False in a future version.\n",
      "  dataframe['tweet'].str.replace('http\\S+|www.\\S+', '', case=False)\n",
      "<ipython-input-6-ac6ce70539f1>:12: FutureWarning: The default value of regex will change from True to False in a future version.\n",
      "  dataframe['tweet'].str.replace('@\\S+', '', case=False)\n",
      "<ipython-input-6-ac6ce70539f1>:13: FutureWarning: The default value of regex will change from True to False in a future version.\n",
      "  dataframe['tweet'].str.replace('\\d+', '', case=False)\n"
     ]
    },
    {
     "data": {
      "text/plain": [
       "MLPClassifier(max_iter=1500)"
      ]
     },
     "execution_count": 18,
     "metadata": {},
     "output_type": "execute_result"
    }
   ],
   "source": [
    "corpus=pre_processing_pipeline(train_data)\n",
    "X, y, X_train,y_train,X_test,y_test=refresh_data(corpus,train_data['label'])\n",
    "\n",
    "scaler = StandardScaler()\n",
    "\n",
    "scaler.fit(X_train)\n",
    "\n",
    "X_train = scaler.transform(X_train)\n",
    "X_test = scaler.transform(X_test)\n",
    "\n",
    "classifier = MLPClassifier(max_iter=1500,activation='relu',solver='adam')\n",
    "\n",
    "classifier.fit(X_train,y_train)"
   ]
  },
  {
   "cell_type": "code",
   "execution_count": null,
   "metadata": {},
   "outputs": [],
   "source": [
    "rev = input(\"Enter Tweet: \")\n",
    "\n",
    "X_test=vectorizer.transform([rev]).toarray()\n",
    "\n",
    "if(classifier.predict(X_test) == [0]):\n",
    "    print('Non Ironic Tweet')\n",
    "elif(classifier.predict(X_test) == [1]):\n",
    "    print('Ironic by clash Tweet')\n",
    "elif(classifier.predict(X_test) == [2]):\n",
    "    print('Situational Irony Tweet')\n",
    "elif(classifier.predict(X_test) == [3]):\n",
    "    print('Other Irony')"
   ]
  },
  {
   "cell_type": "markdown",
   "metadata": {},
   "source": [
    "### Conclusions of the Task 2\n",
    "\n",
    "* The task 2 that followed the approach of using data spliting got better results. This was expected since now the model is subject to overfitting.\n",
    "\n",
    "\n",
    "* The technique of oversampling worked with better results than expected.\n",
    "\n",
    "\n",
    "* With stats rounding 85%, the neural network results were a surprise. Making of it the model perfoming better."
   ]
  },
  {
   "cell_type": "markdown",
   "metadata": {},
   "source": [
    "## Appendix:\n",
    "\n",
    "#### Oversampling in Task 1\n",
    "\n",
    "Since the oversampling worked great for the Task 2 with a neural network. It is usefull to test if the same strategy can be applied to the dataset used in the task 1.\n"
   ]
  },
  {
   "cell_type": "code",
   "execution_count": null,
   "metadata": {},
   "outputs": [],
   "source": [
    "train_data=pandas.read_csv('data/task1/train.csv',  delimiter = '\\t', quoting = 3, encoding=\"utf-8\")\n",
    "test_data=pandas.read_csv('data/task1/test-labeled.csv', delimiter = '\\t', quoting = 3, encoding=\"utf-8\")"
   ]
  },
  {
   "cell_type": "code",
   "execution_count": null,
   "metadata": {},
   "outputs": [],
   "source": [
    "from sklearn.utils import resample\n",
    "df_non_ironic=train_data[train_data.label==0]\n",
    "df_ironic=train_data[train_data.label==1]\n",
    "\n",
    "df_non_ironic_upsampled = resample(df_non_ironic,replace=True,n_samples=8000,random_state=123)\n",
    "df_ironic_upsampled = resample(df_ironic,replace=True,n_samples=8000,random_state=123)\n",
    "\n",
    "train_data=pandas.concat([df_non_ironic_upsampled,df_ironic_upsampled],ignore_index=True)"
   ]
  },
  {
   "cell_type": "code",
   "execution_count": null,
   "metadata": {},
   "outputs": [],
   "source": [
    "from sklearn.preprocessing import StandardScaler\n",
    "from sklearn.neural_network import MLPClassifier\n",
    "\n",
    "corpus=pre_processing_pipeline(train_data)\n",
    "\n",
    "vectorizer = TfidfVectorizer(max_features = 800)\n",
    "\n",
    "X_train=vectorizer.fit_transform(corpus).toarray()\n",
    "y_train=train_data['label'].copy()\n",
    "    \n",
    "X_test=vectorizer.transform(test_data['tweet']).toarray()\n",
    "y_test=test_data['label']\n",
    "\n",
    "\n",
    "scaler = StandardScaler()\n",
    "classificator = MLPClassifier(max_iter=1500,activation='relu',solver='adam')\n",
    "\n",
    "scaler.fit(X_train)\n",
    "\n",
    "X_train = scaler.transform(X_train)\n",
    "X_test = scaler.transform(X_test)\n",
    "\n",
    "y_test=test_data['label']\n",
    "\n",
    "\n",
    "classificator.fit(X_train, y_train)\n",
    "y_predicted = classificator.predict(X_test)\n",
    "\n",
    "\n",
    "\n",
    "print(classification_report(y_test,y_predicted))\n",
    "print(confusion_matrix(y_test, y_predicted))\n",
    "\n",
    "accuracy_value=accuracy_score(y_test,y_predicted)\n",
    "precision_value=precision_score(y_test,y_predicted,average='weighted')\n",
    "f1_value=f1_score(y_test,y_predicted,average='weighted')\n",
    "actual_conclusion=pandas.DataFrame(\n",
    "{\n",
    "'Results':[accuracy_value,precision_value,f1_value],\n",
    "} , index=['Accuracy','Precision','F1-Value'])\n",
    "\n",
    "print(actual_conclusion.head())\n",
    "    \n",
    "# Confusion Matrix Plot\n",
    "cm = ConfusionMatrixDisplay(confusion_matrix=confusion_matrix(y_test, y_predicted), display_labels=['Non-ironic', 'Ironic'])\n",
    "fig, ax = plt.subplots(figsize=(10,10))\n",
    "cm.plot(ax=ax,cmap=plt.cm.Blues)\n",
    "plt.title('Confusion matrix of the classifier')\n",
    "plt.xlabel('Predicted')\n",
    "plt.ylabel('True')\n",
    "plt.show()"
   ]
  },
  {
   "cell_type": "markdown",
   "metadata": {},
   "source": [
    "#### It didn't improved the result obtain in the first task\n",
    "\n",
    "If we make a clear separation of the train and test dataset, we avoid overfitting, but in the other hand our result get more realistic and get worse.\n",
    "\n",
    "**The oversampling have decrease the quality of our solution** For the first task scenario"
   ]
  }
 ],
 "metadata": {
  "kernelspec": {
   "display_name": "Python 3",
   "language": "python",
   "name": "python3"
  },
  "language_info": {
   "codemirror_mode": {
    "name": "ipython",
    "version": 3
   },
   "file_extension": ".py",
   "mimetype": "text/x-python",
   "name": "python",
   "nbconvert_exporter": "python",
   "pygments_lexer": "ipython3",
   "version": "3.8.8"
  }
 },
 "nbformat": 4,
 "nbformat_minor": 4
}
