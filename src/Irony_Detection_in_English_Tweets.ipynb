{
 "cells": [
  {
   "cell_type": "markdown",
   "metadata": {},
   "source": [
    "# Irony Detection in English\n",
    "\n",
    "#### The goal of this project consists in training models capable handling classification of ironic  English  tweets. It has two different tasks.\n",
    "\n",
    "* Task1: Create a Model for perform a binary classification if a tweet is ironic or not\n",
    "* Task2: Create a Model to determine the type of irony\n",
    "\n",
    "This project was originally introduced as a task for a Machine Learning competition, the [SemEval2018](https://competitions.codalab.org/competitions/17468#participate)\n",
    "\n",
    "Using different classification techniques we intend to find the best model that performs better in  each of the two purposed tasks.\n",
    "\n",
    "This project was made by 3 students as part of the Artificial Intelligence course at FEUP. You are free to use the code for any purpose, but beware that this is just an academia project in an introductory course to Artificial Intelligence.\n",
    "\n",
    "* André Malheiro up201706280@fe.up.pt\n",
    "* Diogo Gomes up201806572@fe.up.pt\n",
    "* Rúben Almeida up201704618@fe.up.pt"
   ]
  },
  {
   "cell_type": "markdown",
   "metadata": {},
   "source": [
    "#### Libraries used:\n",
    "\n",
    "* Pandas\n",
    "* Numpy\n",
    "* Scikit-learn\n",
    "* Matplotlib\n",
    "* nltk\n",
    "* contractions\n",
    "* emoji\n",
    "\n",
    "#### Libraries Install"
   ]
  },
  {
   "cell_type": "code",
   "execution_count": 1,
   "metadata": {},
   "outputs": [
    {
     "name": "stdout",
     "output_type": "stream",
     "text": [
      "Requirement already satisfied: contractions in /home/ruben/anaconda3/lib/python3.8/site-packages (0.0.49)\n",
      "Requirement already satisfied: textsearch>=0.0.21 in /home/ruben/anaconda3/lib/python3.8/site-packages (from contractions) (0.0.21)\n",
      "Requirement already satisfied: pyahocorasick in /home/ruben/anaconda3/lib/python3.8/site-packages (from textsearch>=0.0.21->contractions) (1.4.2)\n",
      "Requirement already satisfied: anyascii in /home/ruben/anaconda3/lib/python3.8/site-packages (from textsearch>=0.0.21->contractions) (0.2.0)\n",
      "Requirement already satisfied: emoji in /home/ruben/anaconda3/lib/python3.8/site-packages (1.2.0)\n"
     ]
    }
   ],
   "source": [
    "import sys  \n",
    "!{sys.executable} -m pip install contractions\n",
    "!{sys.executable} -m pip install emoji --upgrade"
   ]
  },
  {
   "cell_type": "markdown",
   "metadata": {},
   "source": [
    "### Datasets:\n",
    "\n",
    "The data sets for this project are not owned by our group, they are supplied by SemEval competition and are free to use for academic purposes only outside of the competition.\n",
    "\n",
    "Both the tasks use the same two datasets, but marked in the proper way according to the task. The first one is marked in binary way, where 1 stands for ironic tweet and 0 for non ironic tweet\n",
    "\n",
    "About the datasets, one is marked for train and the other for testing. Originally they were in .txt format, but in order to simplify the work of the pandas library, we manually converted those files to .csv\n",
    "\n",
    "**SemEval organization themselves already provide a division of the dataset in two subsets, a test dataset and a train dataset.**\n",
    "\n",
    "This division is useful for the final evaluation of our work. Since the competition was in 2018, the ranking of the participants for that dataset is already public. This way we are able to keep track of which place we could score in that professional competition"
   ]
  },
  {
   "cell_type": "markdown",
   "metadata": {},
   "source": [
    "![title](../assets/ranking.png)\n",
    "##### Fig1: Ranking for task 1 of the SemEval competition"
   ]
  },
  {
   "cell_type": "markdown",
   "metadata": {},
   "source": [
    "![title](../assets/ranking2.png)\n",
    "##### Fig2: Ranking for task 2 of the SemEval competition"
   ]
  },
  {
   "cell_type": "markdown",
   "metadata": {},
   "source": [
    "#### Problem with word delimiter\n",
    "\n",
    "Pandas is a library perfect for the job of reading data from a file, since it setup automatically the capability of seeing that data in a formatted organized way.\n",
    "\n",
    "Pandas has specific functions to read from different formats. The datasets are originally in .txt format, a conversion for either JSON or CSV, formats accepted by Pandas needed to be done. 4000 tweets in JSON would turn the data file really dense in information.\n",
    "Since we are dealing with just 2 attributes, it is pointless to make our life harder in this step. \n",
    "\n",
    "**We chose .csv format to represent the data**\n",
    "\n",
    "CSV files dealing with text rise other problem, the fact that people use comma in their texts, pandas. So we introduce other delimiter,'\\t', so we are able to do the task"
   ]
  },
  {
   "cell_type": "markdown",
   "metadata": {},
   "source": [
    "## Task 1: Ironic vs. non-ironic\n",
    "\n",
    "### Create a classifier that could handle properly this binary classification task.\n",
    "\n",
    "In this first task we will use the dataset split the way it was provided by the competition\n",
    "\n",
    "In the second task we will use other techniques and apply other techniques like **cross validation**"
   ]
  },
  {
   "cell_type": "code",
   "execution_count": 2,
   "metadata": {},
   "outputs": [],
   "source": [
    "from IPython.display import display, HTML\n",
    "import pandas\n",
    "import numpy\n",
    "\n",
    "train_data=pandas.read_csv('data/task1/train.csv',  delimiter = '\\t', quoting = 3, encoding=\"utf-8\")\n",
    "test_data=pandas.read_csv('data/task1/test-labeled.csv', delimiter = '\\t', quoting = 3, encoding=\"utf-8\")"
   ]
  },
  {
   "cell_type": "code",
   "execution_count": 3,
   "metadata": {},
   "outputs": [
    {
     "data": {
      "text/html": [
       "<div>\n",
       "<style scoped>\n",
       "    .dataframe tbody tr th:only-of-type {\n",
       "        vertical-align: middle;\n",
       "    }\n",
       "\n",
       "    .dataframe tbody tr th {\n",
       "        vertical-align: top;\n",
       "    }\n",
       "\n",
       "    .dataframe thead th {\n",
       "        text-align: right;\n",
       "    }\n",
       "</style>\n",
       "<table border=\"1\" class=\"dataframe\">\n",
       "  <thead>\n",
       "    <tr style=\"text-align: right;\">\n",
       "      <th></th>\n",
       "      <th>label</th>\n",
       "      <th>tweet</th>\n",
       "    </tr>\n",
       "  </thead>\n",
       "  <tbody>\n",
       "    <tr>\n",
       "      <th>0</th>\n",
       "      <td>1</td>\n",
       "      <td>Sweet United Nations video. Just in time for C...</td>\n",
       "    </tr>\n",
       "    <tr>\n",
       "      <th>1</th>\n",
       "      <td>1</td>\n",
       "      <td>@mrdahl87 We are rumored to have talked to Erv...</td>\n",
       "    </tr>\n",
       "    <tr>\n",
       "      <th>2</th>\n",
       "      <td>1</td>\n",
       "      <td>Hey there! Nice to see you Minnesota/ND Winter...</td>\n",
       "    </tr>\n",
       "    <tr>\n",
       "      <th>3</th>\n",
       "      <td>0</td>\n",
       "      <td>3 episodes left I'm dying over here</td>\n",
       "    </tr>\n",
       "    <tr>\n",
       "      <th>4</th>\n",
       "      <td>1</td>\n",
       "      <td>\"I can't breathe!\" was chosen as the most nota...</td>\n",
       "    </tr>\n",
       "  </tbody>\n",
       "</table>\n",
       "</div>"
      ],
      "text/plain": [
       "   label                                              tweet\n",
       "0      1  Sweet United Nations video. Just in time for C...\n",
       "1      1  @mrdahl87 We are rumored to have talked to Erv...\n",
       "2      1  Hey there! Nice to see you Minnesota/ND Winter...\n",
       "3      0                3 episodes left I'm dying over here\n",
       "4      1  \"I can't breathe!\" was chosen as the most nota..."
      ]
     },
     "execution_count": 3,
     "metadata": {},
     "output_type": "execute_result"
    }
   ],
   "source": [
    "train_data.head()"
   ]
  },
  {
   "cell_type": "code",
   "execution_count": 4,
   "metadata": {},
   "outputs": [
    {
     "data": {
      "text/html": [
       "<div>\n",
       "<style scoped>\n",
       "    .dataframe tbody tr th:only-of-type {\n",
       "        vertical-align: middle;\n",
       "    }\n",
       "\n",
       "    .dataframe tbody tr th {\n",
       "        vertical-align: top;\n",
       "    }\n",
       "\n",
       "    .dataframe thead th {\n",
       "        text-align: right;\n",
       "    }\n",
       "</style>\n",
       "<table border=\"1\" class=\"dataframe\">\n",
       "  <thead>\n",
       "    <tr style=\"text-align: right;\">\n",
       "      <th></th>\n",
       "      <th>label</th>\n",
       "      <th>tweet</th>\n",
       "    </tr>\n",
       "  </thead>\n",
       "  <tbody>\n",
       "    <tr>\n",
       "      <th>0</th>\n",
       "      <td>0</td>\n",
       "      <td>@Callisto1947 Can U Help?||More conservatives ...</td>\n",
       "    </tr>\n",
       "    <tr>\n",
       "      <th>1</th>\n",
       "      <td>1</td>\n",
       "      <td>Just walked in to #Starbucks and asked for a \"...</td>\n",
       "    </tr>\n",
       "    <tr>\n",
       "      <th>2</th>\n",
       "      <td>0</td>\n",
       "      <td>#NOT GONNA WIN http://t.co/Mc9ebqjAqj</td>\n",
       "    </tr>\n",
       "    <tr>\n",
       "      <th>3</th>\n",
       "      <td>0</td>\n",
       "      <td>@mickymantell He is exactly that sort of perso...</td>\n",
       "    </tr>\n",
       "    <tr>\n",
       "      <th>4</th>\n",
       "      <td>1</td>\n",
       "      <td>So much #sarcasm at work mate 10/10 #boring 10...</td>\n",
       "    </tr>\n",
       "  </tbody>\n",
       "</table>\n",
       "</div>"
      ],
      "text/plain": [
       "   label                                              tweet\n",
       "0      0  @Callisto1947 Can U Help?||More conservatives ...\n",
       "1      1  Just walked in to #Starbucks and asked for a \"...\n",
       "2      0              #NOT GONNA WIN http://t.co/Mc9ebqjAqj\n",
       "3      0  @mickymantell He is exactly that sort of perso...\n",
       "4      1  So much #sarcasm at work mate 10/10 #boring 10..."
      ]
     },
     "execution_count": 4,
     "metadata": {},
     "output_type": "execute_result"
    }
   ],
   "source": [
    "test_data.head()"
   ]
  },
  {
   "cell_type": "markdown",
   "metadata": {},
   "source": [
    "### Analising the datasets\n",
    "\n",
    "Some initial considerations should be done in order to ensure the quality of the data. The data provided doesn't contain blank fields. \n",
    "\n",
    "Testing proprelly the existance of duplicates in the datasets would require knowledge outside the scope of the course, so we assume that there aren't duplicate data in the dataset.\n",
    "\n",
    "\n",
    "**One very important consideration regarding the data is the possibility of the dataset being unbalanced**. With both of our data sets loaded, we can use **Matplotlib** to determine if that consideration holds."
   ]
  },
  {
   "cell_type": "code",
   "execution_count": 5,
   "metadata": {},
   "outputs": [
    {
     "data": {
      "image/png": "[encoded data removed]",
      "text/plain": [
       "<Figure size 432x288 with 1 Axes>"
      ]
     },
     "metadata": {
      "needs_background": "light"
     },
     "output_type": "display_data"
    },
    {
     "name": "stdout",
     "output_type": "stream",
     "text": [
      "Ironic tweets -  1911\n",
      "Non Ironic tweets -  1923\n",
      "Percentage of ironic tweets -  49.84350547730829\n"
     ]
    }
   ],
   "source": [
    "import matplotlib.pyplot as plt\n",
    "%matplotlib inline\n",
    "train_data_ntrue=train_data['label'].sum()\n",
    "train_data_nfalse=train_data['label'].count()-train_data_ntrue\n",
    "values=[train_data_ntrue,train_data_nfalse]\n",
    "names=['Ironic','Not ironic']\n",
    "plt.bar(names,values)\n",
    "plt.suptitle('Train data set - distribution')\n",
    "plt.show()\n",
    "print('Ironic tweets - ',train_data_ntrue)\n",
    "print('Non Ironic tweets - ',train_data_nfalse)\n",
    "print('Percentage of ironic tweets - ',train_data_ntrue*1.0/train_data['label'].count()*100.0)"
   ]
  },
  {
   "cell_type": "code",
   "execution_count": 6,
   "metadata": {},
   "outputs": [
    {
     "data": {
      "image/png": "[encoded data removed]",
      "text/plain": [
       "<Figure size 432x288 with 1 Axes>"
      ]
     },
     "metadata": {
      "needs_background": "light"
     },
     "output_type": "display_data"
    },
    {
     "name": "stdout",
     "output_type": "stream",
     "text": [
      "Ironic tweets -  311\n",
      "Non Ironic tweets -  473\n",
      "Percentage of ironic tweets -  39.66836734693878\n"
     ]
    }
   ],
   "source": [
    "test_data_ntrue=test_data['label'].sum()\n",
    "test_data_nfalse=test_data['label'].count()-test_data_ntrue\n",
    "values=[test_data_ntrue,test_data_nfalse]\n",
    "names=['Ironic','Non Ironic']\n",
    "plt.suptitle('Test data set - distribution')\n",
    "plt.bar(names,values)\n",
    "plt.show()\n",
    "print('Ironic tweets - ',test_data_ntrue)\n",
    "print('Non Ironic tweets - ',test_data_nfalse)\n",
    "print('Percentage of ironic tweets - ',test_data_ntrue*1.0/test_data['label'].count()*100.0)"
   ]
  },
  {
   "cell_type": "markdown",
   "metadata": {},
   "source": [
    "#### Conclusion:\n",
    "\n",
    "While the training data is **balanced** in the number of ironic and non ironic tweets, the same can't be said for the test data set originally provided by the organization.\n",
    "\n",
    "In our second graph, its visually palpable that the number of non ironic tweets is significantly larger."
   ]
  },
  {
   "cell_type": "markdown",
   "metadata": {},
   "source": [
    "### Bag of words\n",
    "\n",
    "Now that we have the data in a pandas data set we need to proceed our path of finding an accurate model to identify ironic tweets. For that we need to parse our tweets to a **bag of words** model format.\n",
    "\n",
    "A bag of words is a model which tweet will see their words tokenized and counted by a specified formula. Where we have 2 essential paths that we can follow:\n",
    "\n",
    "* Use a simple counting of words.\n",
    "* Use the TF-IDF measure\n",
    "\n",
    "##### The process of getting as input the raw text and output a bag of words is called **Vectorization**"
   ]
  },
  {
   "cell_type": "markdown",
   "metadata": {},
   "source": [
    "## Initial analysis\n",
    "\n",
    "\n",
    "There are two important questions that we need to be able to answer in order to proceed in our model design and also a raw analysis without pre processing, this way we can estimate the level of pre processing we need in order to achieve a reasonable answer and also keep track of degree of improvement we have in each attempt we try.\n",
    "\n",
    "* Does TF-IDF measure perform better that a simple counting of words?\n",
    "* How good performs the simplest model in our dataset without preprocessing?\n",
    "\n",
    "In order to have a objective evaluation criteria to our final answer to this problem, it is important to make a fast initial analysis to the data without any kind of pre processing to the data, using the simplest model possible, a **Gaussian Naïve Bayes**."
   ]
  },
  {
   "cell_type": "markdown",
   "metadata": {},
   "source": [
    "### Simple Word Counter Vetorization"
   ]
  },
  {
   "cell_type": "markdown",
   "metadata": {},
   "source": [
    "#### Train Data"
   ]
  },
  {
   "cell_type": "code",
   "execution_count": 7,
   "metadata": {},
   "outputs": [],
   "source": [
    "from sklearn.feature_extraction.text import CountVectorizer\n",
    "from sklearn.naive_bayes import GaussianNB\n",
    "from sklearn.metrics import classification_report\n",
    "from sklearn.metrics import confusion_matrix, ConfusionMatrixDisplay\n",
    "\n",
    "count_vectorizer = CountVectorizer(analyzer='word', stop_words='english', lowercase=False)\n",
    "\n",
    "X_train=count_vectorizer.fit_transform(train_data['tweet']).toarray()\n",
    "y_train=train_data['label']"
   ]
  },
  {
   "cell_type": "markdown",
   "metadata": {},
   "source": [
    "#### Test Data"
   ]
  },
  {
   "cell_type": "code",
   "execution_count": 8,
   "metadata": {},
   "outputs": [],
   "source": [
    "# Here we just Transform. Because the vocabulary is the one from the test set\n",
    "X_test=count_vectorizer.transform(test_data['tweet']).toarray()\n",
    "y_test=test_data['label']"
   ]
  },
  {
   "cell_type": "markdown",
   "metadata": {},
   "source": [
    "#### Model execution"
   ]
  },
  {
   "cell_type": "code",
   "execution_count": 9,
   "metadata": {},
   "outputs": [],
   "source": [
    "from sklearn.metrics import f1_score\n",
    "from sklearn.metrics import precision_score\n",
    "from sklearn.metrics import accuracy_score\n",
    "\n",
    "classificator=GaussianNB()\n",
    "\n",
    "classificator.fit(X_train,y_train)\n",
    "#Predicition\n",
    "y_predicted=classificator.predict(X_test)\n",
    "\n",
    "\n",
    "\n",
    "#Metrics Raw\n",
    "accuracy_value=accuracy_score(y_test,y_predicted)\n",
    "precision_value=precision_score(y_test,y_predicted,average='weighted')\n",
    "f1_value=f1_score(y_test,y_predicted,average='weighted')\n",
    "\n",
    "\n",
    "initial_word_count_conclusion=pandas.DataFrame(\n",
    "    {\n",
    "    'Our Results':[accuracy_value,precision_value,f1_value],\n",
    "    'Winners Result':[0.7347,0.6304,0.8006]\n",
    "    } , index=['Accuracy','Precision','F1-Value'])"
   ]
  },
  {
   "cell_type": "markdown",
   "metadata": {},
   "source": [
    "### TF-IDF Vetorization"
   ]
  },
  {
   "cell_type": "markdown",
   "metadata": {},
   "source": [
    "#### Train Data"
   ]
  },
  {
   "cell_type": "code",
   "execution_count": 10,
   "metadata": {},
   "outputs": [],
   "source": [
    "from sklearn.feature_extraction.text import TfidfVectorizer\n",
    "\n",
    "tf_idf_vectorizer = TfidfVectorizer(analyzer='word', stop_words='english', lowercase=False)\n",
    "\n",
    "X_train=tf_idf_vectorizer.fit_transform(train_data['tweet']).toarray()\n",
    "y_train=train_data['label']"
   ]
  },
  {
   "cell_type": "markdown",
   "metadata": {},
   "source": [
    "#### Test Data"
   ]
  },
  {
   "cell_type": "code",
   "execution_count": 11,
   "metadata": {},
   "outputs": [],
   "source": [
    "X_test=tf_idf_vectorizer.transform(test_data['tweet']).toarray()\n",
    "y_test=test_data['label']"
   ]
  },
  {
   "cell_type": "markdown",
   "metadata": {},
   "source": [
    "#### Model execution"
   ]
  },
  {
   "cell_type": "code",
   "execution_count": 12,
   "metadata": {},
   "outputs": [],
   "source": [
    "from sklearn.metrics import f1_score\n",
    "from sklearn.metrics import precision_score\n",
    "from sklearn.metrics import accuracy_score\n",
    "\n",
    "classificator=GaussianNB()\n",
    "\n",
    "classificator.fit(X_train,y_train)\n",
    "#Predicition\n",
    "y_predicted=classificator.predict(X_test)\n",
    "\n",
    "\n",
    "\n",
    "#Metrics Raw\n",
    "accuracy_value=accuracy_score(y_test,y_predicted)\n",
    "precision_value=precision_score(y_test,y_predicted,average='weighted')\n",
    "f1_value=f1_score(y_test,y_predicted,average='weighted')\n",
    "\n",
    "\n",
    "initial_tf_idf_conclusion=pandas.DataFrame(\n",
    "    {\n",
    "    'Our Results':[accuracy_value,precision_value,f1_value],\n",
    "    'Winners Result':[0.7347,0.6304,0.8006]\n",
    "    } , index=['Accuracy','Precision','F1-Value'])"
   ]
  },
  {
   "cell_type": "markdown",
   "metadata": {},
   "source": [
    "### Initial Analysis conclusion:\n",
    "\n",
    "* The differences between the competition results and our naive model are relevant. Preprocessing of data is required to improve this values. Other models techniques should also be used.\n",
    "\n",
    "\n",
    "* Other element relevant is that using simple word counting or TF-IDF doesn't produce any kind of relevant difference in the results achieved. For that reason **TF-IDF will hold**\n",
    "\n",
    "\n",
    "* One naive classifier without pre processing is just a random classifier. It's correctness because of the randomness is around 50% as expected"
   ]
  },
  {
   "cell_type": "markdown",
   "metadata": {},
   "source": [
    "#### Simple Word Counting"
   ]
  },
  {
   "cell_type": "code",
   "execution_count": 13,
   "metadata": {
    "scrolled": true
   },
   "outputs": [
    {
     "data": {
      "text/html": [
       "<div>\n",
       "<style scoped>\n",
       "    .dataframe tbody tr th:only-of-type {\n",
       "        vertical-align: middle;\n",
       "    }\n",
       "\n",
       "    .dataframe tbody tr th {\n",
       "        vertical-align: top;\n",
       "    }\n",
       "\n",
       "    .dataframe thead th {\n",
       "        text-align: right;\n",
       "    }\n",
       "</style>\n",
       "<table border=\"1\" class=\"dataframe\">\n",
       "  <thead>\n",
       "    <tr style=\"text-align: right;\">\n",
       "      <th></th>\n",
       "      <th>Our Results</th>\n",
       "      <th>Winners Result</th>\n",
       "    </tr>\n",
       "  </thead>\n",
       "  <tbody>\n",
       "    <tr>\n",
       "      <th>Accuracy</th>\n",
       "      <td>0.510204</td>\n",
       "      <td>0.7347</td>\n",
       "    </tr>\n",
       "    <tr>\n",
       "      <th>Precision</th>\n",
       "      <td>0.556403</td>\n",
       "      <td>0.6304</td>\n",
       "    </tr>\n",
       "    <tr>\n",
       "      <th>F1-Value</th>\n",
       "      <td>0.509943</td>\n",
       "      <td>0.8006</td>\n",
       "    </tr>\n",
       "  </tbody>\n",
       "</table>\n",
       "</div>"
      ],
      "text/plain": [
       "           Our Results  Winners Result\n",
       "Accuracy      0.510204          0.7347\n",
       "Precision     0.556403          0.6304\n",
       "F1-Value      0.509943          0.8006"
      ]
     },
     "execution_count": 13,
     "metadata": {},
     "output_type": "execute_result"
    }
   ],
   "source": [
    "initial_word_count_conclusion"
   ]
  },
  {
   "cell_type": "markdown",
   "metadata": {},
   "source": [
    "#### TF-IDF"
   ]
  },
  {
   "cell_type": "code",
   "execution_count": 14,
   "metadata": {},
   "outputs": [
    {
     "data": {
      "text/html": [
       "<div>\n",
       "<style scoped>\n",
       "    .dataframe tbody tr th:only-of-type {\n",
       "        vertical-align: middle;\n",
       "    }\n",
       "\n",
       "    .dataframe tbody tr th {\n",
       "        vertical-align: top;\n",
       "    }\n",
       "\n",
       "    .dataframe thead th {\n",
       "        text-align: right;\n",
       "    }\n",
       "</style>\n",
       "<table border=\"1\" class=\"dataframe\">\n",
       "  <thead>\n",
       "    <tr style=\"text-align: right;\">\n",
       "      <th></th>\n",
       "      <th>Our Results</th>\n",
       "      <th>Winners Result</th>\n",
       "    </tr>\n",
       "  </thead>\n",
       "  <tbody>\n",
       "    <tr>\n",
       "      <th>Accuracy</th>\n",
       "      <td>0.514031</td>\n",
       "      <td>0.7347</td>\n",
       "    </tr>\n",
       "    <tr>\n",
       "      <th>Precision</th>\n",
       "      <td>0.550978</td>\n",
       "      <td>0.6304</td>\n",
       "    </tr>\n",
       "    <tr>\n",
       "      <th>F1-Value</th>\n",
       "      <td>0.516916</td>\n",
       "      <td>0.8006</td>\n",
       "    </tr>\n",
       "  </tbody>\n",
       "</table>\n",
       "</div>"
      ],
      "text/plain": [
       "           Our Results  Winners Result\n",
       "Accuracy      0.514031          0.7347\n",
       "Precision     0.550978          0.6304\n",
       "F1-Value      0.516916          0.8006"
      ]
     },
     "execution_count": 14,
     "metadata": {},
     "output_type": "execute_result"
    }
   ],
   "source": [
    "initial_tf_idf_conclusion"
   ]
  },
  {
   "cell_type": "markdown",
   "metadata": {},
   "source": [
    "#### Initial Vocabulary \n",
    "Without any pre processing the vectorization of the raw data has the following number of words:"
   ]
  },
  {
   "cell_type": "code",
   "execution_count": 15,
   "metadata": {},
   "outputs": [
    {
     "name": "stdout",
     "output_type": "stream",
     "text": [
      "14042\n"
     ]
    }
   ],
   "source": [
    "print(len(tf_idf_vectorizer.vocabulary_))"
   ]
  },
  {
   "cell_type": "markdown",
   "metadata": {},
   "source": [
    "**This would create an input matrix with 14042 collumns. That number is not reasonable for no algorithm. Preprocessing outh to reduce this value**"
   ]
  },
  {
   "cell_type": "markdown",
   "metadata": {},
   "source": [
    "## Data Preprocessing Pipeline\n",
    "\n",
    "The downfall of the initial results can be easily explained by multiple reasons:\n",
    "\n",
    "* We are dealing social network data. That data contains lots of useless information like links, mentions or emojis and also lots of slangs and non standard vocabulary\n",
    "\n",
    "* Didn't apply any type of Stemming or Lemmatization\n",
    "\n",
    "* Used a simple Gaussian naïve Bayes rather than a complex neural network.\n",
    "\n",
    "* Used the embedded tokenizer of sci kit learn rather than dedicated ones.\n",
    "\n",
    "* The initial vocabulary is very large. 14k words. This decreases perfomance and increases overfitting to the train data.\n",
    "\n",
    "* A final problem that could be related with the poor perfomance of the initial model is the traditional downfalls of NLP algorithms in finding contraditions. Irony many times has contradictions implied."
   ]
  },
  {
   "cell_type": "markdown",
   "metadata": {},
   "source": [
    "#### Remove Web Hyperlinks from tweets"
   ]
  },
  {
   "cell_type": "code",
   "execution_count": 16,
   "metadata": {
    "scrolled": true
   },
   "outputs": [
    {
     "name": "stderr",
     "output_type": "stream",
     "text": [
      "<ipython-input-16-e55a8212c011>:1: FutureWarning: The default value of regex will change from True to False in a future version.\n",
      "  train_data['tweet']=train_data['tweet'].str.replace('http\\S+|www.\\S+', '', case=False)\n"
     ]
    }
   ],
   "source": [
    "train_data['tweet']=train_data['tweet'].str.replace('http\\S+|www.\\S+', '', case=False)"
   ]
  },
  {
   "cell_type": "markdown",
   "metadata": {},
   "source": [
    "#### Normalization of Twitter mentions\n",
    "\n",
    "In twitter is mandatory to mention the person that we reply with their personal nickname. In this Social Network this mentions are done using \"@\" followed by a single word that identifies the nickname"
   ]
  },
  {
   "cell_type": "code",
   "execution_count": 17,
   "metadata": {},
   "outputs": [
    {
     "name": "stderr",
     "output_type": "stream",
     "text": [
      "<ipython-input-17-87c8b3254dc4>:1: FutureWarning: The default value of regex will change from True to False in a future version.\n",
      "  train_data['tweet']=train_data['tweet'].str.replace('@\\S+', '', case=False)\n"
     ]
    }
   ],
   "source": [
    "train_data['tweet']=train_data['tweet'].str.replace('@\\S+', '', case=False)"
   ]
  },
  {
   "cell_type": "markdown",
   "metadata": {},
   "source": [
    "#### Remove Numbers from the tweets\n",
    "\n",
    "Numbers don't introduce power to a language of ironic tweets."
   ]
  },
  {
   "cell_type": "code",
   "execution_count": 18,
   "metadata": {},
   "outputs": [
    {
     "name": "stderr",
     "output_type": "stream",
     "text": [
      "<ipython-input-18-ffe29a5367b0>:1: FutureWarning: The default value of regex will change from True to False in a future version.\n",
      "  train_data['tweet']=train_data['tweet'].str.replace('\\d+', '', case=False)\n"
     ]
    }
   ],
   "source": [
    "train_data['tweet']=train_data['tweet'].str.replace('\\d+', '', case=False)"
   ]
  },
  {
   "cell_type": "markdown",
   "metadata": {},
   "source": [
    "#### Remove Hashtags\n",
    "\n",
    "Treat Hashtags as simple words by removing the \"#\" before them"
   ]
  },
  {
   "cell_type": "code",
   "execution_count": 19,
   "metadata": {},
   "outputs": [],
   "source": [
    "train_data['tweet']=train_data['tweet'].str.replace('#', '', case=False)"
   ]
  },
  {
   "cell_type": "markdown",
   "metadata": {},
   "source": [
    "#### Convert emojis and emoticons to text\n",
    "\n",
    "For this job we use one of multiple open source library for the job, the chosed emoji because it was the best rated in the web"
   ]
  },
  {
   "cell_type": "code",
   "execution_count": 20,
   "metadata": {},
   "outputs": [
    {
     "name": "stderr",
     "output_type": "stream",
     "text": [
      "<ipython-input-20-8fa42c2dd129>:12: SettingWithCopyWarning: \n",
      "A value is trying to be set on a copy of a slice from a DataFrame\n",
      "\n",
      "See the caveats in the documentation: https://pandas.pydata.org/pandas-docs/stable/user_guide/indexing.html#returning-a-view-versus-a-copy\n",
      "  train_data['tweet'][i]=demojize_result\n"
     ]
    }
   ],
   "source": [
    "import emoji\n",
    "import re\n",
    "\n",
    "emoji_result=[]\n",
    "\n",
    "for i in range(len(train_data)):\n",
    "    demojize_result=emoji.demojize(train_data['tweet'][i])\n",
    "    # Remove the \":\" from the convertion made by emoji\n",
    "    demojize_result=re.sub(\":\", \" \", demojize_result)\n",
    "    demojize_result=re.sub(\"_\", \" \", demojize_result)\n",
    "    demojize_result=re.sub(\"-\", \" \", demojize_result)\n",
    "    train_data['tweet'][i]=demojize_result"
   ]
  },
  {
   "cell_type": "markdown",
   "metadata": {},
   "source": [
    "### Contradictions\n",
    "\n",
    "Contractions is a native library of python that deals with a sharp task in NLP in English Language. Words like \"Can't\" would generate two tokens. To avoids this, we should convert this cases for \"Can not\""
   ]
  },
  {
   "cell_type": "code",
   "execution_count": 21,
   "metadata": {
    "scrolled": true
   },
   "outputs": [
    {
     "name": "stderr",
     "output_type": "stream",
     "text": [
      "<ipython-input-21-731702bef29d>:4: SettingWithCopyWarning: \n",
      "A value is trying to be set on a copy of a slice from a DataFrame\n",
      "\n",
      "See the caveats in the documentation: https://pandas.pydata.org/pandas-docs/stable/user_guide/indexing.html#returning-a-view-versus-a-copy\n",
      "  train_data['tweet'][i]=contractions.fix(train_data['tweet'][i])\n"
     ]
    }
   ],
   "source": [
    "import contractions\n",
    "\n",
    "for i in range(len(train_data)):\n",
    "    train_data['tweet'][i]=contractions.fix(train_data['tweet'][i])"
   ]
  },
  {
   "cell_type": "markdown",
   "metadata": {},
   "source": [
    "### Lemmatization\n",
    "According with Wiki Lemmatization is: \"In computational linguistics, lemmatisation is the algorithmic process of determining the lemma of a word based on its intended meaning.\""
   ]
  },
  {
   "cell_type": "code",
   "execution_count": 22,
   "metadata": {},
   "outputs": [],
   "source": [
    "from nltk.stem import WordNetLemmatizer\n",
    "  \n",
    "lemmatizer = WordNetLemmatizer()\n",
    "\n",
    "lemmatization_result = []\n",
    "\n",
    "for i in range(len(train_data)):\n",
    "    tweet = lemmatizer.lemmatize(train_data['tweet'][i])\n",
    "    lemmatization_result.append(tweet)"
   ]
  },
  {
   "cell_type": "markdown",
   "metadata": {},
   "source": [
    "### Tokenization and Stemming with normalization of Uppercase words to Lowercase.\n",
    "\n",
    "Goal is to reduce the vocabulary to the absolutely necessary"
   ]
  },
  {
   "cell_type": "code",
   "execution_count": 23,
   "metadata": {},
   "outputs": [],
   "source": [
    "import nltk\n",
    "import re\n",
    "from nltk.stem.porter import PorterStemmer\n",
    "from nltk.corpus import stopwords\n",
    "\n",
    "ps = PorterStemmer()\n",
    "corpus = []\n",
    "\n",
    "for i in range(len(lemmatization_result)):\n",
    "    # get review and remove non alpha chars\n",
    "    tweet = re.sub('[^\\w_\\w]', ' ', lemmatization_result[i])\n",
    "    # to lower-case and tokenize\n",
    "    tweet = tweet.lower().split()\n",
    "    # stemming and stop word removal\n",
    "    tweet = ' '.join([ps.stem(w) for w in tweet if not w in set(stopwords.words('english'))])\n",
    "    corpus.append(tweet)"
   ]
  },
  {
   "cell_type": "markdown",
   "metadata": {},
   "source": [
    "* After the Pre Processing pipeline the vocabulary useful was reduce to 7588 words a decrease of 50%. This decrease will be useful to boost the performance of the models"
   ]
  },
  {
   "cell_type": "code",
   "execution_count": 24,
   "metadata": {},
   "outputs": [
    {
     "name": "stdout",
     "output_type": "stream",
     "text": [
      "7588\n"
     ]
    }
   ],
   "source": [
    "_dummy_vectorizer=TfidfVectorizer()\n",
    "_dummy_vectorizer.fit_transform(corpus).toarray()\n",
    "\n",
    "print(len(_dummy_vectorizer.vocabulary_))"
   ]
  },
  {
   "cell_type": "markdown",
   "metadata": {},
   "source": [
    "### The  Vocabulary Dilemma\n",
    "\n",
    "The performance of the algorithms is dependent of the size of the vocabulary. From the analysis we found the optimum value is 800 words"
   ]
  },
  {
   "cell_type": "code",
   "execution_count": 25,
   "metadata": {},
   "outputs": [
    {
     "data": {
      "image/png": "[encoded data removed]",
      "text/plain": [
       "<Figure size 432x288 with 1 Axes>"
      ]
     },
     "metadata": {
      "needs_background": "light"
     },
     "output_type": "display_data"
    }
   ],
   "source": [
    "import matplotlib.pyplot as plt\n",
    "\n",
    "xpoints = numpy.array([1,10,100,200,500,600,700,800,900,1000,2000,3000,4000,5000,6000,7588])\n",
    "ypoints = numpy.array([0.395, 0.61,0.61,0.61,0.61,0.62,0.60,0.64,0.61,0.62,0.49,0.49,0.46,0.48,0.50,0.49])\n",
    "\n",
    "plt.plot(xpoints, ypoints)\n",
    "plt.xlabel(\"Number of Words\")\n",
    "plt.ylabel(\"Performance of Naive Bayes\")\n",
    "plt.show()"
   ]
  },
  {
   "cell_type": "markdown",
   "metadata": {},
   "source": [
    "##### Helper Functions"
   ]
  },
  {
   "cell_type": "code",
   "execution_count": 26,
   "metadata": {},
   "outputs": [],
   "source": [
    "def refresh_data():\n",
    "    vectorizer = TfidfVectorizer(max_features = 800)\n",
    "\n",
    "    X_train=vectorizer.fit_transform(corpus).toarray()\n",
    "    y_train=train_data['label'].copy()\n",
    "    \n",
    "    X_test=vectorizer.transform(test_data['tweet']).toarray()\n",
    "    y_test=test_data['label'].copy()\n",
    "    \n",
    "    return (X_train,y_train,X_test,y_test)"
   ]
  },
  {
   "cell_type": "code",
   "execution_count": 27,
   "metadata": {},
   "outputs": [],
   "source": [
    "def print_stats():\n",
    "    print(classification_report(y_test,y_predicted))\n",
    "    accuracy_value=accuracy_score(y_test,y_predicted)\n",
    "    precision_value=precision_score(y_test,y_predicted,average='weighted')\n",
    "    f1_value=f1_score(y_test,y_predicted,average='weighted')\n",
    "\n",
    "    actual_conclusion=pandas.DataFrame(\n",
    "        {\n",
    "        'Our Results':[accuracy_value,precision_value,f1_value],\n",
    "        'Winners Result':[0.7347,0.6304,0.8006]\n",
    "        } , index=['Accuracy','Precision','F1-Value'])\n",
    "    \n",
    "    print(actual_conclusion.head())\n",
    "    \n",
    "    # Confusion Matrix Plot\n",
    "    cm = ConfusionMatrixDisplay(confusion_matrix=confusion_matrix(y_test, y_predicted), display_labels=['ironic', 'non_ironic'])\n",
    "    cm.plot(cmap=plt.cm.Blues)\n",
    "    plt.title('Confusion matrix of the classifier')\n",
    "    plt.xlabel('Predicted')\n",
    "    plt.ylabel('True')\n",
    "    plt.show()"
   ]
  },
  {
   "cell_type": "code",
   "execution_count": 28,
   "metadata": {},
   "outputs": [],
   "source": [
    "from sklearn.metrics import roc_curve\n",
    "from sklearn.metrics import roc_auc_score\n",
    "from matplotlib import pyplot\n",
    "\n",
    "def draw_roc_curve(model,testX,testy):\n",
    "    lr_probs = model.predict_proba(testX)\n",
    "    lr_probs = lr_probs[:, 1]\n",
    "    \n",
    "    lr_auc = roc_auc_score(testy, lr_probs)\n",
    "    \n",
    "    print('ROC AUC=%.3f' % (lr_auc))\n",
    "    lr_fpr, lr_tpr, _ = roc_curve(testy, lr_probs)        \n",
    "    \n",
    "    pyplot.plot(lr_fpr, lr_tpr, marker='.', label='Model')\n",
    "    pyplot.xlabel('False Positive Rate')\n",
    "    pyplot.ylabel('True Positive Rate')\n",
    "    \n",
    "    pyplot.legend()\n",
    "    # show the plot\n",
    "    pyplot.show()    "
   ]
  },
  {
   "cell_type": "markdown",
   "metadata": {},
   "source": [
    "#### Naive Bayes"
   ]
  },
  {
   "cell_type": "code",
   "execution_count": 29,
   "metadata": {
    "scrolled": true
   },
   "outputs": [
    {
     "name": "stdout",
     "output_type": "stream",
     "text": [
      "              precision    recall  f1-score   support\n",
      "\n",
      "           0       0.69      0.73      0.71       473\n",
      "           1       0.55      0.50      0.53       311\n",
      "\n",
      "    accuracy                           0.64       784\n",
      "   macro avg       0.62      0.62      0.62       784\n",
      "weighted avg       0.64      0.64      0.64       784\n",
      "\n",
      "           Our Results  Winners Result\n",
      "Accuracy      0.640306          0.7347\n",
      "Precision     0.635646          0.6304\n",
      "F1-Value      0.637271          0.8006\n"
     ]
    },
    {
     "data": {
      "image/png": "[encoded data removed]",
      "text/plain": [
       "<Figure size 432x288 with 2 Axes>"
      ]
     },
     "metadata": {
      "needs_background": "light"
     },
     "output_type": "display_data"
    }
   ],
   "source": [
    "classificator=GaussianNB()\n",
    "\n",
    "X_train,y_train,X_test,y_test=refresh_data()\n",
    "\n",
    "classificator.fit(X_train,y_train)\n",
    "\n",
    "y_predicted=classificator.predict(X_test)\n",
    "\n",
    "print_stats()"
   ]
  },
  {
   "cell_type": "code",
   "execution_count": 30,
   "metadata": {},
   "outputs": [
    {
     "name": "stdout",
     "output_type": "stream",
     "text": [
      "ROC AUC=0.662\n"
     ]
    },
    {
     "data": {
      "image/png": "[encoded data removed]",
      "text/plain": [
       "<Figure size 432x288 with 1 Axes>"
      ]
     },
     "metadata": {
      "needs_background": "light"
     },
     "output_type": "display_data"
    }
   ],
   "source": [
    "X_train,y_train,X_test,y_test=refresh_data()\n",
    "\n",
    "classificator=GaussianNB()\n",
    "classificator.fit(X_train,y_train)\n",
    "\n",
    "draw_roc_curve(classificator,X_test,y_test)"
   ]
  },
  {
   "cell_type": "markdown",
   "metadata": {},
   "source": [
    "#### Neural Network"
   ]
  },
  {
   "cell_type": "code",
   "execution_count": 31,
   "metadata": {},
   "outputs": [
    {
     "name": "stdout",
     "output_type": "stream",
     "text": [
      "              precision    recall  f1-score   support\n",
      "\n",
      "           0       0.69      0.75      0.72       473\n",
      "           1       0.56      0.50      0.53       311\n",
      "\n",
      "    accuracy                           0.65       784\n",
      "   macro avg       0.63      0.62      0.62       784\n",
      "weighted avg       0.64      0.65      0.64       784\n",
      "\n",
      "           Our Results  Winners Result\n",
      "Accuracy      0.647959          0.7347\n",
      "Precision     0.641723          0.6304\n",
      "F1-Value      0.643303          0.8006\n"
     ]
    },
    {
     "data": {
      "image/png": "[encoded data removed]",
      "text/plain": [
       "<Figure size 432x288 with 2 Axes>"
      ]
     },
     "metadata": {
      "needs_background": "light"
     },
     "output_type": "display_data"
    }
   ],
   "source": [
    "# Neural Network\n",
    "from sklearn.preprocessing import StandardScaler\n",
    "from sklearn.neural_network import MLPClassifier\n",
    "\n",
    "\n",
    "X_train,y_train,X_test,y_test=refresh_data()\n",
    "\n",
    "scaler = StandardScaler()\n",
    "classificator = MLPClassifier(max_iter=1500,activation='relu',solver='adam')\n",
    "\n",
    "scaler.fit(X_train)\n",
    "\n",
    "X_train = scaler.transform(X_train)\n",
    "X_test = scaler.transform(X_test)\n",
    "\n",
    "\n",
    "classificator.fit(X_train, y_train)\n",
    "y_predicted = classificator.predict(X_test)\n",
    "\n",
    "print_stats()"
   ]
  },
  {
   "cell_type": "code",
   "execution_count": 32,
   "metadata": {},
   "outputs": [
    {
     "name": "stdout",
     "output_type": "stream",
     "text": [
      "ROC AUC=0.679\n"
     ]
    },
    {
     "data": {
      "image/png": "[encoded data removed]",
      "text/plain": [
       "<Figure size 432x288 with 1 Axes>"
      ]
     },
     "metadata": {
      "needs_background": "light"
     },
     "output_type": "display_data"
    }
   ],
   "source": [
    "from sklearn.preprocessing import StandardScaler\n",
    "from sklearn.neural_network import MLPClassifier\n",
    "\n",
    "X_train,y_train,X_test,y_test=refresh_data()\n",
    "\n",
    "scaler = StandardScaler()\n",
    "classificator = MLPClassifier(max_iter=1500,activation='relu',solver='adam')\n",
    "\n",
    "scaler.fit(X_train)\n",
    "\n",
    "X_train = scaler.transform(X_train)\n",
    "X_test = scaler.transform(X_test)\n",
    "\n",
    "\n",
    "classificator.fit(X_train, y_train)\n",
    "\n",
    "draw_roc_curve(classificator,X_test,y_test)"
   ]
  },
  {
   "cell_type": "markdown",
   "metadata": {},
   "source": [
    "#### Decision Tree"
   ]
  },
  {
   "cell_type": "code",
   "execution_count": 33,
   "metadata": {},
   "outputs": [
    {
     "name": "stdout",
     "output_type": "stream",
     "text": [
      "              precision    recall  f1-score   support\n",
      "\n",
      "           0       0.67      0.66      0.66       473\n",
      "           1       0.49      0.50      0.49       311\n",
      "\n",
      "    accuracy                           0.60       784\n",
      "   macro avg       0.58      0.58      0.58       784\n",
      "weighted avg       0.60      0.60      0.60       784\n",
      "\n",
      "           Our Results  Winners Result\n",
      "Accuracy      0.595663          0.7347\n",
      "Precision     0.596335          0.6304\n",
      "F1-Value      0.595991          0.8006\n"
     ]
    },
    {
     "data": {
      "image/png": "[encoded data removed]",
      "text/plain": [
       "<Figure size 432x288 with 2 Axes>"
      ]
     },
     "metadata": {
      "needs_background": "light"
     },
     "output_type": "display_data"
    }
   ],
   "source": [
    "# Decision Tree\n",
    "\n",
    "from sklearn.tree import DecisionTreeClassifier\n",
    "\n",
    "X_train,y_train,X_test,y_test=refresh_data()\n",
    "\n",
    "classificator = DecisionTreeClassifier()\n",
    "classificator.fit(X_train, y_train)\n",
    "y_predicted = classificator.predict(X_test)\n",
    "\n",
    "print_stats()"
   ]
  },
  {
   "cell_type": "code",
   "execution_count": 34,
   "metadata": {},
   "outputs": [
    {
     "name": "stdout",
     "output_type": "stream",
     "text": [
      "ROC AUC=0.544\n"
     ]
    },
    {
     "data": {
      "image/png": "[encoded data removed]",
      "text/plain": [
       "<Figure size 432x288 with 1 Axes>"
      ]
     },
     "metadata": {
      "needs_background": "light"
     },
     "output_type": "display_data"
    }
   ],
   "source": [
    "from sklearn.tree import DecisionTreeClassifier\n",
    "\n",
    "X_train,y_train,X_test,y_test=refresh_data()\n",
    "\n",
    "classificator = DecisionTreeClassifier()\n",
    "classificator.fit(X_train, y_train)\n",
    "\n",
    "draw_roc_curve(classificator,X_test,y_test)"
   ]
  },
  {
   "cell_type": "markdown",
   "metadata": {},
   "source": [
    "#### K-Nearest Neighbors"
   ]
  },
  {
   "cell_type": "code",
   "execution_count": 35,
   "metadata": {},
   "outputs": [
    {
     "name": "stdout",
     "output_type": "stream",
     "text": [
      "              precision    recall  f1-score   support\n",
      "\n",
      "           0       0.66      0.69      0.67       473\n",
      "           1       0.50      0.47      0.48       311\n",
      "\n",
      "    accuracy                           0.60       784\n",
      "   macro avg       0.58      0.58      0.58       784\n",
      "weighted avg       0.60      0.60      0.60       784\n",
      "\n",
      "           Our Results  Winners Result\n",
      "Accuracy      0.600765          0.7347\n",
      "Precision     0.597151          0.6304\n",
      "F1-Value      0.598680          0.8006\n"
     ]
    },
    {
     "data": {
      "image/png": "[encoded data removed]",
      "text/plain": [
       "<Figure size 432x288 with 2 Axes>"
      ]
     },
     "metadata": {
      "needs_background": "light"
     },
     "output_type": "display_data"
    }
   ],
   "source": [
    "# KNN\n",
    "from sklearn.neighbors import KNeighborsClassifier\n",
    "\n",
    "X_train,y_train,X_test,y_test=refresh_data()\n",
    "\n",
    "classificator = KNeighborsClassifier()\n",
    "classificator.fit(X_train, y_train)\n",
    "y_predicted = classificator.predict(X_test)\n",
    "\n",
    "print_stats()"
   ]
  },
  {
   "cell_type": "code",
   "execution_count": 36,
   "metadata": {},
   "outputs": [
    {
     "name": "stdout",
     "output_type": "stream",
     "text": [
      "ROC AUC=0.578\n"
     ]
    },
    {
     "data": {
      "image/png": "[encoded data removed]",
      "text/plain": [
       "<Figure size 432x288 with 1 Axes>"
      ]
     },
     "metadata": {
      "needs_background": "light"
     },
     "output_type": "display_data"
    }
   ],
   "source": [
    "from sklearn.neighbors import KNeighborsClassifier\n",
    "\n",
    "X_train,y_train,X_test,y_test=refresh_data()\n",
    "\n",
    "classificator = KNeighborsClassifier()\n",
    "classificator.fit(X_train, y_train)\n",
    "\n",
    "draw_roc_curve(classificator,X_test,y_test)"
   ]
  },
  {
   "cell_type": "markdown",
   "metadata": {},
   "source": [
    "#### SVM"
   ]
  },
  {
   "cell_type": "code",
   "execution_count": 37,
   "metadata": {},
   "outputs": [
    {
     "name": "stdout",
     "output_type": "stream",
     "text": [
      "              precision    recall  f1-score   support\n",
      "\n",
      "           0       0.71      0.75      0.73       473\n",
      "           1       0.58      0.54      0.56       311\n",
      "\n",
      "    accuracy                           0.66       784\n",
      "   macro avg       0.65      0.64      0.64       784\n",
      "weighted avg       0.66      0.66      0.66       784\n",
      "\n",
      "           Our Results  Winners Result\n",
      "Accuracy      0.664541          0.7347\n",
      "Precision     0.660493          0.6304\n",
      "F1-Value      0.661835          0.8006\n"
     ]
    },
    {
     "data": {
      "image/png": "[encoded data removed]",
      "text/plain": [
       "<Figure size 432x288 with 2 Axes>"
      ]
     },
     "metadata": {
      "needs_background": "light"
     },
     "output_type": "display_data"
    }
   ],
   "source": [
    "from sklearn.svm import SVC\n",
    "\n",
    "X_train,y_train,X_test,y_test=refresh_data()\n",
    "\n",
    "classificator = SVC(probability=True)\n",
    "classificator.fit(X_train, y_train)\n",
    "y_predicted=classificator.predict(X_test)\n",
    "\n",
    "print_stats()"
   ]
  },
  {
   "cell_type": "code",
   "execution_count": 38,
   "metadata": {},
   "outputs": [
    {
     "name": "stdout",
     "output_type": "stream",
     "text": [
      "ROC AUC=0.675\n"
     ]
    },
    {
     "data": {
      "image/png": "[encoded data removed]",
      "text/plain": [
       "<Figure size 432x288 with 1 Axes>"
      ]
     },
     "metadata": {
      "needs_background": "light"
     },
     "output_type": "display_data"
    }
   ],
   "source": [
    "from sklearn.svm import SVC\n",
    "\n",
    "X_train,y_train,X_test,y_test=refresh_data()\n",
    "\n",
    "classificator = SVC(probability=True)\n",
    "classificator.fit(X_train, y_train)\n",
    "\n",
    "draw_roc_curve(classificator,X_test,y_test)"
   ]
  },
  {
   "cell_type": "markdown",
   "metadata": {},
   "source": [
    "#### Random Forest"
   ]
  },
  {
   "cell_type": "code",
   "execution_count": 39,
   "metadata": {},
   "outputs": [
    {
     "name": "stdout",
     "output_type": "stream",
     "text": [
      "              precision    recall  f1-score   support\n",
      "\n",
      "           0       0.69      0.67      0.68       473\n",
      "           1       0.52      0.55      0.54       311\n",
      "\n",
      "    accuracy                           0.62       784\n",
      "   macro avg       0.61      0.61      0.61       784\n",
      "weighted avg       0.63      0.62      0.62       784\n",
      "\n",
      "           Our Results  Winners Result\n",
      "Accuracy      0.622449          0.7347\n",
      "Precision     0.626391          0.6304\n",
      "F1-Value      0.624097          0.8006\n"
     ]
    },
    {
     "data": {
      "image/png": "[encoded data removed]",
      "text/plain": [
       "<Figure size 432x288 with 2 Axes>"
      ]
     },
     "metadata": {
      "needs_background": "light"
     },
     "output_type": "display_data"
    }
   ],
   "source": [
    "from sklearn.ensemble import RandomForestClassifier\n",
    "\n",
    "X_train,y_train,X_test,y_test=refresh_data()\n",
    "\n",
    "classificator = RandomForestClassifier()\n",
    "classificator.fit(X_train, y_train)\n",
    "y_predicted = classificator.predict(X_test)\n",
    "\n",
    "print_stats()"
   ]
  },
  {
   "cell_type": "code",
   "execution_count": 40,
   "metadata": {},
   "outputs": [
    {
     "name": "stdout",
     "output_type": "stream",
     "text": [
      "ROC AUC=0.642\n"
     ]
    },
    {
     "data": {
      "image/png": "[encoded data removed]",
      "text/plain": [
       "<Figure size 432x288 with 1 Axes>"
      ]
     },
     "metadata": {
      "needs_background": "light"
     },
     "output_type": "display_data"
    }
   ],
   "source": [
    "from sklearn.ensemble import RandomForestClassifier\n",
    "\n",
    "X_train,y_train,X_test,y_test=refresh_data()\n",
    "\n",
    "classificator = RandomForestClassifier()\n",
    "classificator.fit(X_train, y_train)\n",
    "\n",
    "draw_roc_curve(classificator,X_test,y_test)"
   ]
  },
  {
   "cell_type": "markdown",
   "metadata": {},
   "source": [
    "### Conclusions For Task 1:\n",
    "\n",
    "* **As expected the models that performed better were the neural network and the SVM**\n",
    "\n",
    "\n",
    "* The preprocessing helped improving the results. We got an increase around 15% with our pipeline of preprocessing.\n",
    "\n",
    "\n",
    "* The quality of the data aren't good. The data is few and don't help maximize the performance of the model\n",
    "\n",
    "\n",
    "* Seeing the rankings of the competition and ours, we see that the overall of the competition, with experts don't perform that better. This make us conclude that the data have poor quality intentionally to make the task of the participants in the competition harder.\n",
    "\n",
    "\n",
    "* Using the test data of the competition was awfull for the final results\n",
    "\n",
    "\n",
    "* The models didn't perform as we wanted them to. Their results have low performance. Although this is not a surprise because of the gap between our lack of knowledge in NLP problems and the complexity of the task"
   ]
  },
  {
   "cell_type": "markdown",
   "metadata": {},
   "source": [
    "## Task 2 - Different Types of Irony\n",
    "\n",
    "Visit the notebook clicking [here](notebook2.ipynb)"
   ]
  }
 ],
 "metadata": {
  "kernelspec": {
   "display_name": "Python 3",
   "language": "python",
   "name": "python3"
  },
  "language_info": {
   "codemirror_mode": {
    "name": "ipython",
    "version": 3
   },
   "file_extension": ".py",
   "mimetype": "text/x-python",
   "name": "python",
   "nbconvert_exporter": "python",
   "pygments_lexer": "ipython3",
   "version": "3.8.8"
  }
 },
 "nbformat": 4,
 "nbformat_minor": 4
}
